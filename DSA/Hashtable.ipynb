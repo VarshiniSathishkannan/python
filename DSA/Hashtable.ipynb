{
 "cells": [
  {
   "cell_type": "markdown",
   "metadata": {},
   "source": [
    "Hashtable\n",
    "\n",
    "Hash Table is a data structure which organizes data using hash functions in order to support quick insertion and search \n",
    "\n",
    "There are two different kinds of hash tables: hash set and hash map.\n",
    "\n",
    "The hash set is one of the implementations of a set data structure to store no repeated values.\n",
    "The hash map is one of the implementations of a map data structure to store (key, value) pairs."
   ]
  },
  {
   "cell_type": "markdown",
   "metadata": {},
   "source": [
    "Hashmap"
   ]
  },
  {
   "cell_type": "markdown",
   "metadata": {},
   "source": [
    "Hashset"
   ]
  },
  {
   "cell_type": "markdown",
   "metadata": {},
   "source": [
    "Collision\n",
    "\n",
    "Linear probing \n",
    "Chaining model\n",
    "\n",
    "Hash funtion should be very efficient to avoid collision in the first place"
   ]
  }
 ],
 "metadata": {
  "language_info": {
   "name": "python"
  }
 },
 "nbformat": 4,
 "nbformat_minor": 2
}
