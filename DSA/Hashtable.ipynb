{
 "cells": [
  {
   "cell_type": "markdown",
   "metadata": {},
   "source": [
    "Hashtable\n",
    "\n",
    "Hash Table is a data structure which organizes data using hash functions in order to support quick insertion and search \n",
    "\n",
    "There are two different kinds of hash tables: hash set and hash map.\n",
    "\n",
    "The hash set is one of the implementations of a set data structure to store no repeated values.\n",
    "The hash map is one of the implementations of a map data structure to store (key, value) pairs."
   ]
  },
  {
   "cell_type": "markdown",
   "metadata": {},
   "source": [
    "Hashmap"
   ]
  },
  {
   "cell_type": "markdown",
   "metadata": {},
   "source": [
    "Hashset"
   ]
  },
  {
   "cell_type": "markdown",
   "metadata": {},
   "source": [
    "Collision\n",
    "\n",
    "Linear probing \n",
    "Chaining model\n",
    "\n",
    "Hash funtion should be very efficient to avoid collision in the first place"
   ]
  },
  {
   "cell_type": "markdown",
   "metadata": {},
   "source": [
    "1- Two Sum\n",
    "\n",
    "Given an array of integers nums and an integer target, return indices of the two numbers such that they add up to target.\n",
    "You may assume that each input would have exactly one solution, and you may not use the same element twice.\n",
    "Can you come up with an algorithm that is less than O(n2) time complexity?"
   ]
  },
  {
   "cell_type": "code",
   "execution_count": null,
   "metadata": {},
   "outputs": [],
   "source": [
    "class Solution:\n",
    "    def twoSum(self, nums: list[int], target: int) -> list[int]:\n",
    "        d = {}\n",
    "        for i in range(len(nums)):\n",
    "            if(nums[i] in d):\n",
    "                return (d[nums[i]],i)\n",
    "            a = target - nums[i]\n",
    "            d[a] = i\n",
    "            \n",
    "obj = Solution()\n",
    "print(obj.twoSum([2,7,7,2,11,15],9))"
   ]
  },
  {
   "cell_type": "markdown",
   "metadata": {},
   "source": [
    "Contains duplicate"
   ]
  },
  {
   "cell_type": "code",
   "execution_count": null,
   "metadata": {},
   "outputs": [],
   "source": [
    "# 4. Contains Duplicate\n",
    "\n",
    "# Given an integer array nums, return true if any value appears at least twice in the array, and return false if every element is distinct.\n",
    "\n",
    "class Solution:\n",
    "    def containsDuplicate(self, nums: list[int]) -> bool:\n",
    "        d = {}\n",
    "        for i in nums:\n",
    "            if(i in d.keys()):\n",
    "                return True\n",
    "            else:\n",
    "                d[i] = 1\n",
    "        return False\n",
    "\n",
    "obj = Solution()\n",
    "print(obj.containsDuplicate('[]()'))"
   ]
  },
  {
   "cell_type": "markdown",
   "metadata": {},
   "source": [
    "2- Top K Frequent elements"
   ]
  },
  {
   "cell_type": "code",
   "execution_count": null,
   "metadata": {},
   "outputs": [],
   "source": [
    "# 5. Top K Frequent Elements\n",
    "\n",
    "# Given an integer array nums and an integer k, return the k most frequent elements. You may return the answer in any order.\n",
    "\n",
    "class Solution:\n",
    "    def topKFrequent(self, nums: list[int], k: int) -> list[int]:\n",
    "        d = {}\n",
    "        output = []\n",
    "        for i in nums:\n",
    "            if(i in d.keys()):\n",
    "                d[i] = d[i] + 1\n",
    "            else:\n",
    "                d[i] = 1\n",
    "        result = dict(sorted(d.items(),key = lambda x:x[1],reverse=True))\n",
    "        output = list(result.keys())[:k]\n",
    "        return output\n",
    "    \n",
    "obj = Solution()\n",
    "print(obj.topKFrequent([1,1,2,2,2,2,3,3,3],2))"
   ]
  }
 ],
 "metadata": {
  "language_info": {
   "name": "python"
  }
 },
 "nbformat": 4,
 "nbformat_minor": 2
}
