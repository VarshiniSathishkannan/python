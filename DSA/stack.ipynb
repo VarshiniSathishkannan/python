{
 "cells": [
  {
   "cell_type": "markdown",
   "metadata": {},
   "source": [
    "Stack \n",
    "LIFO - Last In First Out"
   ]
  },
  {
   "cell_type": "markdown",
   "metadata": {},
   "source": [
    "Stack using List "
   ]
  },
  {
   "cell_type": "code",
   "execution_count": 1,
   "metadata": {},
   "outputs": [
    {
     "name": "stdout",
     "output_type": "stream",
     "text": [
      "Initial stack\n",
      "['a', 'b', 'c']\n",
      "\n",
      "Elements popped from stack:\n",
      "c\n",
      "b\n",
      "a\n",
      "\n",
      "Stack after elements are popped:\n",
      "[]\n"
     ]
    }
   ],
   "source": [
    "\n",
    "stack = []\n",
    "\n",
    "# append() function to push\n",
    "# element in the stack\n",
    "stack.append('a')\n",
    "stack.append('b')\n",
    "stack.append('c')\n",
    "\n",
    "print('Initial stack')\n",
    "print(stack)\n",
    "\n",
    "# pop() function to pop\n",
    "# element from stack in\n",
    "# LIFO order\n",
    "print('\\nElements popped from stack:')\n",
    "print(stack.pop())\n",
    "print(stack.pop())\n",
    "print(stack.pop())\n",
    "\n",
    "print('\\nStack after elements are popped:')\n",
    "print(stack)"
   ]
  },
  {
   "cell_type": "markdown",
   "metadata": {},
   "source": [
    "Stack using collections.deque"
   ]
  },
  {
   "cell_type": "code",
   "execution_count": 2,
   "metadata": {},
   "outputs": [
    {
     "name": "stdout",
     "output_type": "stream",
     "text": [
      "Initial stack:\n",
      "deque(['a', 'b', 'c'])\n",
      "\n",
      "Elements popped from stack:\n",
      "c\n",
      "b\n",
      "a\n",
      "\n",
      "Stack after elements are popped:\n",
      "deque([])\n"
     ]
    }
   ],
   "source": [
    "from collections import deque\n",
    "\n",
    "stack = deque()\n",
    "\n",
    "# append() function to push\n",
    "# element in the stack\n",
    "stack.append('a')\n",
    "stack.append('b')\n",
    "stack.append('c')\n",
    "\n",
    "print('Initial stack:')\n",
    "print(stack)\n",
    "\n",
    "# pop() function to pop\n",
    "# element from stack in\n",
    "# LIFO order\n",
    "print('\\nElements popped from stack:')\n",
    "print(stack.pop())\n",
    "print(stack.pop())\n",
    "print(stack.pop())\n",
    "\n",
    "print('\\nStack after elements are popped:')\n",
    "print(stack)\n"
   ]
  },
  {
   "cell_type": "markdown",
   "metadata": {},
   "source": [
    "Stack using Linked List"
   ]
  },
  {
   "cell_type": "code",
   "execution_count": null,
   "metadata": {},
   "outputs": [],
   "source": [
    "class Node:\n",
    "    def __init__(self, value):\n",
    "        self.value = value\n",
    "        self.next = None\n",
    "\n",
    "class Stack:\n",
    "    def __init__(self):\n",
    "        self.head = Node(\"head\")\n",
    "        self.size = 0\n",
    "\n",
    "    # String representation of the stack\n",
    "    def __str__(self):\n",
    "        cur = self.head.next\n",
    "        out = \"\"\n",
    "        while cur:\n",
    "            out += str(cur.value) + \"->\"\n",
    "            cur = cur.next\n",
    "        return out[:-2]\n",
    "\n",
    "    # Get the current size of the stack\n",
    "    def getSize(self):\n",
    "        return self.size\n",
    "\n",
    "    # Check if the stack is empty\n",
    "    def isEmpty(self):\n",
    "        return self.size == 0\n",
    "\n",
    "    # Get the top item of the stack\n",
    "    def peek(self):\n",
    "\n",
    "        # Sanitary check to see if we\n",
    "        # are peeking an empty stack.\n",
    "        if self.isEmpty():\n",
    "            return None\n",
    "\n",
    "        return self.head.next.value\n",
    "\n",
    "    # Push a value into the stack.\n",
    "    def push(self, value):\n",
    "        node = Node(value)\n",
    "        node.next = self.head.next # Make the new node point to the current head\n",
    "        self.head.next = node #!!! # Update the head to be the new node\n",
    "        self.size += 1\n",
    "\n",
    "\n",
    "    # Remove a value from the stack and return.\n",
    "    def pop(self):\n",
    "        if self.isEmpty():\n",
    "            raise Exception(\"Popping from an empty stack\")\n",
    "        remove = self.head.next\n",
    "        self.head.next = remove.next #!!! changed\n",
    "        self.size -= 1\n",
    "        return remove.value\n",
    "\n",
    "\n",
    "# Driver Code\n",
    "if __name__ == \"__main__\":\n",
    "    stack = Stack()\n",
    "    for i in range(1, 11):\n",
    "        stack.push(i)\n",
    "    print(f\"Stack: {stack}\")\n",
    "\n",
    "    for _ in range(1, 6):\n",
    "        top_value = stack.pop()\n",
    "        print(f\"Pop: {top_value}\") # variable name changed\n",
    "    print(f\"Stack: {stack}\")"
   ]
  },
  {
   "cell_type": "markdown",
   "metadata": {},
   "source": [
    "Advantages and Disadvantages\n",
    "\n",
    "Stacks can be used to implement undo/redo functions in applications.\n",
    "\n",
    "Restriction of size in Stack is a drawback and if they are full, you cannot add any more elements to the stack."
   ]
  },
  {
   "cell_type": "markdown",
   "metadata": {},
   "source": [
    "1- Valid parenthesis\n",
    "\n",
    "python list - time complexity, best suitable for a stack\n",
    "Append[1]\n",
    "\n",
    "O(1)\n",
    "\n",
    "O(1)\n",
    "\n",
    "Pop last\n",
    "\n",
    "O(1)\n",
    "\n",
    "O(1)\n",
    "\n",
    "Get Length\n",
    "\n",
    "O(1)\n",
    "\n",
    "O(1)"
   ]
  },
  {
   "cell_type": "code",
   "execution_count": null,
   "metadata": {},
   "outputs": [],
   "source": [
    "# 3. Valid Parentheses\n",
    "\n",
    "# Given a string s containing just the characters '(', ')', '{', '}', '[' and ']', determine if the input string is valid.\n",
    "\n",
    "# An input string is valid if:\n",
    "\n",
    "# Open brackets must be closed by the same type of brackets.\n",
    "# Open brackets must be closed in the correct order.\n",
    "# Every close bracket has a corresponding open bracket of the same type.\n",
    "\n",
    "class Solution:\n",
    "    def isValid(self, s: str) -> bool:\n",
    "        d = {\n",
    "            '(':')',\n",
    "            '{':'}',\n",
    "            '[':']'\n",
    "        }\n",
    "        l = []\n",
    "        for i in s:\n",
    "            if i in d.keys():\n",
    "                l.append(i)\n",
    "            else:\n",
    "                if(len(l)):\n",
    "                  char = l.pop()\n",
    "                  if (i != d.get(char)):\n",
    "                    return False\n",
    "                else:\n",
    "                    return False\n",
    "        if(len(l)==0):\n",
    "          return True\n",
    "        else:\n",
    "            return False\n",
    "        \n",
    "\n",
    "obj = Solution()\n",
    "print(obj.isValid('[]]()'))"
   ]
  },
  {
   "cell_type": "markdown",
   "metadata": {},
   "source": [
    "DFS in graph and tree\n",
    "\n",
    "Inorder traversal"
   ]
  },
  {
   "cell_type": "markdown",
   "metadata": {},
   "source": [
    "Stack Overflow"
   ]
  }
 ],
 "metadata": {
  "kernelspec": {
   "display_name": "Python 3",
   "language": "python",
   "name": "python3"
  },
  "language_info": {
   "codemirror_mode": {
    "name": "ipython",
    "version": 3
   },
   "file_extension": ".py",
   "mimetype": "text/x-python",
   "name": "python",
   "nbconvert_exporter": "python",
   "pygments_lexer": "ipython3",
   "version": "3.10.5"
  }
 },
 "nbformat": 4,
 "nbformat_minor": 2
}
