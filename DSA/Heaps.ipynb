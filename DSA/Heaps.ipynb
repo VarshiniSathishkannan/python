{
 "cells": [
  {
   "cell_type": "markdown",
   "metadata": {},
   "source": [
    "Heap\n",
    "\n",
    "A complete binary tree - completely filled or left filled\n",
    "\n",
    "Min heap - Root is smaller than all of its children\n",
    "\n",
    "Max heap - Root is larger than all of its children"
   ]
  }
 ],
 "metadata": {
  "language_info": {
   "name": "python"
  }
 },
 "nbformat": 4,
 "nbformat_minor": 2
}
