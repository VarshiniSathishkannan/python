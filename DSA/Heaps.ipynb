{
 "cells": [
  {
   "cell_type": "markdown",
   "metadata": {},
   "source": [
    "Heap\n",
    "\n",
    "A complete binary tree - completely filled or left filled\n",
    "\n",
    "Min heap - Root is smaller than all of its children\n",
    "\n",
    "Max heap - Root is larger than all of its children"
   ]
  },
  {
   "cell_type": "markdown",
   "metadata": {},
   "source": [
    "Properties\n",
    "\n",
    "The relationship between a parent node at index ‘i’ and its children is given by the formulas: left child at index 2i+1 and right child at index 2i+2 for 0-based indexing of node numbers\n",
    "\n",
    "for a child node of i - (i-1)/2 gives the parent for that node\n",
    "\n",
    "non leaf node for a binary tree is (n/2)-1"
   ]
  },
  {
   "cell_type": "markdown",
   "metadata": {},
   "source": [
    "Heapify\n",
    "\n",
    "It is the process to rearrange the elements to maintain the property of heap data structure. It is done when a certain node creates an imbalance in the heap due to some operations on that node. It takes O(log N) to balance the tree. \n",
    "\n",
    "For max-heap, it balances in such a way that the maximum element is the root of that binary tree and \n",
    "For min-heap, it balances in such a way that the minimum element is the root of that binary tree."
   ]
  },
  {
   "cell_type": "markdown",
   "metadata": {},
   "source": [
    "Insertion\n",
    "\n",
    "If we insert a new element into the heap since we are adding a new element into the heap so it will distort the properties of the heap so we need to perform the heapify operation so that it maintains the property of the heap.\n",
    "This operation also takes O(logN) time."
   ]
  },
  {
   "cell_type": "markdown",
   "metadata": {},
   "source": [
    "Deletion\n",
    "\n",
    "If we delete the element from the heap it always deletes the root element of the tree and replaces it with the last element of the tree.\n",
    "Since we delete the root element from the heap it will distort the properties of the heap so we need to perform heapify operations so that it maintains the property of the heap. \n",
    "It takes O(logN) time."
   ]
  },
  {
   "cell_type": "markdown",
   "metadata": {},
   "source": [
    "Implementation"
   ]
  },
  {
   "cell_type": "code",
   "execution_count": null,
   "metadata": {},
   "outputs": [
    {
     "name": "stdout",
     "output_type": "stream",
     "text": [
      "The created heap is :  [1, 3, 9, 7, 5]\n",
      "The modified heap after push is : [1, 3, 4, 7, 5, 9]\n",
      "The popped and smallest element is : 1\n"
     ]
    }
   ],
   "source": [
    "import heapq #min heap\n",
    " \n",
    "# initializing list\n",
    "li = [5, 7, 9, 1, 3]\n",
    " \n",
    "# using heapify to convert list into heap\n",
    "heapq.heapify(li)\n",
    " \n",
    "# printing created heap\n",
    "print (\"The created heap is : \",(list(li)))\n",
    "\n",
    "heapq.heappush(li, 4)\n",
    " \n",
    "# printing modified heap\n",
    "print(\"The modified heap after push is : \", end=\"\")\n",
    "print(list(li))\n",
    " \n",
    "# using heappop() to pop smallest element\n",
    "print(\"The popped and smallest element is : \", end=\"\")\n",
    "print(heapq.heappop(li))\n",
    "\n"
   ]
  },
  {
   "cell_type": "markdown",
   "metadata": {},
   "source": [
    "Max heap implementation without inbuild function"
   ]
  },
  {
   "cell_type": "code",
   "execution_count": null,
   "metadata": {},
   "outputs": [],
   "source": [
    "class Heap():\n",
    "        def __init__(self,arr):\n",
    "             self.nums = arr\n",
    "             self.size = len(arr)\n",
    "        def heapify(self):\n",
    "            nums = self.nums\n",
    "            nonleaf = len(nums)//2 -1\n",
    "            for i in range(nonleaf,-1,-1):\n",
    "                largest = i\n",
    "                left = (2*i)+1\n",
    "                right = (2*i)+2\n",
    "                if(left < len(nums) and nums[largest] < nums[left]):\n",
    "                    largest = left\n",
    "                if(right < len(nums) and nums[largest] < nums[right]):\n",
    "                    largest = right\n",
    "                if(largest != i):\n",
    "                    nums[largest],nums[i] = nums[i],nums[largest]\n",
    "                    self.heapify()\n",
    "        def heappop(self):\n",
    "            nums = self.nums\n",
    "            result = nums[0]\n",
    "            nums[0] = nums[self.size-1]\n",
    "            self.size = self.size-1\n",
    "            self.heapify()\n",
    "            return result\n",
    "        \n",
    "        def heappush(self,ele):\n",
    "            if(self.size < len(self.nums)):\n",
    "                self.nums[self.size-1] = ele\n",
    "            else:\n",
    "                self.nums.append(ele)\n",
    "            self.size = self.size+1\n",
    "            self.heapify()\n",
    "\n",
    "arr = [3,4,5,6,1,2,9]\n",
    "obj = Heap(arr)\n",
    "obj.heapify()\n",
    "print(obj.heappop())\n",
    "print(obj.heappop())\n",
    "print(obj.heappop())"
   ]
  },
  {
   "cell_type": "markdown",
   "metadata": {},
   "source": [
    "Kth largest element in an array without sorting"
   ]
  },
  {
   "cell_type": "code",
   "execution_count": null,
   "metadata": {},
   "outputs": [
    {
     "name": "stdout",
     "output_type": "stream",
     "text": [
      "[6, 5, 4, 1, 2, 3]\n",
      "5\n"
     ]
    }
   ],
   "source": [
    "class Solution:\n",
    "    def findKthLargest(self, nums: list[int], k: int) -> int:\n",
    "        def heapify(i):\n",
    "            largest = i\n",
    "            left = (2*i)+1\n",
    "            right = (2*i)+2\n",
    "            if(left < len(nums) and nums[largest] < nums[left]):\n",
    "                largest = left\n",
    "            if(right < len(nums) and nums[largest] < nums[right]):\n",
    "                largest = right\n",
    "            if(largest != i):\n",
    "                nums[largest],nums[i] = nums[i],nums[largest]\n",
    "                heapify(largest)\n",
    "            \n",
    "        \n",
    "        def heap():\n",
    "            nonleaf = len(nums)//2 -1\n",
    "            for i in range(nonleaf,-1,-1):\n",
    "                heapify(i)\n",
    "            \n",
    "\n",
    "            return nums[k-1]\n",
    "        return heap()\n",
    "                \n",
    "obj = Solution()\n",
    "print(obj.findKthLargest([5,6,4,1,2,3],2))"
   ]
  },
  {
   "cell_type": "code",
   "execution_count": 10,
   "metadata": {},
   "outputs": [
    {
     "name": "stdout",
     "output_type": "stream",
     "text": [
      "5\n"
     ]
    }
   ],
   "source": [
    "import heapq\n",
    "class Solution:\n",
    "    def findKthLargest(self, nums: list[int], k: int) -> int:\n",
    "        heapq.heapify(nums)\n",
    "        while(len(nums)>k):\n",
    "            heapq.heappop(nums)\n",
    "        return nums[0]\n",
    "\n",
    "obj = Solution()\n",
    "print(obj.findKthLargest([5,6,4,1,2,3],2))"
   ]
  },
  {
   "cell_type": "markdown",
   "metadata": {},
   "source": [
    "Above code is wrong !!!"
   ]
  },
  {
   "cell_type": "markdown",
   "metadata": {},
   "source": [
    "kth largest element in a stream"
   ]
  },
  {
   "cell_type": "code",
   "execution_count": null,
   "metadata": {},
   "outputs": [],
   "source": [
    "import heapq\n",
    "class KthLargest:\n",
    "\n",
    "    def __init__(self, k: int, nums: List[int]):\n",
    "        self.heap = nums\n",
    "        heapq.heapify(self.heap)\n",
    "        self.k = k\n",
    "        while(len(nums)>self.k):\n",
    "            heapq.heappop(self.heap)\n",
    "        \n",
    "\n",
    "    def add(self, val: int) -> int:\n",
    "        if(len(self.heap)>0):\n",
    "            if(val > self.heap[0] or len(self.heap)<self.k):\n",
    "                heapq.heappush(self.heap,val)\n",
    "                if(len(self.heap)>self.k):\n",
    "                    heapq.heappop(self.heap)\n",
    "        else:\n",
    "            heapq.heappush(self.heap,val)\n",
    "        return self.heap[0]\n",
    "        "
   ]
  },
  {
   "cell_type": "markdown",
   "metadata": {},
   "source": [
    "Replace elements by its rank in the array\n"
   ]
  }
 ],
 "metadata": {
  "kernelspec": {
   "display_name": "Python 3",
   "language": "python",
   "name": "python3"
  },
  "language_info": {
   "codemirror_mode": {
    "name": "ipython",
    "version": 3
   },
   "file_extension": ".py",
   "mimetype": "text/x-python",
   "name": "python",
   "nbconvert_exporter": "python",
   "pygments_lexer": "ipython3",
   "version": "3.10.5"
  }
 },
 "nbformat": 4,
 "nbformat_minor": 2
}
