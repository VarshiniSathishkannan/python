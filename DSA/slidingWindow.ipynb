{
 "cells": [
  {
   "cell_type": "markdown",
   "metadata": {},
   "source": [
    "Two pointer/Sliding window problems\n",
    "\n",
    "1. constant window \n",
    "\n",
    "Example - Consecutive sum of 'k' elements and return the maximum sum. Here k is a constant\n",
    "\n",
    "2. Longest Subarray or Substring where <<condition>>\n",
    "\n",
    "Example - longest subarray whose sum < 10\n",
    "\n",
    "3. No of Subarrays where <<condition>>\n",
    "\n",
    "*most difficult one, we don't know whether to shrink or expand\n",
    "\n",
    "4. Shortest/Minimum window where <<condition>>"
   ]
  },
  {
   "cell_type": "markdown",
   "metadata": {},
   "source": [
    "1- Maximum sum of an array using k elements"
   ]
  },
  {
   "cell_type": "code",
   "execution_count": null,
   "metadata": {},
   "outputs": [],
   "source": [
    "class Solution:\n",
    "    def maximumSumSubarray (self,arr,k):\n",
    "        l = 0\n",
    "        r = 0\n",
    "        s = 0\n",
    "        maxS = 0\n",
    "        while(r<len(arr)):\n",
    "            s += arr[r]\n",
    "            if(r-l+1 > k):\n",
    "                s-=arr[l]\n",
    "                l+=1\n",
    "            maxS = max(maxS, s)\n",
    "            r+=1\n",
    "        return maxS"
   ]
  },
  {
   "cell_type": "markdown",
   "metadata": {},
   "source": [
    "2- Longest substring without repeating characters"
   ]
  },
  {
   "cell_type": "code",
   "execution_count": null,
   "metadata": {},
   "outputs": [],
   "source": [
    "class Solution:\n",
    "    def longestUniqueSubstring(self, s):\n",
    "        d = {}\n",
    "        l = 0\n",
    "        r = 0\n",
    "        maxLen = 0\n",
    "        while(r<len(s)):\n",
    "            if(s[r] in d):\n",
    "                while(s[l] != s[r]):\n",
    "                    del d[s[l]]\n",
    "                    l+=1\n",
    "                del d[s[l]]\n",
    "                l+=1\n",
    "            d[s[r]]=r\n",
    "            maxLen = max(maxLen, r-l+1)\n",
    "            r+=1\n",
    "        return maxLen"
   ]
  },
  {
   "cell_type": "markdown",
   "metadata": {},
   "source": [
    "3- Max consecutive 1s \n",
    "\n",
    "with an array of 1/0, find the max consecutive 1's given we can flip atmost 2 0's"
   ]
  },
  {
   "cell_type": "code",
   "execution_count": 19,
   "metadata": {},
   "outputs": [
    {
     "name": "stdout",
     "output_type": "stream",
     "text": [
      "0 0\n",
      "1 0\n",
      "2 1\n",
      "3 1\n",
      "4 1\n",
      "3\n"
     ]
    }
   ],
   "source": [
    "arr = [0,0,0,1,1]\n",
    "k=2\n",
    "l=0\n",
    "r=0\n",
    "n=len(arr)\n",
    "index = []\n",
    "maxlen = 0\n",
    "zero = 0\n",
    "# we can change the question to, find the max subarray with atmost 2 0's\n",
    "\n",
    "while(r<n):\n",
    "    if(not arr[r]):\n",
    "        zero = zero+1\n",
    "        index.append(r)\n",
    "        if(zero>k):\n",
    "            l = index.pop(0)+1\n",
    "            zero = zero - 1\n",
    "    maxlen = max(r-l,maxlen)\n",
    "    print(r,l)\n",
    "    r +=1\n",
    "\n",
    "\n",
    "print(maxlen)"
   ]
  },
  {
   "cell_type": "code",
   "execution_count": null,
   "metadata": {},
   "outputs": [],
   "source": [
    "class Solution:\n",
    "    def longestOnes(self, nums: list[int], k: int) -> int:\n",
    "        l = 0\n",
    "        r = 0\n",
    "        c = 0\n",
    "        maxlength = 0\n",
    "        while(r<len(nums)):\n",
    "            if(not nums[r]):\n",
    "                c+=1\n",
    "                while(c>k):\n",
    "                    if(not nums[l]):\n",
    "                        c-=1\n",
    "                    l+=1\n",
    "            if(c<=k):\n",
    "                maxlength = max(maxlength,r-l+1)\n",
    "            r+=1\n",
    "        return maxlength"
   ]
  },
  {
   "cell_type": "code",
   "execution_count": 22,
   "metadata": {},
   "outputs": [
    {
     "name": "stdout",
     "output_type": "stream",
     "text": [
      "0 0\n",
      "1\n"
     ]
    }
   ],
   "source": [
    "arr = [0]\n",
    "k = 2\n",
    "n = len(arr)\n",
    "l,r,zero,maxlen=(0,0,0,0)\n",
    "\n",
    "while(r<n):\n",
    "    if(arr[r]==0):\n",
    "        zero +=1\n",
    "    if(zero>k):\n",
    "        l = l+1\n",
    "        if(arr[l]==0):\n",
    "            zero = zero -1\n",
    "    if(zero<=k):\n",
    "        maxlen = max(r-l,maxlen)\n",
    "        print(r,l)\n",
    "    r +=1\n",
    "print(maxlen+1)"
   ]
  },
  {
   "cell_type": "markdown",
   "metadata": {},
   "source": [
    "4- Fruit into baskets\n",
    "\n",
    "we have 2 baskets, we can put only one type of fruit inside a basket, the insertion should also be contiguous. find the max no of fruits which can be put into the baskets"
   ]
  },
  {
   "cell_type": "code",
   "execution_count": 26,
   "metadata": {},
   "outputs": [
    {
     "name": "stdout",
     "output_type": "stream",
     "text": [
      "3\n"
     ]
    }
   ],
   "source": [
    "arr = [1,1,2]\n",
    "\n",
    "l=0\n",
    "r=0\n",
    "distinct = dict()\n",
    "cnt = 0\n",
    "maxFruits = 0\n",
    "\n",
    "while(r<len(arr)):\n",
    "    if(arr[r] in distinct):\n",
    "        distinct[arr[r]] = distinct[arr[r]]+1\n",
    "    else:\n",
    "        distinct[arr[r]] = 1\n",
    "        cnt +=1\n",
    "    if(cnt>2):\n",
    "            distinct[arr[l]] = distinct[arr[l]]-1\n",
    "            if(distinct[arr[l]]==0):\n",
    "                distinct.pop(arr[l])\n",
    "                cnt -=1\n",
    "            l = l+1\n",
    "    if(cnt<=2):\n",
    "        maxFruits = max(maxFruits,r-l+1)\n",
    "    r +=1\n",
    "print(maxFruits)"
   ]
  },
  {
   "cell_type": "markdown",
   "metadata": {},
   "source": [
    "5- Longest substring with at most k distinct characters"
   ]
  },
  {
   "cell_type": "code",
   "execution_count": 28,
   "metadata": {},
   "outputs": [
    {
     "name": "stdout",
     "output_type": "stream",
     "text": [
      "7\n"
     ]
    }
   ],
   "source": [
    "arr = 'aabbccabcccccc'\n",
    "k = 2\n",
    "d = 0\n",
    "n = len(arr)\n",
    "l = 0\n",
    "r = 0\n",
    "maxL=0\n",
    "maxR=0\n",
    "maxLen = 0\n",
    "unique = dict()\n",
    "while(r<n):\n",
    "    # print(f\"unique = {unique} d={d} l={l} {arr[l]}\")\n",
    "    if(arr[r] in unique):\n",
    "        unique[arr[r]]=unique[arr[r]]+1\n",
    "    else:\n",
    "        unique[arr[r]] = 1\n",
    "        d = d+1\n",
    "    if(d>k):\n",
    "        unique[arr[l]] = unique[arr[l]] - 1\n",
    "        if(unique[arr[l]]<=0):\n",
    "            unique.pop(arr[l])\n",
    "            d = d-1\n",
    "        l+=1\n",
    "    if(d<=k):\n",
    "        maxLen = max(r-l+1,maxLen)\n",
    "        maxR = r\n",
    "        maxL = l\n",
    "    r = r+1\n",
    "print(maxLen)"
   ]
  },
  {
   "cell_type": "markdown",
   "metadata": {},
   "source": [
    "6- Number of substrings containing all 3 characters"
   ]
  },
  {
   "cell_type": "code",
   "execution_count": 29,
   "metadata": {},
   "outputs": [
    {
     "name": "stdout",
     "output_type": "stream",
     "text": [
      "{'a': 0, 'b': -1, 'c': -1}\n",
      "{'a': 0, 'b': 1, 'c': -1}\n",
      "{'a': 0, 'b': 1, 'c': 2}\n",
      "{'a': 3, 'b': 1, 'c': 2}\n",
      "{'a': 3, 'b': 4, 'c': 2}\n",
      "{'a': 3, 'b': 4, 'c': 5}\n",
      "{'a': 6, 'b': 4, 'c': 5}\n",
      "{'a': 7, 'b': 4, 'c': 5}\n",
      "20\n"
     ]
    }
   ],
   "source": [
    "arr = 'abcabcaa' \n",
    "n = len(arr)\n",
    "l = 0\n",
    "r = 0\n",
    "d = 0\n",
    "result = 0\n",
    "unique = {'a':-1,'b':-1,'c':-1}\n",
    "while(r<n):\n",
    "    unique[arr[r]] = r\n",
    "    print(unique)\n",
    "    if(unique['a'] >=0 and unique['b'] >=0 and unique['c'] >= 0):\n",
    "        m = min(unique['a'],unique['b'],unique['c'])\n",
    "        result = result + m +1\n",
    "    r = r+1\n",
    "\n",
    "print(result)"
   ]
  },
  {
   "cell_type": "markdown",
   "metadata": {},
   "source": [
    "7- Longest repeating character replacement "
   ]
  },
  {
   "cell_type": "code",
   "execution_count": null,
   "metadata": {},
   "outputs": [
    {
     "name": "stdout",
     "output_type": "stream",
     "text": [
      "8\n"
     ]
    }
   ],
   "source": [
    "class Solution:\n",
    "    def characterReplacement(self, s, k):\n",
    "        count = {}\n",
    "        res = 0\n",
    "        l = 0\n",
    "        for r in range(len(s)):\n",
    "            count[s[r]] = 1 + count.get(s[r],0)\n",
    "            \n",
    "            while((r-l+1) - max(count.values()) > k):\n",
    "                count[s[l]]-=1\n",
    "                l+=1\n",
    "            res = max(res,r-l+1)\n",
    "        return res"
   ]
  },
  {
   "cell_type": "markdown",
   "metadata": {},
   "source": [
    "8- Count of Binary Subarrays with sum = k\n",
    "\n",
    "algo:\n",
    "\n",
    "find the count of all subarrays with sum <= k and sum <= k-1 Subtracting both the ans gives the ans for sum == k\n",
    "\n",
    "this is for O(2N) time and O(1) space complexity"
   ]
  },
  {
   "cell_type": "code",
   "execution_count": 40,
   "metadata": {},
   "outputs": [
    {
     "name": "stdout",
     "output_type": "stream",
     "text": [
      "3\n"
     ]
    }
   ],
   "source": [
    "arr = [1,1,0,1]\n",
    "k = 2\n",
    "l,r =(0,0)\n",
    "c = 0\n",
    "s = 0\n",
    "\n",
    "def func(arr,target):\n",
    "    l = 0\n",
    "    r = 0\n",
    "    cnt = 0\n",
    "    s = 0\n",
    "    while(r<len(arr)):\n",
    "        s += arr[r]\n",
    "        while(s > target):\n",
    "            s -= arr[l]\n",
    "            l +=1\n",
    "        if(s<=target):\n",
    "            cnt += (r-l+1)\n",
    "        r+=1\n",
    "    return cnt\n",
    "print(func(arr,k)-func(arr,k-1))\n",
    "    "
   ]
  },
  {
   "cell_type": "markdown",
   "metadata": {},
   "source": [
    "9- Count the number of nice subarrays\n",
    "\n",
    "Given an Array and K - the odd numbers in the subarray must be equal to k"
   ]
  },
  {
   "cell_type": "code",
   "execution_count": null,
   "metadata": {},
   "outputs": [],
   "source": [
    "arr = [1,1,2,1,1]\n",
    "k=3\n"
   ]
  },
  {
   "cell_type": "markdown",
   "metadata": {},
   "source": [
    "10- Subarray with k different integers\n",
    "\n",
    "Given an array and k, count the subarrays with exactly 3 different integers"
   ]
  },
  {
   "cell_type": "code",
   "execution_count": null,
   "metadata": {},
   "outputs": [],
   "source": [
    "arr = [1,2,1,3,4]\n",
    "k = 3 \n",
    "n = len(arr)\n",
    "r = 0\n",
    "l = 0\n",
    "c = 0\n",
    "frq = {}\n",
    "uniq = 0\n",
    "while(r<n):\n",
    "    if(arr[r] not in frq):\n",
    "        frq[arr[r]] =1\n",
    "        uniq = uniq + 1\n",
    "    else:\n",
    "        frq[arr[r]] = frq[arr[r]]+1\n",
    "    if(uniq == k):\n",
    "        c = c+1\n",
    "    if(uniq > k):\n",
    "        frq[arr[l]] = frq[arr[l]]-1\n",
    "        if(frq[arr[l]]==0):\n",
    "            frq.pop(arr[l])\n",
    "        l = l+1\n",
    "    \n",
    "\n",
    "    "
   ]
  },
  {
   "cell_type": "markdown",
   "metadata": {},
   "source": [
    "11- Minimum window substring\n",
    "\n",
    "Given a string and a set of characters, find the minimum length which contains all the characters"
   ]
  },
  {
   "cell_type": "code",
   "execution_count": null,
   "metadata": {},
   "outputs": [],
   "source": [
    "#User function Template for python3\n",
    "class Solution:\n",
    "    \n",
    "    #Function to find the smallest window in the string s1 consisting\n",
    "    #of all the characters of string s2.\n",
    "    def smallestWindow(self, s, s2):\n",
    "        if(s2 == ''):\n",
    "            return ''\n",
    "        count, window = {},{}\n",
    "        for c in s2:\n",
    "            count[c] = 1+count.get(c,0)\n",
    "        \n",
    "        have, need = 0,len(count)\n",
    "        \n",
    "        res, resLen = [-1,-1], float('inf')\n",
    "        \n",
    "        l = 0\n",
    "        for r in range(len(s)):\n",
    "            c = s[r]\n",
    "            window[c] = 1 + window.get(c,0)\n",
    "            \n",
    "            if c in count and window[c] == count[c]:\n",
    "                have+=1\n",
    "                \n",
    "            while(have == need):\n",
    "                if(r - l + 1) < resLen:\n",
    "                    res = [l,r]\n",
    "                    resLen = (r-l+1)\n",
    "                \n",
    "                window[s[l]] -= 1\n",
    "                \n",
    "                if s[l] in count and window[s[l]] < count[s[l]]:\n",
    "                    have -=1\n",
    "                \n",
    "                l+=1\n",
    "        l,r = res\n",
    "        \n",
    "        return s[l:r+1] if resLen != float(\"inf\") else \"\""
   ]
  },
  {
   "cell_type": "markdown",
   "metadata": {},
   "source": [
    "12- Best time to Buy and Sell Stocks"
   ]
  },
  {
   "cell_type": "code",
   "execution_count": 1,
   "metadata": {},
   "outputs": [
    {
     "name": "stdout",
     "output_type": "stream",
     "text": [
      "6\n"
     ]
    }
   ],
   "source": [
    "# 6. Best Time to Buy and Sell Stock\n",
    "\n",
    "# You are given an array prices where prices[i] is the price of a given stock on the ith day.\n",
    "\n",
    "# You want to maximize your profit by choosing a single day to buy one stock and choosing a different day in the future to sell that stock.\n",
    "\n",
    "# Return the maximum profit you can achieve from this transaction. If you cannot achieve any profit, return 0.\n",
    "\n",
    "class Solution:\n",
    "    def maxProfit(self, prices: list[int]) -> int:\n",
    "        buy = float('inf')\n",
    "        sell = float('-inf')\n",
    "        profit = 0\n",
    "        for i in range(len(prices)):\n",
    "            if(prices[i]<buy):\n",
    "                buy = prices[i]\n",
    "                sell = float('-inf')\n",
    "                continue\n",
    "            if(prices[i]>sell):\n",
    "                sell = prices[i]\n",
    "            profit = max(profit,sell-buy)\n",
    "        return profit\n",
    "\n",
    "\n",
    "obj = Solution()\n",
    "print(obj.maxProfit([1,2,3,4,7]))"
   ]
  }
 ],
 "metadata": {
  "kernelspec": {
   "display_name": "Python 3",
   "language": "python",
   "name": "python3"
  },
  "language_info": {
   "codemirror_mode": {
    "name": "ipython",
    "version": 3
   },
   "file_extension": ".py",
   "mimetype": "text/x-python",
   "name": "python",
   "nbconvert_exporter": "python",
   "pygments_lexer": "ipython3",
   "version": "3.10.5"
  }
 },
 "nbformat": 4,
 "nbformat_minor": 2
}
