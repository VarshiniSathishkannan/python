{
 "cells": [
  {
   "cell_type": "markdown",
   "metadata": {},
   "source": [
    "Two pointer/Sliding window problems\n",
    "\n",
    "1. constant window \n",
    "\n",
    "Example - Consecutive sum of 'k' elements and return the maximum sum. Here k is a constant\n",
    "\n",
    "2. Longest Subarray or Substring where <<condition>>\n",
    "\n",
    "Example - longest subarray whose sum < 10\n",
    "\n",
    "3. No of Subarrays where <<condition>>\n",
    "\n",
    "*most difficult one, we don't know whether to shrink or expand\n",
    "\n",
    "4. Shortest/Minimum window where <<condition>>"
   ]
  },
  {
   "cell_type": "markdown",
   "metadata": {},
   "source": [
    "Maximum sum of an array using k elements\n",
    "\n",
    "k elements can be from start or end consecutive elements"
   ]
  },
  {
   "cell_type": "code",
   "execution_count": 4,
   "metadata": {},
   "outputs": [
    {
     "name": "stdout",
     "output_type": "stream",
     "text": [
      "32\n"
     ]
    }
   ],
   "source": [
    "arr = [5,2,3,4,5,6,7]\n",
    "n = len(arr)\n",
    "k =7\n",
    "l = 0\n",
    "lsum = 0\n",
    "r = n-1\n",
    "maxSum = 0\n",
    "for i in range(k):\n",
    "    lsum = lsum + arr[i]\n",
    "    maxSum = max(lsum, maxSum)\n",
    "i = k-1\n",
    "while(i>=0 and k<n):\n",
    "    lsum = lsum - arr[i] + arr[r]\n",
    "    maxSum = max(lsum, maxSum)\n",
    "    i -=1\n",
    "    r-=1\n",
    "print(maxSum)\n",
    "    "
   ]
  },
  {
   "cell_type": "markdown",
   "metadata": {},
   "source": [
    "Longest substring without repeating characters"
   ]
  },
  {
   "cell_type": "code",
   "execution_count": 15,
   "metadata": {},
   "outputs": [
    {
     "name": "stdout",
     "output_type": "stream",
     "text": [
      "l = 0 r = 0 visited = {}\n",
      "l = 0 r = 1 visited = {'c': 0}\n",
      "l = 0 r = 2 visited = {'c': 0, 'a': 1}\n",
      "l = 0 r = 3 visited = {'c': 0, 'a': 1, 'd': 2}\n",
      "l = 0 r = 4 visited = {'c': 0, 'a': 1, 'd': 2, 'b': 3}\n",
      "l = 0 r = 5 visited = {'c': 0, 'a': 1, 'd': 2, 'b': 3, 'z': 4}\n",
      "l = 2 r = 6 visited = {'c': 0, 'a': 1, 'd': 2, 'b': 3, 'z': 4}\n",
      "l = 4 r = 7 visited = {'c': 0, 'a': 1, 'd': 2, 'b': 3, 'z': 4}\n",
      "l = 1 r = 8 visited = {'c': 0, 'a': 1, 'd': 2, 'b': 3, 'z': 4}\n",
      "l = 3 r = 9 visited = {'c': 0, 'a': 1, 'd': 2, 'b': 3, 'z': 4}\n",
      "l = 3 r = 10 visited = {'c': 0, 'a': 1, 'd': 2, 'b': 3, 'z': 4, 'e': 9}\n",
      "7\n"
     ]
    }
   ],
   "source": [
    "s = 'cadbzabcdef'\n",
    "\n",
    "visited = dict()\n",
    "l=0\n",
    "r=0\n",
    "maxlen=0\n",
    "while(r<len(s)):\n",
    "    print(f\"l = {l} r = {r} visited = {visited}\")\n",
    "    if(s[r] in visited):\n",
    "        l = visited[s[r]]+1\n",
    "        r = r+1\n",
    "    else:\n",
    "        visited[s[r]] = r\n",
    "        maxlen = max(maxlen,r-l)\n",
    "        r = r+1\n",
    "print(maxlen)\n"
   ]
  },
  {
   "cell_type": "markdown",
   "metadata": {},
   "source": [
    "Max consecutive 1s \n",
    "\n",
    "with an array of 1/0, find the max consecutive 1's given we can flip atmost 2 0's"
   ]
  },
  {
   "cell_type": "code",
   "execution_count": 32,
   "metadata": {},
   "outputs": [
    {
     "name": "stdout",
     "output_type": "stream",
     "text": [
      "9\n"
     ]
    }
   ],
   "source": [
    "arr = [1,1,1,1,0,0,0,1,1,1,1,0,1,1,1]\n",
    "k=2\n",
    "l=0\n",
    "r=0\n",
    "n=len(arr)\n",
    "index = []\n",
    "maxlen = 0\n",
    "zero = 0\n",
    "# we can change the question to, find the max subarray with atmost 2 0's\n",
    "\n",
    "while(r<n):\n",
    "    if(arr[r]):\n",
    "        r +=1\n",
    "        maxlen = max(r-l,maxlen)\n",
    "    else:\n",
    "        zero = zero+1\n",
    "        index.append(r)\n",
    "        if(zero>k):\n",
    "            l = index.pop(0)\n",
    "            zero = zero - 1\n",
    "        r +=1\n",
    "        maxlen = max(r-l,maxlen)\n",
    "    # print(f\"r = {r} l = {l}, index={index} max = {maxlen} zero = {zero}\")\n",
    "\n",
    "\n",
    "print(maxlen-1)\n",
    "\n",
    "        \n",
    "arr = [0,1,1,1,0,0,0,0,1,1,1,0,1,1,1]\n"
   ]
  },
  {
   "cell_type": "code",
   "execution_count": 41,
   "metadata": {},
   "outputs": [
    {
     "name": "stdout",
     "output_type": "stream",
     "text": [
      "8\n"
     ]
    }
   ],
   "source": [
    "arr = [0,0,0,0,0,0,1,1,1,0,1,1,1]\n",
    "k = 3\n",
    "n = len(arr)\n",
    "l,r,zero,maxlen=(0,0,0,0)\n",
    "\n",
    "while(r<n):\n",
    "    if(arr[r]==0):\n",
    "        zero +=1\n",
    "    if(zero>k):\n",
    "        l = l+1\n",
    "        if(arr[l]==0):\n",
    "            zero = zero -1\n",
    "    if(zero<=k):\n",
    "        maxlen = max(r-l,maxlen)\n",
    "    r +=1\n",
    "print(maxlen)"
   ]
  },
  {
   "cell_type": "markdown",
   "metadata": {},
   "source": [
    "Fruit into baskets\n",
    "\n",
    "we have 2 baskets, we can put only one type of fruit inside a basket, the insertion should also be contiguous. find the max no of fruits which can be put into the baskets"
   ]
  },
  {
   "cell_type": "code",
   "execution_count": null,
   "metadata": {},
   "outputs": [],
   "source": [
    "arr = [3,3,3,1,2,1,1,2,3,3,4]\n",
    "\n",
    "l=0\n",
    "r=0\n",
    "fruits = set()\n",
    "c = 0\n",
    "maxC = 0\n",
    "cC = 0\n",
    " \n",
    "while(r<len(arr)):\n",
    "    if(c<2):\n",
    "        fruits.add(arr[r])\n",
    "        c = c+1\n",
    "    if(arr[r] in fruits):\n",
    "        cC = cC + 1\n",
    "        maxC = max(maxC,cC)\n",
    "    else:\n",
    "        "
   ]
  },
  {
   "cell_type": "markdown",
   "metadata": {},
   "source": [
    "Longest substring with at most k distinct characters"
   ]
  },
  {
   "cell_type": "code",
   "execution_count": 59,
   "metadata": {},
   "outputs": [
    {
     "name": "stdout",
     "output_type": "stream",
     "text": [
      "unique = {} d=0 l=0 a\n",
      "unique = {'a': 1} d=1 l=0 a\n",
      "unique = {'a': 2} d=1 l=0 a\n",
      "unique = {'a': 2, 'b': 1} d=2 l=0 a\n",
      "unique = {'a': 2, 'b': 2} d=2 l=0 a\n",
      "unique = {'a': 1, 'b': 2, 'c': 1} d=3 l=1 a\n",
      "unique = {'b': 2, 'c': 2} d=2 l=2 b\n",
      "unique = {'b': 1, 'c': 2, 'a': 1} d=3 l=3 b\n",
      "unique = {'b': 1, 'c': 2, 'a': 1} d=3 l=4 c\n",
      "unique = {'b': 1, 'c': 2, 'a': 1} d=3 l=5 c\n",
      "unique = {'b': 1, 'c': 2, 'a': 1} d=3 l=6 a\n",
      "unique = {'b': 1, 'c': 3} d=2 l=7 b\n",
      "unique = {'b': 1, 'c': 4} d=2 l=7 b\n",
      "unique = {'b': 1, 'c': 5} d=2 l=7 b\n",
      "7\n"
     ]
    }
   ],
   "source": [
    "arr = 'aabbccabcccccc'\n",
    "k = 2\n",
    "d = 0\n",
    "n = len(arr)\n",
    "l = 0\n",
    "r = 0\n",
    "maxL=0\n",
    "maxR=0\n",
    "maxLen = 0\n",
    "unique = dict()\n",
    "while(r<n):\n",
    "    print(f\"unique = {unique} d={d} l={l} {arr[l]}\")\n",
    "    if(arr[r] in unique):\n",
    "        unique[arr[r]]=unique[arr[r]]+1\n",
    "    else:\n",
    "        unique[arr[r]] = 1\n",
    "        d = d+1\n",
    "    if(d>k):\n",
    "        # print(f\"d={d}\")\n",
    "        unique[arr[l]] = unique[arr[l]] - 1\n",
    "        if(unique[arr[l]]<=0):\n",
    "            unique.pop(arr[l])\n",
    "            d = d-1\n",
    "        l+=1\n",
    "    r = r+1\n",
    "    if(d<=k):\n",
    "        maxLen = max(r-l,maxLen)\n",
    "        maxR = r\n",
    "        maxL = l\n",
    "print(maxLen)"
   ]
  },
  {
   "cell_type": "markdown",
   "metadata": {},
   "source": [
    "Number of substrings containing all 3 characters"
   ]
  },
  {
   "cell_type": "code",
   "execution_count": 62,
   "metadata": {},
   "outputs": [
    {
     "name": "stdout",
     "output_type": "stream",
     "text": [
      "7\n"
     ]
    }
   ],
   "source": [
    "arr = 'abcbca'\n",
    "n = len(arr)\n",
    "l = 0\n",
    "r = 0\n",
    "d = 0\n",
    "result = 0\n",
    "unique = {'a':0,'b':0,'c':0}\n",
    "while(r<n):\n",
    "    unique[arr[r]] = unique[arr[r]]+1\n",
    "    if(unique['a'] and unique['b'] and unique['c']):\n",
    "        result = result + n-r\n",
    "        unique[arr[l]] = unique[arr[l]]-1\n",
    "        l = l+1\n",
    "    else:\n",
    "        r = r+1\n",
    "\n",
    "print(result)"
   ]
  },
  {
   "cell_type": "code",
   "execution_count": 68,
   "metadata": {},
   "outputs": [
    {
     "name": "stdout",
     "output_type": "stream",
     "text": [
      "{'a': 0, 'b': -1, 'c': -1}\n",
      "{'a': 0, 'b': 1, 'c': -1}\n",
      "{'a': 0, 'b': 1, 'c': 2}\n",
      "{'a': 3, 'b': 1, 'c': 2}\n",
      "{'a': 3, 'b': 4, 'c': 2}\n",
      "{'a': 3, 'b': 4, 'c': 5}\n",
      "{'a': 6, 'b': 4, 'c': 5}\n",
      "{'a': 7, 'b': 4, 'c': 5}\n",
      "20\n"
     ]
    }
   ],
   "source": [
    "arr = 'abcabcaa'\n",
    "n = len(arr)\n",
    "l = 0\n",
    "r = 0\n",
    "d = 0\n",
    "result = 0\n",
    "unique = {'a':-1,'b':-1,'c':-1}\n",
    "while(r<n):\n",
    "    unique[arr[r]] = r\n",
    "    print(unique)\n",
    "    if(unique['a'] >=0 and unique['b'] >=0 and unique['c'] >= 0):\n",
    "        m = min(unique['a'],unique['b'],unique['c'])\n",
    "        result = result + m +1\n",
    "    r = r+1\n",
    "\n",
    "print(result)"
   ]
  },
  {
   "cell_type": "markdown",
   "metadata": {},
   "source": [
    "Longest repeating character replacement "
   ]
  },
  {
   "cell_type": "code",
   "execution_count": null,
   "metadata": {},
   "outputs": [],
   "source": [
    "s = 'aababba'\n",
    "n = len(s)\n",
    "k = 2\n",
    "frq = dict()\n",
    "l =0\n",
    "r =0\n",
    "while(r<n):\n",
    "    if(s[r] in frq):\n",
    "        frq[s[r]] = frq[s[r]]+1\n",
    "    else:\n",
    "        frq[s[r]] = 1\n",
    "    "
   ]
  },
  {
   "cell_type": "markdown",
   "metadata": {},
   "source": [
    "Count of Binary Subarrays with sum = k\n",
    "\n",
    "algo:\n",
    "\n",
    "find the count of all subarrays with sum <= k and sum <= k-1 Subtracting both the ans gives the ans for sum == k\n",
    "\n",
    "this is for O(2N) time and O(1) space complexity"
   ]
  },
  {
   "cell_type": "code",
   "execution_count": null,
   "metadata": {},
   "outputs": [],
   "source": [
    "arr = [1,0,0,1,0,1,0,1,1,0,0]\n",
    "k = 2\n",
    "l,r =(0,0)\n",
    "c = 0\n",
    "s = 0\n",
    "\n",
    "while(l<n):\n",
    "    if(s == k):\n",
    "        c = c+1\n",
    "        r = r+1\n",
    "    if(s > k):\n",
    "        while(not arr[l]):\n",
    "            l = l+1\n",
    "        s = s-1\n",
    "        \n",
    "\n",
    "\n",
    "    "
   ]
  },
  {
   "cell_type": "markdown",
   "metadata": {},
   "source": [
    "Count the number of nice subarrays\n",
    "\n",
    "Given an Array and K - the odd numbers in the subarray must be equal to k"
   ]
  },
  {
   "cell_type": "code",
   "execution_count": null,
   "metadata": {},
   "outputs": [],
   "source": [
    "arr = [1,1,2,1,1]\n",
    "k=3\n"
   ]
  },
  {
   "cell_type": "markdown",
   "metadata": {},
   "source": [
    "Subarray with k different integers\n",
    "\n",
    "Given an array and k, count the subarrays with exactly 3 different integers"
   ]
  },
  {
   "cell_type": "code",
   "execution_count": null,
   "metadata": {},
   "outputs": [],
   "source": [
    "arr = [1,2,1,3,4]\n",
    "k = 3 \n",
    "n = len(arr)\n",
    "r = 0\n",
    "l = 0\n",
    "c = 0\n",
    "frq = {}\n",
    "uniq = 0\n",
    "while(r<n):\n",
    "    if(arr[r] not in frq):\n",
    "        frq[arr[r]] =1\n",
    "        uniq = uniq + 1\n",
    "    else:\n",
    "        frq[arr[r]] = frq[arr[r]]+1\n",
    "    if(uniq == k):\n",
    "        c = c+1\n",
    "    if(uniq > k):\n",
    "        frq[arr[l]] = frq[arr[l]]-1\n",
    "        if(frq[arr[l]]==0):\n",
    "            frq.pop(arr[l])\n",
    "        l = l+1\n",
    "    \n",
    "\n",
    "    "
   ]
  },
  {
   "cell_type": "markdown",
   "metadata": {},
   "source": [
    "Minimum window substring\n",
    "\n",
    "Given a string and a set of characters, find the minimum length which contains all the characters"
   ]
  },
  {
   "cell_type": "markdown",
   "metadata": {},
   "source": [
    "Best time to Buy and Sell Stocks"
   ]
  },
  {
   "cell_type": "code",
   "execution_count": null,
   "metadata": {},
   "outputs": [],
   "source": [
    "# 6. Best Time to Buy and Sell Stock\n",
    "\n",
    "# You are given an array prices where prices[i] is the price of a given stock on the ith day.\n",
    "\n",
    "# You want to maximize your profit by choosing a single day to buy one stock and choosing a different day in the future to sell that stock.\n",
    "\n",
    "# Return the maximum profit you can achieve from this transaction. If you cannot achieve any profit, return 0.\n",
    "\n",
    "class Solution:\n",
    "    def maxProfit(self, prices: list[int]) -> int:\n",
    "        buy = max(prices)+1\n",
    "        sell = min(prices)-1\n",
    "        profit = 0\n",
    "        for i in range(len(prices)):\n",
    "            if(prices[i]<buy):\n",
    "                buy = prices[i]\n",
    "                sell = min(prices)-1\n",
    "            if(prices[i]>sell and prices.index(buy) < i):\n",
    "                sell = prices[i]\n",
    "            profit = max(profit, sell-buy)\n",
    "        return profit\n",
    "\n",
    "\n",
    "obj = Solution()\n",
    "print(obj.maxProfit([1,2,3,4,7]))"
   ]
  }
 ],
 "metadata": {
  "kernelspec": {
   "display_name": "Python 3",
   "language": "python",
   "name": "python3"
  },
  "language_info": {
   "codemirror_mode": {
    "name": "ipython",
    "version": 3
   },
   "file_extension": ".py",
   "mimetype": "text/x-python",
   "name": "python",
   "nbconvert_exporter": "python",
   "pygments_lexer": "ipython3",
   "version": "3.10.5"
  }
 },
 "nbformat": 4,
 "nbformat_minor": 2
}
