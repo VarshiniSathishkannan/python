{
 "cells": [
  {
   "cell_type": "markdown",
   "metadata": {},
   "source": [
    "Second largest element"
   ]
  },
  {
   "cell_type": "code",
   "execution_count": 2,
   "metadata": {},
   "outputs": [
    {
     "name": "stdout",
     "output_type": "stream",
     "text": [
      "-1\n"
     ]
    }
   ],
   "source": [
    "class Solution:\n",
    "    def getSecondLargest(self, arr):\n",
    "        for i in range(len(arr)):\n",
    "            for j in range(len(arr)-1-i):\n",
    "                if(arr[j]>arr[j+1]):\n",
    "                    arr[j],arr[j+1]=arr[j+1],arr[j]\n",
    "        i = len(arr)-1\n",
    "        while(i>0):\n",
    "            if(arr[i]==arr[i-1]):\n",
    "                i = i-1\n",
    "            else:\n",
    "                return arr[i-1]\n",
    "        else:\n",
    "            return -1\n",
    "\n",
    "result = Solution()\n",
    "print(result.getSecondLargest([10,10]))"
   ]
  },
  {
   "cell_type": "code",
   "execution_count": 4,
   "metadata": {},
   "outputs": [
    {
     "name": "stdout",
     "output_type": "stream",
     "text": [
      "5\n"
     ]
    }
   ],
   "source": [
    "class Solution:\n",
    "    def getSecondLargest(self, arr):\n",
    "        first = -1\n",
    "        second = -1\n",
    "        for i in range(len(arr)):\n",
    "            if(arr[i]>first):\n",
    "                second = first\n",
    "                first = arr[i]\n",
    "            else:\n",
    "                if(arr[i]>second and first!=arr[i]):\n",
    "                    second = arr[i]\n",
    "        return second\n",
    "\n",
    "result = Solution()\n",
    "print(result.getSecondLargest([10,5,10]))"
   ]
  },
  {
   "cell_type": "markdown",
   "metadata": {},
   "source": [
    "Check if array is sorted and rotated"
   ]
  },
  {
   "cell_type": "code",
   "execution_count": 13,
   "metadata": {},
   "outputs": [
    {
     "name": "stdout",
     "output_type": "stream",
     "text": [
      "True\n"
     ]
    }
   ],
   "source": [
    "class Solution:\n",
    "    def check(self, nums: list[int]) -> bool:\n",
    "        l = 0\n",
    "        r = 1\n",
    "        flag = 0\n",
    "        while(r<len(nums)):\n",
    "            if(nums[r]<nums[r-1]):\n",
    "                if(flag):\n",
    "                    return False\n",
    "                if(nums[r]>nums[l]):\n",
    "                    return False\n",
    "                flag = 1\n",
    "            if(flag):\n",
    "                if(nums[r]>nums[l]):\n",
    "                    return False\n",
    "            r = r+1\n",
    "        else:\n",
    "            return True\n",
    "        \n",
    "result = Solution()\n",
    "print(result.check([3,4,5,1,2]))"
   ]
  },
  {
   "cell_type": "markdown",
   "metadata": {},
   "source": [
    "Move Zeroes"
   ]
  },
  {
   "cell_type": "code",
   "execution_count": 17,
   "metadata": {},
   "outputs": [
    {
     "name": "stdout",
     "output_type": "stream",
     "text": [
      "[1, 0, 0, -1]\n"
     ]
    }
   ],
   "source": [
    "class Solution:\n",
    "    def moveZeroes(self, nums: list[int]) -> None:\n",
    "        \"\"\"\n",
    "        Do not return anything, modify nums in-place instead.\n",
    "        \"\"\"\n",
    "        l = 0\n",
    "        r = 0\n",
    "        while(r<len(nums)):\n",
    "            if(nums[r]>0):\n",
    "                nums[l],nums[r] = nums[r],nums[l]\n",
    "                l+=1\n",
    "            r+=1\n",
    "        return nums\n",
    "\n",
    "result = Solution()\n",
    "print(result.moveZeroes([-1,0,0,1]))        "
   ]
  },
  {
   "cell_type": "markdown",
   "metadata": {},
   "source": [
    "Sorted array search"
   ]
  },
  {
   "cell_type": "code",
   "execution_count": 28,
   "metadata": {},
   "outputs": [
    {
     "name": "stdout",
     "output_type": "stream",
     "text": [
      "False\n"
     ]
    }
   ],
   "source": [
    "class Solution:\n",
    "    ##Complete this function\n",
    "    def searchInSorted(self,arr, k):\n",
    "        l = 0\n",
    "        r = len(arr)-1\n",
    "        while(l<=r):\n",
    "            mid = (l+r)//2\n",
    "            if(arr[mid]==k):\n",
    "                return True\n",
    "            if(arr[mid]>k):\n",
    "                r = mid-1\n",
    "            else:\n",
    "                l = mid+1\n",
    "        else:\n",
    "            return False\n",
    "\n",
    "result = Solution()\n",
    "\n",
    "print(result.searchInSorted([1,2,4,6],0))"
   ]
  },
  {
   "cell_type": "markdown",
   "metadata": {},
   "source": [
    "Union of 2 sorted array with duplicate elements"
   ]
  },
  {
   "cell_type": "code",
   "execution_count": 40,
   "metadata": {},
   "outputs": [
    {
     "name": "stdout",
     "output_type": "stream",
     "text": [
      "[1, 3]\n"
     ]
    }
   ],
   "source": [
    "#User function Template for python3\n",
    "\n",
    "class Solution:\n",
    "    # 1 2 3\n",
    "    # 2 3 4\n",
    "    # 1 2 3 \n",
    "    #Function to return a list containing the union of the two arrays.\n",
    "    def findUnion(self,a,b):\n",
    "        x = 0\n",
    "        y = 0\n",
    "        z = -1\n",
    "        result = []\n",
    "        while(x < len(a) and y < len(b)):\n",
    "            if(a[x]==b[y]):\n",
    "                if(z < 0):\n",
    "                    result.append(a[x])\n",
    "                    x+=1\n",
    "                    y+=1\n",
    "                    z+=1\n",
    "                else:\n",
    "                    if(result[z]==a[x]):\n",
    "                        x+=1\n",
    "                        y+=1\n",
    "                    else:\n",
    "                        result.append(a[x])\n",
    "                        x+=1\n",
    "                        y+=1\n",
    "                        z+=1\n",
    "            elif(a[x]<b[y]):\n",
    "                if(z<0):\n",
    "                    result.append(a[x])\n",
    "                    z+=1\n",
    "                    x+=1\n",
    "                else:\n",
    "                    if(result[z]!=a[x]):\n",
    "                        result.append(a[x])\n",
    "                        z+=1\n",
    "                        x+=1\n",
    "                    else:\n",
    "                        x+=1\n",
    "            else:\n",
    "                if(z<0):\n",
    "                    result.append(b[y])\n",
    "                    z+=1\n",
    "                    y+=1\n",
    "                else:\n",
    "                    if(result[z]!=b[y]):\n",
    "                        result.append(b[y])\n",
    "                        z+=1\n",
    "                        y+=1\n",
    "                    else:\n",
    "                        y+=1\n",
    "        while(x<len(a)):\n",
    "            if(z<0):\n",
    "                result.append(a[x])\n",
    "                z+=1\n",
    "                x+=1\n",
    "            else:\n",
    "                if(result[z]!=a[x]):\n",
    "                    result.append(a[x])\n",
    "                    x+=1\n",
    "                    z+=1\n",
    "                else:\n",
    "                    x+=1\n",
    "                \n",
    "        while(y<len(b)):\n",
    "            if(z<0):\n",
    "                result.append(a[x])\n",
    "                z+=1\n",
    "                y+=1\n",
    "            else:\n",
    "                if(result[z]!=b[y]):\n",
    "                    result.append(b[y])\n",
    "                    y+=1\n",
    "                    z+=1\n",
    "                else:\n",
    "                    y+=1\n",
    "        return result\n",
    "\n",
    "obj = Solution()\n",
    "print(obj.findUnion([1,1,1,1,3],[1,1,1]))"
   ]
  },
  {
   "cell_type": "markdown",
   "metadata": {},
   "source": [
    "Missing number"
   ]
  },
  {
   "cell_type": "code",
   "execution_count": 43,
   "metadata": {},
   "outputs": [
    {
     "name": "stdout",
     "output_type": "stream",
     "text": [
      "1\n"
     ]
    }
   ],
   "source": [
    "class Solution:\n",
    "    def missingNumber(self, nums: list[int]) -> int:\n",
    "        d = {}\n",
    "        for i in range(len(nums)):\n",
    "            d[nums[i]] = 1\n",
    "        for i in range(len(nums)+1):\n",
    "            if(d.get(i)):\n",
    "                continue\n",
    "            else:\n",
    "                return i\n",
    "\n",
    "obj = Solution()\n",
    "print(obj.missingNumber([0,3,2]))\n",
    "\n",
    "1-3 = 2\n",
    "2-2 = 0"
   ]
  },
  {
   "cell_type": "markdown",
   "metadata": {},
   "source": [
    "Followup:\n",
    "No extra space \n",
    "O(n) complexity"
   ]
  },
  {
   "cell_type": "code",
   "execution_count": 44,
   "metadata": {},
   "outputs": [
    {
     "name": "stdout",
     "output_type": "stream",
     "text": [
      "0 0 3\n",
      "1 3 3\n",
      "2 2 1\n",
      "1\n"
     ]
    }
   ],
   "source": [
    "class Solution:\n",
    "    def missingNumber(self, nums: list[int]) -> int:\n",
    "        res = len(nums)\n",
    "        \n",
    "        for i in range(len(nums)):\n",
    "            print(i,nums[i],res)\n",
    "            res += (i - nums[i])\n",
    "            \n",
    "        return res\n",
    "obj = Solution()\n",
    "print(obj.missingNumber([0,3,2]))"
   ]
  },
  {
   "cell_type": "markdown",
   "metadata": {},
   "source": [
    "sum of n num = n*(n+1)//2\n",
    "\n",
    "6+x = 6\n",
    "x = 6-6"
   ]
  },
  {
   "cell_type": "code",
   "execution_count": 48,
   "metadata": {},
   "outputs": [
    {
     "name": "stdout",
     "output_type": "stream",
     "text": [
      "2\n"
     ]
    }
   ],
   "source": [
    "class Solution:\n",
    "    def missingNumber(self, nums: list[int]) -> int:  \n",
    "        n = 0  \n",
    "        total = 0    \n",
    "        for i in range(len(nums)):\n",
    "            if(nums[i]>n):\n",
    "                n = nums[i]\n",
    "            total+=nums[i]\n",
    "        if(n<len(nums)):\n",
    "            return len(nums)\n",
    "        r = n*(n+1)//2\n",
    "        res = r-total\n",
    "            \n",
    "        return res\n",
    "obj = Solution()\n",
    "print(obj.missingNumber([0,1]))"
   ]
  },
  {
   "cell_type": "markdown",
   "metadata": {},
   "source": [
    "simple one"
   ]
  },
  {
   "cell_type": "code",
   "execution_count": 49,
   "metadata": {},
   "outputs": [
    {
     "name": "stdout",
     "output_type": "stream",
     "text": [
      "2\n"
     ]
    }
   ],
   "source": [
    "class Solution:\n",
    "    def missingNumber(self, nums: list[int]) -> int:  \n",
    "        n = len(nums)  \n",
    "        total =  n*(n+1)//2\n",
    "        for i in range(len(nums)):\n",
    "            total-=nums[i]\n",
    "        return total\n",
    "obj = Solution()\n",
    "print(obj.missingNumber([0,1]))"
   ]
  },
  {
   "cell_type": "markdown",
   "metadata": {},
   "source": [
    "Max consecutive ones"
   ]
  },
  {
   "cell_type": "code",
   "execution_count": 52,
   "metadata": {},
   "outputs": [
    {
     "name": "stdout",
     "output_type": "stream",
     "text": [
      "3\n"
     ]
    }
   ],
   "source": [
    "class Solution:\n",
    "    def findMaxConsecutiveOnes(self, nums: list[int]) -> int:\n",
    "        l = 0\n",
    "        r = 0\n",
    "        maxLen = 0\n",
    "        while(r<len(nums)):\n",
    "            if(nums[r]):\n",
    "                maxLen = max(maxLen,r-l+1)\n",
    "            else:\n",
    "                l = r+1\n",
    "            r+=1\n",
    "        return maxLen\n",
    "\n",
    "\n",
    "obj = Solution()\n",
    "print(obj.findMaxConsecutiveOnes([1,1,1,0,0]))"
   ]
  },
  {
   "cell_type": "markdown",
   "metadata": {},
   "source": [
    "Longest subarray with sum 'k'"
   ]
  },
  {
   "cell_type": "code",
   "execution_count": 62,
   "metadata": {},
   "outputs": [
    {
     "name": "stdout",
     "output_type": "stream",
     "text": [
      "9\n"
     ]
    }
   ],
   "source": [
    "class Solution:\n",
    "    def lenOfLongSubarr (self, arr, n, k) : \n",
    "        l = 0\n",
    "        r = 0\n",
    "        total = 0\n",
    "        maxLen = 0\n",
    "        while(r<n):\n",
    "            total += arr[r]\n",
    "            while(total>k):\n",
    "                total -= arr[l]\n",
    "                l+=1\n",
    "            if(total == k):\n",
    "                maxLen = max(maxLen,r-l+1)\n",
    "            r+=1\n",
    "        return maxLen\n",
    "\n",
    "obj = Solution()\n",
    "print(obj.lenOfLongSubarr([0,1,-1,1,5,0,3,2,0,5,-5],11,11))"
   ]
  },
  {
   "cell_type": "markdown",
   "metadata": {},
   "source": [
    "Above code works for positive integeres. But for negative ones, we need to have another approach"
   ]
  },
  {
   "cell_type": "code",
   "execution_count": 72,
   "metadata": {},
   "outputs": [
    {
     "name": "stdout",
     "output_type": "stream",
     "text": [
      "{0: -1}\n",
      "0\n"
     ]
    }
   ],
   "source": [
    "class Solution:\n",
    "    def lenOfLongSubarr (self, arr, n, k) : \n",
    "        d = {}\n",
    "        s = 0\n",
    "        maxLen = 0\n",
    "        d[0] = -1\n",
    "        for i in range(n):\n",
    "            s += arr[i]\n",
    "            if(s==k):\n",
    "                maxLen = max(maxLen,i+1)\n",
    "            if(d.get(s-k)):\n",
    "                maxLen = max(maxLen,i-d[s-k])\n",
    "            if(d.get(s) is not None):\n",
    "                d[s] = i\n",
    "        print(d)\n",
    "        return maxLen\n",
    "\n",
    "obj = Solution()\n",
    "print(obj.lenOfLongSubarr([-14,10,-15,17,4,18,3,-18,-7,-4,-8,8,-8],13,12))"
   ]
  }
 ],
 "metadata": {
  "kernelspec": {
   "display_name": "Python 3",
   "language": "python",
   "name": "python3"
  },
  "language_info": {
   "codemirror_mode": {
    "name": "ipython",
    "version": 3
   },
   "file_extension": ".py",
   "mimetype": "text/x-python",
   "name": "python",
   "nbconvert_exporter": "python",
   "pygments_lexer": "ipython3",
   "version": "3.10.5"
  }
 },
 "nbformat": 4,
 "nbformat_minor": 2
}
