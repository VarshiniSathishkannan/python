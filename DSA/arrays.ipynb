{
 "cells": [
  {
   "cell_type": "markdown",
   "metadata": {},
   "source": [
    "Second largest element"
   ]
  },
  {
   "cell_type": "code",
   "execution_count": 2,
   "metadata": {},
   "outputs": [
    {
     "name": "stdout",
     "output_type": "stream",
     "text": [
      "-1\n"
     ]
    }
   ],
   "source": [
    "class Solution:\n",
    "    def getSecondLargest(self, arr):\n",
    "        for i in range(len(arr)):\n",
    "            for j in range(len(arr)-1-i):\n",
    "                if(arr[j]>arr[j+1]):\n",
    "                    arr[j],arr[j+1]=arr[j+1],arr[j]\n",
    "        i = len(arr)-1\n",
    "        while(i>0):\n",
    "            if(arr[i]==arr[i-1]):\n",
    "                i = i-1\n",
    "            else:\n",
    "                return arr[i-1]\n",
    "        else:\n",
    "            return -1\n",
    "\n",
    "result = Solution()\n",
    "print(result.getSecondLargest([10,10]))"
   ]
  },
  {
   "cell_type": "code",
   "execution_count": 4,
   "metadata": {},
   "outputs": [
    {
     "name": "stdout",
     "output_type": "stream",
     "text": [
      "5\n"
     ]
    }
   ],
   "source": [
    "class Solution:\n",
    "    def getSecondLargest(self, arr):\n",
    "        first = -1\n",
    "        second = -1\n",
    "        for i in range(len(arr)):\n",
    "            if(arr[i]>first):\n",
    "                second = first\n",
    "                first = arr[i]\n",
    "            else:\n",
    "                if(arr[i]>second and first!=arr[i]):\n",
    "                    second = arr[i]\n",
    "        return second\n",
    "\n",
    "result = Solution()\n",
    "print(result.getSecondLargest([10,5,10]))"
   ]
  },
  {
   "cell_type": "markdown",
   "metadata": {},
   "source": [
    "Check if array is sorted and rotated"
   ]
  },
  {
   "cell_type": "code",
   "execution_count": 13,
   "metadata": {},
   "outputs": [
    {
     "name": "stdout",
     "output_type": "stream",
     "text": [
      "True\n"
     ]
    }
   ],
   "source": [
    "class Solution:\n",
    "    def check(self, nums: list[int]) -> bool:\n",
    "        l = 0\n",
    "        r = 1\n",
    "        flag = 0\n",
    "        while(r<len(nums)):\n",
    "            if(nums[r]<nums[r-1]):\n",
    "                if(flag):\n",
    "                    return False\n",
    "                if(nums[r]>nums[l]):\n",
    "                    return False\n",
    "                flag = 1\n",
    "            if(flag):\n",
    "                if(nums[r]>nums[l]):\n",
    "                    return False\n",
    "            r = r+1\n",
    "        else:\n",
    "            return True\n",
    "        \n",
    "result = Solution()\n",
    "print(result.check([3,4,5,1,2]))"
   ]
  },
  {
   "cell_type": "markdown",
   "metadata": {},
   "source": [
    "Move Zeroes"
   ]
  },
  {
   "cell_type": "code",
   "execution_count": 17,
   "metadata": {},
   "outputs": [
    {
     "name": "stdout",
     "output_type": "stream",
     "text": [
      "[1, 0, 0, -1]\n"
     ]
    }
   ],
   "source": [
    "class Solution:\n",
    "    def moveZeroes(self, nums: list[int]) -> None:\n",
    "        \"\"\"\n",
    "        Do not return anything, modify nums in-place instead.\n",
    "        \"\"\"\n",
    "        l = 0\n",
    "        r = 0\n",
    "        while(r<len(nums)):\n",
    "            if(nums[r]>0):\n",
    "                nums[l],nums[r] = nums[r],nums[l]\n",
    "                l+=1\n",
    "            r+=1\n",
    "        return nums\n",
    "\n",
    "result = Solution()\n",
    "print(result.moveZeroes([-1,0,0,1]))        "
   ]
  },
  {
   "cell_type": "markdown",
   "metadata": {},
   "source": [
    "Sorted array search"
   ]
  },
  {
   "cell_type": "code",
   "execution_count": 28,
   "metadata": {},
   "outputs": [
    {
     "name": "stdout",
     "output_type": "stream",
     "text": [
      "False\n"
     ]
    }
   ],
   "source": [
    "class Solution:\n",
    "    ##Complete this function\n",
    "    def searchInSorted(self,arr, k):\n",
    "        l = 0\n",
    "        r = len(arr)-1\n",
    "        while(l<=r):\n",
    "            mid = (l+r)//2\n",
    "            if(arr[mid]==k):\n",
    "                return True\n",
    "            if(arr[mid]>k):\n",
    "                r = mid-1\n",
    "            else:\n",
    "                l = mid+1\n",
    "        else:\n",
    "            return False\n",
    "\n",
    "result = Solution()\n",
    "\n",
    "print(result.searchInSorted([1,2,4,6],0))"
   ]
  },
  {
   "cell_type": "markdown",
   "metadata": {},
   "source": [
    "Union of 2 sorted array with duplicate elements"
   ]
  },
  {
   "cell_type": "code",
   "execution_count": 40,
   "metadata": {},
   "outputs": [
    {
     "name": "stdout",
     "output_type": "stream",
     "text": [
      "[1, 3]\n"
     ]
    }
   ],
   "source": [
    "#User function Template for python3\n",
    "\n",
    "class Solution:\n",
    "    # 1 2 3\n",
    "    # 2 3 4\n",
    "    # 1 2 3 \n",
    "    #Function to return a list containing the union of the two arrays.\n",
    "    def findUnion(self,a,b):\n",
    "        x = 0\n",
    "        y = 0\n",
    "        z = -1\n",
    "        result = []\n",
    "        while(x < len(a) and y < len(b)):\n",
    "            if(a[x]==b[y]):\n",
    "                if(z < 0):\n",
    "                    result.append(a[x])\n",
    "                    x+=1\n",
    "                    y+=1\n",
    "                    z+=1\n",
    "                else:\n",
    "                    if(result[z]==a[x]):\n",
    "                        x+=1\n",
    "                        y+=1\n",
    "                    else:\n",
    "                        result.append(a[x])\n",
    "                        x+=1\n",
    "                        y+=1\n",
    "                        z+=1\n",
    "            elif(a[x]<b[y]):\n",
    "                if(z<0):\n",
    "                    result.append(a[x])\n",
    "                    z+=1\n",
    "                    x+=1\n",
    "                else:\n",
    "                    if(result[z]!=a[x]):\n",
    "                        result.append(a[x])\n",
    "                        z+=1\n",
    "                        x+=1\n",
    "                    else:\n",
    "                        x+=1\n",
    "            else:\n",
    "                if(z<0):\n",
    "                    result.append(b[y])\n",
    "                    z+=1\n",
    "                    y+=1\n",
    "                else:\n",
    "                    if(result[z]!=b[y]):\n",
    "                        result.append(b[y])\n",
    "                        z+=1\n",
    "                        y+=1\n",
    "                    else:\n",
    "                        y+=1\n",
    "        while(x<len(a)):\n",
    "            if(z<0):\n",
    "                result.append(a[x])\n",
    "                z+=1\n",
    "                x+=1\n",
    "            else:\n",
    "                if(result[z]!=a[x]):\n",
    "                    result.append(a[x])\n",
    "                    x+=1\n",
    "                    z+=1\n",
    "                else:\n",
    "                    x+=1\n",
    "                \n",
    "        while(y<len(b)):\n",
    "            if(z<0):\n",
    "                result.append(a[x])\n",
    "                z+=1\n",
    "                y+=1\n",
    "            else:\n",
    "                if(result[z]!=b[y]):\n",
    "                    result.append(b[y])\n",
    "                    y+=1\n",
    "                    z+=1\n",
    "                else:\n",
    "                    y+=1\n",
    "        return result\n",
    "\n",
    "obj = Solution()\n",
    "print(obj.findUnion([1,1,1,1,3],[1,1,1]))"
   ]
  },
  {
   "cell_type": "markdown",
   "metadata": {},
   "source": [
    "Missing number"
   ]
  },
  {
   "cell_type": "code",
   "execution_count": 43,
   "metadata": {},
   "outputs": [
    {
     "name": "stdout",
     "output_type": "stream",
     "text": [
      "1\n"
     ]
    }
   ],
   "source": [
    "class Solution:\n",
    "    def missingNumber(self, nums: list[int]) -> int:\n",
    "        d = {}\n",
    "        for i in range(len(nums)):\n",
    "            d[nums[i]] = 1\n",
    "        for i in range(len(nums)+1):\n",
    "            if(d.get(i)):\n",
    "                continue\n",
    "            else:\n",
    "                return i\n",
    "\n",
    "obj = Solution()\n",
    "print(obj.missingNumber([0,3,2]))\n",
    "\n",
    "1-3 = 2\n",
    "2-2 = 0"
   ]
  },
  {
   "cell_type": "markdown",
   "metadata": {},
   "source": [
    "Followup:\n",
    "No extra space \n",
    "O(n) complexity"
   ]
  },
  {
   "cell_type": "code",
   "execution_count": 44,
   "metadata": {},
   "outputs": [
    {
     "name": "stdout",
     "output_type": "stream",
     "text": [
      "0 0 3\n",
      "1 3 3\n",
      "2 2 1\n",
      "1\n"
     ]
    }
   ],
   "source": [
    "class Solution:\n",
    "    def missingNumber(self, nums: list[int]) -> int:\n",
    "        res = len(nums)\n",
    "        \n",
    "        for i in range(len(nums)):\n",
    "            print(i,nums[i],res)\n",
    "            res += (i - nums[i])\n",
    "            \n",
    "        return res\n",
    "obj = Solution()\n",
    "print(obj.missingNumber([0,3,2]))"
   ]
  },
  {
   "cell_type": "markdown",
   "metadata": {},
   "source": [
    "sum of n num = n*(n+1)//2\n",
    "\n",
    "6+x = 6\n",
    "x = 6-6"
   ]
  },
  {
   "cell_type": "code",
   "execution_count": 48,
   "metadata": {},
   "outputs": [
    {
     "name": "stdout",
     "output_type": "stream",
     "text": [
      "2\n"
     ]
    }
   ],
   "source": [
    "class Solution:\n",
    "    def missingNumber(self, nums: list[int]) -> int:  \n",
    "        n = 0  \n",
    "        total = 0    \n",
    "        for i in range(len(nums)):\n",
    "            if(nums[i]>n):\n",
    "                n = nums[i]\n",
    "            total+=nums[i]\n",
    "        if(n<len(nums)):\n",
    "            return len(nums)\n",
    "        r = n*(n+1)//2\n",
    "        res = r-total\n",
    "            \n",
    "        return res\n",
    "obj = Solution()\n",
    "print(obj.missingNumber([0,1]))"
   ]
  },
  {
   "cell_type": "markdown",
   "metadata": {},
   "source": [
    "simple one"
   ]
  },
  {
   "cell_type": "code",
   "execution_count": 49,
   "metadata": {},
   "outputs": [
    {
     "name": "stdout",
     "output_type": "stream",
     "text": [
      "2\n"
     ]
    }
   ],
   "source": [
    "class Solution:\n",
    "    def missingNumber(self, nums: list[int]) -> int:  \n",
    "        n = len(nums)  \n",
    "        total =  n*(n+1)//2\n",
    "        for i in range(len(nums)):\n",
    "            total-=nums[i]\n",
    "        return total\n",
    "obj = Solution()\n",
    "print(obj.missingNumber([0,1]))"
   ]
  },
  {
   "cell_type": "markdown",
   "metadata": {},
   "source": [
    "Max consecutive ones"
   ]
  },
  {
   "cell_type": "code",
   "execution_count": 52,
   "metadata": {},
   "outputs": [
    {
     "name": "stdout",
     "output_type": "stream",
     "text": [
      "3\n"
     ]
    }
   ],
   "source": [
    "class Solution:\n",
    "    def findMaxConsecutiveOnes(self, nums: list[int]) -> int:\n",
    "        l = 0\n",
    "        r = 0\n",
    "        maxLen = 0\n",
    "        while(r<len(nums)):\n",
    "            if(nums[r]):\n",
    "                maxLen = max(maxLen,r-l+1)\n",
    "            else:\n",
    "                l = r+1\n",
    "            r+=1\n",
    "        return maxLen\n",
    "\n",
    "\n",
    "obj = Solution()\n",
    "print(obj.findMaxConsecutiveOnes([1,1,1,0,0]))"
   ]
  },
  {
   "cell_type": "markdown",
   "metadata": {},
   "source": [
    "Longest subarray with sum 'k'"
   ]
  },
  {
   "cell_type": "code",
   "execution_count": 62,
   "metadata": {},
   "outputs": [
    {
     "name": "stdout",
     "output_type": "stream",
     "text": [
      "9\n"
     ]
    }
   ],
   "source": [
    "class Solution:\n",
    "    def lenOfLongSubarr (self, arr, n, k) : \n",
    "        l = 0\n",
    "        r = 0\n",
    "        total = 0\n",
    "        maxLen = 0\n",
    "        while(r<n):\n",
    "            total += arr[r]\n",
    "            while(total>k):\n",
    "                total -= arr[l]\n",
    "                l+=1\n",
    "            if(total == k):\n",
    "                maxLen = max(maxLen,r-l+1)\n",
    "            r+=1\n",
    "        return maxLen\n",
    "\n",
    "obj = Solution()\n",
    "print(obj.lenOfLongSubarr([0,1,-1,1,5,0,3,2,0,5,-5],11,11))"
   ]
  },
  {
   "cell_type": "markdown",
   "metadata": {},
   "source": [
    "Above code works for positive integeres. But for negative ones, we need to have another approach"
   ]
  },
  {
   "cell_type": "code",
   "execution_count": 75,
   "metadata": {},
   "outputs": [
    {
     "name": "stdout",
     "output_type": "stream",
     "text": [
      "{0: -1, -14: 0, -4: 1, -19: 2, -2: 3, 2: 4, 20: 5, 23: 6, 5: 7, -6: 9}\n",
      "8\n"
     ]
    }
   ],
   "source": [
    "class Solution:\n",
    "    def lenOfLongSubarr (self, arr, n, k) : \n",
    "        d = {}\n",
    "        s = 0\n",
    "        maxLen = 0\n",
    "        d[0] = -1\n",
    "        for i in range(n):\n",
    "            s += arr[i]\n",
    "            if(s==k):\n",
    "                maxLen = max(maxLen,i+1)\n",
    "            if(d.get(s-k) is not None):\n",
    "                maxLen = max(maxLen,i-d[s-k])\n",
    "            if(d.get(s) is None):\n",
    "                d[s] = i\n",
    "        print(d)\n",
    "        return maxLen\n",
    "\n",
    "obj = Solution()\n",
    "print(obj.lenOfLongSubarr([-14,10,-15,17,4,18,3,-18,-7,-4,-8,8,-8],13,12))"
   ]
  },
  {
   "cell_type": "markdown",
   "metadata": {},
   "source": [
    "2 sum"
   ]
  },
  {
   "cell_type": "code",
   "execution_count": 80,
   "metadata": {},
   "outputs": [
    {
     "name": "stdout",
     "output_type": "stream",
     "text": [
      "[1, 2]\n"
     ]
    }
   ],
   "source": [
    "class Solution:\n",
    "    def twoSum(self, nums:list[int], target: int) -> list[int]:\n",
    "        d = {}\n",
    "        for i in range(len(nums)):\n",
    "            if(d.get(target-nums[i]) is not None):\n",
    "                return [d[target-nums[i]],i]\n",
    "            d[nums[i]] = i\n",
    "            \n",
    "obj = Solution()\n",
    "print(obj.twoSum([3,2,4],6))"
   ]
  },
  {
   "cell_type": "markdown",
   "metadata": {},
   "source": [
    "Maximum subarray"
   ]
  },
  {
   "cell_type": "code",
   "execution_count": null,
   "metadata": {},
   "outputs": [],
   "source": [
    "class Solution:\n",
    "    def maxSubArray(self, nums: list[int]) -> int:\n",
    "        s = 0\n",
    "        maxs = float('-inf')\n",
    "        for i in range(len(nums)):\n",
    "            s += nums[i]\n",
    "            maxs = max(maxs,s)\n",
    "            if(s<0):\n",
    "                s = 0\n",
    "        return maxs\n",
    "\n",
    "        "
   ]
  },
  {
   "cell_type": "markdown",
   "metadata": {},
   "source": [
    "Rearrange array elements by sign"
   ]
  },
  {
   "cell_type": "code",
   "execution_count": null,
   "metadata": {},
   "outputs": [],
   "source": [
    "class Solution:\n",
    "    def rearrangeArray(self, nums: list[int]) -> list[int]:\n",
    "        p = 0\n",
    "        i = 1\n",
    "        n = 1\n",
    "        j = 2\n",
    "        while(n<len(nums) or p<len(nums)):\n",
    "            if(nums[p]<0):\n",
    "                while(nums[i]<0):\n",
    "                    i+=1\n",
    "                t = nums[i]\n",
    "                while(i>p):\n",
    "                    nums[i] = nums[i-1]\n",
    "                    i-=1\n",
    "                nums[p] = t\n",
    "                p+=2\n",
    "                i=p+1\n",
    "            else:\n",
    "                p+=2\n",
    "                i=p+1\n",
    "            if(nums[n]>0):\n",
    "                while(nums[j]>0):\n",
    "                    j+=1\n",
    "                t = nums[j]\n",
    "                while(j>n):\n",
    "                    nums[j] = nums[j-1]\n",
    "                    j=j-1\n",
    "                nums[n] = t\n",
    "                n+=2\n",
    "                j=n+1\n",
    "            else:\n",
    "                n+=2\n",
    "                j=n+1\n",
    "        return nums\n",
    "            \n",
    "\n",
    "obj = Solution()\n",
    "print(obj.rearrangeArray([28,-41,22,-8,-37,46,35,-9,18,-6,19,-26,-37,-10,-9,15,14,31]))"
   ]
  },
  {
   "cell_type": "markdown",
   "metadata": {},
   "source": [
    "Above code is modifications in place"
   ]
  },
  {
   "cell_type": "code",
   "execution_count": null,
   "metadata": {},
   "outputs": [],
   "source": [
    "class Solution:\n",
    "    def rearrangeArray(self, nums: list[int]) -> list[int]:\n",
    "        result = []\n",
    "        negative = []\n",
    "        positive = []\n",
    "        p = []\n",
    "        n = []\n",
    "        for i in range(len(nums)):\n",
    "            print(f\"result is {result}\")\n",
    "            print(f\"positive is {positive}\")\n",
    "            print(f\"Negative is {negative}\")\n",
    "            if(i%2==0):\n",
    "                if(nums[i]>0):\n",
    "                    result.append(nums[i])\n",
    "                else:\n",
    "                    if(len(positive)):\n",
    "                        result.append(positive.pop(0))\n",
    "                    else:\n",
    "                        result.append(None)\n",
    "                        p.append(i)\n",
    "                    if(len(n)):\n",
    "                        result[n.pop(0)] = nums[i]\n",
    "                    else:\n",
    "                        negative.append(nums[i])\n",
    "            else:\n",
    "                if(nums[i]<0):\n",
    "                    result.append(nums[i])\n",
    "                else:\n",
    "                    if(len(negative)):\n",
    "                            result.append(negative.pop(0))\n",
    "                    else:\n",
    "                        result.append(None)\n",
    "                    if(len(p)):\n",
    "                        result[p.pop(0)] = nums[i]\n",
    "                    else:\n",
    "                        positive.append(nums[i])\n",
    "        print(f\"result is {result}\")\n",
    "        print(f\"positive is {positive}\")\n",
    "        print(f\"Negative is {negative}\")\n",
    "        for i in range(len(result)):\n",
    "            if(i%2==0):\n",
    "                if(result[i]==None):\n",
    "                    result[i]=positive.pop(0)\n",
    "            else:\n",
    "                if(result[i]==None):\n",
    "                    result[i]=negative.pop(0)\n",
    "        return result\n",
    "            \n",
    "            \n",
    "\n",
    "obj = Solution()\n",
    "print(obj.rearrangeArray([28,-41,22,-8,-37,46,35,-9,18,-6,19,-26,-37,-10,-9,15,14,31]))"
   ]
  },
  {
   "cell_type": "markdown",
   "metadata": {},
   "source": [
    "Below is the correct one"
   ]
  },
  {
   "cell_type": "code",
   "execution_count": null,
   "metadata": {},
   "outputs": [],
   "source": [
    "class Solution:\n",
    "    def rearrangeArray(self, nums: list[int]) -> list[int]:\n",
    "        n = len(nums)\n",
    "\n",
    "        # Initializing an answer array of size n\n",
    "        ans = [0] * n\n",
    "\n",
    "        # Initializing two pointers to track even and\n",
    "        # odd indices for positive and negative integers respectively\n",
    "        pos_index, neg_index = 0, 1\n",
    "\n",
    "        for i in range(n):\n",
    "            if nums[i] > 0:\n",
    "                # Placing the positive integer at the\n",
    "                # desired index in ans and incrementing pos_index by 2\n",
    "                ans[pos_index] = nums[i]\n",
    "                pos_index += 2\n",
    "            else:\n",
    "                # Placing the negative integer at the\n",
    "                # desired index in ans and incrementing neg_index by 2\n",
    "                ans[neg_index] = nums[i]\n",
    "                neg_index += 2\n",
    "\n",
    "        return ans\n",
    "obj = Solution()\n",
    "print(obj.rearrangeArray([28,-41,22,-8,-37,46,35,-9,18,-6,19,-26,-37,-10,-9,15,14,31]))"
   ]
  },
  {
   "cell_type": "markdown",
   "metadata": {},
   "source": [
    "Array leaders"
   ]
  },
  {
   "cell_type": "code",
   "execution_count": null,
   "metadata": {},
   "outputs": [],
   "source": [
    "class Solution:\n",
    "    def leaders(self, arr):\n",
    "        maxele = 0\n",
    "        result = []\n",
    "        for i in range(len(arr)-1,-1,-1):\n",
    "            maxele = max(arr[i],maxele)\n",
    "            if(arr[i]>=maxele):\n",
    "                result.append(arr[i])\n",
    "        return result[::-1]"
   ]
  },
  {
   "cell_type": "markdown",
   "metadata": {},
   "source": [
    "Longest consecutive sequence"
   ]
  },
  {
   "cell_type": "code",
   "execution_count": 97,
   "metadata": {},
   "outputs": [
    {
     "name": "stdout",
     "output_type": "stream",
     "text": [
      "9\n"
     ]
    }
   ],
   "source": [
    "class Solution:\n",
    "    def longestConsecutive(self, nums: list[int]) -> int:\n",
    "        d = {}\n",
    "        maxlen = 0\n",
    "        l = 0\n",
    "        for i in range(len(nums)):\n",
    "            d[nums[i]]=1\n",
    "            l = 1\n",
    "            maxlen = max(l, maxlen)\n",
    "            # print(d)\n",
    "            if(d.get(nums[i]-1)):\n",
    "                j = 1\n",
    "                # print('1')\n",
    "                while(d.get(nums[i]-j) is not None):\n",
    "                    # print(nums[i]-j)\n",
    "                    l+=1\n",
    "                    maxlen = max(maxlen,l)\n",
    "                    j+=1\n",
    "            if(d.get(nums[i]+1)):\n",
    "                j = 1\n",
    "                # print('2')\n",
    "                while(d.get(nums[i]+j) is not None):\n",
    "                    # print((nums[i]+j))\n",
    "                    l+=1\n",
    "                    maxlen = max(maxlen,l)\n",
    "                    j+=1\n",
    "        return maxlen\n",
    "\n",
    "obj = Solution()\n",
    "print(obj.longestConsecutive([0,3,7,2,5,8,4,6,0,1]))"
   ]
  },
  {
   "cell_type": "markdown",
   "metadata": {},
   "source": [
    "Above code gives time limit exceeded."
   ]
  },
  {
   "cell_type": "code",
   "execution_count": 108,
   "metadata": {},
   "outputs": [
    {
     "name": "stdout",
     "output_type": "stream",
     "text": [
      "{}\n",
      "{0: 1}\n",
      "{0: 1, 1: 2}\n",
      "{0: 1, 1: 2, 2: 3}\n",
      "{0: 1, 1: 2, 2: 3, 3: 4}\n",
      "{0: 1, 1: 2, 2: 3, 3: 4, 4: 5}\n",
      "{0: 1, 1: 2, 2: 3, 3: 4, 4: 5, 5: 6}\n",
      "7\n"
     ]
    }
   ],
   "source": [
    "class Solution:\n",
    "    def longestConsecutive(self, nums: list[int]) -> int:\n",
    "        d = {}\n",
    "        maxlen = 0\n",
    "        l = 0\n",
    "        for i in range(len(nums)):\n",
    "            # print(d)\n",
    "            if(d.get(nums[i]) is None):\n",
    "                d[nums[i]]=1\n",
    "            else:\n",
    "                continue\n",
    "            maxlen = max(d[nums[i]], maxlen)\n",
    "            if(d.get(nums[i]-1) is not None):\n",
    "                d[nums[i]] += d[nums[i]-1]\n",
    "                maxlen = max(maxlen,d[nums[i]])\n",
    "            if(d.get(nums[i]+1) is not None):\n",
    "                j = 1\n",
    "                while(d.get(nums[i]+j) is not None):\n",
    "                    d[nums[i]+j] = d[nums[i]+j-1] + 1\n",
    "                    j+=1\n",
    "                maxlen = max(maxlen,d[nums[i]+j-1])\n",
    "        return maxlen\n",
    "\n",
    "obj = Solution()\n",
    "print(obj.longestConsecutive([0,1,2,3,4,5,6]))"
   ]
  },
  {
   "cell_type": "markdown",
   "metadata": {},
   "source": [
    "Still time limit exceeded \n",
    "\n",
    "Below solution works fine"
   ]
  },
  {
   "cell_type": "code",
   "execution_count": 113,
   "metadata": {},
   "outputs": [
    {
     "name": "stdout",
     "output_type": "stream",
     "text": [
      "7\n"
     ]
    }
   ],
   "source": [
    "class Solution:\n",
    "    def longestConsecutive(self, nums: list[int]) -> int:\n",
    "        s = set(nums)\n",
    "        maxc = 0\n",
    "        r = set()\n",
    "        for i in s:\n",
    "            c = 0\n",
    "            if(i in r):\n",
    "                continue\n",
    "            while(i-1 in s):\n",
    "                i = i-1\n",
    "            while(i in s):\n",
    "                c+=1\n",
    "                maxc = max(maxc,c)\n",
    "                r.add(i)\n",
    "                i = i+1\n",
    "        return maxc\n",
    "\n",
    "obj = Solution()\n",
    "print(obj.longestConsecutive([0,1,2,3,4,5,6]))"
   ]
  },
  {
   "cell_type": "markdown",
   "metadata": {},
   "source": [
    "Next Permutation\n",
    "\n",
    "No of Permutation possible for n is n! ways\n",
    "\n",
    "Algorithm:\n",
    "\n",
    "1. find the larger prefix match. \n",
    "2. replace that match with the larger value which is close to the match\n",
    "3. sort in asc the rest of the elements"
   ]
  },
  {
   "cell_type": "code",
   "execution_count": 135,
   "metadata": {},
   "outputs": [
    {
     "name": "stdout",
     "output_type": "stream",
     "text": [
      "[1, 2, 3]\n"
     ]
    }
   ],
   "source": [
    "class Solution:\n",
    "    def nextPermutation(self, nums: list[int]) -> None:\n",
    "        for i in range(len(nums)-1,0,-1):\n",
    "            if(nums[i]>nums[i-1]):\n",
    "                diff = float('+inf')\n",
    "                t = i\n",
    "                for j in range(i,len(nums)):\n",
    "                    if(nums[j]>nums[i-1] and abs(nums[i-1]-nums[j])<diff):\n",
    "                        diff = abs(nums[i-1]-nums[j])\n",
    "                        t = j\n",
    "                nums[i-1],nums[t]=nums[t],nums[i-1]\n",
    "                for j in range(i,len(nums)):\n",
    "                    for k in range(j+1,len(nums)):\n",
    "                        if(nums[k]<nums[j]):\n",
    "                            nums[j],nums[k] = nums[k],nums[j]\n",
    "                            \n",
    "                break\n",
    "        else:\n",
    "            for j in range(0,len(nums)):\n",
    "                for k in range(j+1,len(nums)):\n",
    "                    if(nums[k]<nums[j]):\n",
    "                        nums[j],nums[k] = nums[k],nums[j]\n",
    "            \n",
    "        return nums\n",
    "obj = Solution()\n",
    "print(obj.nextPermutation([3,2,1]))  "
   ]
  },
  {
   "cell_type": "markdown",
   "metadata": {},
   "source": [
    "Set Matrix Zeroes"
   ]
  },
  {
   "cell_type": "code",
   "execution_count": null,
   "metadata": {},
   "outputs": [],
   "source": [
    "class Solution:\n",
    "    def setZeroes(self, matrix: List[List[int]]) -> None:\n",
    "        \"\"\"\n",
    "        Do not return anything, modify matrix in-place instead.\n",
    "        \"\"\"\n",
    "        r = len(matrix)\n",
    "        c = len(matrix[0])\n",
    "        rows = set()\n",
    "        cols = set()\n",
    "        for i in range(r):\n",
    "            for j in range(c):\n",
    "                if matrix[i][j] == 0:\n",
    "                    rows.add(i)\n",
    "                    cols.add(j)\n",
    "        for i in range(r):\n",
    "            for j in range(c):\n",
    "                if(i in rows or j in cols):\n",
    "                    matrix[i][j] = 0\n"
   ]
  },
  {
   "cell_type": "markdown",
   "metadata": {},
   "source": [
    "Expected is O(m+n) space\n",
    "\n",
    "Optimal is constant space"
   ]
  },
  {
   "cell_type": "code",
   "execution_count": 150,
   "metadata": {},
   "outputs": [
    {
     "name": "stdout",
     "output_type": "stream",
     "text": [
      "[[0, 1, 2, 0], [3, 4, 5, 2], [1, 3, 1, 5]]\n",
      "1 1\n",
      "1 2\n",
      "1 3\n",
      "2 1\n",
      "2 2\n",
      "2 3\n",
      "[[0, 1, 2, 0], [3, 4, 5, 0], [1, 3, 1, 0]]\n",
      "None\n"
     ]
    }
   ],
   "source": [
    "class Solution:\n",
    "    def setZeroes(self, matrix: list[list[int]]) -> None:\n",
    "        \"\"\"\n",
    "        Do not return anything, modify matrix in-place instead.\n",
    "        \"\"\"\n",
    "        r = len(matrix)\n",
    "        c = len(matrix[0])\n",
    "        fc = 1\n",
    "        for i in range(r):\n",
    "            for j in range(c):\n",
    "                if matrix[i][j] == 0:\n",
    "                    matrix[0][j] = 0\n",
    "                    matrix[i][0] = 0\n",
    "                    if(j==0):\n",
    "                        fc = 0\n",
    "        print(matrix)\n",
    "        for i in range(1,r):\n",
    "            for j in range(1,c):\n",
    "                print(i,j)\n",
    "                if(matrix[i][0] == 0 or matrix[0][j] == 0):\n",
    "                    matrix[i][j] = 0\n",
    "        for i in range(r):\n",
    "            if(fc):\n",
    "                matrix[i][0] = 0\n",
    "                continue\n",
    "            if(matrix[i][0] == None):\n",
    "                matrix[i][0] = 0\n",
    "        for j in range(c):\n",
    "            if(fr):\n",
    "                matrix[0][j] = 0\n",
    "                continue\n",
    "            if(matrix[0][j] == None):\n",
    "                matrix[0][j] = 0\n",
    "        print(matrix)\n",
    "obj = Solution()\n",
    "print(obj.setZeroes([[0,1,2,0],[3,4,5,2],[1,3,1,5]]))"
   ]
  },
  {
   "cell_type": "markdown",
   "metadata": {},
   "source": [
    "Subarray sum equals k"
   ]
  },
  {
   "cell_type": "code",
   "execution_count": 6,
   "metadata": {},
   "outputs": [
    {
     "name": "stdout",
     "output_type": "stream",
     "text": [
      "{0: 1}\n",
      "{0: 1, 1: 1}\n",
      "{0: 1, 1: 1, 3: 1}\n",
      "2\n"
     ]
    }
   ],
   "source": [
    "class Solution:\n",
    "    def subarraySum(self, nums: list[int], k: int) -> int:\n",
    "        prevSum = {}\n",
    "        prevSum[0] = 1\n",
    "        cnt = 0\n",
    "        s = 0\n",
    "        for i in range(len(nums)):\n",
    "            print(prevSum)\n",
    "            s += nums[i]\n",
    "            if(prevSum.get(s-k,0)):\n",
    "                cnt += prevSum[s-k]\n",
    "            prevSum[s] = prevSum.get(s,0)+ 1\n",
    "        return cnt\n",
    "\n",
    "obj = Solution()\n",
    "print(obj.subarraySum([1,2,3],3))"
   ]
  },
  {
   "cell_type": "markdown",
   "metadata": {},
   "source": [
    "Pascal's triangle"
   ]
  },
  {
   "cell_type": "code",
   "execution_count": 21,
   "metadata": {},
   "outputs": [
    {
     "name": "stdout",
     "output_type": "stream",
     "text": [
      "[] 0\n",
      "[[1]] 1\n",
      "[[1], [1, 1]] 2\n",
      "[[1], [1, 1], [1, 2, 1]] 3\n",
      "[[1], [1, 1], [1, 2, 1], [1, 3, 3, 1]] 4\n",
      "[[1], [1, 1], [1, 2, 1], [1, 3, 3, 1], [1, 4, 6, 4, 1]]\n"
     ]
    }
   ],
   "source": [
    "class Solution:\n",
    "    def generate(self, numRows: int) -> list[list[int]]:\n",
    "        result = []\n",
    "        for i in range(numRows):\n",
    "            row = []\n",
    "            print(result,i)\n",
    "            for j in range(i+1):\n",
    "                if(j==0 or j==i):\n",
    "                    row.append(1)\n",
    "                else:\n",
    "                    row.append(result[i-1][j-1] + result[i-1][j])\n",
    "            result.append(row)\n",
    "        return result\n",
    "\n",
    "obj = Solution()\n",
    "print(obj.generate(5))"
   ]
  },
  {
   "cell_type": "markdown",
   "metadata": {},
   "source": [
    "Majority element - II"
   ]
  },
  {
   "cell_type": "code",
   "execution_count": 48,
   "metadata": {},
   "outputs": [
    {
     "name": "stdout",
     "output_type": "stream",
     "text": [
      "[]\n"
     ]
    }
   ],
   "source": [
    "class Solution:\n",
    "    def majorityElement(self, nums: list[int]) -> list[int]:\n",
    "        c1=0\n",
    "        c2=0\n",
    "        mj1=None\n",
    "        mj2=None\n",
    "        result = []\n",
    "        for i in range(len(nums)):\n",
    "            if(not c1 and nums[i]!=mj2):\n",
    "                c1=1\n",
    "                mj1=nums[i]\n",
    "            elif(not c2 and nums[i]!=mj1):\n",
    "                mj2=nums[i]\n",
    "                c2=1\n",
    "            elif(nums[i]==mj2):\n",
    "                c2+=1\n",
    "            elif(nums[i]==mj1):\n",
    "                c1+=1\n",
    "            else:\n",
    "                c1-=1\n",
    "                c2-=1\n",
    "        c1=0\n",
    "        c2=0\n",
    "        m = len(nums)//3+1\n",
    "        for i in range(len(nums)):\n",
    "            if(nums[i]==mj1):\n",
    "                c1+=1 \n",
    "            if(nums[i]==mj2):\n",
    "                c2+=1\n",
    "        if(c1>=m):\n",
    "            result.append(mj1)\n",
    "        if(c2>=m):\n",
    "            result.append(mj2)\n",
    "        return result\n",
    "    \n",
    "obj = Solution()\n",
    "print(obj.majorityElement([1,2,3]))"
   ]
  },
  {
   "cell_type": "markdown",
   "metadata": {},
   "source": [
    "3 sum"
   ]
  },
  {
   "cell_type": "code",
   "execution_count": 41,
   "metadata": {},
   "outputs": [
    {
     "name": "stdout",
     "output_type": "stream",
     "text": [
      "[-2, 0, 0, 2, 2]\n",
      "[[-2, 0, 2]]\n"
     ]
    }
   ],
   "source": [
    "class Solution:\n",
    "    def threeSum(self, nums: list[int]) -> list[list[int]]:\n",
    "        nums.sort()\n",
    "        print(nums)\n",
    "        i = 0\n",
    "        j = i+1\n",
    "        k = len(nums)-1\n",
    "        result = []\n",
    "        for i in range(len(nums)):\n",
    "            if(i>0 and nums[i]==nums[i-1]):\n",
    "                continue\n",
    "            j = i+1\n",
    "            k = len(nums)-1\n",
    "            while(k>j):\n",
    "                s = nums[i]+nums[j]+nums[k]\n",
    "                if(s==0):\n",
    "                    result.append([nums[i],nums[j],nums[k]])\n",
    "                    j+=1\n",
    "                    k-=1\n",
    "                    while(j<k and nums[j]==nums[j-1]):\n",
    "                        j+=1\n",
    "                    while(j<k and nums[k]==nums[k+1]):\n",
    "                        k-=1\n",
    "                elif(s<0):\n",
    "                    j+=1\n",
    "                else:\n",
    "                    k-=1\n",
    "        return result\n",
    "    \n",
    "obj = Solution()\n",
    "print(obj.threeSum([-2,0,0,2,2]))"
   ]
  },
  {
   "cell_type": "markdown",
   "metadata": {},
   "source": [
    "4 sum"
   ]
  },
  {
   "cell_type": "code",
   "execution_count": 59,
   "metadata": {},
   "outputs": [
    {
     "name": "stdout",
     "output_type": "stream",
     "text": [
      "[[2, 2, 2, 2]]\n"
     ]
    }
   ],
   "source": [
    "class Solution:\n",
    "    def fourSum(self, nums: list[int], target: int) -> list[list[int]]:\n",
    "        nums.sort()\n",
    "        i = 0\n",
    "        j = i+1\n",
    "        k = len(nums)-1\n",
    "        result = []\n",
    "        for i in range(len(nums)):\n",
    "            if(i>0 and nums[i]==nums[i-1]):\n",
    "                continue\n",
    "            for j in range(i+1,len(nums)):\n",
    "                if(j>i+1 and nums[j]==nums[j-1]):\n",
    "                    continue\n",
    "                k = j+1\n",
    "                l = len(nums)-1\n",
    "                while(k<l):\n",
    "                    s = nums[i]+nums[j]+nums[k]+nums[l]\n",
    "                    if(s==target):\n",
    "                        result.append([nums[i],nums[j],nums[k],nums[l]])\n",
    "                        k+=1\n",
    "                        l-=1\n",
    "                        while(k<l and nums[k]==nums[k-1]):\n",
    "                            k+=1\n",
    "                        while(k<l and nums[l]==nums[l+1]):\n",
    "                            l-=1\n",
    "                    elif(s<target):\n",
    "                        k+=1\n",
    "                    else:\n",
    "                        l-=1\n",
    "        return result\n",
    "\n",
    "obj = Solution()\n",
    "print(obj.fourSum([2,2,2,2,2],8))"
   ]
  },
  {
   "cell_type": "markdown",
   "metadata": {},
   "source": [
    "Largest subarray with sum 0"
   ]
  },
  {
   "cell_type": "code",
   "execution_count": 71,
   "metadata": {},
   "outputs": [
    {
     "name": "stdout",
     "output_type": "stream",
     "text": [
      "{1: 0, 0: 1}\n",
      "4\n"
     ]
    }
   ],
   "source": [
    "#Your task is to complete this function\n",
    "#Your should return the required output\n",
    "class Solution:\n",
    "    def maxLen(self, n, arr):\n",
    "        s = 0\n",
    "        prevSum = dict()\n",
    "        # prevSum[0]=1\n",
    "        maxResult = 0\n",
    "        for i in range(n):\n",
    "            s += arr[i]\n",
    "            if(s in prevSum):\n",
    "                result = i - prevSum[s]\n",
    "                maxResult = max(result, maxResult)\n",
    "            else:\n",
    "                prevSum[s] = i\n",
    "            if(s == 0):\n",
    "                maxResult = max(i+1, maxResult)\n",
    "        print(prevSum)\n",
    "        return maxResult\n",
    "\n",
    "obj = Solution()\n",
    "print(obj.maxLen(4,[1, -1,1,-1]))"
   ]
  },
  {
   "cell_type": "markdown",
   "metadata": {},
   "source": [
    "Maximum product subarray"
   ]
  },
  {
   "cell_type": "code",
   "execution_count": 80,
   "metadata": {},
   "outputs": [
    {
     "name": "stdout",
     "output_type": "stream",
     "text": [
      "4\n"
     ]
    }
   ],
   "source": [
    "class Solution:\n",
    "    def maxProduct(self, nums: list[int]) -> int:\n",
    "        mp = float('-inf')\n",
    "        product = 1\n",
    "        j = 0\n",
    "        for i in range(len(nums)):\n",
    "            if(nums[i]==0):\n",
    "                mp = max(mp,0)\n",
    "                product = 1\n",
    "                continue\n",
    "            if(nums[i]<0):\n",
    "                j+=1\n",
    "            product = nums[i]*product\n",
    "            mp = max(product,mp)\n",
    "        product = 1\n",
    "        for i in range(len(nums)-1,-1,-1):\n",
    "                if(nums[i]==0):\n",
    "                    mp = max(mp,0)\n",
    "                    product = 1\n",
    "                    continue\n",
    "                product = nums[i]*product\n",
    "                mp = max(product,mp)\n",
    "        return mp\n",
    "            \n",
    "obj = Solution()\n",
    "print(obj.maxProduct([3,-2,4]))"
   ]
  },
  {
   "cell_type": "markdown",
   "metadata": {},
   "source": [
    "Above code uses 2 traversals"
   ]
  },
  {
   "cell_type": "code",
   "execution_count": 84,
   "metadata": {},
   "outputs": [
    {
     "name": "stdout",
     "output_type": "stream",
     "text": [
      "12\n"
     ]
    }
   ],
   "source": [
    "class Solution:\n",
    "    def maxProduct(self, nums: list[int]) -> int:\n",
    "        mp = float('-inf')\n",
    "        prefix = 1\n",
    "        suffix = 1\n",
    "        for i in range(len(nums)):\n",
    "            prefix = prefix*nums[i]\n",
    "            suffix = suffix*nums[len(nums)-1-i]\n",
    "            mp = max(max(prefix,suffix),mp)\n",
    "            if(prefix == 0):\n",
    "                prefix = 1\n",
    "            if(suffix == 0):\n",
    "                suffix = 1\n",
    "        return mp  \n",
    "            \n",
    "obj = Solution()\n",
    "print(obj.maxProduct([3,-2,-2,0,4]))"
   ]
  },
  {
   "cell_type": "markdown",
   "metadata": {},
   "source": [
    "Count inversions"
   ]
  },
  {
   "cell_type": "code",
   "execution_count": 99,
   "metadata": {},
   "outputs": [
    {
     "name": "stdout",
     "output_type": "stream",
     "text": [
      "[5] [4] 0\n",
      "[3] [5] 0\n",
      "[1] [3, 5] 0\n",
      "[4, 5] [1, 3, 5] 1\n",
      "5\n"
     ]
    }
   ],
   "source": [
    "class Solution:\n",
    "    #User function Template for python3\n",
    "    #Function to count inversions in the array.\n",
    "    def inversionCount(self, arr):\n",
    "        def merge(l):\n",
    "            c = 0\n",
    "            if(len(l)>1):\n",
    "                mid = len(l)//2\n",
    "                left = l[:mid]\n",
    "                right = l[mid:]\n",
    "                c += merge(left) \n",
    "                c += merge(right)\n",
    "                print(left,right,c)\n",
    "                i = j = k = 0\n",
    "        \n",
    "                while i < len(left) and j < len(right):\n",
    "                    if left[i] <= right[j]:\n",
    "                        l[k] = left[i]\n",
    "                        i += 1\n",
    "                    else:\n",
    "                        c += len(left)-i\n",
    "                        l[k] = right[j]\n",
    "                        j += 1\n",
    "                    k += 1\n",
    "        \n",
    "                while i < len(left):\n",
    "                    l[k] = left[i]\n",
    "                    i += 1\n",
    "                    k += 1\n",
    "        \n",
    "                while j < len(right):\n",
    "                    l[k] = right[j]\n",
    "                    j += 1\n",
    "                    k += 1\n",
    "            return c\n",
    "        return merge(arr)\n",
    "\n",
    "obj = Solution()\n",
    "print(obj.inversionCount([5,4,1,3,5]))"
   ]
  },
  {
   "cell_type": "markdown",
   "metadata": {},
   "source": [
    "Merge intervals"
   ]
  },
  {
   "cell_type": "code",
   "execution_count": 108,
   "metadata": {},
   "outputs": [
    {
     "name": "stdout",
     "output_type": "stream",
     "text": [
      "1 [[0, 2], [1, 4], [3, 5]]\n",
      "1 [[0, 4], [3, 5]]\n",
      "[[0, 5]]\n"
     ]
    }
   ],
   "source": [
    "class Solution:\n",
    "    def merge(self, intervals: list[list[int]]) -> list[list[int]]:\n",
    "        intervals.sort(key=lambda a:a[0])\n",
    "        l = len(intervals)\n",
    "        i = 1\n",
    "        while(i<l):\n",
    "            print(i,intervals)\n",
    "            if(intervals[i][0]<=intervals[i-1][1]):\n",
    "                intervals[i-1][0] = min(intervals[i-1][0],intervals[i][0])\n",
    "                intervals[i-1][1] = max(intervals[i-1][1],intervals[i][1])\n",
    "                intervals.remove(intervals[i])\n",
    "                l-=1\n",
    "            else:\n",
    "                i+=1\n",
    "        return intervals\n",
    "    \n",
    "obj = Solution()\n",
    "print(obj.merge([[1,4],[0,2],[3,5]]))"
   ]
  },
  {
   "cell_type": "markdown",
   "metadata": {},
   "source": [
    "Repeating and missing "
   ]
  },
  {
   "cell_type": "code",
   "execution_count": 111,
   "metadata": {},
   "outputs": [
    {
     "name": "stdout",
     "output_type": "stream",
     "text": [
      "[0, 0, 1]\n",
      "[2, 1]\n"
     ]
    }
   ],
   "source": [
    "class Solution:\n",
    "    def findTwoElement( self,arr): \n",
    "        result = [0]*(len(arr)+1)\n",
    "        repeating = 0\n",
    "        missing = 0\n",
    "        for i in range(len(arr)):\n",
    "            if(result[arr[i]]==0):\n",
    "                result[arr[i]]=1\n",
    "            else:\n",
    "                repeating = arr[i]\n",
    "        print(result)\n",
    "        for i in range(1,len(arr)+1):\n",
    "            if(result[i]==0):\n",
    "                missing = i\n",
    "        return [repeating,missing]\n",
    "    \n",
    "obj = Solution()\n",
    "print(obj.findTwoElement([2,2]))"
   ]
  },
  {
   "cell_type": "markdown",
   "metadata": {},
   "source": [
    "Count no of subarrays with given xor k"
   ]
  },
  {
   "cell_type": "code",
   "execution_count": 7,
   "metadata": {},
   "outputs": [
    {
     "name": "stdout",
     "output_type": "stream",
     "text": [
      "4 2 {0: 1}\n",
      "6 0 {0: 1, 4: 1}\n",
      "1\n",
      "4 2 {0: 1, 4: 1, 6: 1}\n",
      "2 4 {0: 1, 4: 2, 6: 1}\n",
      "3\n",
      "6 0 {0: 1, 4: 2, 6: 1, 2: 1}\n",
      "4\n",
      "{0: 1, 4: 2, 6: 2, 2: 1}\n",
      "4\n"
     ]
    }
   ],
   "source": [
    "class Solution:\n",
    "    def solve(self, A, B):\n",
    "        prefix = dict()\n",
    "        prefix[0]=1\n",
    "        cnt = 0\n",
    "        txor = 0\n",
    "        for i in range(len(A)):\n",
    "            txor = txor^A[i]\n",
    "            print(txor,txor^B,prefix)\n",
    "            if(txor^B in prefix):\n",
    "                cnt+=prefix[txor^B]\n",
    "                print(cnt)\n",
    "            prefix[txor] = prefix.get(txor,0) + 1\n",
    "        print(prefix)\n",
    "        return cnt\n",
    "\n",
    "obj = Solution()\n",
    "print(obj.solve([4,2,2,6,4],6))"
   ]
  },
  {
   "cell_type": "markdown",
   "metadata": {},
   "source": [
    "Reverse pairs"
   ]
  },
  {
   "cell_type": "code",
   "execution_count": null,
   "metadata": {},
   "outputs": [
    {
     "name": "stdout",
     "output_type": "stream",
     "text": [
      "2\n"
     ]
    }
   ],
   "source": [
    "class Solution:\n",
    "    def reversePairs(self, nums: list[int]) -> int:\n",
    "        suffix = []\n",
    "        cnt = 0\n",
    "        for i in range(len(nums)-1,-1,-1):\n",
    "            j = 0\n",
    "            while(j<len(suffix) and nums[i] > 2*suffix[j]):\n",
    "                cnt+=1\n",
    "                j+=1\n",
    "            suffix.append(nums[i])\n",
    "            suffix.sort()\n",
    "        return cnt\n",
    "\n",
    "\n",
    "obj = Solution()\n",
    "print(obj.reversePairs([1,3,2,3,1]))"
   ]
  },
  {
   "cell_type": "markdown",
   "metadata": {},
   "source": [
    "Above code gives time limit exceeded "
   ]
  }
 ],
 "metadata": {
  "kernelspec": {
   "display_name": "Python 3",
   "language": "python",
   "name": "python3"
  },
  "language_info": {
   "codemirror_mode": {
    "name": "ipython",
    "version": 3
   },
   "file_extension": ".py",
   "mimetype": "text/x-python",
   "name": "python",
   "nbconvert_exporter": "python",
   "pygments_lexer": "ipython3",
   "version": "3.10.5"
  }
 },
 "nbformat": 4,
 "nbformat_minor": 2
}
