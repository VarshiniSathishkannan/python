{
 "cells": [
  {
   "cell_type": "markdown",
   "metadata": {},
   "source": [
    "1- Second largest element"
   ]
  },
  {
   "cell_type": "code",
   "execution_count": 4,
   "metadata": {},
   "outputs": [
    {
     "name": "stdout",
     "output_type": "stream",
     "text": [
      "5\n"
     ]
    }
   ],
   "source": [
    "class Solution:\n",
    "    def getSecondLargest(self, arr):\n",
    "        first = -1\n",
    "        second = -1\n",
    "        for i in range(len(arr)):\n",
    "            if(arr[i]>first):\n",
    "                second = first\n",
    "                first = arr[i]\n",
    "            else:\n",
    "                if(arr[i]>second and first!=arr[i]):\n",
    "                    second = arr[i]\n",
    "        return second\n",
    "\n",
    "result = Solution()\n",
    "print(result.getSecondLargest([10,5,10]))"
   ]
  },
  {
   "cell_type": "markdown",
   "metadata": {},
   "source": [
    "2- Check if array is sorted and rotated"
   ]
  },
  {
   "cell_type": "code",
   "execution_count": null,
   "metadata": {},
   "outputs": [
    {
     "name": "stdout",
     "output_type": "stream",
     "text": [
      "True\n"
     ]
    }
   ],
   "source": [
    "class Solution:\n",
    "    def check(self, nums) -> bool:\n",
    "        index = 0\n",
    "        for i in range(1,len(nums)):\n",
    "            if(nums[i]<nums[i-1]):\n",
    "                if(not index):\n",
    "                    index = 1\n",
    "                    if(nums[-1]>nums[0]):\n",
    "                        return False\n",
    "                else:\n",
    "                    return False\n",
    "\n",
    "        return True\n",
    "    \n",
    "result = Solution()\n",
    "print(result.check([3,4,5,1,2]))"
   ]
  },
  {
   "cell_type": "markdown",
   "metadata": {},
   "source": [
    "3 (Revise) - Move Zeroes "
   ]
  },
  {
   "cell_type": "code",
   "execution_count": 4,
   "metadata": {},
   "outputs": [
    {
     "name": "stdout",
     "output_type": "stream",
     "text": [
      "[-1, 1, 8, 0, 0, 0, 0]\n"
     ]
    }
   ],
   "source": [
    "class Solution:\n",
    "    def moveZeroes(self, nums: list[int]) -> None:\n",
    "        \"\"\"\n",
    "        Do not return anything, modify nums in-place instead.\n",
    "        \"\"\"\n",
    "        l = 0\n",
    "        r = 0\n",
    "        while(r<len(nums)):\n",
    "            if(nums[r]!=0):\n",
    "                nums[l],nums[r] = nums[r],nums[l]\n",
    "                l+=1\n",
    "            r+=1\n",
    "        return nums\n",
    "\n",
    "result = Solution()\n",
    "print(result.moveZeroes([-1,0,0,1,0,0,8]))        "
   ]
  },
  {
   "cell_type": "code",
   "execution_count": null,
   "metadata": {},
   "outputs": [],
   "source": [
    "#User function Template for python3\n",
    "\n",
    "class Solution:\n",
    "\tdef pushZerosToEnd(self,arr):\n",
    "    \tl = -1\n",
    "    \tr = 0\n",
    "    \twhile(r<len(arr)):\n",
    "    \t    if(not arr[r]):\n",
    "    \t        if(l < 0):\n",
    "    \t            l = r\n",
    "    \t    else:\n",
    "    \t        if(l >= 0 and l<r):\n",
    "    \t            arr[l],arr[r]=arr[r],arr[l]\n",
    "    \t            l +=1\n",
    "    \t    r+=1  \n",
    "\n",
    "\n",
    "#{ \n",
    " # Driver Code Starts\n",
    "#Initial Template for Python 3\n",
    "\n",
    "if __name__ == '__main__':\n",
    "    tc = int(input())\n",
    "    while tc > 0:\n",
    "        arr = list(map(int, input().strip().split()))\n",
    "        ob = Solution()\n",
    "        ob.pushZerosToEnd(arr)\n",
    "        for x in arr:\n",
    "            print(x, end=\" \")\n",
    "        print()\n",
    "        tc -= 1\n",
    "        print(\"~\")\n",
    "# } Driver Code Ends"
   ]
  },
  {
   "cell_type": "markdown",
   "metadata": {},
   "source": [
    "4 (Revise) - Sorted array search"
   ]
  },
  {
   "cell_type": "code",
   "execution_count": null,
   "metadata": {},
   "outputs": [
    {
     "name": "stdout",
     "output_type": "stream",
     "text": [
      "False\n"
     ]
    }
   ],
   "source": [
    "class Solution:\n",
    "    ##Complete this function\n",
    "    def searchInSorted(self,arr, k):\n",
    "        l = 0\n",
    "        r = len(arr)-1\n",
    "        while(l<=r): # l<=r is important\n",
    "            mid = (l+r)//2\n",
    "            if(arr[mid]==k):\n",
    "                return True\n",
    "            if(arr[mid]>k):\n",
    "                r = mid-1\n",
    "            else:\n",
    "                l = mid+1\n",
    "        else:\n",
    "            return False\n",
    "\n",
    "result = Solution()\n",
    "\n",
    "print(result.searchInSorted([1,2,4,6],0))"
   ]
  },
  {
   "cell_type": "markdown",
   "metadata": {},
   "source": [
    "5 (Revise) Union of 2 sorted array with duplicate elements"
   ]
  },
  {
   "cell_type": "code",
   "execution_count": null,
   "metadata": {},
   "outputs": [
    {
     "name": "stdout",
     "output_type": "stream",
     "text": [
      "[1, 3]\n"
     ]
    }
   ],
   "source": [
    "#User function Template for python3\n",
    "\n",
    "class Solution:\n",
    "    # 1 2 3\n",
    "    # 2 3 4\n",
    "    # 1 2 3 \n",
    "    #Function to return a list containing the union of the two arrays.\n",
    "    def findUnion(self,a,b):\n",
    "        i = 0\n",
    "        j = 0\n",
    "        result = []\n",
    "        while(i<len(a) and j<len(b)):\n",
    "            if(a[i]==b[j]):\n",
    "                if(len(result)==0 or result[-1]!=a[i]):\n",
    "                    result.append(a[i])\n",
    "                i+=1\n",
    "                j+=1\n",
    "                continue\n",
    "            if(a[i]<b[j]):\n",
    "                if(len(result)==0 or result[-1]!=a[i]):\n",
    "                    result.append(a[i])\n",
    "                i+=1\n",
    "            else:\n",
    "                if(len(result)==0 or result[-1]!=b[j]):\n",
    "                    result.append(b[j])\n",
    "                j+=1\n",
    "        while(i<len(a)):\n",
    "            if(len(result)==0 or result[-1]!=a[i]):\n",
    "                result.append(a[i])\n",
    "            i+=1\n",
    "        while(j<len(b)):\n",
    "            if(len(result)==0 or result[-1]!=b[j]):\n",
    "                result.append(b[j])\n",
    "            j+=1\n",
    "        return result\n",
    "\n",
    "obj = Solution()\n",
    "print(obj.findUnion([1,1,1,1,3],[1,1,1]))"
   ]
  },
  {
   "cell_type": "markdown",
   "metadata": {},
   "source": [
    "6- Missing number"
   ]
  },
  {
   "cell_type": "code",
   "execution_count": null,
   "metadata": {},
   "outputs": [
    {
     "name": "stdout",
     "output_type": "stream",
     "text": [
      "4\n"
     ]
    }
   ],
   "source": [
    "# number starting from 1\n",
    "\n",
    "class Solution:\n",
    "    def missingNum(self, arr):\n",
    "        output = 0\n",
    "        for i in range(len(arr)):\n",
    "            output = i+1-arr[i]+output\n",
    "        return output+i+2\n",
    "\n",
    "obj = Solution()\n",
    "print(obj.missingNum([3,2,1]))"
   ]
  },
  {
   "cell_type": "code",
   "execution_count": null,
   "metadata": {},
   "outputs": [
    {
     "name": "stdout",
     "output_type": "stream",
     "text": [
      "4\n"
     ]
    }
   ],
   "source": [
    "# number starting from 0\n",
    "\n",
    "class Solution:\n",
    "    def missingNumber(self, nums: list[int]) -> int:\n",
    "        res = len(nums)\n",
    "        \n",
    "        for i in range(len(nums)):\n",
    "            res += (i - nums[i])\n",
    "            \n",
    "        return res\n",
    "obj = Solution()\n",
    "print(obj.missingNumber([0,3,2,1]))"
   ]
  },
  {
   "cell_type": "markdown",
   "metadata": {},
   "source": [
    "sum of n num = n*(n+1)//2\n",
    "\n",
    "6+x = 6\n",
    "x = 6-6"
   ]
  },
  {
   "cell_type": "markdown",
   "metadata": {},
   "source": [
    "simple one"
   ]
  },
  {
   "cell_type": "code",
   "execution_count": 49,
   "metadata": {},
   "outputs": [
    {
     "name": "stdout",
     "output_type": "stream",
     "text": [
      "2\n"
     ]
    }
   ],
   "source": [
    "class Solution:\n",
    "    def missingNumber(self, nums: list[int]) -> int:  \n",
    "        n = len(nums)  \n",
    "        total =  n*(n+1)//2\n",
    "        for i in range(len(nums)):\n",
    "            total-=nums[i]\n",
    "        return total\n",
    "obj = Solution()\n",
    "print(obj.missingNumber([0,1]))"
   ]
  },
  {
   "cell_type": "markdown",
   "metadata": {},
   "source": [
    "7- Max consecutive ones"
   ]
  },
  {
   "cell_type": "code",
   "execution_count": 52,
   "metadata": {},
   "outputs": [
    {
     "name": "stdout",
     "output_type": "stream",
     "text": [
      "3\n"
     ]
    }
   ],
   "source": [
    "class Solution:\n",
    "    def findMaxConsecutiveOnes(self, nums: list[int]) -> int:\n",
    "        l = 0\n",
    "        r = 0\n",
    "        maxLen = 0\n",
    "        while(r<len(nums)):\n",
    "            if(nums[r]):\n",
    "                maxLen = max(maxLen,r-l+1)\n",
    "            else:\n",
    "                l = r+1\n",
    "            r+=1\n",
    "        return maxLen\n",
    "\n",
    "\n",
    "obj = Solution()\n",
    "print(obj.findMaxConsecutiveOnes([1,1,1,0,0]))"
   ]
  },
  {
   "cell_type": "markdown",
   "metadata": {},
   "source": [
    "Followup: Max consecutive ones or zeroes"
   ]
  },
  {
   "cell_type": "code",
   "execution_count": null,
   "metadata": {},
   "outputs": [],
   "source": [
    "class Solution:\n",
    "    def maxConsecutiveCount(self, arr):\n",
    "        l = 0\n",
    "        r = 0\n",
    "        maxLen = 0\n",
    "        current = arr[0]\n",
    "        while(r < len(arr)):\n",
    "            if arr[r]!= current:\n",
    "                l = r\n",
    "                current = arr[r]\n",
    "            maxLen = max(maxLen,r-l+1)\n",
    "            r+=1\n",
    "        return maxLen"
   ]
  },
  {
   "cell_type": "markdown",
   "metadata": {},
   "source": [
    "8 (Revise) Longest subarray with sum 'k' (Positives only)"
   ]
  },
  {
   "cell_type": "code",
   "execution_count": 62,
   "metadata": {},
   "outputs": [
    {
     "name": "stdout",
     "output_type": "stream",
     "text": [
      "9\n"
     ]
    }
   ],
   "source": [
    "class Solution:\n",
    "    def lenOfLongSubarr (self, arr, n, k) : \n",
    "        l = 0\n",
    "        r = 0\n",
    "        total = 0\n",
    "        maxLen = 0\n",
    "        while(r<n):\n",
    "            total += arr[r]\n",
    "            while(total>k):\n",
    "                total -= arr[l]\n",
    "                l+=1\n",
    "            if(total == k):\n",
    "                maxLen = max(maxLen,r-l+1)\n",
    "            r+=1\n",
    "        return maxLen\n",
    "\n",
    "obj = Solution()\n",
    "print(obj.lenOfLongSubarr([0,1,-1,1,5,0,3,2,0,5,-5],11,11))"
   ]
  },
  {
   "cell_type": "markdown",
   "metadata": {},
   "source": [
    "Above code works for positive integeres. But for negative ones, we need to have another approach\n",
    "\n",
    "Reverse approach, \n",
    "\n",
    "(--------s---------)\n",
    "         (----k----)\n",
    "\n",
    "if s - k exists, then we get k"
   ]
  },
  {
   "cell_type": "code",
   "execution_count": 11,
   "metadata": {},
   "outputs": [
    {
     "name": "stdout",
     "output_type": "stream",
     "text": [
      "11\n"
     ]
    }
   ],
   "source": [
    "class Solution:\n",
    "    def longestSubarray(self, arr, k):  \n",
    "        prefixSum = {}\n",
    "        s = 0\n",
    "        maxLen = 0\n",
    "        for i in range(len(arr)):\n",
    "            s += arr[i]\n",
    "            if(s==k):\n",
    "                maxLen = max(maxLen,i+1)\n",
    "            if(s-k in prefixSum):\n",
    "                j = prefixSum[s-k]\n",
    "                maxLen = max(maxLen,i-j)\n",
    "            if(s not in prefixSum):\n",
    "                prefixSum[s]=i\n",
    "        return maxLen\n",
    "\n",
    "obj = Solution()\n",
    "print(obj.longestSubarray([-14,10,-15,17,4,18,3,-18,-7,-4,-8,8,-8],8))"
   ]
  },
  {
   "cell_type": "markdown",
   "metadata": {},
   "source": [
    "9- 2 sum"
   ]
  },
  {
   "cell_type": "code",
   "execution_count": 80,
   "metadata": {},
   "outputs": [
    {
     "name": "stdout",
     "output_type": "stream",
     "text": [
      "[1, 2]\n"
     ]
    }
   ],
   "source": [
    "class Solution:\n",
    "    def twoSum(self, nums:list[int], target: int) -> list[int]:\n",
    "        d = {}\n",
    "        for i in range(len(nums)):\n",
    "            if(d.get(target-nums[i]) is not None):\n",
    "                return [d[target-nums[i]],i]\n",
    "            d[nums[i]] = i\n",
    "            \n",
    "obj = Solution()\n",
    "print(obj.twoSum([3,2,4],6))"
   ]
  },
  {
   "cell_type": "markdown",
   "metadata": {},
   "source": [
    "10- Maximum subarray Sum  - Kadane's Algorithm"
   ]
  },
  {
   "cell_type": "code",
   "execution_count": null,
   "metadata": {},
   "outputs": [],
   "source": [
    "class Solution:\n",
    "    def maxSubArray(self, nums: list[int]) -> int:\n",
    "        s = 0\n",
    "        maxs = float('-inf')\n",
    "        for i in range(len(nums)):\n",
    "            s += nums[i]\n",
    "            maxs = max(maxs,s)\n",
    "            if(s<0):\n",
    "                s = 0\n",
    "        return maxs\n",
    "\n",
    "        "
   ]
  },
  {
   "cell_type": "code",
   "execution_count": null,
   "metadata": {},
   "outputs": [],
   "source": [
    "class Solution:\n",
    "    def maxSubArraySum(self, arr):\n",
    "        left = 0\n",
    "        maxSum = float('-inf')\n",
    "        for i in range(len(arr)):\n",
    "            left += arr[i]\n",
    "            if(left > arr[i]):\n",
    "                maxSum = max(maxSum, left)\n",
    "            else:\n",
    "                maxSum = max(maxSum, arr[i])\n",
    "                left = arr[i]\n",
    "        return maxSum"
   ]
  },
  {
   "cell_type": "markdown",
   "metadata": {},
   "source": [
    "11(Revise) Rearrange array elements by sign"
   ]
  },
  {
   "cell_type": "code",
   "execution_count": 3,
   "metadata": {},
   "outputs": [
    {
     "name": "stdout",
     "output_type": "stream",
     "text": [
      "[2, -2, -2, -2, -2]\n"
     ]
    }
   ],
   "source": [
    "class Solution:\n",
    "    def rearrange(self,arr):\n",
    "        positives = []\n",
    "        negatives = []\n",
    "        for i in range(len(arr)):\n",
    "            if(arr[i]>=0):\n",
    "                positives.append(arr[i])\n",
    "            else:\n",
    "                negatives.append(arr[i])\n",
    "        index = 0\n",
    "        l = max(len(positives),len(negatives))\n",
    "        for i in range(l):\n",
    "            if(i<len(positives)):\n",
    "                arr[index]=positives[i]\n",
    "                index+=1\n",
    "            if(i<len(negatives)):\n",
    "                arr[index]=negatives[i]\n",
    "                index+=1\n",
    "\n",
    "a = Solution()\n",
    "b = [-2,-2,-2,-2,2]\n",
    "a.rearrange(b)\n",
    "print(b)"
   ]
  },
  {
   "cell_type": "markdown",
   "metadata": {},
   "source": [
    "12- Array leaders\n",
    "\n",
    "Greater than all the elements from its right side"
   ]
  },
  {
   "cell_type": "code",
   "execution_count": null,
   "metadata": {},
   "outputs": [],
   "source": [
    "class Solution:\n",
    "    def leaders(self, arr):\n",
    "        maxele = 0\n",
    "        result = []\n",
    "        for i in range(len(arr)-1,-1,-1):\n",
    "            maxele = max(arr[i],maxele)\n",
    "            if(arr[i]>=maxele):\n",
    "                result.append(arr[i])\n",
    "        return result[::-1]"
   ]
  },
  {
   "cell_type": "markdown",
   "metadata": {},
   "source": [
    "13(Revise) Longest consecutive sequence"
   ]
  },
  {
   "cell_type": "code",
   "execution_count": 8,
   "metadata": {},
   "outputs": [
    {
     "name": "stdout",
     "output_type": "stream",
     "text": [
      "7\n"
     ]
    }
   ],
   "source": [
    "# Neetcode solution\n",
    "\n",
    "class Solution:\n",
    "    def longestConsecutive(self,arr):\n",
    "        s = set(arr)\n",
    "        maxC = 0\n",
    "        for i in s:\n",
    "            if (i-1) not in s:\n",
    "                length = 0\n",
    "                while(i+length) in s:\n",
    "                    length+=1\n",
    "                maxC = max(length,maxC)\n",
    "        return maxC\n",
    "obj = Solution()\n",
    "print(obj.longestConsecutive([0,1,2,3,4,5,6]))"
   ]
  },
  {
   "cell_type": "markdown",
   "metadata": {},
   "source": [
    "14 (Revise) Next Permutation\n",
    "\n",
    "No of Permutation possible for n is n! ways\n",
    "\n",
    "Algorithm:\n",
    "\n",
    "1. find the larger prefix match. \n",
    "2. replace that match with the larger value which is close to the match\n",
    "3. sort in asc the rest of the elements"
   ]
  },
  {
   "cell_type": "code",
   "execution_count": 135,
   "metadata": {},
   "outputs": [
    {
     "name": "stdout",
     "output_type": "stream",
     "text": [
      "[1, 2, 3]\n"
     ]
    }
   ],
   "source": [
    "class Solution:\n",
    "    def nextPermutation(self, nums: list[int]) -> None:\n",
    "        for i in range(len(nums)-1,0,-1):\n",
    "            if(nums[i]>nums[i-1]):\n",
    "                diff = float('+inf')\n",
    "                t = i\n",
    "                for j in range(i,len(nums)):\n",
    "                    if(nums[j]>nums[i-1] and abs(nums[i-1]-nums[j])<diff):\n",
    "                        diff = abs(nums[i-1]-nums[j])\n",
    "                        t = j\n",
    "                nums[i-1],nums[t]=nums[t],nums[i-1]\n",
    "                for j in range(i,len(nums)):\n",
    "                    for k in range(j+1,len(nums)):\n",
    "                        if(nums[k]<nums[j]):\n",
    "                            nums[j],nums[k] = nums[k],nums[j]\n",
    "                            \n",
    "                break\n",
    "        else:\n",
    "            for j in range(0,len(nums)):\n",
    "                for k in range(j+1,len(nums)):\n",
    "                    if(nums[k]<nums[j]):\n",
    "                        nums[j],nums[k] = nums[k],nums[j]\n",
    "            \n",
    "        return nums\n",
    "obj = Solution()\n",
    "print(obj.nextPermutation([3,2,1]))  "
   ]
  },
  {
   "cell_type": "code",
   "execution_count": null,
   "metadata": {},
   "outputs": [],
   "source": [
    "class Solution:\n",
    "    def countSubarrays(self, arr, k):\n",
    "        d=set()\n",
    "        count = 0\n",
    "        s = 0\n",
    "        for i in range(len(arr)):\n",
    "            s+=arr[i]\n",
    "            print(s,d)\n",
    "            if(s==k):\n",
    "                count+=1\n",
    "            if(s-k in d):\n",
    "                count+=1\n",
    "            d.add(s)\n",
    "        return count\n",
    "\n",
    "obj = Solution()\n",
    "print(obj.countSubarrays([10, 2, -2, -20, 10],-10))"
   ]
  },
  {
   "cell_type": "markdown",
   "metadata": {},
   "source": [
    "15 (Revise) Set Matrix Zeroes - constant space complexity ?"
   ]
  },
  {
   "cell_type": "code",
   "execution_count": null,
   "metadata": {},
   "outputs": [],
   "source": [
    "class Solution:\n",
    "    def setZeroes(self, matrix: List[List[int]]) -> None:\n",
    "        \"\"\"\n",
    "        Do not return anything, modify matrix in-place instead.\n",
    "        \"\"\"\n",
    "        r = len(matrix)\n",
    "        c = len(matrix[0])\n",
    "        rows = set()\n",
    "        cols = set()\n",
    "        for i in range(r):\n",
    "            for j in range(c):\n",
    "                if matrix[i][j] == 0:\n",
    "                    rows.add(i)\n",
    "                    cols.add(j)\n",
    "        for i in range(r):\n",
    "            for j in range(c):\n",
    "                if(i in rows or j in cols):\n",
    "                    matrix[i][j] = 0\n"
   ]
  },
  {
   "cell_type": "code",
   "execution_count": null,
   "metadata": {},
   "outputs": [
    {
     "name": "stdout",
     "output_type": "stream",
     "text": [
      "\n"
     ]
    }
   ],
   "source": []
  },
  {
   "cell_type": "markdown",
   "metadata": {},
   "source": [
    "Expected is O(m+n) space\n",
    "\n",
    "Optimal is constant space"
   ]
  },
  {
   "cell_type": "code",
   "execution_count": 150,
   "metadata": {},
   "outputs": [
    {
     "name": "stdout",
     "output_type": "stream",
     "text": [
      "[[0, 1, 2, 0], [3, 4, 5, 2], [1, 3, 1, 5]]\n",
      "1 1\n",
      "1 2\n",
      "1 3\n",
      "2 1\n",
      "2 2\n",
      "2 3\n",
      "[[0, 1, 2, 0], [3, 4, 5, 0], [1, 3, 1, 0]]\n",
      "None\n"
     ]
    }
   ],
   "source": [
    "class Solution:\n",
    "    def setZeroes(self, matrix: list[list[int]]) -> None:\n",
    "        \"\"\"\n",
    "        Do not return anything, modify matrix in-place instead.\n",
    "        \"\"\"\n",
    "        r = len(matrix)\n",
    "        c = len(matrix[0])\n",
    "        fc = 1\n",
    "        for i in range(r):\n",
    "            for j in range(c):\n",
    "                if matrix[i][j] == 0:\n",
    "                    matrix[0][j] = 0\n",
    "                    matrix[i][0] = 0\n",
    "                    if(j==0):\n",
    "                        fc = 0\n",
    "        print(matrix)\n",
    "        for i in range(1,r):\n",
    "            for j in range(1,c):\n",
    "                print(i,j)\n",
    "                if(matrix[i][0] == 0 or matrix[0][j] == 0):\n",
    "                    matrix[i][j] = 0\n",
    "        for i in range(r):\n",
    "            if(fc):\n",
    "                matrix[i][0] = 0\n",
    "                continue\n",
    "            if(matrix[i][0] == None):\n",
    "                matrix[i][0] = 0\n",
    "        for j in range(c):\n",
    "            if(fr):\n",
    "                matrix[0][j] = 0\n",
    "                continue\n",
    "            if(matrix[0][j] == None):\n",
    "                matrix[0][j] = 0\n",
    "        print(matrix)\n",
    "obj = Solution()\n",
    "print(obj.setZeroes([[0,1,2,0],[3,4,5,2],[1,3,1,5]]))"
   ]
  },
  {
   "cell_type": "markdown",
   "metadata": {},
   "source": [
    "16 (Revise) Count of Subarrays whose sum equals k\n",
    "\n",
    "Similar to longest subarrays whose sum equals k "
   ]
  },
  {
   "cell_type": "code",
   "execution_count": 14,
   "metadata": {},
   "outputs": [
    {
     "name": "stdout",
     "output_type": "stream",
     "text": [
      "{0: 1}\n",
      "{0: 1, 1: 1}\n",
      "{0: 1, 1: 1, 3: 1}\n",
      "2\n"
     ]
    }
   ],
   "source": [
    "class Solution:\n",
    "    def subarraySum(self, nums: list[int], k: int) -> int:\n",
    "        prevSum = {}\n",
    "        prevSum[0] = 1\n",
    "        cnt = 0\n",
    "        s = 0\n",
    "        for i in range(len(nums)):\n",
    "            print(prevSum)\n",
    "            s += nums[i]\n",
    "            if(prevSum.get(s-k,0)):\n",
    "                cnt += prevSum[s-k]\n",
    "            prevSum[s] = prevSum.get(s,0)+ 1\n",
    "        return cnt\n",
    "\n",
    "obj = Solution()\n",
    "print(obj.subarraySum([1,2,3],3))"
   ]
  },
  {
   "cell_type": "code",
   "execution_count": 13,
   "metadata": {},
   "outputs": [
    {
     "name": "stdout",
     "output_type": "stream",
     "text": [
      "10 {}\n",
      "12 {10: 1}\n",
      "10 {10: 1, 12: 1}\n",
      "-10 {10: 2, 12: 1}\n",
      "0 {10: 2, 12: 1, -10: 1}\n",
      "3\n"
     ]
    }
   ],
   "source": [
    "class Solution:\n",
    "    def countSubarrays(self, arr, k):\n",
    "        d={}\n",
    "        count = 0\n",
    "        s = 0\n",
    "        for i in range(len(arr)):\n",
    "            s+=arr[i]\n",
    "            print(s,d)\n",
    "            if(s==k):\n",
    "                count+=1\n",
    "            if(s-k in d):\n",
    "                count+=d[s-k]\n",
    "            if(s in d):\n",
    "                d[s] = d[s]+1\n",
    "            else:\n",
    "                d[s] = 1\n",
    "        return count\n",
    "\n",
    "obj = Solution()\n",
    "print(obj.countSubarrays([10, 2, -2, -20, 10],-10))"
   ]
  },
  {
   "cell_type": "markdown",
   "metadata": {},
   "source": [
    "17 (revise) - Pascal's triangle"
   ]
  },
  {
   "cell_type": "code",
   "execution_count": 21,
   "metadata": {},
   "outputs": [
    {
     "name": "stdout",
     "output_type": "stream",
     "text": [
      "[] 0\n",
      "[[1]] 1\n",
      "[[1], [1, 1]] 2\n",
      "[[1], [1, 1], [1, 2, 1]] 3\n",
      "[[1], [1, 1], [1, 2, 1], [1, 3, 3, 1]] 4\n",
      "[[1], [1, 1], [1, 2, 1], [1, 3, 3, 1], [1, 4, 6, 4, 1]]\n"
     ]
    }
   ],
   "source": [
    "class Solution:\n",
    "    def generate(self, numRows: int) -> list[list[int]]:\n",
    "        result = []\n",
    "        for i in range(numRows):\n",
    "            row = []\n",
    "            print(result,i)\n",
    "            for j in range(i+1):\n",
    "                if(j==0 or j==i):\n",
    "                    row.append(1)\n",
    "                else:\n",
    "                    row.append(result[i-1][j-1] + result[i-1][j])\n",
    "            result.append(row)\n",
    "        return result\n",
    "\n",
    "obj = Solution()\n",
    "print(obj.generate(5))"
   ]
  },
  {
   "cell_type": "markdown",
   "metadata": {},
   "source": [
    "There is a formula for finding this "
   ]
  },
  {
   "cell_type": "markdown",
   "metadata": {},
   "source": [
    "18 (Revise) Majority element - II"
   ]
  },
  {
   "cell_type": "code",
   "execution_count": 48,
   "metadata": {},
   "outputs": [
    {
     "name": "stdout",
     "output_type": "stream",
     "text": [
      "[]\n"
     ]
    }
   ],
   "source": [
    "class Solution:\n",
    "    def majorityElement(self, nums: list[int]) -> list[int]:\n",
    "        c1=0\n",
    "        c2=0\n",
    "        mj1=None\n",
    "        mj2=None\n",
    "        result = []\n",
    "        for i in range(len(nums)):\n",
    "            if(not c1 and nums[i]!=mj2):\n",
    "                c1=1\n",
    "                mj1=nums[i]\n",
    "            elif(not c2 and nums[i]!=mj1):\n",
    "                mj2=nums[i]\n",
    "                c2=1\n",
    "            elif(nums[i]==mj2):\n",
    "                c2+=1\n",
    "            elif(nums[i]==mj1):\n",
    "                c1+=1\n",
    "            else:\n",
    "                c1-=1\n",
    "                c2-=1\n",
    "        c1=0\n",
    "        c2=0\n",
    "        m = len(nums)//3+1\n",
    "        for i in range(len(nums)):\n",
    "            if(nums[i]==mj1):\n",
    "                c1+=1 \n",
    "            if(nums[i]==mj2):\n",
    "                c2+=1\n",
    "        if(c1>=m):\n",
    "            result.append(mj1)\n",
    "        if(c2>=m):\n",
    "            result.append(mj2)\n",
    "        return result\n",
    "    \n",
    "obj = Solution()\n",
    "print(obj.majorityElement([1,2,3]))"
   ]
  },
  {
   "cell_type": "markdown",
   "metadata": {},
   "source": [
    "19 (Revise) 3 sum"
   ]
  },
  {
   "cell_type": "code",
   "execution_count": 41,
   "metadata": {},
   "outputs": [
    {
     "name": "stdout",
     "output_type": "stream",
     "text": [
      "[-2, 0, 0, 2, 2]\n",
      "[[-2, 0, 2]]\n"
     ]
    }
   ],
   "source": [
    "class Solution:\n",
    "    def threeSum(self, nums: list[int]) -> list[list[int]]:\n",
    "        nums.sort()\n",
    "        print(nums)\n",
    "        i = 0\n",
    "        j = i+1\n",
    "        k = len(nums)-1\n",
    "        result = []\n",
    "        for i in range(len(nums)):\n",
    "            if(i>0 and nums[i]==nums[i-1]):\n",
    "                continue\n",
    "            j = i+1\n",
    "            k = len(nums)-1\n",
    "            while(k>j):\n",
    "                s = nums[i]+nums[j]+nums[k]\n",
    "                if(s==0):\n",
    "                    result.append([nums[i],nums[j],nums[k]])\n",
    "                    j+=1\n",
    "                    k-=1\n",
    "                    while(j<k and nums[j]==nums[j-1]):\n",
    "                        j+=1\n",
    "                    while(j<k and nums[k]==nums[k+1]):\n",
    "                        k-=1\n",
    "                elif(s<0):\n",
    "                    j+=1\n",
    "                else:\n",
    "                    k-=1\n",
    "        return result\n",
    "    \n",
    "obj = Solution()\n",
    "print(obj.threeSum([-2,0,0,2,2]))"
   ]
  },
  {
   "cell_type": "markdown",
   "metadata": {},
   "source": [
    "20 (Revise) 4 sum"
   ]
  },
  {
   "cell_type": "code",
   "execution_count": 59,
   "metadata": {},
   "outputs": [
    {
     "name": "stdout",
     "output_type": "stream",
     "text": [
      "[[2, 2, 2, 2]]\n"
     ]
    }
   ],
   "source": [
    "class Solution:\n",
    "    def fourSum(self, nums: list[int], target: int) -> list[list[int]]:\n",
    "        nums.sort()\n",
    "        i = 0\n",
    "        j = i+1\n",
    "        k = len(nums)-1\n",
    "        result = []\n",
    "        for i in range(len(nums)):\n",
    "            if(i>0 and nums[i]==nums[i-1]):\n",
    "                continue\n",
    "            for j in range(i+1,len(nums)):\n",
    "                if(j>i+1 and nums[j]==nums[j-1]):\n",
    "                    continue\n",
    "                k = j+1\n",
    "                l = len(nums)-1\n",
    "                while(k<l):\n",
    "                    s = nums[i]+nums[j]+nums[k]+nums[l]\n",
    "                    if(s==target):\n",
    "                        result.append([nums[i],nums[j],nums[k],nums[l]])\n",
    "                        k+=1\n",
    "                        l-=1\n",
    "                        while(k<l and nums[k]==nums[k-1]):\n",
    "                            k+=1\n",
    "                        while(k<l and nums[l]==nums[l+1]):\n",
    "                            l-=1\n",
    "                    elif(s<target):\n",
    "                        k+=1\n",
    "                    else:\n",
    "                        l-=1\n",
    "        return result\n",
    "\n",
    "obj = Solution()\n",
    "print(obj.fourSum([2,2,2,2,2],8))"
   ]
  },
  {
   "cell_type": "markdown",
   "metadata": {},
   "source": [
    "21- Largest subarray with sum 0\n",
    "\n",
    "Similar to longest subarray with sum k"
   ]
  },
  {
   "cell_type": "code",
   "execution_count": 71,
   "metadata": {},
   "outputs": [
    {
     "name": "stdout",
     "output_type": "stream",
     "text": [
      "{1: 0, 0: 1}\n",
      "4\n"
     ]
    }
   ],
   "source": [
    "#Your task is to complete this function\n",
    "#Your should return the required output\n",
    "class Solution:\n",
    "    def maxLen(self, n, arr):\n",
    "        s = 0\n",
    "        prevSum = dict()\n",
    "        # prevSum[0]=1\n",
    "        maxResult = 0\n",
    "        for i in range(n):\n",
    "            s += arr[i]\n",
    "            if(s in prevSum):\n",
    "                result = i - prevSum[s]\n",
    "                maxResult = max(result, maxResult)\n",
    "            else:\n",
    "                prevSum[s] = i\n",
    "            if(s == 0):\n",
    "                maxResult = max(i+1, maxResult)\n",
    "        print(prevSum)\n",
    "        return maxResult\n",
    "\n",
    "obj = Solution()\n",
    "print(obj.maxLen(4,[1, -1,1,-1]))"
   ]
  },
  {
   "cell_type": "markdown",
   "metadata": {},
   "source": [
    "22- (Revise) Maximum product subarray"
   ]
  },
  {
   "cell_type": "code",
   "execution_count": null,
   "metadata": {},
   "outputs": [
    {
     "name": "stdout",
     "output_type": "stream",
     "text": [
      "4\n"
     ]
    }
   ],
   "source": [
    "class Solution:\n",
    "    def maxProduct(self, nums: list[int]) -> int:\n",
    "        mp = float('-inf')\n",
    "        product = 1\n",
    "        for i in range(len(nums)):\n",
    "            if(nums[i]==0):\n",
    "                mp = max(mp,0)\n",
    "                product = 1\n",
    "                continue\n",
    "            product = nums[i]*product\n",
    "            mp = max(product,mp)\n",
    "        product = 1\n",
    "        for i in range(len(nums)-1,-1,-1):\n",
    "                if(nums[i]==0):\n",
    "                    mp = max(mp,0)\n",
    "                    product = 1\n",
    "                    continue\n",
    "                product = nums[i]*product\n",
    "                mp = max(product,mp)\n",
    "        return mp\n",
    "            \n",
    "obj = Solution()\n",
    "print(obj.maxProduct([3,-2,4]))"
   ]
  },
  {
   "cell_type": "markdown",
   "metadata": {},
   "source": [
    "Above code uses 2 traversals"
   ]
  },
  {
   "cell_type": "code",
   "execution_count": 84,
   "metadata": {},
   "outputs": [
    {
     "name": "stdout",
     "output_type": "stream",
     "text": [
      "12\n"
     ]
    }
   ],
   "source": [
    "class Solution:\n",
    "    def maxProduct(self, nums: list[int]) -> int:\n",
    "        mp = float('-inf')\n",
    "        prefix = 1\n",
    "        suffix = 1\n",
    "        for i in range(len(nums)):\n",
    "            prefix = prefix*nums[i]\n",
    "            suffix = suffix*nums[len(nums)-1-i]\n",
    "            mp = max(max(prefix,suffix),mp)\n",
    "            if(prefix == 0):\n",
    "                prefix = 1\n",
    "            if(suffix == 0):\n",
    "                suffix = 1\n",
    "        return mp  \n",
    "            \n",
    "obj = Solution()\n",
    "print(obj.maxProduct([3,-2,-2,0,4]))"
   ]
  },
  {
   "cell_type": "markdown",
   "metadata": {},
   "source": [
    "23 (Revise) Count inversions"
   ]
  },
  {
   "cell_type": "code",
   "execution_count": 99,
   "metadata": {},
   "outputs": [
    {
     "name": "stdout",
     "output_type": "stream",
     "text": [
      "[5] [4] 0\n",
      "[3] [5] 0\n",
      "[1] [3, 5] 0\n",
      "[4, 5] [1, 3, 5] 1\n",
      "5\n"
     ]
    }
   ],
   "source": [
    "class Solution:\n",
    "    #User function Template for python3\n",
    "    #Function to count inversions in the array.\n",
    "    def inversionCount(self, arr):\n",
    "        def merge(l):\n",
    "            c = 0\n",
    "            if(len(l)>1):\n",
    "                mid = len(l)//2\n",
    "                left = l[:mid]\n",
    "                right = l[mid:]\n",
    "                c += merge(left) \n",
    "                c += merge(right)\n",
    "                print(left,right,c)\n",
    "                i = j = k = 0\n",
    "        \n",
    "                while i < len(left) and j < len(right):\n",
    "                    if left[i] <= right[j]:\n",
    "                        l[k] = left[i]\n",
    "                        i += 1\n",
    "                    else:\n",
    "                        c += len(left)-i\n",
    "                        l[k] = right[j]\n",
    "                        j += 1\n",
    "                    k += 1\n",
    "        \n",
    "                while i < len(left):\n",
    "                    l[k] = left[i]\n",
    "                    i += 1\n",
    "                    k += 1\n",
    "        \n",
    "                while j < len(right):\n",
    "                    l[k] = right[j]\n",
    "                    j += 1\n",
    "                    k += 1\n",
    "            return c\n",
    "        return merge(arr)\n",
    "\n",
    "obj = Solution()\n",
    "print(obj.inversionCount([5,4,1,3,5]))"
   ]
  },
  {
   "cell_type": "markdown",
   "metadata": {},
   "source": [
    "24 (revise) Merge intervals"
   ]
  },
  {
   "cell_type": "code",
   "execution_count": 15,
   "metadata": {},
   "outputs": [
    {
     "name": "stdout",
     "output_type": "stream",
     "text": [
      "[[0, 5]]\n"
     ]
    }
   ],
   "source": [
    "class Solution:\n",
    "    def merge(self, arr: list[list[int]]) -> list[list[int]]:\n",
    "        if not arr:\n",
    "            return []\n",
    "\n",
    "        arr.sort(key=lambda x: x[0])\n",
    "        result = [arr[0]]\n",
    "\n",
    "        for i in range(1, len(arr)):\n",
    "            prev = result[-1]\n",
    "            curr = arr[i]\n",
    "\n",
    "            if curr[0] <= prev[1]:  # overlap condition\n",
    "                # merge intervals\n",
    "                prev[1] = max(prev[1], curr[1])\n",
    "            else:\n",
    "                result.append(curr)\n",
    "\n",
    "        return result\n",
    "    \n",
    "obj = Solution()\n",
    "print(obj.merge([[1,4],[0,2],[3,5]]))"
   ]
  },
  {
   "cell_type": "markdown",
   "metadata": {},
   "source": [
    "25 (Revise) Repeating and missing "
   ]
  },
  {
   "cell_type": "code",
   "execution_count": null,
   "metadata": {},
   "outputs": [
    {
     "name": "stdout",
     "output_type": "stream",
     "text": [
      "[0, 0, 1]\n",
      "[2, 1]\n"
     ]
    }
   ],
   "source": [
    "\n",
    "# space complexity is O(n) but ideal is O(1)\n",
    "class Solution:\n",
    "    def findTwoElement( self,arr): \n",
    "        result = [0]*(len(arr)+1)\n",
    "        repeating = 0\n",
    "        missing = 0\n",
    "        for i in range(len(arr)):\n",
    "            if(result[arr[i]]==0):\n",
    "                result[arr[i]]=1\n",
    "            else:\n",
    "                repeating = arr[i]\n",
    "        print(result)\n",
    "        for i in range(1,len(arr)+1):\n",
    "            if(result[i]==0):\n",
    "                missing = i\n",
    "        return [repeating,missing]\n",
    "    \n",
    "obj = Solution()\n",
    "print(obj.findTwoElement([2,2]))"
   ]
  },
  {
   "cell_type": "markdown",
   "metadata": {},
   "source": [
    "space complexity  - O(1)"
   ]
  },
  {
   "cell_type": "code",
   "execution_count": null,
   "metadata": {},
   "outputs": [],
   "source": [
    "class Solution:\n",
    "    def findTwoElement( self,arr): \n",
    "        n = len(arr)\n",
    "        repeating = -1\n",
    "        missing = -1\n",
    "        for i in range(n):\n",
    "            # print(arr)\n",
    "            ele = abs(arr[i])\n",
    "            if(arr[ele-1]<0):\n",
    "                repeating = ele\n",
    "            else:\n",
    "                arr[ele-1] = -arr[ele-1]\n",
    "        for i in range(n):\n",
    "            if(arr[i]>0):\n",
    "                missing = i+1\n",
    "        return [repeating, missing]"
   ]
  },
  {
   "cell_type": "markdown",
   "metadata": {},
   "source": [
    "26 (Revise) Count no of subarrays with given xor k"
   ]
  },
  {
   "cell_type": "code",
   "execution_count": 18,
   "metadata": {},
   "outputs": [
    {
     "name": "stdout",
     "output_type": "stream",
     "text": [
      "4\n"
     ]
    }
   ],
   "source": [
    "class Solution:\n",
    "    def solve(self, A, B):\n",
    "        prefix = dict()\n",
    "        prefix[0]=1\n",
    "        cnt = 0\n",
    "        txor = 0\n",
    "        for i in range(len(A)):\n",
    "            txor = txor^A[i]\n",
    "            # print(txor,txor^B,prefix)\n",
    "            if(txor^B in prefix):\n",
    "                cnt+=prefix[txor^B]\n",
    "                # print(cnt)\n",
    "            prefix[txor] = prefix.get(txor,0) + 1\n",
    "        # print(prefix)\n",
    "        return cnt\n",
    "\n",
    "obj = Solution()\n",
    "print(obj.solve([4,2,2,6,4],6))"
   ]
  },
  {
   "cell_type": "markdown",
   "metadata": {},
   "source": [
    "27 (revise) Reverse pairs"
   ]
  },
  {
   "cell_type": "code",
   "execution_count": null,
   "metadata": {},
   "outputs": [
    {
     "name": "stdout",
     "output_type": "stream",
     "text": [
      "[2] [4]\n",
      "[5] [1]\n",
      "[3] [1, 5]\n",
      "[2, 4] [1, 3, 5]\n",
      "3\n"
     ]
    }
   ],
   "source": [
    "class Solution:\n",
    "    def reversePairs(self, nums: list[int]) -> int:\n",
    "        def merge(nums):\n",
    "            cnt = 0\n",
    "            if(len(nums)>1):\n",
    "                mid = len(nums)//2\n",
    "                left = nums[:mid]\n",
    "                right = nums[mid:]\n",
    "                cnt += merge(left)\n",
    "                cnt += merge(right)\n",
    "                i = j = k = b = 0\n",
    "                for a in range(len(left)):\n",
    "                    while(b < len(right) and left[a]>2*right[b]):\n",
    "                        b+=1\n",
    "                    cnt = cnt + (b - 0)\n",
    "                while(i < len(left) and j < len(right)):\n",
    "                    if(left[i]<=right[j]):\n",
    "                        nums[k]=left[i]\n",
    "                        i+=1\n",
    "                        k+=1\n",
    "                    else:\n",
    "                        nums[k]=right[j]\n",
    "                        j+=1\n",
    "                        k+=1\n",
    "                while(i<len(left)):\n",
    "                    nums[k]=left[i]\n",
    "                    i+=1\n",
    "                    k+=1\n",
    "                while(j<len(right)):\n",
    "                    nums[k]=right[j]\n",
    "                    j+=1\n",
    "                    k+=1\n",
    "            return cnt\n",
    "        return merge(nums)\n",
    "                \n",
    "\n",
    "obj = Solution()\n",
    "print(obj.reversePairs([2,4,3,5,1]))\n",
    "\n",
    "            "
   ]
  },
  {
   "cell_type": "markdown",
   "metadata": {},
   "source": [
    "28 Product of Array Except Self\n",
    "\n",
    "https://www.geeksforgeeks.org/a-product-array-puzzle/\n"
   ]
  },
  {
   "cell_type": "markdown",
   "metadata": {},
   "source": [
    "29 Container with most water"
   ]
  },
  {
   "cell_type": "code",
   "execution_count": null,
   "metadata": {},
   "outputs": [],
   "source": [
    "\n",
    "class Solution:\n",
    "    def maxWater(self, arr):\n",
    "       l = 0\n",
    "       r = len(arr)-1\n",
    "       maxV = 0\n",
    "       while(l<=r):\n",
    "           h = min(arr[l],arr[r])\n",
    "           w = r-l\n",
    "           v = h*w\n",
    "           maxV = max(maxV,v)\n",
    "           if(arr[l]<arr[r]):\n",
    "               l+=1\n",
    "           else:\n",
    "               r-=1\n",
    "       return maxV"
   ]
  },
  {
   "cell_type": "markdown",
   "metadata": {},
   "source": [
    "30 Factorial of a large number (store in array)"
   ]
  },
  {
   "cell_type": "markdown",
   "metadata": {},
   "source": [
    "31 Trapping rain water\n",
    "\n",
    "https://www.geeksforgeeks.org/trapping-rain-water/\n",
    "\n"
   ]
  },
  {
   "cell_type": "code",
   "execution_count": null,
   "metadata": {},
   "outputs": [],
   "source": [
    "class Solution:\n",
    "    def maxWater(self, arr):\n",
    "        x = -1\n",
    "        y = -1\n",
    "        v = 0\n",
    "        l = 0\n",
    "        r = 0\n",
    "        for i in range(1,len(arr)-1):\n",
    "            li = i-1\n",
    "            ri = i+1\n",
    "            l = r = 0\n",
    "            while(li >=0):\n",
    "                if(arr[li]>l):\n",
    "                    l = arr[li]\n",
    "                    x = li\n",
    "                li-=1\n",
    "            while(ri < len(arr)):\n",
    "                if(arr[ri]>r):\n",
    "                    r = arr[ri]\n",
    "                    y = ri\n",
    "                ri+=1\n",
    "            # print(l,r)\n",
    "            h = min(l,r)\n",
    "            if(arr[i]<h):\n",
    "                v+=(h-arr[i])\n",
    "            # print('i=',i,'h=',h,'v=',v)\n",
    "        return v"
   ]
  },
  {
   "cell_type": "markdown",
   "metadata": {},
   "source": [
    "32 Chocolate Distribution Program\n",
    "\n",
    "https://www.geeksforgeeks.org/chocolate-distribution-problem/"
   ]
  },
  {
   "cell_type": "markdown",
   "metadata": {},
   "source": [
    "33 Search Word in a 2D array\n",
    "\n",
    "https://www.geeksforgeeks.org/search-a-word-in-a-2d-grid-of-characters/\n"
   ]
  },
  {
   "cell_type": "markdown",
   "metadata": {},
   "source": []
  },
  {
   "cell_type": "markdown",
   "metadata": {},
   "source": []
  }
 ],
 "metadata": {
  "kernelspec": {
   "display_name": "Python 3",
   "language": "python",
   "name": "python3"
  },
  "language_info": {
   "codemirror_mode": {
    "name": "ipython",
    "version": 3
   },
   "file_extension": ".py",
   "mimetype": "text/x-python",
   "name": "python",
   "nbconvert_exporter": "python",
   "pygments_lexer": "ipython3",
   "version": "3.10.5"
  }
 },
 "nbformat": 4,
 "nbformat_minor": 2
}
