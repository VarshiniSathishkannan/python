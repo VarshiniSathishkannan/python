{
 "cells": [
  {
   "cell_type": "markdown",
   "metadata": {},
   "source": [
    "Second largest element"
   ]
  },
  {
   "cell_type": "code",
   "execution_count": 2,
   "metadata": {},
   "outputs": [
    {
     "name": "stdout",
     "output_type": "stream",
     "text": [
      "-1\n"
     ]
    }
   ],
   "source": [
    "class Solution:\n",
    "    def getSecondLargest(self, arr):\n",
    "        for i in range(len(arr)):\n",
    "            for j in range(len(arr)-1-i):\n",
    "                if(arr[j]>arr[j+1]):\n",
    "                    arr[j],arr[j+1]=arr[j+1],arr[j]\n",
    "        i = len(arr)-1\n",
    "        while(i>0):\n",
    "            if(arr[i]==arr[i-1]):\n",
    "                i = i-1\n",
    "            else:\n",
    "                return arr[i-1]\n",
    "        else:\n",
    "            return -1\n",
    "\n",
    "result = Solution()\n",
    "print(result.getSecondLargest([10,10]))"
   ]
  },
  {
   "cell_type": "code",
   "execution_count": 4,
   "metadata": {},
   "outputs": [
    {
     "name": "stdout",
     "output_type": "stream",
     "text": [
      "5\n"
     ]
    }
   ],
   "source": [
    "class Solution:\n",
    "    def getSecondLargest(self, arr):\n",
    "        first = -1\n",
    "        second = -1\n",
    "        for i in range(len(arr)):\n",
    "            if(arr[i]>first):\n",
    "                second = first\n",
    "                first = arr[i]\n",
    "            else:\n",
    "                if(arr[i]>second and first!=arr[i]):\n",
    "                    second = arr[i]\n",
    "        return second\n",
    "\n",
    "result = Solution()\n",
    "print(result.getSecondLargest([10,5,10]))"
   ]
  },
  {
   "cell_type": "markdown",
   "metadata": {},
   "source": [
    "Check if array is sorted and rotated"
   ]
  },
  {
   "cell_type": "code",
   "execution_count": null,
   "metadata": {},
   "outputs": [],
   "source": [
    "class Solution:\n",
    "    def check(self, nums: List[int]) -> bool:\n",
    "        l = 0\n",
    "        r = 1\n",
    "        flag = 0\n",
    "        while(r<len(nums)):\n",
    "            if(nums[r]<nums[r-1]):\n",
    "                if(flag):\n",
    "                    return False\n",
    "                if(nums[r]>nums[l]):\n",
    "                    return False\n",
    "                flag = 1\n",
    "        else:\n",
    "            return True\n"
   ]
  }
 ],
 "metadata": {
  "kernelspec": {
   "display_name": "Python 3",
   "language": "python",
   "name": "python3"
  },
  "language_info": {
   "codemirror_mode": {
    "name": "ipython",
    "version": 3
   },
   "file_extension": ".py",
   "mimetype": "text/x-python",
   "name": "python",
   "nbconvert_exporter": "python",
   "pygments_lexer": "ipython3",
   "version": "3.10.5"
  }
 },
 "nbformat": 4,
 "nbformat_minor": 2
}
