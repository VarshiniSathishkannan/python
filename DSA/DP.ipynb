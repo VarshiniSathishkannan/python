{
 "cells": [
  {
   "cell_type": "markdown",
   "metadata": {},
   "source": [
    "Dynamic Programming:\n",
    "\n",
    "1. recursion\n",
    "2. memoization - Storing recursive function calls\n",
    "3. tabulation or bottom up approach\n",
    "4. tabulation with space optimisation\n"
   ]
  },
  {
   "cell_type": "markdown",
   "metadata": {},
   "source": [
    "Fibonacci series"
   ]
  },
  {
   "cell_type": "markdown",
   "metadata": {},
   "source": [
    "Climbing stairs"
   ]
  },
  {
   "cell_type": "markdown",
   "metadata": {},
   "source": [
    "frog jump"
   ]
  },
  {
   "cell_type": "code",
   "execution_count": 9,
   "metadata": {},
   "outputs": [
    {
     "name": "stdout",
     "output_type": "stream",
     "text": [
      "40\n"
     ]
    }
   ],
   "source": [
    "def solution(n:int,energy:list[int]):\n",
    "    def recursion(n):\n",
    "        if n == 0:\n",
    "            return 0\n",
    "        minus1 = recursion(n-1) + abs(energy[n]-energy[n-1])\n",
    "        if(n>1):\n",
    "            minus2 = recursion(n-2) + abs(energy[n]-energy[n-2])\n",
    "        else:\n",
    "            minus2 = energy[n]\n",
    "        return min(minus1,minus2)\n",
    "    print(recursion(n))\n",
    "\n",
    "\n",
    "solution(5,[30,10,60,10,60,50])"
   ]
  },
  {
   "cell_type": "code",
   "execution_count": 19,
   "metadata": {},
   "outputs": [
    {
     "name": "stdout",
     "output_type": "stream",
     "text": [
      "10\n",
      "[0, 0, 30, 0, 0, 10]\n"
     ]
    }
   ],
   "source": [
    "def solution(n:int,energy:list[int]):\n",
    "    dp = [0]*(n+1)\n",
    "    def recursion(n):\n",
    "        if n == 0:\n",
    "            return 0\n",
    "        if(dp[n]):\n",
    "            return dp[n]\n",
    "        minus1 = recursion(n-1) + abs(energy[n]-energy[n-1])\n",
    "        if(n>1):\n",
    "            minus2 = recursion(n-2) + abs(energy[n]-energy[n-2])\n",
    "        else:\n",
    "            minus2 = energy[n]\n",
    "        dp[n] = min(minus1,minus2)\n",
    "        return dp[n]\n",
    "    print(recursion(n))\n",
    "    print(dp)\n",
    "\n",
    "\n",
    "\n",
    "solution(5,[30,30,60,30,30,40])"
   ]
  },
  {
   "cell_type": "code",
   "execution_count": 23,
   "metadata": {},
   "outputs": [
    {
     "name": "stdout",
     "output_type": "stream",
     "text": [
      "10\n"
     ]
    }
   ],
   "source": [
    "def solution(n:int,energy:list[int]):\n",
    "    dp = [0]*(n+1)\n",
    "    for i in range(1,n+1):\n",
    "        minus1 = dp[i-1] + abs(energy[i]-energy[i-1])\n",
    "        minus2 = float('+inf')\n",
    "        if(i>1): \n",
    "            minus2 = dp[i-2] + abs(energy[i]-energy[i-2])\n",
    "        dp[i] = min(minus1,minus2)\n",
    "    print(dp[n])\n",
    "        \n",
    "solution(5,[30,30,60,30,30,40])"
   ]
  },
  {
   "cell_type": "code",
   "execution_count": 28,
   "metadata": {},
   "outputs": [
    {
     "name": "stdout",
     "output_type": "stream",
     "text": [
      "10\n"
     ]
    }
   ],
   "source": [
    "def solution(n:int,energy:list[int]):\n",
    "    prev1 = 0\n",
    "    prev2 = 0\n",
    "    for i in range(1,n+1):\n",
    "        minus1 = prev1 + abs(energy[i]-energy[i-1])\n",
    "        minus2 = float('+inf')\n",
    "        if(i>1): \n",
    "            minus2 = prev2 + abs(energy[i]-energy[i-2])\n",
    "        curr = min(minus1,minus2)\n",
    "        prev2 = prev1\n",
    "        prev1 = curr\n",
    "    print(curr)\n",
    "        \n",
    "solution(5,[30,30,60,30,30,40])"
   ]
  },
  {
   "cell_type": "markdown",
   "metadata": {},
   "source": [
    "frog jump - K jumps"
   ]
  },
  {
   "cell_type": "code",
   "execution_count": 27,
   "metadata": {},
   "outputs": [
    {
     "ename": "TypeError",
     "evalue": "'function' object is not subscriptable",
     "output_type": "error",
     "traceback": [
      "\u001b[1;31m---------------------------------------------------------------------------\u001b[0m",
      "\u001b[1;31mTypeError\u001b[0m                                 Traceback (most recent call last)",
      "Cell \u001b[1;32mIn[27], line 11\u001b[0m\n\u001b[0;32m      7\u001b[0m         \u001b[38;5;28;01mreturn\u001b[39;00m \u001b[38;5;28mmin\u001b[39m(minus1,rest)\n\u001b[0;32m      8\u001b[0m     \u001b[38;5;28mprint\u001b[39m(recursion(n))\n\u001b[1;32m---> 11\u001b[0m \u001b[43msolution\u001b[49m\u001b[43m(\u001b[49m\u001b[38;5;241;43m5\u001b[39;49m\u001b[43m,\u001b[49m\u001b[43m[\u001b[49m\u001b[38;5;241;43m30\u001b[39;49m\u001b[43m,\u001b[49m\u001b[38;5;241;43m10\u001b[39;49m\u001b[43m,\u001b[49m\u001b[38;5;241;43m60\u001b[39;49m\u001b[43m,\u001b[49m\u001b[38;5;241;43m10\u001b[39;49m\u001b[43m,\u001b[49m\u001b[38;5;241;43m60\u001b[39;49m\u001b[43m,\u001b[49m\u001b[38;5;241;43m50\u001b[39;49m\u001b[43m]\u001b[49m\u001b[43m)\u001b[49m\n",
      "Cell \u001b[1;32mIn[27], line 8\u001b[0m, in \u001b[0;36msolution\u001b[1;34m(n, energy)\u001b[0m\n\u001b[0;32m      6\u001b[0m     rest \u001b[38;5;241m=\u001b[39m recursion[n\u001b[38;5;241m-\u001b[39m\u001b[38;5;241m2\u001b[39m]\n\u001b[0;32m      7\u001b[0m     \u001b[38;5;28;01mreturn\u001b[39;00m \u001b[38;5;28mmin\u001b[39m(minus1,rest)\n\u001b[1;32m----> 8\u001b[0m \u001b[38;5;28mprint\u001b[39m(\u001b[43mrecursion\u001b[49m\u001b[43m(\u001b[49m\u001b[43mn\u001b[49m\u001b[43m)\u001b[49m)\n",
      "Cell \u001b[1;32mIn[27], line 5\u001b[0m, in \u001b[0;36msolution.<locals>.recursion\u001b[1;34m(n)\u001b[0m\n\u001b[0;32m      3\u001b[0m \u001b[38;5;28;01mif\u001b[39;00m n \u001b[38;5;241m==\u001b[39m \u001b[38;5;241m0\u001b[39m:\n\u001b[0;32m      4\u001b[0m     \u001b[38;5;28;01mreturn\u001b[39;00m \u001b[38;5;241m0\u001b[39m\n\u001b[1;32m----> 5\u001b[0m minus1 \u001b[38;5;241m=\u001b[39m \u001b[43mrecursion\u001b[49m\u001b[43m[\u001b[49m\u001b[43mn\u001b[49m\u001b[38;5;241;43m-\u001b[39;49m\u001b[38;5;241;43m1\u001b[39;49m\u001b[43m]\u001b[49m \u001b[38;5;241m+\u001b[39m \u001b[38;5;28mabs\u001b[39m(energy[n]\u001b[38;5;241m-\u001b[39menergy[n\u001b[38;5;241m-\u001b[39m\u001b[38;5;241m1\u001b[39m])\n\u001b[0;32m      6\u001b[0m rest \u001b[38;5;241m=\u001b[39m recursion[n\u001b[38;5;241m-\u001b[39m\u001b[38;5;241m2\u001b[39m]\n\u001b[0;32m      7\u001b[0m \u001b[38;5;28;01mreturn\u001b[39;00m \u001b[38;5;28mmin\u001b[39m(minus1,rest)\n",
      "\u001b[1;31mTypeError\u001b[0m: 'function' object is not subscriptable"
     ]
    }
   ],
   "source": [
    "def solution(n:int,energy:list[int]):\n",
    "    def recursion(n):\n",
    "        if n == 0:\n",
    "            return 0\n",
    "        minus1 = recursion[n-1] + abs(energy[n]-energy[n-1])\n",
    "        rest = recursion[n-2]\n",
    "        return min(minus1,rest)\n",
    "    print(recursion(n))\n",
    "\n",
    "\n",
    "solution(5,[30,10,60,10,60,50])"
   ]
  }
 ],
 "metadata": {
  "kernelspec": {
   "display_name": "Python 3",
   "language": "python",
   "name": "python3"
  },
  "language_info": {
   "codemirror_mode": {
    "name": "ipython",
    "version": 3
   },
   "file_extension": ".py",
   "mimetype": "text/x-python",
   "name": "python",
   "nbconvert_exporter": "python",
   "pygments_lexer": "ipython3",
   "version": "3.10.5"
  }
 },
 "nbformat": 4,
 "nbformat_minor": 2
}
