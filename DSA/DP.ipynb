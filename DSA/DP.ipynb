{
 "cells": [
  {
   "cell_type": "markdown",
   "metadata": {},
   "source": [
    "Dynamic Programming:\n",
    "\n",
    "1. recursion\n",
    "2. memoization - Storing recursive function calls\n",
    "3. tabulation or bottom up approach\n",
    "4. tabulation with space optimisation\n"
   ]
  },
  {
   "cell_type": "markdown",
   "metadata": {},
   "source": [
    "1- Fibonacci series"
   ]
  },
  {
   "cell_type": "markdown",
   "metadata": {},
   "source": [
    "2- Climbing stairs"
   ]
  },
  {
   "cell_type": "markdown",
   "metadata": {},
   "source": [
    "3- frog jump\n",
    "\n",
    "Minimum energy spent while reaching the nth stair, It can jump either 1step or 2 step. "
   ]
  },
  {
   "cell_type": "code",
   "execution_count": 9,
   "metadata": {},
   "outputs": [
    {
     "name": "stdout",
     "output_type": "stream",
     "text": [
      "40\n"
     ]
    }
   ],
   "source": [
    "#Recursion\n",
    "\n",
    "def solution(n:int,energy:list[int]):\n",
    "    def recursion(n):\n",
    "        if n == 0:\n",
    "            return 0\n",
    "        minus1 = recursion(n-1) + abs(energy[n]-energy[n-1])\n",
    "        if(n>1):\n",
    "            minus2 = recursion(n-2) + abs(energy[n]-energy[n-2])\n",
    "        else:\n",
    "            minus2 = energy[n]\n",
    "        return min(minus1,minus2)\n",
    "    print(recursion(n))\n",
    "\n",
    "\n",
    "solution(5,[30,10,60,10,60,50])"
   ]
  },
  {
   "cell_type": "code",
   "execution_count": 19,
   "metadata": {},
   "outputs": [
    {
     "name": "stdout",
     "output_type": "stream",
     "text": [
      "10\n",
      "[0, 0, 30, 0, 0, 10]\n"
     ]
    }
   ],
   "source": [
    "# Memoization\n",
    "\n",
    "def solution(n:int,energy:list[int]):\n",
    "    dp = [0]*(n+1)\n",
    "    def recursion(n):\n",
    "        if n == 0:\n",
    "            return 0\n",
    "        if(dp[n]):\n",
    "            return dp[n]\n",
    "        minus1 = recursion(n-1) + abs(energy[n]-energy[n-1])\n",
    "        if(n>1):\n",
    "            minus2 = recursion(n-2) + abs(energy[n]-energy[n-2])\n",
    "        else:\n",
    "            minus2 = energy[n]\n",
    "        dp[n] = min(minus1,minus2)\n",
    "        return dp[n]\n",
    "    print(recursion(n))\n",
    "    print(dp)\n",
    "\n",
    "\n",
    "\n",
    "solution(5,[30,30,60,30,30,40])"
   ]
  },
  {
   "cell_type": "code",
   "execution_count": 23,
   "metadata": {},
   "outputs": [
    {
     "name": "stdout",
     "output_type": "stream",
     "text": [
      "10\n"
     ]
    }
   ],
   "source": [
    "#Tabulation\n",
    "\n",
    "def solution(n:int,energy:list[int]):\n",
    "    dp = [0]*(n+1)\n",
    "    for i in range(1,n+1):\n",
    "        minus1 = dp[i-1] + abs(energy[i]-energy[i-1])\n",
    "        minus2 = float('+inf')\n",
    "        if(i>1): \n",
    "            minus2 = dp[i-2] + abs(energy[i]-energy[i-2])\n",
    "        dp[i] = min(minus1,minus2)\n",
    "    print(dp[n])\n",
    "        \n",
    "solution(5,[30,30,60,30,30,40])"
   ]
  },
  {
   "cell_type": "code",
   "execution_count": 28,
   "metadata": {},
   "outputs": [
    {
     "name": "stdout",
     "output_type": "stream",
     "text": [
      "10\n"
     ]
    }
   ],
   "source": [
    "#tabulation with space optimized\n",
    "\n",
    "def solution(n:int,energy:list[int]):\n",
    "    prev1 = 0\n",
    "    prev2 = 0\n",
    "    for i in range(1,n+1):\n",
    "        minus1 = prev1 + abs(energy[i]-energy[i-1])\n",
    "        minus2 = float('+inf')\n",
    "        if(i>1): \n",
    "            minus2 = prev2 + abs(energy[i]-energy[i-2])\n",
    "        curr = min(minus1,minus2)\n",
    "        prev2 = prev1\n",
    "        prev1 = curr\n",
    "    print(curr)\n",
    "        \n",
    "solution(5,[30,30,60,30,30,40])"
   ]
  },
  {
   "cell_type": "markdown",
   "metadata": {},
   "source": [
    "4- frog jump - K jumps"
   ]
  },
  {
   "cell_type": "code",
   "execution_count": 2,
   "metadata": {},
   "outputs": [
    {
     "name": "stdout",
     "output_type": "stream",
     "text": [
      "40\n"
     ]
    }
   ],
   "source": [
    "#recursion\n",
    "\n",
    "def solution(n:int,energy:list[int],k):\n",
    "    def recursion(n):\n",
    "        if n <= 0:\n",
    "            return 0\n",
    "        minimum = float('+inf')\n",
    "        for i in range(1,k+1):\n",
    "            if(n-i>=0):\n",
    "                minus1 = recursion(n-i) + abs(energy[n]-energy[n-i])\n",
    "                minimum = min(minimum, minus1)\n",
    "        \n",
    "        return minimum\n",
    "    print(recursion(n))\n",
    "\n",
    "\n",
    "solution(5,[30,10,60,10,60,50],3)"
   ]
  },
  {
   "cell_type": "markdown",
   "metadata": {},
   "source": [
    "5- Maximum sum of non adjacent elements\n",
    "\n",
    "time complexity - O(2^n)"
   ]
  },
  {
   "cell_type": "code",
   "execution_count": 1,
   "metadata": {},
   "outputs": [
    {
     "name": "stdout",
     "output_type": "stream",
     "text": [
      "19\n"
     ]
    }
   ],
   "source": [
    "arr = [1,5,8,2,9,10]\n",
    "n = len(arr)\n",
    "maxs = 0\n",
    "s = 0\n",
    "def maxSum(arr,i):\n",
    "    if(i==0):\n",
    "        return arr[0]\n",
    "    if(i<0):\n",
    "        return 0\n",
    "    pick = arr[i] + maxSum(arr,i-2)\n",
    "    npick = maxSum(arr,i-1)\n",
    "    return max(pick,npick)\n",
    "print(maxSum(arr,n-1))     "
   ]
  },
  {
   "cell_type": "markdown",
   "metadata": {},
   "source": [
    "6- House robber - 2\n",
    "\n",
    "same as above but last house is adjacent to the first house"
   ]
  },
  {
   "cell_type": "code",
   "execution_count": 13,
   "metadata": {},
   "outputs": [
    {
     "name": "stdout",
     "output_type": "stream",
     "text": [
      "23\n",
      "[1, 5, 8, 2, 9, 10]\n",
      "19\n",
      "[5, 8, 2, 9, 10, 5]\n",
      "22\n"
     ]
    }
   ],
   "source": [
    "arr = [1,5,8,2,9,10,5]\n",
    "n = len(arr)\n",
    "maxs = 0\n",
    "s = 0\n",
    "def maxSum(arr,i):\n",
    "    if(i==0):\n",
    "        return arr[0]\n",
    "    if(i<0):\n",
    "        return 0\n",
    "    pick = arr[i] + maxSum(arr,i-2)\n",
    "    npick = maxSum(arr,i-1)\n",
    "    return max(pick,npick)\n",
    "print(maxSum(arr,n-1))\n",
    "first = arr[:n-1]\n",
    "print(first)\n",
    "print(maxSum(first,len(first)-1))\n",
    "last = arr[1:]\n",
    "print(last)\n",
    "print(maxSum(last,len(last)-1)) "
   ]
  },
  {
   "cell_type": "markdown",
   "metadata": {},
   "source": [
    "7- Ninja training\n",
    "\n",
    "3 tasks with 3 merit points where the ninja cannot perform the same task on consecutive days. Find the maximum points the ninja can earn on N days"
   ]
  },
  {
   "cell_type": "code",
   "execution_count": 64,
   "metadata": {},
   "outputs": [
    {
     "name": "stdout",
     "output_type": "stream",
     "text": [
      "[860]\n"
     ]
    }
   ],
   "source": [
    "arr = [[10,50,1],[100,200,300],[500,510,10]]\n",
    "n = len(arr)\n",
    "points = [0]\n",
    "def ninja(arr,i,j,s,points):\n",
    "    if(i == n):\n",
    "        return\n",
    "    for k in range(3):\n",
    "        if(j != k):\n",
    "            s = s+arr[i][k]\n",
    "            # print(f\"s={s}\")\n",
    "            points[0] = max(points[0],s)\n",
    "            # print(f\"points = {points}\")\n",
    "            ninja(arr,i+1,k,s,points)\n",
    "            s = s-arr[i][k]\n",
    "    return points\n",
    "\n",
    "print(ninja(arr,0,-1,0,points))\n"
   ]
  },
  {
   "cell_type": "code",
   "execution_count": 72,
   "metadata": {},
   "outputs": [
    {
     "name": "stdout",
     "output_type": "stream",
     "text": [
      "[860]\n"
     ]
    }
   ],
   "source": [
    "arr = [[10,50,1],[100,200,300],[500,510,10]]\n",
    "n = len(arr)\n",
    "points = [0]\n",
    "def ninja(arr,i,j,s,points):\n",
    "    if(i == n):\n",
    "        return\n",
    "    for k in range(3):\n",
    "        if(j != k):\n",
    "            s = s+arr[i][k]\n",
    "            # print(f\"s={s}\")\n",
    "            points[0] = max(points[0],s)\n",
    "            # print(f\"points = {points}\")\n",
    "            ninja(arr,i+1,k,s,points)\n",
    "            s = s-arr[i][k]\n",
    "    return points\n",
    "\n",
    "print(ninja(arr,0,-1,0,points))\n"
   ]
  },
  {
   "cell_type": "code",
   "execution_count": 55,
   "metadata": {},
   "outputs": [
    {
     "name": "stdout",
     "output_type": "stream",
     "text": [
      "0\n",
      "[1, 9, 3] 0\n"
     ]
    }
   ],
   "source": [
    "arr = [1,2,3]\n",
    "a = 0\n",
    "def func():\n",
    "    print(a)\n",
    "    arr[1] = 9\n",
    "    \n",
    "\n",
    "func()\n",
    "print(arr,a)"
   ]
  }
 ],
 "metadata": {
  "kernelspec": {
   "display_name": "Python 3",
   "language": "python",
   "name": "python3"
  },
  "language_info": {
   "codemirror_mode": {
    "name": "ipython",
    "version": 3
   },
   "file_extension": ".py",
   "mimetype": "text/x-python",
   "name": "python",
   "nbconvert_exporter": "python",
   "pygments_lexer": "ipython3",
   "version": "3.10.5"
  }
 },
 "nbformat": 4,
 "nbformat_minor": 2
}
