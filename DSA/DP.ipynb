{
 "cells": [
  {
   "cell_type": "markdown",
   "metadata": {},
   "source": [
    "Dynamic Programming:\n",
    "\n",
    "1. recursion\n",
    "2. memoization - Storing recursive function calls\n",
    "3. tabulation or bottom up approach\n",
    "4. tabulation with space optimisation\n"
   ]
  },
  {
   "cell_type": "markdown",
   "metadata": {},
   "source": [
    "Fibonacci series"
   ]
  },
  {
   "cell_type": "markdown",
   "metadata": {},
   "source": [
    "Climbing stairs"
   ]
  },
  {
   "cell_type": "markdown",
   "metadata": {},
   "source": [
    "frog jump\n",
    "\n",
    "Minimum energy spent while reaching the nth stair, It can jump either 1step or 2 step. "
   ]
  },
  {
   "cell_type": "code",
   "execution_count": 9,
   "metadata": {},
   "outputs": [
    {
     "name": "stdout",
     "output_type": "stream",
     "text": [
      "40\n"
     ]
    }
   ],
   "source": [
    "#Recursion\n",
    "\n",
    "def solution(n:int,energy:list[int]):\n",
    "    def recursion(n):\n",
    "        if n == 0:\n",
    "            return 0\n",
    "        minus1 = recursion(n-1) + abs(energy[n]-energy[n-1])\n",
    "        if(n>1):\n",
    "            minus2 = recursion(n-2) + abs(energy[n]-energy[n-2])\n",
    "        else:\n",
    "            minus2 = energy[n]\n",
    "        return min(minus1,minus2)\n",
    "    print(recursion(n))\n",
    "\n",
    "\n",
    "solution(5,[30,10,60,10,60,50])"
   ]
  },
  {
   "cell_type": "code",
   "execution_count": 19,
   "metadata": {},
   "outputs": [
    {
     "name": "stdout",
     "output_type": "stream",
     "text": [
      "10\n",
      "[0, 0, 30, 0, 0, 10]\n"
     ]
    }
   ],
   "source": [
    "# Memoization\n",
    "\n",
    "def solution(n:int,energy:list[int]):\n",
    "    dp = [0]*(n+1)\n",
    "    def recursion(n):\n",
    "        if n == 0:\n",
    "            return 0\n",
    "        if(dp[n]):\n",
    "            return dp[n]\n",
    "        minus1 = recursion(n-1) + abs(energy[n]-energy[n-1])\n",
    "        if(n>1):\n",
    "            minus2 = recursion(n-2) + abs(energy[n]-energy[n-2])\n",
    "        else:\n",
    "            minus2 = energy[n]\n",
    "        dp[n] = min(minus1,minus2)\n",
    "        return dp[n]\n",
    "    print(recursion(n))\n",
    "    print(dp)\n",
    "\n",
    "\n",
    "\n",
    "solution(5,[30,30,60,30,30,40])"
   ]
  },
  {
   "cell_type": "code",
   "execution_count": 23,
   "metadata": {},
   "outputs": [
    {
     "name": "stdout",
     "output_type": "stream",
     "text": [
      "10\n"
     ]
    }
   ],
   "source": [
    "#Tabulation\n",
    "\n",
    "def solution(n:int,energy:list[int]):\n",
    "    dp = [0]*(n+1)\n",
    "    for i in range(1,n+1):\n",
    "        minus1 = dp[i-1] + abs(energy[i]-energy[i-1])\n",
    "        minus2 = float('+inf')\n",
    "        if(i>1): \n",
    "            minus2 = dp[i-2] + abs(energy[i]-energy[i-2])\n",
    "        dp[i] = min(minus1,minus2)\n",
    "    print(dp[n])\n",
    "        \n",
    "solution(5,[30,30,60,30,30,40])"
   ]
  },
  {
   "cell_type": "code",
   "execution_count": 28,
   "metadata": {},
   "outputs": [
    {
     "name": "stdout",
     "output_type": "stream",
     "text": [
      "10\n"
     ]
    }
   ],
   "source": [
    "#tabulation with space optimized\n",
    "\n",
    "def solution(n:int,energy:list[int]):\n",
    "    prev1 = 0\n",
    "    prev2 = 0\n",
    "    for i in range(1,n+1):\n",
    "        minus1 = prev1 + abs(energy[i]-energy[i-1])\n",
    "        minus2 = float('+inf')\n",
    "        if(i>1): \n",
    "            minus2 = prev2 + abs(energy[i]-energy[i-2])\n",
    "        curr = min(minus1,minus2)\n",
    "        prev2 = prev1\n",
    "        prev1 = curr\n",
    "    print(curr)\n",
    "        \n",
    "solution(5,[30,30,60,30,30,40])"
   ]
  },
  {
   "cell_type": "markdown",
   "metadata": {},
   "source": [
    "frog jump - K jumps"
   ]
  },
  {
   "cell_type": "code",
   "execution_count": 2,
   "metadata": {},
   "outputs": [
    {
     "name": "stdout",
     "output_type": "stream",
     "text": [
      "40\n"
     ]
    }
   ],
   "source": [
    "#recursion\n",
    "\n",
    "def solution(n:int,energy:list[int],k):\n",
    "    def recursion(n):\n",
    "        if n <= 0:\n",
    "            return 0\n",
    "        minimum = float('+inf')\n",
    "        for i in range(1,k+1):\n",
    "            if(n-i>=0):\n",
    "                minus1 = recursion(n-i) + abs(energy[n]-energy[n-i])\n",
    "                minimum = min(minimum, minus1)\n",
    "        \n",
    "        return minimum\n",
    "    print(recursion(n))\n",
    "\n",
    "\n",
    "solution(5,[30,10,60,10,60,50],3)"
   ]
  },
  {
   "cell_type": "markdown",
   "metadata": {},
   "source": [
    "Maximum sum of non adjacent elements"
   ]
  },
  {
   "cell_type": "code",
   "execution_count": null,
   "metadata": {},
   "outputs": [
    {
     "ename": "",
     "evalue": "",
     "output_type": "error",
     "traceback": [
      "\u001b[1;31mThe Kernel crashed while executing code in the current cell or a previous cell. \n",
      "\u001b[1;31mPlease review the code in the cell(s) to identify a possible cause of the failure. \n",
      "\u001b[1;31mClick <a href='https://aka.ms/vscodeJupyterKernelCrash'>here</a> for more info. \n",
      "\u001b[1;31mView Jupyter <a href='command:jupyter.viewOutput'>log</a> for further details."
     ]
    }
   ],
   "source": [
    "arr = [1,5,8,2,9,10]\n",
    "n = len(arr)\n",
    "maxs = 0\n",
    "s = 0\n",
    "def maxSum(arr,i):\n",
    "    if(i>=n):\n",
    "        return\n",
    "    maxs = 0\n",
    "    s = arr[i]\n",
    "    for k in range(0,n):\n",
    "        if(i+k<n and i+k>1):\n",
    "            print(f\" arr {arr[i+k]} i = {i} k = {k}\")\n",
    "            s = s + arr[i+k]\n",
    "            print(f\"sum {s}\")\n",
    "            maxs = max(maxs,s)\n",
    "            maxSum(arr,i+k)\n",
    "            s = s - arr[i+k]      \n",
    "    return maxs\n",
    "print(maxSum(arr,0))\n",
    "\n",
    "# 1,8\n",
    "# 1,2\n",
    "# 1,9\n",
    "# 1,10\n",
    "# 1,8,9 = 18\n",
    "# 1,2,10\n",
    "# 5,2,10\n",
    "# 5,9\n",
    "# 5,10\n",
    "# 8,9\n",
    "# 8,10\n",
    "# 2,10\n",
    "# arr = [1,5,8,2,9,10]        "
   ]
  }
 ],
 "metadata": {
  "kernelspec": {
   "display_name": "Python 3",
   "language": "python",
   "name": "python3"
  },
  "language_info": {
   "codemirror_mode": {
    "name": "ipython",
    "version": 3
   },
   "file_extension": ".py",
   "mimetype": "text/x-python",
   "name": "python",
   "nbconvert_exporter": "python",
   "pygments_lexer": "ipython3",
   "version": "3.10.5"
  }
 },
 "nbformat": 4,
 "nbformat_minor": 2
}
