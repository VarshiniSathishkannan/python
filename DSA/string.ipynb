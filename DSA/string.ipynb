{
 "cells": [
  {
   "cell_type": "markdown",
   "metadata": {},
   "source": [
    "1- Remove outermost Paranthesis"
   ]
  },
  {
   "cell_type": "code",
   "execution_count": 15,
   "metadata": {},
   "outputs": [
    {
     "name": "stdout",
     "output_type": "stream",
     "text": [
      "( ['(']\n",
      "(( ['(']\n",
      "(() ['(']\n",
      "(()( ['(']\n",
      "(()() ['(']\n",
      "(()()) ['(']\n",
      "(()())( ['(']\n",
      "(()())(( ['(']\n",
      "(()())(() ['(']\n",
      "(()())(()( ['(']\n",
      "(()())(()() ['(']\n",
      "(()())(()()) ['(']\n",
      "(()())(()()) ['(', ')']\n",
      "(()())(()())\n"
     ]
    }
   ],
   "source": [
    "from collections import deque\n",
    "\n",
    "class Solution:\n",
    "    def removeOuterParentheses(self, s: str) -> str:\n",
    "        result = ''\n",
    "        add = []\n",
    "        remove = []\n",
    "        for i in range(len(s)):\n",
    "            if len(remove)==0:\n",
    "                remove.append(s[i])\n",
    "                continue\n",
    "            if(s[i]=='('):\n",
    "                if(remove[-1]=='('):\n",
    "                    result+='('\n",
    "                    add.append('(')\n",
    "                else:\n",
    "                    remove.append('(')\n",
    "            else:\n",
    "                if(result and result[-1]=='('):\n",
    "                    result+=')'\n",
    "                    add.pop()\n",
    "                else:\n",
    "                    if(add):\n",
    "                        result+=')'\n",
    "                        add.pop()\n",
    "                    elif(remove[-1]=='('):\n",
    "                        remove.append(')')\n",
    "                    else:\n",
    "                        result+=')'\n",
    "                        \n",
    "            print(result,remove)\n",
    "        return result\n",
    "\n",
    "\n",
    "obj = Solution()\n",
    "print(obj.removeOuterParentheses(\"((()())(()()))\"))\n",
    "            "
   ]
  },
  {
   "cell_type": "code",
   "execution_count": 18,
   "metadata": {},
   "outputs": [
    {
     "name": "stdout",
     "output_type": "stream",
     "text": [
      "( 1 []\n",
      "( 2 ['(']\n",
      "( 3 ['(', '(']\n",
      ") 2 ['(', '(', ')']\n",
      "( 3 ['(', '(', ')', '(']\n",
      ") 2 ['(', '(', ')', '(', ')']\n",
      ") 1 ['(', '(', ')', '(', ')', ')']\n",
      "( 2 ['(', '(', ')', '(', ')', ')', '(']\n",
      "( 3 ['(', '(', ')', '(', ')', ')', '(', '(']\n",
      ") 2 ['(', '(', ')', '(', ')', ')', '(', '(', ')']\n",
      "( 3 ['(', '(', ')', '(', ')', ')', '(', '(', ')', '(']\n",
      ") 2 ['(', '(', ')', '(', ')', ')', '(', '(', ')', '(', ')']\n",
      ") 1 ['(', '(', ')', '(', ')', ')', '(', '(', ')', '(', ')', ')']\n",
      ") 0 ['(', '(', ')', '(', ')', ')', '(', '(', ')', '(', ')', ')']\n",
      "(()())(()())\n"
     ]
    }
   ],
   "source": [
    "class Solution:\n",
    "    def removeOuterParentheses(self, S: str) -> str:\n",
    "        popen, result = 0, []\n",
    "        for x in S:\n",
    "            if x==')':\n",
    "                popen -= 1\n",
    "            if popen>0:\n",
    "                result.append(x)\n",
    "            if x=='(':\n",
    "                popen += 1\n",
    "            print(x,popen,result)\n",
    "        return ''.join(result)\n",
    "\n",
    "obj = Solution()\n",
    "print(obj.removeOuterParentheses(\"((()())(()()))\"))"
   ]
  },
  {
   "cell_type": "markdown",
   "metadata": {},
   "source": [
    "2- Reverse words in a given string / Palindrome Check\n"
   ]
  },
  {
   "cell_type": "code",
   "execution_count": 19,
   "metadata": {},
   "outputs": [
    {
     "name": "stdout",
     "output_type": "stream",
     "text": [
      "is apple\n"
     ]
    }
   ],
   "source": [
    "class Solution:\n",
    "    def reverseWords(self, s: str) -> str:\n",
    "        result = s.split()\n",
    "        return ' '.join(result[::-1])\n",
    "    \n",
    "obj = Solution()\n",
    "print(obj.reverseWords('apple is'))"
   ]
  },
  {
   "cell_type": "markdown",
   "metadata": {},
   "source": [
    "3- Largest odd number in a string"
   ]
  },
  {
   "cell_type": "code",
   "execution_count": 20,
   "metadata": {},
   "outputs": [
    {
     "name": "stdout",
     "output_type": "stream",
     "text": [
      "5401\n"
     ]
    }
   ],
   "source": [
    "class Solution:\n",
    "    def largestOddNumber(self, num: str) -> str:\n",
    "        for i in range(len(num)-1,-1,-1):\n",
    "            if(int(num[i])%2!=0):\n",
    "                return num[:i+1]\n",
    "        else:\n",
    "            return ''\n",
    "        \n",
    "obj = Solution()\n",
    "print(obj.largestOddNumber('5401'))"
   ]
  },
  {
   "cell_type": "markdown",
   "metadata": {},
   "source": [
    "4- Isomorphic String"
   ]
  },
  {
   "cell_type": "code",
   "execution_count": 26,
   "metadata": {},
   "outputs": [
    {
     "name": "stdout",
     "output_type": "stream",
     "text": [
      "{'b': 'f'}\n",
      "{'b': 'f', 'a': 'o'}\n",
      "{'b': 'f', 'a': 'o', 'r': 'o'}\n",
      "True\n"
     ]
    }
   ],
   "source": [
    "class Solution:\n",
    "    def isIsomorphic(self, s: str, t: str) -> bool:\n",
    "        m = dict()\n",
    "        for i in range(len(s)):\n",
    "            if(s[i] != t[i]):\n",
    "                if(t[i] in m):\n",
    "                    if(m[t[i]] != s[i]):\n",
    "                        return False\n",
    "            m[t[i]] = s[i]\n",
    "            print(m)\n",
    "        else:\n",
    "            return True\n",
    "        \n",
    "obj = Solution()\n",
    "print(obj.isIsomorphic('foo','bar'))"
   ]
  }
 ],
 "metadata": {
  "kernelspec": {
   "display_name": "Python 3",
   "language": "python",
   "name": "python3"
  },
  "language_info": {
   "codemirror_mode": {
    "name": "ipython",
    "version": 3
   },
   "file_extension": ".py",
   "mimetype": "text/x-python",
   "name": "python",
   "nbconvert_exporter": "python",
   "pygments_lexer": "ipython3",
   "version": "3.10.5"
  }
 },
 "nbformat": 4,
 "nbformat_minor": 2
}
