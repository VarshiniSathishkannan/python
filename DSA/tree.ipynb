{
 "cells": [
  {
   "cell_type": "markdown",
   "metadata": {},
   "source": [
    "Introduction\n",
    "\n",
    "Tree Data Structure is a non-linear data structure in which a collection of elements known as nodes are connected to each other via edges such that there exists exactly one path between any two nodes.\n",
    "\n",
    "If there are n nodes, there will be n-1 edges.\n",
    "\n",
    "Root node\n",
    "parent node\n",
    "child node\n",
    "leaf node\n",
    "sibling\n",
    "\n",
    "Types of tree:\n",
    "1. Binary tree\n",
    "2. Ternary tree\n",
    "3. N-ary tree\n",
    "\n",
    "Traversal:\n",
    "\n",
    "DFS - Depth First Traversal\n",
    "1. Inorder\n",
    "2. Preorder\n",
    "3. Postorder\n",
    "\n",
    "BFS - Breadth First Traversal\n",
    "1. Level order traversal\n",
    "\n",
    "Applications:\n",
    "\n",
    "Organisation of files\n",
    "B-trees and other tree structures are used in database indexing to efficiently search for and retrieve data. "
   ]
  },
  {
   "cell_type": "markdown",
   "metadata": {},
   "source": [
    "Binary Tree\n",
    "\n",
    "types:\n",
    "1. Full Binary tree - either 0 or 2 child nodes\n",
    "2. Skewed or degenerative Binary tree - one child for each parent, either fully left or fully right\n",
    "3. perfect binary tree - all nodes has exact 2 child\n",
    "4. complete binary tree - filled at all levels atleast leftmost\n",
    "5. Balanced binary tree \n",
    "\n",
    "The height of the left and right tree for any node does not differ by more than 1.\n",
    "The left subtree of that node is also balanced.\n",
    "The right subtree of that node is also balanced."
   ]
  },
  {
   "cell_type": "code",
   "execution_count": 18,
   "metadata": {},
   "outputs": [
    {
     "name": "stdout",
     "output_type": "stream",
     "text": [
      "4 is the height of the tree\n",
      "\n",
      "\n",
      "Inorder\n",
      "2 6 6 4 7 7 5 9 2 4 \n",
      "\n",
      "Preorder\n",
      "5 4 6 2 6 7 7 2 9 4 \n",
      "\n",
      "Postorder\n",
      "2 6 6 7 7 4 9 4 2 5 \n",
      "\n",
      "Levelorder\n",
      "5 \n",
      "\n",
      "4 2 \n",
      "\n",
      "6 7 9 4 \n",
      "\n",
      "2 6 7 \n",
      "\n"
     ]
    }
   ],
   "source": [
    "from collections import deque\n",
    "class Node:\n",
    "    def __init__(self, key):\n",
    "        self.left = None\n",
    "        self.right = None\n",
    "        self.val = key\n",
    "\n",
    "class BinaryTree:\n",
    "    def __init__(self):\n",
    "        self.root = None\n",
    "    def insert(self,data):\n",
    "        new = Node(data)\n",
    "        if self.root == None:\n",
    "            self.root = new\n",
    "        else:\n",
    "            q = []\n",
    "            q.append(self.root)\n",
    "            while(len(q)):\n",
    "                n = q.pop(0)\n",
    "                if n.left == None:\n",
    "                    n.left = new\n",
    "                    break\n",
    "                else:\n",
    "                    q.append(n.left)\n",
    "                if n.right == None:\n",
    "                    n.right = new\n",
    "                    break\n",
    "                else:\n",
    "                    q.append(n.right)\n",
    "    def deletedeepest(self,node):\n",
    "        root = self.root\n",
    "        stack = [] \n",
    "        if root:\n",
    "            stack.append(root)\n",
    "        while(len(stack)):\n",
    "            ele = stack.pop(0)\n",
    "            if(ele is node):\n",
    "                ele = None\n",
    "                return\n",
    "            if(ele.left):\n",
    "                if(ele.left is node):\n",
    "                     ele.left = None\n",
    "                     return\n",
    "                stack.append(ele)\n",
    "            if(ele.right):\n",
    "                if(ele.right is node):\n",
    "                     ele.right = None\n",
    "                stack.append(ele)\n",
    "         \n",
    "    def delete(self,data):\n",
    "        root = self.root\n",
    "        stack = []\n",
    "        key = None \n",
    "        if root:\n",
    "            stack.append(root)\n",
    "        while(len(stack)):\n",
    "            ele = stack.pop(0)\n",
    "            if(ele.val == data):\n",
    "                key = ele\n",
    "            if(ele.left):\n",
    "                stack.append(ele)\n",
    "            if(ele.right):\n",
    "                stack.append(ele)\n",
    "        if(key):\n",
    "             key.val = ele.val\n",
    "             self.deletedeepest(ele)\n",
    "        return root\n",
    "         \n",
    "        \n",
    "def inorder(temp):\n",
    "        if temp == None:\n",
    "            return\n",
    "        inorder(temp.left)\n",
    "        print(f\"{temp.val}\",end=' ')\n",
    "        inorder(temp.right)\n",
    "\n",
    "def preorder(temp):\n",
    "        if temp == None:\n",
    "            return\n",
    "        print(f\"{temp.val}\",end=' ')\n",
    "        preorder(temp.left)\n",
    "        preorder(temp.right)\n",
    "\n",
    "def postorder(temp):\n",
    "        if temp == None:\n",
    "            return\n",
    "        postorder(temp.left)\n",
    "        postorder(temp.right)\n",
    "        print(f\"{temp.val}\",end=' ')\n",
    "\n",
    "def levelorder(temp):\n",
    "     q = deque()\n",
    "     q.append((temp,1))\n",
    "     prev = 1\n",
    "     while(q):\n",
    "          ele,num = q.popleft()\n",
    "          if(num != prev):\n",
    "               print('\\n')\n",
    "               prev = num\n",
    "          print(ele.val,end=' ')\n",
    "          if(ele.left):\n",
    "               q.append((ele.left,num+1))\n",
    "          if(ele.right):\n",
    "               q.append((ele.right,num+1))\n",
    "\n",
    "def height(temp):\n",
    "     def maxHeight(root,h):\n",
    "          if not root:\n",
    "               return h\n",
    "          return max(maxHeight(root.left,h+1),maxHeight(root.right,h+1))\n",
    "     return maxHeight(temp,0)\n",
    "\n",
    "     \n",
    "\n",
    "b = BinaryTree()\n",
    "\n",
    "b.insert(5)\n",
    "b.insert(4)\n",
    "b.insert(2)\n",
    "b.insert(6)\n",
    "b.insert(7)\n",
    "b.insert(9)\n",
    "b.insert(4)\n",
    "b.insert(2)\n",
    "b.insert(6)\n",
    "b.insert(7)\n",
    "\n",
    "print(f\"{height(b.root)} is the height of the tree\")\n",
    "\n",
    "print('\\n')\n",
    "print(\"Inorder\")\n",
    "inorder(b.root)\n",
    "print('\\n')\n",
    "\n",
    "print(\"Preorder\")\n",
    "preorder(b.root)\n",
    "print('\\n')\n",
    "\n",
    "print(\"Postorder\")\n",
    "postorder(b.root)\n",
    "print('\\n')\n",
    "\n",
    "print(\"Levelorder\")\n",
    "levelorder(b.root)\n",
    "print('\\n')\n"
   ]
  },
  {
   "cell_type": "markdown",
   "metadata": {},
   "source": [
    "Binary Search Tree\n",
    "\n",
    "Each node in a Binary Search Tree has at most two children, a left child and a right child, with the left child containing values less than the parent node and the right child containing values greater than the parent node. This hierarchical structure allows for efficient searching, insertion, and deletion operations on the data stored in the tree.\n"
   ]
  },
  {
   "cell_type": "code",
   "execution_count": 14,
   "metadata": {},
   "outputs": [
    {
     "name": "stdout",
     "output_type": "stream",
     "text": [
      "2 3 4 5 6 7 8 "
     ]
    }
   ],
   "source": [
    "class Node:\n",
    "    def __init__(self, key):\n",
    "        self.left = None\n",
    "        self.right = None\n",
    "        self.val = key\n",
    "\n",
    "class Bst:\n",
    "    def __init__(self):\n",
    "        self.root = None\n",
    "    def insert(self,data):\n",
    "        new = Node(data)\n",
    "        if self.root == None:\n",
    "            self.root = new\n",
    "        else:\n",
    "            q = []\n",
    "            q.append(self.root)\n",
    "            while(len(q)):\n",
    "                node = q.pop(0)\n",
    "                if new.val < node.val:\n",
    "                    if node.left != None:\n",
    "                        q.append(node.left)\n",
    "                    else:\n",
    "                        node.left = new\n",
    "                        break\n",
    "                else:\n",
    "                    if node.right != None:\n",
    "                        q.append(node.right)\n",
    "                    else:\n",
    "                        node.right = new\n",
    "                        break\n",
    "\n",
    "def inorder(temp):\n",
    "        if temp == None:\n",
    "            return\n",
    "        inorder(temp.left)\n",
    "        print(f\"{temp.val}\",end=' ')\n",
    "        inorder(temp.right)\n",
    "\n",
    "\n",
    "b = Bst()\n",
    "\n",
    "b.insert(5)\n",
    "b.insert(3)\n",
    "b.insert(2)\n",
    "b.insert(4)\n",
    "b.insert(7)\n",
    "b.insert(6)\n",
    "b.insert(8)\n",
    "\n",
    "\n",
    "\n",
    "inorder(b.root)"
   ]
  },
  {
   "cell_type": "markdown",
   "metadata": {},
   "source": [
    "Preorder, Inorder, Postorder traversal"
   ]
  },
  {
   "cell_type": "code",
   "execution_count": 13,
   "metadata": {},
   "outputs": [
    {
     "name": "stdout",
     "output_type": "stream",
     "text": [
      "2 6 6 4 7 7 5 9 2 4 None\n",
      "[5, 4, 6, 2, 6, 7, 7, 2, 9, 4]\n",
      "[2, 6, 6, 4, 7, 7, 5, 9, 2, 4]\n",
      "[2, 6, 6, 7, 7, 4, 9, 4, 2, 5]\n"
     ]
    }
   ],
   "source": [
    "print(inorder(b.root))\n",
    "\n",
    "def all(root):\n",
    "    stack = []\n",
    "    stack.append((root,1))\n",
    "    preorder = []\n",
    "    inorder = []\n",
    "    postorder = []\n",
    "    while(stack):\n",
    "        root,num = stack.pop()\n",
    "        if(num==1):\n",
    "            preorder.append(root.val)\n",
    "            stack.append((root,num+1))\n",
    "            if(root.left):\n",
    "                stack.append((root.left,1))\n",
    "        elif(num==2):\n",
    "            inorder.append(root.val)\n",
    "            stack.append((root,num+1))\n",
    "            if(root.right):\n",
    "                stack.append((root.right,1))\n",
    "        else:\n",
    "            postorder.append(root.val)\n",
    "        \n",
    "    print(preorder)\n",
    "    print(inorder)\n",
    "    print(postorder)\n",
    "\n",
    "all(b.root)\n"
   ]
  },
  {
   "cell_type": "markdown",
   "metadata": {},
   "source": [
    "Check for Balanced Binary Tree\n",
    "\n",
    "For every node, height(left)-height(right) <= 1"
   ]
  },
  {
   "cell_type": "code",
   "execution_count": 38,
   "metadata": {},
   "outputs": [
    {
     "name": "stdout",
     "output_type": "stream",
     "text": [
      "4 3 2 6 8 9 1 None\n",
      "1 \n",
      "\n",
      "2 \n",
      "\n",
      "3 6 \n",
      "\n",
      "4 8 \n",
      "\n",
      "9 None\n"
     ]
    }
   ],
   "source": [
    "a = BinaryTree()\n",
    "\n",
    "a.root = Node(1)\n",
    "a.root.left = Node(2)\n",
    "a.root.left.right = Node(6)\n",
    "a.root.left.right.right = Node(8)\n",
    "a.root.left.right.right.right = Node(9)\n",
    "a.root.left.left = Node(3)\n",
    "a.root.left.left.left = Node(4)\n",
    "\n",
    "print(inorder(a.root))\n",
    "print(levelorder(a.root))"
   ]
  },
  {
   "cell_type": "code",
   "execution_count": 29,
   "metadata": {},
   "outputs": [
    {
     "name": "stdout",
     "output_type": "stream",
     "text": [
      "True\n"
     ]
    }
   ],
   "source": [
    "# TC - O(N^2)\n",
    "\n",
    "def isBalanced(root):\n",
    "    def func(root):\n",
    "        if not root:\n",
    "            return True\n",
    "        left = height(root.left)\n",
    "        right = height(root.right)\n",
    "        if(abs(left - right)>1):\n",
    "            return False\n",
    "        l = func(root.left)\n",
    "        r = func(root.right)\n",
    "        if( not l or not r):\n",
    "            return False\n",
    "        return True\n",
    "    return func(root)\n",
    "\n",
    "print(isBalanced(b.root))"
   ]
  },
  {
   "cell_type": "code",
   "execution_count": 33,
   "metadata": {},
   "outputs": [
    {
     "name": "stdout",
     "output_type": "stream",
     "text": [
      "-1\n"
     ]
    }
   ],
   "source": [
    "# Optimized solution O(N)\n",
    "\n",
    "def isBalanced(root):\n",
    "    def func(root):\n",
    "        if not root:\n",
    "            return 0\n",
    "        left = func(root.left)\n",
    "        if(left == -1):\n",
    "            return -1\n",
    "        right = func(root.right)\n",
    "        if(right == -1):\n",
    "            return -1\n",
    "        if(abs(left - right)>1):\n",
    "            return -1\n",
    "        return 1 + max(left,right)\n",
    "    return func(root)\n",
    "\n",
    "print(isBalanced(a.root))\n"
   ]
  },
  {
   "cell_type": "markdown",
   "metadata": {},
   "source": [
    "Diameter of a Binary tree\n",
    "\n",
    "The longest path b/w any two nodes, Does not need to pass through the root"
   ]
  },
  {
   "cell_type": "code",
   "execution_count": 39,
   "metadata": {},
   "outputs": [
    {
     "name": "stdout",
     "output_type": "stream",
     "text": [
      "7\n",
      "1 \n",
      "\n",
      "2 \n",
      "\n",
      "3 6 \n",
      "\n",
      "4 8 \n",
      "\n",
      "9 "
     ]
    }
   ],
   "source": [
    "# TC - O(N^2)\n",
    "\n",
    "def findlefth(root):\n",
    "    if not root:\n",
    "        return 0\n",
    "    return 1 + findlefth(root.left)\n",
    "\n",
    "def findrighth(root):\n",
    "    if not root:\n",
    "        return 0\n",
    "    return 1 + findrighth(root.right)\n",
    "\n",
    "dia = 0\n",
    "def diameter(root):\n",
    "    global dia\n",
    "    if not root:\n",
    "        return \n",
    "    left = findlefth(root)\n",
    "    right = findrighth(root)\n",
    "    dia = max(dia,left+right)\n",
    "    diameter(root.left)\n",
    "    diameter(root.right)\n",
    "\n",
    "diameter(a.root)\n",
    "print(dia)\n",
    "levelorder(a.root)"
   ]
  },
  {
   "cell_type": "code",
   "execution_count": 45,
   "metadata": {},
   "outputs": [
    {
     "name": "stdout",
     "output_type": "stream",
     "text": [
      "6\n",
      "5 \n",
      "\n",
      "4 2 \n",
      "\n",
      "6 7 9 4 \n",
      "\n",
      "2 6 7 "
     ]
    }
   ],
   "source": [
    "# Optimized solution\n",
    "\n",
    "dia = 0\n",
    "def diameter(root):\n",
    "    global dia\n",
    "    if not root:\n",
    "        return 0\n",
    "    left = diameter(root.left)\n",
    "    right = diameter(root.right)\n",
    "\n",
    "    dia = max(dia,left+right)\n",
    "\n",
    "    return 1 + max(left,right)\n",
    "\n",
    "    \n",
    "\n",
    "diameter(b.root)\n",
    "print(dia+1)\n",
    "levelorder(b.root)"
   ]
  },
  {
   "cell_type": "markdown",
   "metadata": {},
   "source": [
    "Maximum path sum in Binary Tree"
   ]
  },
  {
   "cell_type": "code",
   "execution_count": 79,
   "metadata": {},
   "outputs": [],
   "source": [
    "c = BinaryTree()\n",
    "\n",
    "c.root = Node(-10)\n",
    "c.root.left = Node(9)\n",
    "c.root.right = Node(20)\n",
    "c.root.right.left = Node(15)\n",
    "c.root.right.right = Node(7)\n",
    "\n",
    "#o/p = 42\n",
    "\n",
    "            #     -10\n",
    "            # 9           20\n",
    "            #         15      7"
   ]
  },
  {
   "cell_type": "code",
   "execution_count": 80,
   "metadata": {},
   "outputs": [
    {
     "name": "stdout",
     "output_type": "stream",
     "text": [
      "25\n",
      "42\n"
     ]
    }
   ],
   "source": [
    "maxi = 0\n",
    "def maxSum(root):\n",
    "    global maxi\n",
    "    if not root:\n",
    "        return 0\n",
    "    l = maxSum(root.left)\n",
    "    r = maxSum(root.right)\n",
    "\n",
    "    maxi = max(maxi,root.val+l+r)\n",
    "\n",
    "    return root.val + max(l,r)\n",
    "\n",
    "print(maxSum(c.root))\n",
    "print(maxi)"
   ]
  },
  {
   "cell_type": "markdown",
   "metadata": {},
   "source": [
    "Check if same tree or not"
   ]
  },
  {
   "cell_type": "code",
   "execution_count": 86,
   "metadata": {},
   "outputs": [],
   "source": [
    "d = BinaryTree()\n",
    "\n",
    "d.root = Node(1)\n",
    "d.root.left = Node(2)\n",
    "d.root.right = Node(3)\n",
    "\n",
    "e = d\n",
    "\n"
   ]
  },
  {
   "cell_type": "code",
   "execution_count": 89,
   "metadata": {},
   "outputs": [
    {
     "name": "stdout",
     "output_type": "stream",
     "text": [
      "False\n"
     ]
    }
   ],
   "source": [
    "def sameTree(a,b):\n",
    "    if(not a or not b):\n",
    "        return (a == b)\n",
    "    return (a.val == b.val) and sameTree(a.left,b.left) and sameTree(a.right,b.right)\n",
    "\n",
    "\n",
    "print(sameTree(b.root,a.root))"
   ]
  },
  {
   "cell_type": "markdown",
   "metadata": {},
   "source": [
    "Zig Zag traversal \n",
    "\n",
    "left to right then right to left"
   ]
  },
  {
   "cell_type": "code",
   "execution_count": 98,
   "metadata": {},
   "outputs": [
    {
     "name": "stdout",
     "output_type": "stream",
     "text": [
      "[5]\n",
      "[2, 4]\n",
      "[6, 7, 9, 4]\n",
      "[7, 6, 2]\n",
      "\n",
      "\n",
      "5 \n",
      "\n",
      "4 2 \n",
      "\n",
      "6 7 9 4 \n",
      "\n",
      "2 6 7 "
     ]
    }
   ],
   "source": [
    "from collections import deque\n",
    "def zigzag(temp):\n",
    "     q = deque()\n",
    "     q.append(temp)\n",
    "     flag = 1\n",
    "     while(q):\n",
    "          size = len(q)\n",
    "          result = [0]*(size)\n",
    "          for i in range(size):\n",
    "               node = q.popleft()\n",
    "               index = i if flag else (size-i-1)\n",
    "               result[index] = node.val\n",
    "               if(node.left):\n",
    "                    q.append(node.left)\n",
    "               if(node.right):\n",
    "                    q.append(node.right)\n",
    "          flag = not flag\n",
    "          print(result)     \n",
    "\n",
    "zigzag(b.root)\n",
    "print('\\n')\n",
    "levelorder(b.root)\n",
    "            \n",
    "\n"
   ]
  },
  {
   "cell_type": "markdown",
   "metadata": {},
   "source": [
    "Boundary traversal in Binary tree\n",
    "\n",
    "outermost nodes, including root and leaf nodes\n",
    "\n",
    "left, leaf nodes, right in reverse"
   ]
  },
  {
   "cell_type": "code",
   "execution_count": null,
   "metadata": {},
   "outputs": [],
   "source": []
  },
  {
   "cell_type": "code",
   "execution_count": 103,
   "metadata": {},
   "outputs": [
    {
     "name": "stdout",
     "output_type": "stream",
     "text": [
      "-10 9 15 7 20 -10 "
     ]
    }
   ],
   "source": [
    "def boundary(root):\n",
    "    def left(root):\n",
    "        if not root:\n",
    "            return\n",
    "        if not root.left and not root.right:\n",
    "            return\n",
    "        print(root.val,end=' ')\n",
    "        left(root.left)\n",
    "        if not root.left:\n",
    "            left(root.right)\n",
    "    def leaf(root):\n",
    "        if not root:\n",
    "            return\n",
    "        if not root.left and not root.right:\n",
    "            print(root.val,end=' ')\n",
    "            return\n",
    "        leaf(root.left)\n",
    "        leaf(root.right)\n",
    "    def right(root):\n",
    "        if not root:\n",
    "            return\n",
    "        if not root.left and not root.right:\n",
    "            return\n",
    "        right(root.right)\n",
    "        if not root.right:\n",
    "            right(root.left)\n",
    "        print(root.val,end=' ')\n",
    "    left(root)\n",
    "    leaf(root)\n",
    "    right(root)\n",
    "\n",
    "boundary(c.root)\n",
    "\n",
    "        \n",
    "            \n",
    "\n"
   ]
  },
  {
   "cell_type": "markdown",
   "metadata": {},
   "source": [
    "Vertical order traversal\n",
    "\n",
    "by using concept of indices at vertical and horizontal"
   ]
  },
  {
   "cell_type": "code",
   "execution_count": 115,
   "metadata": {},
   "outputs": [
    {
     "name": "stdout",
     "output_type": "stream",
     "text": [
      "3 -3 2\n",
      "[(5, 0, 0), (4, 1, -1), (6, 2, -2), (2, 3, -3), (6, 3, -1), (7, 2, 0), (7, 3, -1), (2, 1, 1), (9, 2, 0), (4, 2, 2)]\n",
      "5 \n",
      "\n",
      "4 2 \n",
      "\n",
      "6 7 9 4 \n",
      "\n",
      "2 6 7 [(2, 3, -3), (6, 2, -2), (4, 1, -1), (6, 3, -1), (7, 3, -1), (5, 0, 0), (7, 2, 0), (9, 2, 0), (2, 1, 1), (4, 2, 2)]\n"
     ]
    }
   ],
   "source": [
    "dv = 0\n",
    "lh = 0\n",
    "rh = 0\n",
    "arr = []\n",
    "def vertical(root, v,h):\n",
    "    global dv\n",
    "    global lh\n",
    "    global rh\n",
    "    if not root:\n",
    "        return\n",
    "    if(dv<v):\n",
    "        dv = v\n",
    "    if(root.left):\n",
    "        arr.append((root.left.val,v+1,h-1))\n",
    "        if(lh > h-1):\n",
    "            lh = h-1\n",
    "        vertical(root.left,v+1,h-1)\n",
    "    if(root.right):\n",
    "        arr.append((root.right.val,v+1,h+1))\n",
    "        if(rh < h+1):\n",
    "            rh = h+1\n",
    "        vertical(root.right,v+1,h+1)\n",
    "\n",
    "arr.append((b.root.val,0,0))\n",
    "vertical(b.root,0,0)\n",
    "print(dv,lh,rh)\n",
    "print(arr)\n",
    "levelorder(b.root)\n",
    "\n",
    "arr.sort(key = lambda a:a[2])\n",
    "print(arr)\n",
    "\n",
    "    #              5\n",
    "    #          4        2\n",
    "    #       6      7   \n",
    "    #              9        4\n",
    "    #    2     6\n",
    "    #          7\n"
   ]
  },
  {
   "cell_type": "markdown",
   "metadata": {},
   "source": [
    "Top view of binary tree\n",
    "\n",
    "vertical order traversal, printing only first node\n",
    "\n",
    " /\\\n",
    "/  \\"
   ]
  },
  {
   "cell_type": "code",
   "execution_count": 119,
   "metadata": {},
   "outputs": [
    {
     "name": "stdout",
     "output_type": "stream",
     "text": [
      "2 6 4 5 5 2 4 "
     ]
    }
   ],
   "source": [
    "def boundary(root):\n",
    "    def left(root):\n",
    "        if not root:\n",
    "            return\n",
    "        left(root.left)\n",
    "        print(root.val,end=' ')\n",
    "    def right(root):\n",
    "        if not root:\n",
    "            return\n",
    "        print(root.val,end=' ')\n",
    "        right(root.right)\n",
    "    left(root)\n",
    "    right(root)\n",
    "\n",
    "boundary(b.root)\n",
    "\n",
    "    #              5\n",
    "    #          4        2\n",
    "    #       6     7  9     4\n",
    "    #    2     6 7    \n",
    "    #   \n",
    "    #          \n",
    "        \n",
    "            \n",
    "\n"
   ]
  },
  {
   "cell_type": "markdown",
   "metadata": {},
   "source": [
    "Bottom view of Binary tree"
   ]
  },
  {
   "cell_type": "code",
   "execution_count": 123,
   "metadata": {},
   "outputs": [
    {
     "name": "stdout",
     "output_type": "stream",
     "text": [
      "3 -3 2\n",
      "[(5, 0, 0), (4, 1, -1), (6, 2, -2), (2, 3, -3), (6, 3, -1), (7, 2, 0), (7, 3, -1), (2, 1, 1), (9, 2, 0), (4, 2, 2)]\n",
      "5 \n",
      "\n",
      "4 2 \n",
      "\n",
      "6 7 9 4 \n",
      "\n",
      "2 6 7 \n",
      "Result\n",
      "2\n",
      "6\n",
      "7\n",
      "9\n",
      "2\n",
      "4\n"
     ]
    }
   ],
   "source": [
    "dv = 0\n",
    "lh = 0\n",
    "rh = 0\n",
    "arr = []\n",
    "def vertical(root, v,h):\n",
    "    global dv\n",
    "    global lh\n",
    "    global rh\n",
    "    if not root:\n",
    "        return\n",
    "    if(dv<v):\n",
    "        dv = v\n",
    "    if(root.left):\n",
    "        arr.append((root.left.val,v+1,h-1))\n",
    "        if(lh > h-1):\n",
    "            lh = h-1\n",
    "        vertical(root.left,v+1,h-1)\n",
    "    if(root.right):\n",
    "        arr.append((root.right.val,v+1,h+1))\n",
    "        if(rh < h+1):\n",
    "            rh = h+1\n",
    "        vertical(root.right,v+1,h+1)\n",
    "\n",
    "arr.append((b.root.val,0,0))\n",
    "vertical(b.root,0,0)\n",
    "print(dv,lh,rh)\n",
    "print(arr)\n",
    "levelorder(b.root)\n",
    "\n",
    "arr.sort(key = lambda a:a[2])\n",
    "\n",
    "print('\\nResult')\n",
    "for i in range(len(arr)):\n",
    "    if(i == len(arr)-1):\n",
    "        print(arr[i][0])\n",
    "        break\n",
    "    if(arr[i][2] != arr[i+1][2]):\n",
    "        print(arr[i][0])\n",
    "\n",
    "\n",
    "    #              5\n",
    "    #          4        2\n",
    "    #       6      7   \n",
    "    #              9        4\n",
    "    #    2     6\n",
    "    #          7\n"
   ]
  },
  {
   "cell_type": "markdown",
   "metadata": {},
   "source": [
    "Left/Right View of Binary tree"
   ]
  },
  {
   "cell_type": "code",
   "execution_count": 129,
   "metadata": {},
   "outputs": [
    {
     "name": "stdout",
     "output_type": "stream",
     "text": [
      "[5, 4, 6, 2]\n",
      "5 \n",
      "\n",
      "4 2 \n",
      "\n",
      "6 7 9 4 \n",
      "\n",
      "2 6 7 "
     ]
    }
   ],
   "source": [
    "arr = []\n",
    "def leftView(root,level):\n",
    "    if not root:\n",
    "        return \n",
    "    if(level == len(arr)):\n",
    "        arr.append(root.val)\n",
    "    leftView(root.left,level+1)\n",
    "    leftView(root.right,level+1)\n",
    "\n",
    "leftView(b.root,0)\n",
    "print(arr)\n",
    "levelorder(b.root)"
   ]
  },
  {
   "cell_type": "markdown",
   "metadata": {},
   "source": [
    "Check for Symmetrical Binary tree\n",
    "\n",
    "Mirrot image from root should be same"
   ]
  },
  {
   "cell_type": "code",
   "execution_count": 133,
   "metadata": {},
   "outputs": [
    {
     "name": "stdout",
     "output_type": "stream",
     "text": [
      "1 \n",
      "\n",
      "2 2 \n",
      "\n",
      "3 4 4 2 "
     ]
    }
   ],
   "source": [
    "s = BinaryTree()\n",
    "\n",
    "s.root = Node(1)\n",
    "s.root.left = Node(2)\n",
    "s.root.right = Node(2)\n",
    "s.root.left.left = Node(3)\n",
    "s.root.left.right = Node(4)\n",
    "s.root.right.left = Node(4)\n",
    "s.root.right.right = Node(2)\n",
    "\n",
    "levelorder(s.root)"
   ]
  },
  {
   "cell_type": "code",
   "execution_count": 134,
   "metadata": {},
   "outputs": [
    {
     "name": "stdout",
     "output_type": "stream",
     "text": [
      "False\n"
     ]
    }
   ],
   "source": [
    "def symmetry(a,b):\n",
    "    if not a or not b:\n",
    "        return (a==b)\n",
    "    if a.val != b.val:\n",
    "        return False\n",
    "    return symmetry(a.left, b.right) and symmetry(a.right,b.left)\n",
    "\n",
    "print(symmetry(s.root.left,s.root.right))\n",
    "\n"
   ]
  },
  {
   "cell_type": "markdown",
   "metadata": {},
   "source": [
    "Root to Node path in Binary tree\n",
    "\n",
    "Given a node, print the path from root to node"
   ]
  },
  {
   "cell_type": "code",
   "execution_count": 139,
   "metadata": {},
   "outputs": [
    {
     "name": "stdout",
     "output_type": "stream",
     "text": [
      "1 \n",
      "\n",
      "2 2 \n",
      "\n",
      "3 4 4 2 \n",
      "\n",
      "->1->2\n"
     ]
    }
   ],
   "source": [
    "node = 3\n",
    "levelorder(s.root)\n",
    "\n",
    "def path(root,p):\n",
    "    if not root:\n",
    "        return\n",
    "    if(root.val == node):\n",
    "        print('\\n')\n",
    "        print(p)\n",
    "        return \n",
    "    path(root.left,p+'->'+str(root.val))\n",
    "    path(root.right,p+'->'+str(root.val))\n",
    "    \n",
    "path(s.root,'')"
   ]
  },
  {
   "cell_type": "markdown",
   "metadata": {},
   "source": [
    "Lowest Common ancestor (Binary tree)\n",
    "\n",
    "given two nodes, print the lowest common ancestor"
   ]
  },
  {
   "cell_type": "code",
   "execution_count": 160,
   "metadata": {},
   "outputs": [],
   "source": [
    "p = BinaryTree()\n",
    "\n",
    "p.root = Node(1)\n",
    "p.root.left = Node(2)\n",
    "p.root.right = Node(3)\n",
    "p.root.right.left = Node(4)\n",
    "p.root.right.right = Node(5)\n",
    "p.root.right.left.left = Node(8)\n",
    "p.root.right.right.left = Node(6)\n",
    "p.root.right.right.right = Node(7)\n",
    "\n",
    "\n"
   ]
  },
  {
   "cell_type": "code",
   "execution_count": 162,
   "metadata": {},
   "outputs": [
    {
     "name": "stdout",
     "output_type": "stream",
     "text": [
      "1 \n",
      "\n",
      "2 3 \n",
      "\n",
      "4 5 \n",
      "\n",
      "8 6 7 \n",
      "\n",
      "result = 3\n"
     ]
    }
   ],
   "source": [
    "levelorder(p.root)\n",
    "print('\\n')\n",
    "\n",
    "def lca(root,a,b):\n",
    "    if not root or root.val == a or root.val ==b:\n",
    "        return root\n",
    "    left = lca(root.left,a,b)\n",
    "    right = lca(root.right,a,b)\n",
    "    if(left == None):\n",
    "        return right\n",
    "    elif(right == None):\n",
    "        return left\n",
    "    else:\n",
    "        return root.val\n",
    "    \n",
    "print(f\"result = {lca(p.root,7,8)}\")\n"
   ]
  },
  {
   "cell_type": "markdown",
   "metadata": {},
   "source": [
    "AVL Tree \n",
    "\n",
    "Self balancing Binary search tree where the differences between the heights of the left and right subtrees are not greater than 1. It is done to prevent skew"
   ]
  },
  {
   "cell_type": "markdown",
   "metadata": {},
   "source": [
    "Self Balancing BST"
   ]
  },
  {
   "cell_type": "markdown",
   "metadata": {},
   "source": [
    "Check if 2 trees are identical"
   ]
  },
  {
   "cell_type": "markdown",
   "metadata": {},
   "source": [
    "Check if binary tree"
   ]
  },
  {
   "cell_type": "markdown",
   "metadata": {},
   "source": [
    "Trie \n",
    "\n",
    "Similar to tree, but it stores the letters of a string. it is used for storing strings like a dictionary. "
   ]
  }
 ],
 "metadata": {
  "kernelspec": {
   "display_name": "Python 3",
   "language": "python",
   "name": "python3"
  },
  "language_info": {
   "codemirror_mode": {
    "name": "ipython",
    "version": 3
   },
   "file_extension": ".py",
   "mimetype": "text/x-python",
   "name": "python",
   "nbconvert_exporter": "python",
   "pygments_lexer": "ipython3",
   "version": "3.10.5"
  }
 },
 "nbformat": 4,
 "nbformat_minor": 2
}
