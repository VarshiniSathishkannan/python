{
 "cells": [
  {
   "cell_type": "markdown",
   "metadata": {},
   "source": [
    "Count digits "
   ]
  },
  {
   "cell_type": "markdown",
   "metadata": {},
   "source": [
    "Reverse of a number"
   ]
  },
  {
   "cell_type": "markdown",
   "metadata": {},
   "source": [
    "Armstrong number \n",
    "\n",
    "Cube root of digits of a number should add up to the same number"
   ]
  },
  {
   "cell_type": "markdown",
   "metadata": {},
   "source": [
    "Print all divisors"
   ]
  },
  {
   "cell_type": "code",
   "execution_count": 1,
   "metadata": {},
   "outputs": [
    {
     "name": "stdout",
     "output_type": "stream",
     "text": [
      "1\n",
      "2\n",
      "3\n",
      "4\n",
      "6\n",
      "9\n",
      "12\n",
      "18\n",
      "36\n"
     ]
    }
   ],
   "source": [
    "def divisor(n):\n",
    "    for i in range(1,n+1):\n",
    "        if(n%i==0):\n",
    "            print(i)\n",
    "divisor(36)"
   ]
  },
  {
   "cell_type": "code",
   "execution_count": 10,
   "metadata": {},
   "outputs": [
    {
     "name": "stdout",
     "output_type": "stream",
     "text": [
      "[1, 2, 3, 4, 6, 9, 12, 18, 36]\n"
     ]
    }
   ],
   "source": [
    "ans = []\n",
    "\n",
    "def divisor(n):\n",
    "    for i in range(1,int(pow(n,0.5))+1):\n",
    "        if(n%i==0):\n",
    "            ans.append(i)\n",
    "            if(i != n//i):\n",
    "                ans.append(n//i)\n",
    "divisor(36)\n",
    "\n",
    "print(sorted(ans))\n",
    "# beyond square root, the numbers will grow\n",
    "# instead of pow, we can also write, i*i <=n"
   ]
  },
  {
   "cell_type": "markdown",
   "metadata": {},
   "source": [
    "Check for prime\n",
    "\n",
    "A number which has only 2 factors, that is 1 and itself and no other factors or divisors"
   ]
  },
  {
   "cell_type": "code",
   "execution_count": 13,
   "metadata": {},
   "outputs": [
    {
     "name": "stdout",
     "output_type": "stream",
     "text": [
      "It is not a prime number\n"
     ]
    }
   ],
   "source": [
    "ans = []\n",
    "\n",
    "def prime(n):\n",
    "    k = int(pow(n,0.5))\n",
    "    for i in range(2,k+1):\n",
    "        if(n%i==0):\n",
    "            print('It is not a prime number')\n",
    "            break\n",
    "    else:\n",
    "        print('It is a prime number')\n",
    "prime(8)\n",
    "\n"
   ]
  },
  {
   "cell_type": "markdown",
   "metadata": {},
   "source": [
    "GCD or HCF\n",
    "\n",
    "Greatest Common Divisor \n",
    "Highest Common Factor"
   ]
  },
  {
   "cell_type": "code",
   "execution_count": 18,
   "metadata": {},
   "outputs": [
    {
     "name": "stdout",
     "output_type": "stream",
     "text": [
      "12\n"
     ]
    }
   ],
   "source": [
    "def hcf(a,b):\n",
    "    ans = 0\n",
    "    for i in range(1,int(pow(b,0.5))+1):\n",
    "        if(b%i==0):\n",
    "            if(a%i==0):\n",
    "                ans = max(i,ans)\n",
    "            if(a%(b//i)==0):\n",
    "                ans = max(b//i,ans)\n",
    "        \n",
    "    print(ans)\n",
    "\n",
    "hcf(36,24)\n",
    "\n",
    "#Since we care only the greatest one, we can start the loop in reverse "
   ]
  },
  {
   "cell_type": "code",
   "execution_count": 20,
   "metadata": {},
   "outputs": [
    {
     "name": "stdout",
     "output_type": "stream",
     "text": [
      "2\n"
     ]
    }
   ],
   "source": [
    "def hcf(a,b):\n",
    "    ans = 0\n",
    "    for i in range(int(pow(b,0.5))+1,0,-1):\n",
    "        if(b%i==0):\n",
    "            if(a%i==0):\n",
    "                ans = max(i,ans)\n",
    "            if(a%(b//i)==0):\n",
    "                ans = max(b//i,ans)\n",
    "        \n",
    "    print(ans)\n",
    "\n",
    "hcf(4,2)\n",
    "\n",
    "# Euclidean algorthim gcf(a,b) = gcf(a-b,b) given a > b\n",
    "# keep doing the algorithim until one becomes zero and return the other, that is the hcf"
   ]
  },
  {
   "cell_type": "code",
   "execution_count": 27,
   "metadata": {},
   "outputs": [
    {
     "name": "stdout",
     "output_type": "stream",
     "text": [
      "20\n"
     ]
    }
   ],
   "source": [
    "def gcd(a,b):\n",
    "    if(not a):\n",
    "        print(b)\n",
    "        return \n",
    "    if(not b):\n",
    "        print(a)\n",
    "        return\n",
    "    if(a < b):\n",
    "        a,b = b,a\n",
    "    gcd(a-b,b)\n",
    "\n",
    "gcd(40,20)\n",
    "\n",
    "#gcd(a,b) = gcd(a%b,b) given a>b is also same\n"
   ]
  },
  {
   "cell_type": "code",
   "execution_count": 28,
   "metadata": {},
   "outputs": [
    {
     "name": "stdout",
     "output_type": "stream",
     "text": [
      "20\n"
     ]
    }
   ],
   "source": [
    "def gcd(a,b):\n",
    "    if(not a):\n",
    "        print(b)\n",
    "        return \n",
    "    if(not b):\n",
    "        print(a)\n",
    "        return\n",
    "    if(a < b):\n",
    "        a,b = b,a\n",
    "    gcd(a%b,b)\n",
    "\n",
    "gcd(40,20)\n",
    "\n",
    "#gcd(a,b) = gcd(a%b,b) given a>b is also same\n"
   ]
  },
  {
   "cell_type": "markdown",
   "metadata": {},
   "source": [
    "Print all prime factors of a number\n",
    "\n",
    "combine both divisors and prime problem"
   ]
  },
  {
   "cell_type": "code",
   "execution_count": 16,
   "metadata": {},
   "outputs": [
    {
     "name": "stdout",
     "output_type": "stream",
     "text": [
      "2 11\n",
      "3 11\n",
      "{11}\n"
     ]
    }
   ],
   "source": [
    "s = set()\n",
    "def primeFactor(n):\n",
    "    for i in range(2,int(pow(n,0.5))+1):\n",
    "        print(i,n)\n",
    "        while(n%i==0):\n",
    "            s.add(i)\n",
    "            n = n//i\n",
    "        if(n == 1):\n",
    "            break\n",
    "    if(n!=1):\n",
    "        s.add(n)\n",
    "        \n",
    "primeFactor(11)\n",
    "\n",
    "print(s)\n",
    "\n"
   ]
  },
  {
   "cell_type": "markdown",
   "metadata": {},
   "source": [
    "Power exponentiation\n",
    "\n",
    "suppose if power is negative, divide the ans by 1 \n",
    "\n",
    "2^(-2) == 1/(2^2)"
   ]
  },
  {
   "cell_type": "code",
   "execution_count": 25,
   "metadata": {},
   "outputs": [
    {
     "name": "stdout",
     "output_type": "stream",
     "text": [
      "2 19 1\n",
      "2 18 2\n",
      "4 9 2\n",
      "4 8 8\n",
      "16 4 8\n",
      "256 2 8\n",
      "65536 1 8\n",
      "524288\n"
     ]
    }
   ],
   "source": [
    "def power(n,x,ans):\n",
    "    print(n,x,ans)\n",
    "    if(x == 1):\n",
    "        return ans*n\n",
    "    if(x%2==0):\n",
    "        n = n*n\n",
    "        x = x//2\n",
    "    else:\n",
    "        ans = ans * n\n",
    "        x = x-1\n",
    "    return power(n,x,ans)\n",
    "\n",
    "print(power(2,19,1))\n"
   ]
  },
  {
   "cell_type": "markdown",
   "metadata": {},
   "source": [
    "Print all prime till N (Sieve of Eratosthenes)"
   ]
  },
  {
   "cell_type": "code",
   "execution_count": 28,
   "metadata": {},
   "outputs": [
    {
     "name": "stdout",
     "output_type": "stream",
     "text": [
      "2\n",
      "3\n",
      "5\n",
      "7\n",
      "11\n",
      "13\n",
      "17\n",
      "19\n",
      "23\n"
     ]
    }
   ],
   "source": [
    "def prime(n):\n",
    "    primeArr = [1]*(n+1)\n",
    "    for i in range(2,n+1):\n",
    "        if(primeArr[i]):\n",
    "            print(i)\n",
    "            for j in range(i*i,n+1,i):\n",
    "                primeArr[j] = 0\n",
    "\n",
    "prime(25)\n",
    "\n",
    "\n"
   ]
  },
  {
   "cell_type": "markdown",
   "metadata": {},
   "source": [
    "Print count of primes from L to R"
   ]
  },
  {
   "cell_type": "markdown",
   "metadata": {},
   "source": [
    "Prime factorization"
   ]
  },
  {
   "cell_type": "code",
   "execution_count": 32,
   "metadata": {},
   "outputs": [
    {
     "name": "stdout",
     "output_type": "stream",
     "text": [
      "2\n",
      "2\n",
      "3\n",
      "3\n"
     ]
    }
   ],
   "source": [
    "s = set()\n",
    "def primeFactor(n):\n",
    "    for i in range(2,int(pow(n,0.5))+1):\n",
    "        while(n%i==0):\n",
    "            print(i)\n",
    "            n = n//i\n",
    "        if(n == 1):\n",
    "            break\n",
    "    if(n!=1):\n",
    "        print(n)\n",
    "        \n",
    "primeFactor(36)\n",
    "\n",
    "\n"
   ]
  },
  {
   "cell_type": "markdown",
   "metadata": {},
   "source": [
    "Bit manipulation"
   ]
  },
  {
   "cell_type": "markdown",
   "metadata": {},
   "source": [
    "Convert Decimal to binary"
   ]
  },
  {
   "cell_type": "code",
   "execution_count": 39,
   "metadata": {},
   "outputs": [
    {
     "name": "stdout",
     "output_type": "stream",
     "text": [
      "1000\n"
     ]
    }
   ],
   "source": [
    "def binary(n):\n",
    "    res = ''\n",
    "    while(n>0):\n",
    "        res = res + str(n%2)\n",
    "        n = n//2\n",
    "    print(res[::-1])\n",
    "\n",
    "binary(8)"
   ]
  },
  {
   "cell_type": "markdown",
   "metadata": {},
   "source": [
    "Convert Binary to Decimal\n",
    "\n",
    "int is 32 bits, computer always stores in binary format\n",
    "\n",
    "31st bit is for sign\n",
    "\n",
    "0 for positive\n",
    "\n",
    "1 for negative\n"
   ]
  },
  {
   "cell_type": "code",
   "execution_count": 44,
   "metadata": {},
   "outputs": [
    {
     "name": "stdout",
     "output_type": "stream",
     "text": [
      "16\n"
     ]
    }
   ],
   "source": [
    "def decimal(s):\n",
    "    result = 0\n",
    "    b = 1\n",
    "    for i in range(len(s)-1,-1,-1):\n",
    "        result = result + b*int(s[i])\n",
    "        b = b*2\n",
    "    print(result)\n",
    "\n",
    "decimal('10000')\n"
   ]
  },
  {
   "cell_type": "markdown",
   "metadata": {},
   "source": [
    "1's complement\n",
    "\n",
    "Flip all 1s to 0s and 0s to 1s"
   ]
  },
  {
   "cell_type": "code",
   "execution_count": null,
   "metadata": {},
   "outputs": [],
   "source": [
    "def one(n):\n",
    "    "
   ]
  },
  {
   "cell_type": "markdown",
   "metadata": {},
   "source": [
    "2's complement\n",
    "\n",
    "Find 1's complement and add 1 to it\n",
    "\n",
    "for storing negative number"
   ]
  },
  {
   "cell_type": "markdown",
   "metadata": {},
   "source": [
    "AND, OR, XOR, SHIFT and NOT\n",
    "\n",
    "AND - All true means true else False\n",
    "\n",
    "OR - Both False means False else True\n",
    "\n",
    "XOR - No. of 1s is odd then 1, else 0. If same 0 else 1\n",
    "\n",
    "right shift - 13>>1 bits will shift by 1 - formula - 13/2^k where k is the no of bits we are shifting\n",
    "\n",
    "left shift - 13<<1 13*(2^k)\n",
    "\n",
    "NOT - Flip, if negative then convert to 2s complement else leave\n",
    "\n"
   ]
  },
  {
   "cell_type": "markdown",
   "metadata": {},
   "source": [
    "Interesting Facts About Bitwise Operators\n",
    "\n",
    "The left-shift and right-shift operators should not be used for negative numbers.\n",
    "\n",
    "The left-shift and right-shift operators are equivalent to multiplication and division by 2 respectively.\n",
    "\n",
    "The & operator can be used to quickly check if a number is odd or even - The value of the expression (x & 1) would be non-zero only if x is odd, otherwise, the value would be zero. \n",
    "\n",
    "The ~ operator should be used carefully. The result of the ~ operator on a small number can be a big number if the result is stored in an unsigned variable. The result may be a negative number if the result is stored in a signed variable"
   ]
  },
  {
   "cell_type": "markdown",
   "metadata": {},
   "source": [
    "Swap 2 numbers"
   ]
  },
  {
   "cell_type": "code",
   "execution_count": 45,
   "metadata": {},
   "outputs": [
    {
     "name": "stdout",
     "output_type": "stream",
     "text": [
      "2 5\n"
     ]
    }
   ],
   "source": [
    "a = 5\n",
    "b = 2\n",
    "\n",
    "a = a^b\n",
    "b = a^b\n",
    "a = a^b\n",
    "\n",
    "print(a,b)"
   ]
  },
  {
   "cell_type": "markdown",
   "metadata": {},
   "source": [
    "Check if i-th bit is set or not\n",
    "\n",
    "there are 2 ways:\n",
    "1. convert to binary and check for i th bit\n",
    "2. shift operators"
   ]
  },
  {
   "cell_type": "code",
   "execution_count": 46,
   "metadata": {},
   "outputs": [
    {
     "name": "stdout",
     "output_type": "stream",
     "text": [
      "True\n"
     ]
    }
   ],
   "source": [
    "n = 13 # 1101\n",
    "i = 2 \n",
    "\n",
    "b = 1 << i\n",
    "if(n&b):\n",
    "    print(True)\n",
    "else:\n",
    "    print(False)\n",
    "\n"
   ]
  },
  {
   "cell_type": "markdown",
   "metadata": {},
   "source": [
    "Set the i-th bit"
   ]
  },
  {
   "cell_type": "code",
   "execution_count": 47,
   "metadata": {},
   "outputs": [
    {
     "name": "stdout",
     "output_type": "stream",
     "text": [
      "13\n"
     ]
    }
   ],
   "source": [
    "n = 9 # 10001\n",
    "i = 2\n",
    "\n",
    "b = 1<<i\n",
    "print(n | b)"
   ]
  },
  {
   "cell_type": "markdown",
   "metadata": {},
   "source": [
    "Clear the i-th bit"
   ]
  },
  {
   "cell_type": "code",
   "execution_count": 48,
   "metadata": {},
   "outputs": [
    {
     "name": "stdout",
     "output_type": "stream",
     "text": [
      "9\n"
     ]
    }
   ],
   "source": [
    "n = 13 # 1101\n",
    "i = 2\n",
    "\n",
    "b = 1<<i\n",
    "b = ~b\n",
    "print(n & b)"
   ]
  },
  {
   "cell_type": "markdown",
   "metadata": {},
   "source": [
    "Toggle the i-th bit"
   ]
  },
  {
   "cell_type": "code",
   "execution_count": 50,
   "metadata": {},
   "outputs": [
    {
     "name": "stdout",
     "output_type": "stream",
     "text": [
      "15\n"
     ]
    }
   ],
   "source": [
    "n = 13 # 1101\n",
    "i = 1\n",
    "\n",
    "b = 1<<i\n",
    "print(n ^ b)"
   ]
  },
  {
   "cell_type": "markdown",
   "metadata": {},
   "source": [
    "Remove the last set bit (right most)"
   ]
  },
  {
   "cell_type": "code",
   "execution_count": 59,
   "metadata": {},
   "outputs": [
    {
     "name": "stdout",
     "output_type": "stream",
     "text": [
      "12\n",
      "12\n"
     ]
    }
   ],
   "source": [
    "n = 14\n",
    "i = 1\n",
    "\n",
    "while(True):\n",
    "    if(n&i):\n",
    "        break\n",
    "    i = i << 1\n",
    "\n",
    "i = ~i\n",
    "\n",
    "print(n&i)\n",
    "\n",
    "print(n&(n-1))\n",
    "\n"
   ]
  },
  {
   "cell_type": "markdown",
   "metadata": {},
   "source": [
    "Set the rightmost unset bit"
   ]
  },
  {
   "cell_type": "code",
   "execution_count": 1,
   "metadata": {},
   "outputs": [
    {
     "name": "stdout",
     "output_type": "stream",
     "text": [
      "31\n"
     ]
    }
   ],
   "source": [
    "class Solution:\n",
    "    def setBit(self, n):\n",
    "            i = 1\n",
    "            while(n):\n",
    "                if((n&i)==0):\n",
    "                    n = n|i\n",
    "                    return n\n",
    "                i = i<<1\n",
    "obj = Solution()\n",
    "print(obj.setBit(15))"
   ]
  },
  {
   "cell_type": "markdown",
   "metadata": {},
   "source": [
    "Check if the number is a power of 2"
   ]
  },
  {
   "cell_type": "code",
   "execution_count": 62,
   "metadata": {},
   "outputs": [
    {
     "name": "stdout",
     "output_type": "stream",
     "text": [
      "No\n"
     ]
    }
   ],
   "source": [
    "n = 12\n",
    "if(n&(n-1)==0):\n",
    "    print('It is a power of 2')\n",
    "else:\n",
    "    print('No')"
   ]
  },
  {
   "cell_type": "markdown",
   "metadata": {},
   "source": [
    "Count the no of set bits"
   ]
  },
  {
   "cell_type": "code",
   "execution_count": null,
   "metadata": {},
   "outputs": [
    {
     "name": "stdout",
     "output_type": "stream",
     "text": [
      "3\n",
      "3\n"
     ]
    }
   ],
   "source": [
    "n = 14 # 1110-\n",
    "cnt = 0\n",
    "\n",
    "while(n>0):\n",
    "    cnt += n%2\n",
    "    n = n//2\n",
    "print(cnt)\n",
    "\n",
    "# Another way\n",
    "\n",
    "n = 14\n",
    "c= 0\n",
    "while(n>0):\n",
    "    n = n&(n-1)\n",
    "    c = c+1\n",
    "print(c)"
   ]
  },
  {
   "cell_type": "markdown",
   "metadata": {},
   "source": [
    "Minimum bit flips to convert a number"
   ]
  },
  {
   "cell_type": "code",
   "execution_count": 67,
   "metadata": {},
   "outputs": [
    {
     "name": "stdout",
     "output_type": "stream",
     "text": [
      "3\n"
     ]
    }
   ],
   "source": [
    "n = 10 # 1010\n",
    "target = 7 # 0111\n",
    "\n",
    "ans = n ^ target\n",
    "no = 0\n",
    "while(ans>0):\n",
    "    ans = ans & (ans-1)\n",
    "    no = no + 1\n",
    "print(no)\n"
   ]
  },
  {
   "cell_type": "markdown",
   "metadata": {},
   "source": [
    "Power set - Print all subsets\n",
    "\n",
    "if n is the length, we get 2^n subsets as total"
   ]
  },
  {
   "cell_type": "code",
   "execution_count": 78,
   "metadata": {},
   "outputs": [
    {
     "name": "stdout",
     "output_type": "stream",
     "text": [
      "[]\n",
      "[1]\n",
      "[2]\n",
      "[1, 2]\n",
      "[3]\n",
      "[1, 3]\n",
      "[2, 3]\n",
      "[1, 2, 3]\n"
     ]
    }
   ],
   "source": [
    "arr = [1,2,3]\n",
    "n = len(arr)\n",
    "t = 1 << n\n",
    "\n",
    "for i in range(t):\n",
    "    subset = []\n",
    "    for j in range(n):\n",
    "        if(i&(1<<j)):\n",
    "            subset.append(arr[j])\n",
    "    print(subset)\n",
    "\n",
    "\n"
   ]
  },
  {
   "cell_type": "markdown",
   "metadata": {},
   "source": [
    "Single number - 1"
   ]
  },
  {
   "cell_type": "code",
   "execution_count": 80,
   "metadata": {},
   "outputs": [
    {
     "name": "stdout",
     "output_type": "stream",
     "text": [
      "4\n"
     ]
    }
   ],
   "source": [
    "nums = [1,1,3,3,4]\n",
    "def singleNumber(nums):\n",
    "        ele = 0\n",
    "        for i in nums:\n",
    "            ele = i ^ ele\n",
    "        return ele\n",
    "print(singleNumber(nums))"
   ]
  },
  {
   "cell_type": "markdown",
   "metadata": {},
   "source": [
    "Single number - 2\n",
    "\n",
    "number appears thrice, except for one, find that num"
   ]
  },
  {
   "cell_type": "code",
   "execution_count": null,
   "metadata": {},
   "outputs": [],
   "source": [
    "nums = [1,1,1,3,3,3,4]\n",
    "ones = 0\n",
    "twos = 0\n",
    "def singleNumber(nums):\n",
    "    nums = nums ^ (nums-1) | \n",
    "        \n",
    "print(singleNumber(nums))"
   ]
  },
  {
   "cell_type": "markdown",
   "metadata": {},
   "source": [
    "Single number - 3\n",
    "\n",
    "number appears 2 except for 2 numbers"
   ]
  },
  {
   "cell_type": "markdown",
   "metadata": {},
   "source": [
    "XOR of numbers in a given range"
   ]
  },
  {
   "cell_type": "markdown",
   "metadata": {},
   "source": [
    "Divide two integers without division operators"
   ]
  },
  {
   "cell_type": "code",
   "execution_count": null,
   "metadata": {},
   "outputs": [],
   "source": []
  }
 ],
 "metadata": {
  "kernelspec": {
   "display_name": "Python 3",
   "language": "python",
   "name": "python3"
  },
  "language_info": {
   "codemirror_mode": {
    "name": "ipython",
    "version": 3
   },
   "file_extension": ".py",
   "mimetype": "text/x-python",
   "name": "python",
   "nbconvert_exporter": "python",
   "pygments_lexer": "ipython3",
   "version": "3.10.5"
  }
 },
 "nbformat": 4,
 "nbformat_minor": 2
}
