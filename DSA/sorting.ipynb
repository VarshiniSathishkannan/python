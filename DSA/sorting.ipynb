{
 "cells": [
  {
   "cell_type": "markdown",
   "metadata": {},
   "source": [
    "Selection Sort\n",
    "\n",
    "sorts from start, min element\n",
    "gets the minimum and swap in the first position and so on\n",
    "\n",
    "Time complexity\n",
    "best,worst and average O(n^2) \n",
    "\n",
    "Space complexity\n",
    "O(1)"
   ]
  },
  {
   "cell_type": "code",
   "execution_count": 5,
   "metadata": {},
   "outputs": [
    {
     "name": "stdout",
     "output_type": "stream",
     "text": [
      "[5, 4, 3, 2, 1]\n",
      "[1, 5, 4, 3, 2]\n",
      "[1, 2, 5, 4, 3]\n",
      "[1, 2, 3, 5, 4]\n",
      "[1, 2, 3, 4, 5]\n"
     ]
    }
   ],
   "source": [
    "def selection(l):\n",
    "    for i in range(len(l)-1):\n",
    "        min = l[i]\n",
    "        print(l)\n",
    "        for j in range(i,len(l)):\n",
    "            if(l[j]<min):\n",
    "                l[i],l[j] = l[j],l[i]\n",
    "    return l\n",
    "\n",
    "print(selection([5,4,3,2,1]))"
   ]
  },
  {
   "cell_type": "markdown",
   "metadata": {},
   "source": [
    "Below sorts from end, this is actually bubble sort"
   ]
  },
  {
   "cell_type": "code",
   "execution_count": 4,
   "metadata": {},
   "outputs": [
    {
     "name": "stdout",
     "output_type": "stream",
     "text": [
      "[4, 3, 2, 1, 5]\n",
      "[3, 2, 1, 4, 5]\n",
      "[2, 1, 3, 4, 5]\n",
      "[1, 2, 3, 4, 5]\n",
      "[1, 2, 3, 4, 5]\n",
      "[1, 2, 3, 4, 5]\n"
     ]
    }
   ],
   "source": [
    "def selection(l):\n",
    "    for i in range(len(l)):\n",
    "        for j in range(len(l)-1-i):\n",
    "            if(l[j]>l[j+1]):\n",
    "                l[j],l[j+1] = l[j+1],l[j]\n",
    "        print(l)\n",
    "    return l\n",
    "\n",
    "print(selection([5,4,3,2,1]))"
   ]
  },
  {
   "cell_type": "markdown",
   "metadata": {},
   "source": [
    "Bubble Sort\n",
    "\n",
    "Sorts from End\n",
    "Next element comparison for n loop\n",
    "\n",
    "Time complexity\n",
    "Best - O(n)\n",
    "worst, average - O(n^2)\n",
    "\n",
    "Space complexity\n",
    "O(1)"
   ]
  },
  {
   "cell_type": "code",
   "execution_count": 12,
   "metadata": {},
   "outputs": [
    {
     "name": "stdout",
     "output_type": "stream",
     "text": [
      "[1, 2, 3]\n"
     ]
    }
   ],
   "source": [
    "def bubble(l):\n",
    "    for i in range(len(l)):\n",
    "        flag = 1\n",
    "        for j in range(len(l)-1-i):\n",
    "            if(l[j]>l[j+1]):\n",
    "                t = l[j]\n",
    "                l[j] = l[j+1]\n",
    "                l[j+1]=t\n",
    "                flag = 0\n",
    "        if(flag):\n",
    "            break\n",
    "    return l\n",
    "\n",
    "print(bubble([3,2,1]))\n",
    "\n"
   ]
  },
  {
   "cell_type": "markdown",
   "metadata": {},
   "source": [
    "Insertion sort\n",
    "\n",
    "Places the element in the correct postion\n",
    "if the key element is smaller than its predecessor, compare it to the elements before. \n",
    "Move the greater elements one position up to make space for the swapped element.\n",
    "\n",
    "https://www.geeksforgeeks.org/insertion-sort-algorithm/\n",
    "\n",
    "Time complexity\n",
    "Best - O(n)\n",
    "worst, average - O(n^2)\n",
    "\n",
    "Space complexity\n",
    "O(1)"
   ]
  },
  {
   "cell_type": "code",
   "execution_count": 14,
   "metadata": {},
   "outputs": [
    {
     "name": "stdout",
     "output_type": "stream",
     "text": [
      "[1, 2, 3]\n"
     ]
    }
   ],
   "source": [
    "def insertion(l):\n",
    "    for i in range(1,len(l)):\n",
    "        ele = l[i]\n",
    "        j = i-1\n",
    "        while(j>=0 and ele<l[j]):\n",
    "            l[j+1] = l[j]\n",
    "            j = j-1\n",
    "        l[j+1] = ele\n",
    "    return l\n",
    "\n",
    "print(insertion([3,2,1]))\n"
   ]
  },
  {
   "cell_type": "markdown",
   "metadata": {},
   "source": [
    "Merge sort\n",
    "\n",
    "Divide and conquer\n",
    "Recursive funtion\n",
    "\n",
    "Time complexity\n",
    "Best, average and worst - n*log(n)\n",
    "\n",
    "space complexity\n",
    "O(n)"
   ]
  },
  {
   "cell_type": "code",
   "execution_count": 10,
   "metadata": {},
   "outputs": [
    {
     "name": "stdout",
     "output_type": "stream",
     "text": [
      "3 [10, 9, 6] [3, 5, 1, 2]\n",
      "1 [10] [9, 6]\n",
      "1 [9] [6]\n",
      "[9] [6] [9, 6]\n",
      "l = [6, 9]\n",
      "[10] [6, 9] [10, 9, 6]\n",
      "l = [6, 9, 10]\n",
      "2 [3, 5] [1, 2]\n",
      "1 [3] [5]\n",
      "[3] [5] [3, 5]\n",
      "l = [3, 5]\n",
      "1 [1] [2]\n",
      "[1] [2] [1, 2]\n",
      "l = [1, 2]\n",
      "[3, 5] [1, 2] [3, 5, 1, 2]\n",
      "l = [1, 2, 3, 5]\n",
      "[6, 9, 10] [1, 2, 3, 5] [10, 9, 6, 3, 5, 1, 2]\n",
      "l = [1, 2, 3, 5, 6, 9, 10]\n",
      "[1, 2, 3, 5, 6, 9, 10]\n"
     ]
    }
   ],
   "source": [
    "def merge(l):\n",
    "    if(len(l)>1):\n",
    "        mid = len(l)//2\n",
    "        left = l[:mid]\n",
    "        right = l[mid:]\n",
    "        print(mid,left,right)\n",
    "        merge(left) \n",
    "        merge(right) \n",
    "        i = j = k = 0\n",
    "        print(left,right,l)\n",
    "\n",
    "        while i < len(left) and j < len(right):\n",
    "            if left[i] <= right[j]:\n",
    "                l[k] = left[i]\n",
    "                i += 1\n",
    "            else:\n",
    "                l[k] = right[j]\n",
    "                j += 1\n",
    "            k += 1\n",
    " \n",
    "        while i < len(left):\n",
    "            l[k] = left[i]\n",
    "            i += 1\n",
    "            k += 1\n",
    " \n",
    "        while j < len(right):\n",
    "            l[k] = right[j]\n",
    "            j += 1\n",
    "            k += 1\n",
    "        print(f\"l = {l}\")\n",
    "    return l\n",
    "\n",
    "print(merge([10,9,6,3,5,1,2]))\n",
    "\n"
   ]
  },
  {
   "cell_type": "markdown",
   "metadata": {},
   "source": [
    "Quick sort\n",
    "\n",
    "Divide and conquer method\n",
    "Recursive function\n",
    "space complexity is less - used the same array - merge sort used 2 different arrays in addition to the original array\n",
    "pivot element gets sorted in each partition\n",
    "pivot element will be placed in the correct position\n",
    "\n",
    "Time complexity\n",
    "Best, worst, average - O(nlogn)\n",
    "\n",
    "Space complexity\n",
    "O(1) - Only stack space"
   ]
  },
  {
   "cell_type": "code",
   "execution_count": 11,
   "metadata": {},
   "outputs": [
    {
     "name": "stdout",
     "output_type": "stream",
     "text": [
      "[1, 1, 2, 2, 3, 4, 4, 5, 6, 7, 8, 9, 10, 11]\n"
     ]
    }
   ],
   "source": [
    "def partition(array, low, high):\n",
    "    pivot = array[low]\n",
    "    i = low+1\n",
    "    j = high\n",
    "    while True:\n",
    "        while(i <= j and array[j] >= pivot):\n",
    "            j = j - 1\n",
    " \n",
    "        while(i <= j and array[i] <= pivot):\n",
    "            i = i + 1\n",
    "        if i < j:\n",
    "            array[i], array[j] = array[j], array[i]\n",
    "        else:\n",
    "            break\n",
    " \n",
    "    array[low], array[j] = array[j], array[low]\n",
    "    return j\n",
    "    \n",
    "\n",
    "def quicksort(array, low=0, high=None):\n",
    "    if(high == None):\n",
    "        high = len(array)-1\n",
    "    if low < high:\n",
    "        pi = partition(array, low, high)\n",
    "        quicksort(array, low, pi-1)\n",
    "        quicksort(array, pi+1, high)\n",
    "    \n",
    "array = [10,9,6,3,5,1,2,11,2,1,4,7,8,4]\n",
    "quicksort(array)\n",
    "print(array)\n",
    "\n"
   ]
  },
  {
   "cell_type": "markdown",
   "metadata": {},
   "source": [
    "Count sort\n",
    "\n",
    "How fast the Counting Sort algorithm runs depends on both the range of possible values k and the number of values n.\n",
    "\n",
    "In general, time complexity for Counting Sort is O(n+k).\n",
    "\n",
    "In a best case scenario, the range of possible different values kis very small compared to the number of values n and Counting Sort has time complexity O(n).\n",
    "\n",
    "But in a worst case scenario, the range of possible different values k is very big compared to the number of values n and Counting Sort can have time complexity O(n2) or even worse."
   ]
  },
  {
   "cell_type": "code",
   "execution_count": 12,
   "metadata": {},
   "outputs": [
    {
     "name": "stdout",
     "output_type": "stream",
     "text": [
      "Sorted array: [1, 2, 2, 2, 3, 3, 3, 4, 5, 6, 6]\n"
     ]
    }
   ],
   "source": [
    "def countingSort(arr):\n",
    "    max_val = max(arr)\n",
    "    count = [0] * (max_val + 1)\n",
    "\n",
    "    while len(arr) > 0:\n",
    "        num = arr.pop(0)\n",
    "        count[num] += 1\n",
    "\n",
    "    for i in range(len(count)):\n",
    "        while count[i] > 0:\n",
    "            arr.append(i)\n",
    "            count[i] -= 1\n",
    "\n",
    "    return arr\n",
    "\n",
    "unsortedArr = [4, 2, 2, 6, 3, 3, 1, 6, 5, 2, 3]\n",
    "sortedArr = countingSort(unsortedArr)\n",
    "print(\"Sorted array:\", sortedArr)"
   ]
  },
  {
   "cell_type": "markdown",
   "metadata": {},
   "source": [
    "Radix sort\n",
    "\n",
    "The time complexity for Radix Sort is: O(n⋅k)\n",
    "\n",
    "This means that Radix Sort depends both on the values that need to be sorted n, and the number of digits in the highest value k.\n",
    "\n",
    "A best case scenario for Radix Sort is if there are lots of values to sort, but the values have few digits. For example if there are more than a million values to sort, and the highest value is 999, with just three digits. In such a case the time complexity \n",
    "O(n⋅k) can be simplified to just O(n).\n",
    "\n",
    "A worst case scenario for Radix Sort would be if there are as many digits in the highest value as there are values to sort. This is perhaps not a common scenario, but the time complexity would be O(n2) in this case."
   ]
  },
  {
   "cell_type": "code",
   "execution_count": 2,
   "metadata": {},
   "outputs": [
    {
     "name": "stdout",
     "output_type": "stream",
     "text": [
      "Original array: [170, 45, 75, 90, 802, 24, 2, 66]\n",
      "[[90, 170], [], [2, 802], [], [24], [75, 45], [66], [], [], []]\n",
      "[170, 90, 802, 2, 24, 45, 75, 66]\n",
      "[[2, 802], [], [24], [], [45], [], [66], [75, 170], [], [90]]\n",
      "[802, 2, 24, 45, 66, 170, 75, 90]\n",
      "[[90, 75, 66, 45, 24, 2], [170], [], [], [], [], [], [], [802], []]\n",
      "[2, 24, 45, 66, 75, 90, 170, 802]\n",
      "Sorted array: [2, 24, 45, 66, 75, 90, 170, 802]\n"
     ]
    }
   ],
   "source": [
    "myArray = [170, 45, 75, 90, 802, 24, 2, 66]\n",
    "print(\"Original array:\", myArray)\n",
    "radixArray = [[], [], [], [], [], [], [], [], [], []]\n",
    "maxVal = max(myArray)\n",
    "exp = 1\n",
    "\n",
    "while maxVal // exp > 0:\n",
    "\n",
    "    while len(myArray) > 0:\n",
    "        val = myArray.pop()\n",
    "        radixIndex = (val // exp) % 10\n",
    "        radixArray[radixIndex].append(val)\n",
    "    print(radixArray)\n",
    "    for bucket in radixArray:\n",
    "        while len(bucket) > 0:\n",
    "            val = bucket.pop()\n",
    "            myArray.append(val)\n",
    "    print(myArray)\n",
    "    exp *= 10\n",
    "\n",
    "print(\"Sorted array:\", myArray)"
   ]
  },
  {
   "cell_type": "code",
   "execution_count": 4,
   "metadata": {},
   "outputs": [
    {
     "name": "stdout",
     "output_type": "stream",
     "text": [
      "[0, 0, 0, 0, 0, 0, 0, 0, 0, 0, 0, 0, 0, 0, 0, 0, 0, 0, 0, 0, 0, 0, 0, 0, 0, 0]\n",
      "1\n",
      "2\n",
      "3\n",
      "4\n",
      "5\n",
      "6\n",
      "7\n",
      "8\n",
      "9\n",
      "10\n",
      "11\n",
      "12\n",
      "13\n",
      "14\n",
      "15\n",
      "16\n",
      "17\n",
      "18\n",
      "19\n",
      "20\n",
      "21\n",
      "22\n",
      "23\n",
      "24\n",
      "25\n",
      "26\n",
      "pangram\n",
      "`\n"
     ]
    }
   ],
   "source": [
    "#!/bin/python3\n",
    "\n",
    "import math\n",
    "import os\n",
    "import random\n",
    "import re\n",
    "import sys\n",
    "\n",
    "#\n",
    "# Complete the 'pangrams' function below.\n",
    "#\n",
    "# The function is expected to return a STRING.\n",
    "# The function accepts STRING s as parameter.\n",
    "#\n",
    "\n",
    "def pangrams(s):\n",
    "    letters = [0 for i in range(26)]\n",
    "    print(letters)\n",
    "    total = 0\n",
    "    for i in s:\n",
    "        if(i != ' '):\n",
    "            l = i.lower()\n",
    "            if letters[ord(l)-ord('a')]:\n",
    "                continue\n",
    "            else:\n",
    "                letters[ord(l)-ord('a')] = 1\n",
    "                total+=1\n",
    "                print(total)\n",
    "\n",
    "    if(total==26):\n",
    "        return 'pangram'\n",
    "    else:\n",
    "        return 'not pangram'\n",
    "        \n",
    "print(pangrams('We promptly judged antique ivory buckles for the next prize'))\n",
    "\n"
   ]
  },
  {
   "cell_type": "code",
   "execution_count": 6,
   "metadata": {},
   "outputs": [
    {
     "name": "stdout",
     "output_type": "stream",
     "text": [
      "B\n"
     ]
    }
   ],
   "source": [
    "print(chr(66))\n"
   ]
  },
  {
   "cell_type": "markdown",
   "metadata": {},
   "source": [
    "Median of an array with odd numbers"
   ]
  },
  {
   "cell_type": "code",
   "execution_count": 37,
   "metadata": {},
   "outputs": [
    {
     "name": "stdout",
     "output_type": "stream",
     "text": [
      "low = 0 and high = 6\n",
      "pivot = 10 i = 1 j = 6\n",
      "[4, 9, 8, 7, 6, 5, 10]\n",
      "Pi = 6 ele 10\n",
      "low = 0 and high = 5\n",
      "pivot = 4 i = 1 j = 5\n",
      "[4, 9, 8, 7, 6, 5, 10]\n",
      "Pi = 0 ele 4\n",
      "low = 1 and high = 5\n",
      "pivot = 9 i = 2 j = 5\n",
      "[4, 5, 8, 7, 6, 9, 10]\n",
      "Pi = 5 ele 9\n",
      "low = 1 and high = 4\n",
      "pivot = 5 i = 2 j = 4\n",
      "[4, 5, 8, 7, 6, 9, 10]\n",
      "Pi = 1 ele 5\n",
      "low = 2 and high = 4\n",
      "pivot = 8 i = 3 j = 4\n",
      "[4, 5, 6, 7, 8, 9, 10]\n",
      "Pi = 4 ele 8\n",
      "low = 2 and high = 3\n",
      "pivot = 6 i = 3 j = 3\n",
      "[4, 5, 6, 7, 8, 9, 10]\n",
      "Pi = 2 ele 6\n",
      "[4, 5, 6, 7, 8, 9, 10]\n"
     ]
    }
   ],
   "source": [
    "def partition(array, low, high):\n",
    "    pivot = array[low]\n",
    "    i = low+1\n",
    "    j = high\n",
    "    print(f\"pivot = {pivot} i = {i} j = {j}\")\n",
    "    while True:\n",
    "        while(i <= j and array[j] >= pivot):\n",
    "            j = j - 1\n",
    " \n",
    "        while(i <= j and array[i] <= pivot):\n",
    "            i = i + 1\n",
    "        if i < j:\n",
    "            array[i], array[j] = array[j], array[i]\n",
    "        else:\n",
    "            break\n",
    " \n",
    "    array[low], array[j] = array[j], array[low]\n",
    "    print(array)\n",
    "    return j\n",
    "    \n",
    "\n",
    "def quicksort(array, low, high,k):\n",
    "    if low < high:\n",
    "        print(f\"low = {low} and high = {high}\")\n",
    "        pi = partition(array, low, high)\n",
    "        print(f\"Pi = {pi} ele {array[pi]}\")\n",
    "        # if(pi == k):\n",
    "        #     print(array[pi])\n",
    "        quicksort(array, low, pi-1,k)\n",
    "        quicksort(array, pi+1, high,k)\n",
    "    \n",
    "array = [10,9,8,7,6,5,4]\n",
    "quicksort(array,0,6,6//2)\n",
    "print(array)\n",
    "\n"
   ]
  },
  {
   "cell_type": "code",
   "execution_count": 22,
   "metadata": {},
   "outputs": [
    {
     "name": "stdout",
     "output_type": "stream",
     "text": [
      "[1, 2, 6, 3, 5, 10, 9]\n",
      "[1, 2, 6, 3, 5, 9, 10]\n",
      "[1, 2, 5, 3, 6, 9, 10]\n",
      "[1, 2, 3, 5, 6, 9, 10]\n",
      "Median: 5\n"
     ]
    }
   ],
   "source": [
    "import random\n",
    "\n",
    "def quickselect(arr, low, high, k):\n",
    "    # Partition function to reorder the array based on the pivot\n",
    "    def partition(arr, low, high):\n",
    "        pivot = arr[high]\n",
    "        i = low - 1\n",
    "        for j in range(low, high):\n",
    "            if arr[j] <= pivot:\n",
    "                i += 1\n",
    "                arr[i], arr[j] = arr[j], arr[i]\n",
    "        arr[i + 1], arr[high] = arr[high], arr[i + 1]\n",
    "        print(arr)\n",
    "        return i + 1\n",
    "\n",
    "    if low <= high:\n",
    "        pivot_index = random.randint(low, high)\n",
    "        arr[pivot_index], arr[high] = arr[high], arr[pivot_index]  # Swap pivot to end\n",
    "\n",
    "        partition_index = partition(arr, low, high)\n",
    "\n",
    "        # If the partition index is the k-th element, return it\n",
    "        if partition_index == k:\n",
    "            return arr[partition_index]\n",
    "        elif partition_index < k:\n",
    "            return quickselect(arr, partition_index + 1, high, k)\n",
    "        else:\n",
    "            return quickselect(arr, low, partition_index - 1, k)\n",
    "\n",
    "def find_median(arr):\n",
    "    n = len(arr)\n",
    "    k = n // 2  # Median index (since n is odd)\n",
    "    return quickselect(arr, 0, n - 1, k)\n",
    "\n",
    "# Example usage\n",
    "arr = [2, 9, 6, 3, 5, 1, 10]\n",
    "median_value = find_median(arr)\n",
    "print(\"Median:\", median_value)\n"
   ]
  },
  {
   "cell_type": "markdown",
   "metadata": {},
   "source": [
    "Merge colours"
   ]
  },
  {
   "cell_type": "code",
   "execution_count": 27,
   "metadata": {},
   "outputs": [
    {
     "name": "stdout",
     "output_type": "stream",
     "text": [
      "[2]\n"
     ]
    }
   ],
   "source": [
    "class Solution:\n",
    "    def sortColors(self, nums: list[int]) -> None:\n",
    "        i = 0\n",
    "        j = 0\n",
    "        k = len(nums)-1\n",
    "        while(k>=0 and nums[k]==2):\n",
    "            k = k-1\n",
    "        while(i<len(nums) and nums[i]==0):\n",
    "            i = i+1\n",
    "        if(i>j):\n",
    "            j = i\n",
    "        while(j<=k):\n",
    "            print(nums)\n",
    "            if(nums[j]==2 and nums[k]!=2):\n",
    "                nums[j],nums[k] = nums[k],nums[j]\n",
    "                k-=1\n",
    "            if(nums[j]==0 and nums[i]!=0):\n",
    "                nums[j],nums[i] = nums[i],nums[j]\n",
    "                i+=1\n",
    "            j+=1\n",
    "            while(k>=0 and nums[k]==2):\n",
    "                    k = k-1\n",
    "            while(i<len(nums) and nums[i]==0):\n",
    "                i = i+1\n",
    "            if(i>j):\n",
    "                j = i\n",
    "        return nums\n",
    "   \n",
    "obj = Solution()\n",
    "print(obj.sortColors([2]))"
   ]
  },
  {
   "cell_type": "markdown",
   "metadata": {},
   "source": [
    "Merge sort practise"
   ]
  },
  {
   "cell_type": "code",
   "execution_count": 1,
   "metadata": {},
   "outputs": [
    {
     "name": "stdout",
     "output_type": "stream",
     "text": [
      "[1, 1, 2, 2, 4, 5, 8]\n"
     ]
    }
   ],
   "source": [
    "def mergeSort(l):\n",
    "    if(len(l)>1):\n",
    "        mid = len(l)//2\n",
    "        left = l[:mid]\n",
    "        right = l[mid:]\n",
    "        mergeSort(left)\n",
    "        mergeSort(right)\n",
    "        i = j = k = 0\n",
    "        while(i<len(left) and j<len(right)):\n",
    "            if(left[i]<right[j]):\n",
    "                l[k] = left[i]\n",
    "                i+=1\n",
    "                k+=1\n",
    "            else:\n",
    "                l[k] = right[j]\n",
    "                j+=1\n",
    "                k+=1\n",
    "        while(i<len(left)):\n",
    "            l[k] = left[i]\n",
    "            i+=1\n",
    "            k+=1\n",
    "        while(j<len(right)):\n",
    "            l[k] = right[j]\n",
    "            j+=1\n",
    "            k+=1\n",
    "    \n",
    "    \n",
    "    \n",
    "l = [2,5,1,8,2,4,1] \n",
    "mergeSort(l)\n",
    "print(l)"
   ]
  },
  {
   "cell_type": "markdown",
   "metadata": {},
   "source": [
    "5 4 3 2 1\n",
    "6 9 1 5 2 9\n",
    "6 2 1 5 9 9"
   ]
  },
  {
   "cell_type": "markdown",
   "metadata": {},
   "source": [
    "quick sort practise"
   ]
  },
  {
   "cell_type": "code",
   "execution_count": 5,
   "metadata": {},
   "outputs": [
    {
     "name": "stdout",
     "output_type": "stream",
     "text": [
      "2 8\n",
      "5 4\n",
      "2 3\n",
      "3 2\n",
      "1 0\n",
      "10 9\n",
      "7 6\n",
      "9 8\n",
      "[1, 2, 2, 3, 5, 5, 5, 6, 7, 9]\n"
     ]
    }
   ],
   "source": [
    "def partition(array,low,high):\n",
    "    pivot = array[low]\n",
    "    i = low+1\n",
    "    j = high\n",
    "    while(True):\n",
    "        while(i<=j and array[i]<=pivot):\n",
    "            i+=1\n",
    "        while(j>=i and array[j]>=pivot):\n",
    "            j-=1\n",
    "        print(i,j)\n",
    "        if(i<j):\n",
    "            array[i],array[j]=array[j],array[i]\n",
    "        else:\n",
    "            break\n",
    "    array[low],array[j]=array[j],array[low]\n",
    "    return j\n",
    "            \n",
    "\n",
    "def quicksort(array,low=0,high=None):\n",
    "    if(high == None):\n",
    "        high = len(array)-1\n",
    "    if(low<high):\n",
    "        p = partition(array,low,high)\n",
    "        quicksort(array,low,p-1)\n",
    "        quicksort(array,p+1,high)\n",
    "\n",
    "temp = [5,2,6,1,2,9,5,7,3,5]\n",
    "quicksort(temp)\n",
    "print(temp)"
   ]
  },
  {
   "cell_type": "code",
   "execution_count": 6,
   "metadata": {},
   "outputs": [
    {
     "name": "stdout",
     "output_type": "stream",
     "text": [
      "[1, 2, 3, 4, 5]\n"
     ]
    }
   ],
   "source": [
    "def partition(arr,l,h):\n",
    "    pivot = arr[l]\n",
    "    i = l+1\n",
    "    j = h\n",
    "    while(True):\n",
    "        while(i<=j and arr[j]>=pivot):\n",
    "            j-=1\n",
    "        while(i<=j and arr[i]<=pivot):\n",
    "            i+=1\n",
    "        if(i<j):\n",
    "            arr[i],arr[j]=arr[j],arr[i]\n",
    "        else:\n",
    "            break\n",
    "    arr[l],arr[j] = arr[j],arr[l]\n",
    "    return j\n",
    "\n",
    "\n",
    "def quicksort(arr,l,h):\n",
    "    if(l<h):\n",
    "        pi = partition(arr,l,h)\n",
    "        quicksort(arr,l,pi-1)\n",
    "        quicksort(arr,pi+1,h)\n",
    "    return arr\n",
    "    \n",
    "print(quicksort([5,4,3,2,1],0,4))"
   ]
  },
  {
   "cell_type": "code",
   "execution_count": null,
   "metadata": {},
   "outputs": [],
   "source": [
    "def partition(array, low, high):\n",
    "    pivot = array[low]\n",
    "    i = low+1\n",
    "    j = high\n",
    "    while True:\n",
    "        while(i <= j and array[j] >= pivot):\n",
    "            j = j - 1\n",
    " \n",
    "        while(i <= j and array[i] <= pivot):\n",
    "            i = i + 1\n",
    "        if i < j:\n",
    "            array[i], array[j] = array[j], array[i]\n",
    "        else:\n",
    "            break\n",
    " \n",
    "    array[low], array[j] = array[j], array[low]\n",
    "    print(array)\n",
    "    return j\n",
    "    \n",
    "\n",
    "def quicksort(array, low, high):\n",
    "    if low < high:\n",
    "        pi = partition(array, low, high)\n",
    "        quicksort(array, low, pi-1)\n",
    "        quicksort(array, pi+1, high)\n",
    "    \n",
    "array = [10,9,6,3,5,1,2]\n",
    "quicksort(array,0,6)\n",
    "print(array)"
   ]
  }
 ],
 "metadata": {
  "kernelspec": {
   "display_name": "Python 3",
   "language": "python",
   "name": "python3"
  },
  "language_info": {
   "codemirror_mode": {
    "name": "ipython",
    "version": 3
   },
   "file_extension": ".py",
   "mimetype": "text/x-python",
   "name": "python",
   "nbconvert_exporter": "python",
   "pygments_lexer": "ipython3",
   "version": "3.10.5"
  },
  "orig_nbformat": 4
 },
 "nbformat": 4,
 "nbformat_minor": 2
}
