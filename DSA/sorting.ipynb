{
 "cells": [
  {
   "cell_type": "code",
   "execution_count": 4,
   "metadata": {},
   "outputs": [
    {
     "name": "stdout",
     "output_type": "stream",
     "text": [
      "[1, 2, 3]\n"
     ]
    }
   ],
   "source": [
    "# Selection Sort\n",
    "\n",
    "# sorts from start, min element \n",
    "\n",
    "def selection(l):\n",
    "    for i in range(len(l)-1):\n",
    "        min = l[i]\n",
    "        for j in range(i,len(l)):\n",
    "            if(l[j]<min):\n",
    "                t = l[i]\n",
    "                l[i] = l[j]\n",
    "                l[j] = t\n",
    "    return l\n",
    "\n",
    "print(selection([3,2,1]))"
   ]
  },
  {
   "cell_type": "code",
   "execution_count": 12,
   "metadata": {},
   "outputs": [
    {
     "name": "stdout",
     "output_type": "stream",
     "text": [
      "[1, 2, 3]\n"
     ]
    }
   ],
   "source": [
    "# Bubble Sort\n",
    "\n",
    "#next element comparison,last element will get sorted\n",
    "\n",
    "def bubble(l):\n",
    "    for i in range(len(l)):\n",
    "        flag = 1\n",
    "        for j in range(len(l)-1-i):\n",
    "            if(l[j]>l[j+1]):\n",
    "                t = l[j]\n",
    "                l[j] = l[j+1]\n",
    "                l[j+1]=t\n",
    "                flag = 0\n",
    "        if(flag):\n",
    "            break\n",
    "    return l\n",
    "\n",
    "print(bubble([3,2,1]))\n",
    "\n"
   ]
  },
  {
   "cell_type": "code",
   "execution_count": 14,
   "metadata": {},
   "outputs": [
    {
     "name": "stdout",
     "output_type": "stream",
     "text": [
      "[1, 2, 3]\n"
     ]
    }
   ],
   "source": [
    "# Insertion sort\n",
    "\n",
    "# if the key element is smaller than its predecessor, compare it to the elements before. \n",
    "# Move the greater elements one position up to make space for the swapped element.\n",
    "# insertion sort works best with linked list\n",
    "\n",
    "def insertion(l):\n",
    "    for i in range(1,len(l)):\n",
    "        ele = l[i]\n",
    "        j = i-1\n",
    "        while(j>=0 and ele<l[j]):\n",
    "            l[j+1] = l[j]\n",
    "            j = j-1\n",
    "        l[j+1] = ele\n",
    "    return l\n",
    "\n",
    "print(insertion([3,2,1]))\n"
   ]
  },
  {
   "cell_type": "code",
   "execution_count": 21,
   "metadata": {},
   "outputs": [
    {
     "name": "stdout",
     "output_type": "stream",
     "text": [
      "[1, 2, 3, 5, 6, 9, 10]\n"
     ]
    }
   ],
   "source": [
    "# Merge sort\n",
    "\n",
    "# Divide and conquer\n",
    "\n",
    "# Recursive funtion\n",
    "\n",
    "def merge(l):\n",
    "    if(len(l)>1):\n",
    "        mid = len(l)//2\n",
    "        left = l[:mid]\n",
    "        right = l[mid:]\n",
    "        merge(left) \n",
    "        merge(right) \n",
    "        i = j = k = 0\n",
    "\n",
    "        while i < len(left) and j < len(right):\n",
    "            if left[i] <= right[j]:\n",
    "                l[k] = left[i]\n",
    "                i += 1\n",
    "            else:\n",
    "                l[k] = right[j]\n",
    "                j += 1\n",
    "            k += 1\n",
    " \n",
    "        while i < len(left):\n",
    "            l[k] = left[i]\n",
    "            i += 1\n",
    "            k += 1\n",
    " \n",
    "        while j < len(right):\n",
    "            l[k] = right[j]\n",
    "            j += 1\n",
    "            k += 1\n",
    "    return l\n",
    "\n",
    "print(merge([10,9,6,3,5,1,2]))\n",
    "\n"
   ]
  },
  {
   "cell_type": "code",
   "execution_count": 9,
   "metadata": {},
   "outputs": [
    {
     "name": "stdout",
     "output_type": "stream",
     "text": [
      "[1, 2, 6, 3, 5, 9, 10]\n",
      "[1, 2, 3, 5, 6, 9, 10]\n",
      "[1, 2, 3, 5, 6, 9, 10]\n",
      "[1, 2, 3, 5, 6, 9, 10]\n",
      "[1, 2, 3, 5, 6, 9, 10]\n",
      "[1, 2, 3, 5, 6, 9, 10]\n",
      "[1, 2, 3, 5, 6, 9, 10]\n",
      "[1, 2, 3, 5, 6, 9, 10]\n",
      "[1, 2, 3, 5, 6, 9, 10]\n"
     ]
    }
   ],
   "source": [
    "# Quick sort\n",
    "# Divide and conquer method\n",
    "# Recursive function\n",
    "# space complexity is less - used the same array\n",
    "# merge sort used 2 different arrays in addition to the original array\n",
    "# pivot element gets sorted in each partitio\n",
    "# pivot element will be placed in the correct position\n",
    "\n",
    "def partition(array, low, high):\n",
    "    pivot = array[low]\n",
    "    i = low+1\n",
    "    j = high\n",
    "    while True:\n",
    "        while(i <= j and array[j] >= pivot):\n",
    "            j = j - 1\n",
    " \n",
    "        while(i <= j and array[i] <= pivot):\n",
    "            i = i + 1\n",
    "        if i <= j:\n",
    "            array[i], array[j] = array[j], array[i]\n",
    "        else:\n",
    "            break\n",
    " \n",
    "    array[low], array[j] = array[j], array[low]\n",
    "    return j\n",
    "    \n",
    "\n",
    "def quicksort(array, low, high):\n",
    "    if low < high:\n",
    "        pi = partition(array, low, high)\n",
    "        quicksort(array, low, pi-1)\n",
    "        quicksort(array, pi+1, high)\n",
    "    print(array)\n",
    " \n",
    "quicksort([10,9,6,3,5,1,2],0,6)\n"
   ]
  }
 ],
 "metadata": {
  "kernelspec": {
   "display_name": "Python 3",
   "language": "python",
   "name": "python3"
  },
  "language_info": {
   "codemirror_mode": {
    "name": "ipython",
    "version": 3
   },
   "file_extension": ".py",
   "mimetype": "text/x-python",
   "name": "python",
   "nbconvert_exporter": "python",
   "pygments_lexer": "ipython3",
   "version": "3.10.5"
  },
  "orig_nbformat": 4
 },
 "nbformat": 4,
 "nbformat_minor": 2
}
