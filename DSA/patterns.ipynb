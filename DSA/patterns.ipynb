{
 "cells": [
  {
   "cell_type": "markdown",
   "metadata": {},
   "source": [
    "pattern 1"
   ]
  },
  {
   "cell_type": "code",
   "execution_count": 7,
   "metadata": {},
   "outputs": [
    {
     "name": "stdout",
     "output_type": "stream",
     "text": [
      "*\n",
      "\n",
      "**\n",
      "\n",
      "* *\n",
      "\n",
      "**\n",
      "\n",
      "*\n",
      "\n"
     ]
    }
   ],
   "source": [
    "n = int(input())\n",
    "for i in range(1,n):\n",
    "    for j in range(i):\n",
    "        if(j==0 or j==i-1):\n",
    "            print('*',end='')\n",
    "        else:\n",
    "            print(' ',end='')\n",
    "    print('\\n')\n",
    "for i in range(n,0,-1):\n",
    "    for j in range(i):\n",
    "        if(j==0 or j==i-1):\n",
    "            print('*',end='')\n",
    "        else:\n",
    "            print(' ',end='')\n",
    "    print('\\n')"
   ]
  },
  {
   "cell_type": "markdown",
   "metadata": {},
   "source": [
    "pattern 2"
   ]
  },
  {
   "cell_type": "code",
   "execution_count": 6,
   "metadata": {},
   "outputs": [
    {
     "name": "stdout",
     "output_type": "stream",
     "text": [
      "  *  \n",
      " *** \n",
      "*****\n"
     ]
    }
   ],
   "source": [
    "def nStarTriangle(n: int) -> None:\n",
    "    for i in range(1,n+1):\n",
    "        for j in range(n-i):\n",
    "            print(' ',end='')\n",
    "        for j in range(i*2-1):\n",
    "            print('*',end='')\n",
    "        for j in range(n-i):\n",
    "            print(' ',end='')\n",
    "        print()\n",
    "    pass\n",
    "\n",
    "nStarTriangle(3)"
   ]
  },
  {
   "cell_type": "markdown",
   "metadata": {},
   "source": [
    "pattern-3"
   ]
  },
  {
   "cell_type": "code",
   "execution_count": 11,
   "metadata": {},
   "outputs": [
    {
     "name": "stdout",
     "output_type": "stream",
     "text": [
      "*****\n",
      " *** \n",
      "  *  \n"
     ]
    }
   ],
   "source": [
    "def nStarTriangle(n: int) -> None:\n",
    "    for i in range(n,0,-1):\n",
    "        for j in range(n-i):\n",
    "            print(' ',end='')\n",
    "        for j in range(i*2-1):\n",
    "            print('*',end='')\n",
    "        for j in range(n-i):\n",
    "            print(' ',end='')\n",
    "        print()\n",
    "    pass\n",
    "\n",
    "nStarTriangle(3)"
   ]
  },
  {
   "cell_type": "markdown",
   "metadata": {},
   "source": [
    "pattern-4"
   ]
  },
  {
   "cell_type": "code",
   "execution_count": 12,
   "metadata": {},
   "outputs": [
    {
     "name": "stdout",
     "output_type": "stream",
     "text": [
      "  *  \n",
      " *** \n",
      "*****\n",
      "*****\n",
      " *** \n",
      "  *  \n"
     ]
    }
   ],
   "source": [
    "def nStarDiamond(n: int) -> None:\n",
    "    for i in range(1,n+1):\n",
    "        for j in range(n-i):\n",
    "            print(' ',end='')\n",
    "        for j in range(i*2-1):\n",
    "            print('*',end='')\n",
    "        for j in range(n-i):\n",
    "            print(' ',end='')\n",
    "        print()\n",
    "    for i in range(n,0,-1):\n",
    "        for j in range(n-i):\n",
    "            print(' ',end='')\n",
    "        for j in range(i*2-1):\n",
    "            print('*',end='')\n",
    "        for j in range(n-i):\n",
    "            print(' ',end='')\n",
    "        print()\n",
    "    pass\n",
    "\n",
    "nStarDiamond(3)"
   ]
  },
  {
   "cell_type": "markdown",
   "metadata": {},
   "source": [
    "pattern-5"
   ]
  },
  {
   "cell_type": "code",
   "execution_count": 16,
   "metadata": {},
   "outputs": [
    {
     "name": "stdout",
     "output_type": "stream",
     "text": [
      "*\n",
      "\n",
      "**\n",
      "\n",
      "***\n",
      "\n",
      "**\n",
      "\n",
      "*\n",
      "\n"
     ]
    }
   ],
   "source": [
    "n = 3\n",
    "for i in range(1,n):\n",
    "    for j in range(i):\n",
    "        print('*',end='')\n",
    "    print('\\n')\n",
    "for i in range(n,0,-1):\n",
    "    for j in range(i):\n",
    "            print('*',end='')\n",
    "    print('\\n')"
   ]
  },
  {
   "cell_type": "markdown",
   "metadata": {},
   "source": [
    "pattern-6"
   ]
  },
  {
   "cell_type": "code",
   "execution_count": 18,
   "metadata": {},
   "outputs": [
    {
     "name": "stdout",
     "output_type": "stream",
     "text": [
      "1\n",
      "01\n",
      "101\n",
      "0101\n",
      "10101\n",
      "010101\n"
     ]
    }
   ],
   "source": [
    "def nBinaryTriangle(n: int) -> None:\n",
    "    f = 1\n",
    "    for i in range(1,n+1):\n",
    "        for j in range(i):\n",
    "                print(f,end='')\n",
    "                if(f):\n",
    "                    f = 0\n",
    "                else:\n",
    "                    f = 1\n",
    "        if(i%2==0):\n",
    "            f=1\n",
    "        print()\n",
    "    pass\n",
    "\n",
    "nBinaryTriangle(6)"
   ]
  },
  {
   "cell_type": "markdown",
   "metadata": {},
   "source": [
    "pattern-7"
   ]
  },
  {
   "cell_type": "code",
   "execution_count": 21,
   "metadata": {},
   "outputs": [
    {
     "name": "stdout",
     "output_type": "stream",
     "text": [
      "1    1\n",
      "12   21\n",
      "123  321\n",
      "1234 4321\n",
      "1234554321\n"
     ]
    }
   ],
   "source": [
    "def numberCrown(n: int) -> None:\n",
    "    for i in range(1,n+1):\n",
    "        for j in range(1,i+1):\n",
    "            print(j,end='')\n",
    "        for j in range(n-i):\n",
    "            print(' ',end='')\n",
    "        for j in range(i,0,-1):\n",
    "            print(j,end='')\n",
    "        print()\n",
    "    pass\n",
    "\n",
    "numberCrown(5)"
   ]
  },
  {
   "cell_type": "markdown",
   "metadata": {},
   "source": [
    "pattern-8"
   ]
  },
  {
   "cell_type": "code",
   "execution_count": 24,
   "metadata": {},
   "outputs": [
    {
     "name": "stdout",
     "output_type": "stream",
     "text": [
      "1\n",
      "23\n",
      "456\n"
     ]
    }
   ],
   "source": [
    "def nNumberTriangle(n: int) -> None:\n",
    "    num = 1\n",
    "    for i in range(1,n+1):\n",
    "        for j in range(i):\n",
    "            print(num,end='')\n",
    "            num+=1\n",
    "        print()\n",
    "    pass\n",
    "\n",
    "nNumberTriangle(3)"
   ]
  },
  {
   "cell_type": "markdown",
   "metadata": {},
   "source": [
    "pattern-9"
   ]
  },
  {
   "cell_type": "code",
   "execution_count": 26,
   "metadata": {},
   "outputs": [
    {
     "name": "stdout",
     "output_type": "stream",
     "text": [
      "A \n",
      "A B \n",
      "A B C \n"
     ]
    }
   ],
   "source": [
    "def nLetterTriangle(n: int) -> None:\n",
    "    for i in range(1,n+1):\n",
    "        letter = 'A'\n",
    "        for j in range(i):\n",
    "            print(letter,end=' ')\n",
    "            letter = chr(ord(letter)+1)\n",
    "        print()\n",
    "    pass\n",
    "\n",
    "nLetterTriangle(3)"
   ]
  },
  {
   "cell_type": "markdown",
   "metadata": {},
   "source": [
    "pattern-10"
   ]
  },
  {
   "cell_type": "code",
   "execution_count": 28,
   "metadata": {},
   "outputs": [
    {
     "name": "stdout",
     "output_type": "stream",
     "text": [
      "A B C \n",
      "A B \n",
      "A \n"
     ]
    }
   ],
   "source": [
    "def nLetterTriangle(n: int):\n",
    "    for i in range(n,0,-1):\n",
    "        letter = 'A'\n",
    "        for j in range(i):\n",
    "            print(letter,end=' ')\n",
    "            letter = chr(ord(letter)+1)\n",
    "        print()\n",
    "    pass\n",
    "\n",
    "nLetterTriangle(3)"
   ]
  },
  {
   "cell_type": "markdown",
   "metadata": {},
   "source": [
    "pattern-11"
   ]
  },
  {
   "cell_type": "code",
   "execution_count": 1,
   "metadata": {},
   "outputs": [
    {
     "name": "stdout",
     "output_type": "stream",
     "text": [
      "A \n",
      "B B \n",
      "C C C \n",
      "D D D D \n",
      "E E E E E \n"
     ]
    }
   ],
   "source": [
    "def alphaRamp(n: int) -> None:\n",
    "    letter = 'A'\n",
    "    for i in range(n):\n",
    "        for j in range(i+1):\n",
    "            print(letter,end=' ')\n",
    "        print()\n",
    "        letter = chr(ord(letter)+1)\n",
    "\n",
    "\n",
    "    pass\n",
    "\n",
    "alphaRamp(5)"
   ]
  },
  {
   "cell_type": "markdown",
   "metadata": {},
   "source": [
    "pattern-12"
   ]
  },
  {
   "cell_type": "code",
   "execution_count": 3,
   "metadata": {},
   "outputs": [
    {
     "name": "stdout",
     "output_type": "stream",
     "text": [
      "      A       \n",
      "    A B A     \n",
      "  A B C B A   \n",
      "A B C D C B A \n"
     ]
    }
   ],
   "source": [
    "def alphaHill(n: int):\n",
    "    for i in range(1,n+1):\n",
    "        letter='A'\n",
    "        for j in range(n-i):\n",
    "            print(' ',end=' ')\n",
    "        for j in range(i):\n",
    "            print(letter,end=' ')\n",
    "            letter = chr(ord(letter)+1)\n",
    "        letter = chr(ord(letter)-2)\n",
    "        for j in range(i-1):\n",
    "            print(letter,end=' ')\n",
    "            letter = chr(ord(letter)-1)\n",
    "        for j in range(n-i):\n",
    "            print(' ',end=' ')\n",
    "        print()\n",
    "    pass\n",
    "\n",
    "alphaHill(4)\n"
   ]
  },
  {
   "cell_type": "markdown",
   "metadata": {},
   "source": [
    "pattern-13"
   ]
  },
  {
   "cell_type": "code",
   "execution_count": 5,
   "metadata": {},
   "outputs": [
    {
     "name": "stdout",
     "output_type": "stream",
     "text": [
      "C \n",
      "C B \n",
      "C B A \n"
     ]
    }
   ],
   "source": [
    "def alphaTriangle(n: int):\n",
    "    for i in range(1,n+1):\n",
    "        letter = chr(ord('A')+n-1)\n",
    "        for j in range(i):\n",
    "            print(letter,end=' ')\n",
    "            letter = chr(ord(letter)-1)\n",
    "        print()\n",
    "\n",
    "    pass\n",
    "\n",
    "alphaTriangle(3)"
   ]
  },
  {
   "cell_type": "markdown",
   "metadata": {},
   "source": [
    "pattern-14"
   ]
  },
  {
   "cell_type": "code",
   "execution_count": 6,
   "metadata": {},
   "outputs": [
    {
     "name": "stdout",
     "output_type": "stream",
     "text": [
      "* * * * * * \n",
      "* *     * * \n",
      "*         * \n",
      "*         * \n",
      "* *     * * \n",
      "* * * * * * \n"
     ]
    }
   ],
   "source": [
    "def symmetry(n: int):\n",
    "    for i in range(n,0,-1):\n",
    "        for j in range(i):\n",
    "            print('*',end=' ')\n",
    "        for j in range(2*n-2*i):\n",
    "            print(' ',end=' ')\n",
    "        for j in range(i):\n",
    "            print('*',end=' ')\n",
    "        print()\n",
    "    for i in range(1,n+1):\n",
    "        for j in range(i):\n",
    "            print('*',end=' ')\n",
    "        for j in range(2*n-2*i):\n",
    "            print(' ',end=' ')\n",
    "        for j in range(i):\n",
    "            print('*',end=' ')\n",
    "        print()\n",
    "\n",
    "    pass\n",
    "\n",
    "symmetry(3)"
   ]
  },
  {
   "cell_type": "markdown",
   "metadata": {},
   "source": [
    "pattern-15"
   ]
  },
  {
   "cell_type": "code",
   "execution_count": 8,
   "metadata": {},
   "outputs": [
    {
     "name": "stdout",
     "output_type": "stream",
     "text": [
      "*         * \n",
      "* *     * * \n",
      "* * * * * * \n",
      "* *     * * \n",
      "*         * \n"
     ]
    }
   ],
   "source": [
    "def symmetry(n: int):\n",
    "    for i in range(1,n+1):\n",
    "        for j in range(i):\n",
    "            print('*',end=' ')\n",
    "        for j in range(n*2-i*2):\n",
    "            print(' ',end=' ')\n",
    "        for j in range(i):\n",
    "            print('*',end=' ')\n",
    "        print()\n",
    "    for i in range(n-1,0,-1):\n",
    "        for j in range(i):\n",
    "            print('*',end=' ')\n",
    "        for j in range(n*2-i*2):\n",
    "            print(' ',end=' ')\n",
    "        for j in range(i):\n",
    "            print('*',end=' ')\n",
    "        print()\n",
    "    pass\n",
    "\n",
    "symmetry(3)"
   ]
  },
  {
   "cell_type": "markdown",
   "metadata": {},
   "source": [
    "pattern-16"
   ]
  },
  {
   "cell_type": "code",
   "execution_count": 10,
   "metadata": {},
   "outputs": [
    {
     "name": "stdout",
     "output_type": "stream",
     "text": [
      "*****\n",
      "*   *\n",
      "*   *\n",
      "*   *\n",
      "*****\n"
     ]
    }
   ],
   "source": [
    "def getStarPattern(n: int) -> None:\n",
    "    for i in range(n):\n",
    "        for j in range(n):\n",
    "            if(j==0 or j==n-1 or i==0 or i==n-1):\n",
    "                print('*',end='')\n",
    "            else:\n",
    "                print(' ',end='')\n",
    "        print()\n",
    "    pass\n",
    "\n",
    "getStarPattern(5)"
   ]
  },
  {
   "cell_type": "markdown",
   "metadata": {},
   "source": [
    "pattern-16"
   ]
  },
  {
   "cell_type": "code",
   "execution_count": 14,
   "metadata": {},
   "outputs": [
    {
     "name": "stdout",
     "output_type": "stream",
     "text": [
      "555555555\n",
      "544444445\n",
      "543333345\n",
      "543222345\n",
      "543212345\n",
      "543223455\n",
      "543334555\n",
      "544445555\n",
      "555555555\n"
     ]
    }
   ],
   "source": [
    "def getNumberPattern(n: int) -> None:\n",
    "    for i in range(n,0,-1):\n",
    "        num = n\n",
    "        for j in range(n):\n",
    "            print(num,end='')\n",
    "            if(num>i):\n",
    "                num = num-1\n",
    "        for j in range(2,n+1):\n",
    "            if(num==1):\n",
    "                num = num+1\n",
    "            if(num < j):\n",
    "                num = num+1\n",
    "            print(num,end='')\n",
    "\n",
    "        print()\n",
    "    for i in range(2,n+1):\n",
    "        num = n\n",
    "        for j in range(n):\n",
    "            print(num,end='')\n",
    "            if(num>i):\n",
    "                num = num-1\n",
    "        for j in range(2,n+1):\n",
    "            if(num==1):\n",
    "                num = num+1\n",
    "            if(num < j):\n",
    "                num = num+1\n",
    "            print(num,end='')\n",
    "\n",
    "        print()\n",
    "            \n",
    "\n",
    "    pass\n",
    "\n",
    "getNumberPattern(5)"
   ]
  }
 ],
 "metadata": {
  "kernelspec": {
   "display_name": "Python 3",
   "language": "python",
   "name": "python3"
  },
  "language_info": {
   "codemirror_mode": {
    "name": "ipython",
    "version": 3
   },
   "file_extension": ".py",
   "mimetype": "text/x-python",
   "name": "python",
   "nbconvert_exporter": "python",
   "pygments_lexer": "ipython3",
   "version": "3.10.5"
  }
 },
 "nbformat": 4,
 "nbformat_minor": 2
}
