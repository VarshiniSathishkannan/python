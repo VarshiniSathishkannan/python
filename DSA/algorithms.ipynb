{
 "cells": [
  {
   "cell_type": "markdown",
   "metadata": {},
   "source": [
    "Power set algorthim"
   ]
  },
  {
   "cell_type": "markdown",
   "metadata": {},
   "source": [
    "Subset, Subarray and Subsequence\n",
    "\n",
    "A subarray is a contiguous part of array and maintains relative ordering of elements. \n",
    "\n",
    "For an array/string of size n, there are n*(n+1)/2 non-empty subarrays/substrings.\n",
    "\n",
    "A subsequence maintain relative ordering of elements but may or may not be a contiguous part of an array. For a sequence of size n, we can have 2^n-1 non-empty sub-sequences in total.\n",
    "\n",
    "A subset MAY NOT maintain relative ordering of elements and can or cannot be a contiguous part of an array. For a set of size n, we can have (2^n) sub-sets in total.\n",
    "\n",
    "Let us understand it with an example.\n",
    "\n",
    "Consider an array:\n",
    "\n",
    "array = [1,2,3,4]\n",
    "\n",
    "Subarray : [1,2],[1,2,3] - is continous and maintains relative order of elements\n",
    "\n",
    "Subsequence: [1,2,4] - is not continous but maintains relative order of elements\n",
    "\n",
    "Subset: [1,3,2] - is not continous and does not maintain relative order of elements"
   ]
  },
  {
   "cell_type": "markdown",
   "metadata": {},
   "source": [
    "Euclidean algorithm\n",
    "\n",
    "For finding GCD"
   ]
  },
  {
   "cell_type": "markdown",
   "metadata": {},
   "source": [
    "Huffman coding \n",
    "\n",
    "Lossy and lossless compression"
   ]
  },
  {
   "cell_type": "markdown",
   "metadata": {},
   "source": [
    "Kadane's algorithm\n",
    "\n",
    "Maximum subarray sum"
   ]
  }
 ],
 "metadata": {
  "language_info": {
   "name": "python"
  }
 },
 "nbformat": 4,
 "nbformat_minor": 2
}
