{
 "cells": [
  {
   "cell_type": "markdown",
   "metadata": {},
   "source": [
    "1. Search Query Auto Complete (Hard)"
   ]
  },
  {
   "cell_type": "code",
   "execution_count": 60,
   "metadata": {},
   "outputs": [
    {
     "name": "stdout",
     "output_type": "stream",
     "text": [
      "Typed : \"h\" , Suggestions:\n",
      "hello\n",
      "hell\n",
      "helt\n",
      "Typed : \"he\" , Suggestions:\n",
      "hello\n",
      "hell\n",
      "helt\n",
      "Typed : \"hel\" , Suggestions:\n",
      "hello\n",
      "hell\n",
      "helt\n",
      "Typed : \"helo\" , Suggestions:\n",
      "Typed : \"h\" , Suggestions:\n",
      "hello\n",
      "hell\n",
      "helt\n",
      "Typed : \"ho\" , Suggestions:\n",
      "Typed : \"hol\" , Suggestions:\n",
      "Typed : \"h\" , Suggestions:\n",
      "hello\n",
      "hell\n",
      "helt\n",
      "Typed : \"ho\" , Suggestions:\n",
      "hol\n",
      "Typed : \"hot\" , Suggestions:\n"
     ]
    }
   ],
   "source": [
    "#User function Template for python3\n",
    "\n",
    "class AutoCompleteSystem():\n",
    "    def __init__(self, sentences:list, times:list):\n",
    "        self.sentences = sentences\n",
    "        self.times = times\n",
    "        self.inp = ''\n",
    "    \n",
    "    def input(self,c):\n",
    "        '''\n",
    "            write code to return the top 3 suggestions when the current character in the stream is c\n",
    "            c == '#' means , the current query is complete and you may save the entire query into\n",
    "            historical data\n",
    "        '''\n",
    "        result = []\n",
    "        if(c == '#'):\n",
    "            if(self.inp in self.sentences):\n",
    "                self.times[self.sentences.index(self.inp)]+=1\n",
    "            else:\n",
    "                self.sentences.append(self.inp)\n",
    "                self.times.append(1)\n",
    "            self.inp = ''\n",
    "        else:\n",
    "            count = 0\n",
    "            self.inp += c\n",
    "            l = len(self.inp)\n",
    "            for j in range(len(self.sentences)):\n",
    "                if(self.sentences[j][0:l]==self.inp[:l]):\n",
    "                    count+=1\n",
    "                    result.append(self.sentences[j])\n",
    "                    if(count==3):\n",
    "                        break\n",
    "            return result\n",
    "              \n",
    "                    \n",
    "if __name__ == \"__main__\":\n",
    "    t = int(input())\n",
    "    while t > 0:\n",
    "        n = int(input())\n",
    "        sentences = []\n",
    "        times = []\n",
    "        for _ in range(n):\n",
    "            sentence = input()\n",
    "            sentences.append(sentence)\n",
    "            time = int(input())\n",
    "            times.append(time)\n",
    "\n",
    "        obj = AutoCompleteSystem(sentences, times)\n",
    "\n",
    "        q = int(input())\n",
    "        for _ in range(q):\n",
    "            query = input()\n",
    "            qq = \"\"\n",
    "            for x in query:\n",
    "                qq += x\n",
    "                suggestions = obj.input(x)\n",
    "                if x == '#':\n",
    "                    continue\n",
    "                print('Typed : \"' + qq + '\" , Suggestions:')\n",
    "                for y in suggestions:\n",
    "                    print(y)\n",
    "\n",
    "        t -= 1\n",
    "\n",
    "# } Driver Code Ends"
   ]
  },
  {
   "cell_type": "markdown",
   "metadata": {},
   "source": [
    "Pair of socks to sell"
   ]
  },
  {
   "cell_type": "code",
   "execution_count": 23,
   "metadata": {},
   "outputs": [
    {
     "name": "stdout",
     "output_type": "stream",
     "text": [
      "100\n"
     ]
    }
   ],
   "source": [
    "n = int(input())\n",
    "\n",
    "    \n",
    "arr = [int(i) for i in input().split()]\n",
    "d = {}\n",
    "total = 0\n",
    "\n",
    "for i in range(n):\n",
    "    if(arr[i] in d):\n",
    "        d[arr[i]] = d[arr[i]]+1\n",
    "    else:\n",
    "        d[arr[i]] = 1\n",
    "\n",
    "# print(d)\n",
    "\n",
    "for i in d:\n",
    "    if(d[i]>1):\n",
    "        total = total + (d[i]//2)*i*5\n",
    "\n",
    "print(total)\n",
    "\n"
   ]
  },
  {
   "cell_type": "markdown",
   "metadata": {},
   "source": [
    "Increase/decrease trial"
   ]
  },
  {
   "cell_type": "code",
   "execution_count": 82,
   "metadata": {},
   "outputs": [
    {
     "name": "stdout",
     "output_type": "stream",
     "text": [
      "i/p - [10, 3, 5, 7, 2, 9, 11, 6]\n",
      "[3, 5, 7, 2]\n"
     ]
    }
   ],
   "source": [
    "h = [int(i) for i in input().split()]\n",
    "print(f\"i/p - {h}\")\n",
    "maxt = 0\n",
    "increase = 0\n",
    "decrease = 0\n",
    "l = -1\n",
    "r = -1\n",
    "ii = -1\n",
    "jj = -1\n",
    "for i in range(1,len(h)):\n",
    "    if(h[i]>h[i-1]):\n",
    "        if(decrease):\n",
    "            # print(l,r,t)\n",
    "            # if((r-l+1)>maxt):\n",
    "            #     maxt=t\n",
    "            #     ii=l\n",
    "            #     jj=r\n",
    "            l=-1\n",
    "            r=-1\n",
    "            decrease = 0\n",
    "            increase = 0\n",
    "            continue\n",
    "        increase = 1\n",
    "        t = t+1\n",
    "        if(l<0):\n",
    "            l = i-1\n",
    "        r = i\n",
    "    else:\n",
    "        if(increase):\n",
    "            decrease = 1\n",
    "            r = i\n",
    "            # if((r-l+1)>maxt):\n",
    "            #     maxt=t\n",
    "            #     ii=l\n",
    "            #     jj=r\n",
    "        else:\n",
    "            increase = 0\n",
    "            decrease = 0\n",
    "            l=-1\n",
    "            r=-1\n",
    "    if((r-l+1)>maxt):\n",
    "        maxt=r-l+1\n",
    "        ii=l\n",
    "        jj=r\n",
    "    # print(l , r)\n",
    "\n",
    "if(ii >= 0  or jj >= 0):\n",
    "    print(h[ii:jj+1])\n",
    "else:\n",
    "    print('No strict increase or decrease')"
   ]
  },
  {
   "cell_type": "markdown",
   "metadata": {},
   "source": [
    "Pass by reference/value\n",
    "\n",
    "https://www.geeksforgeeks.org/pass-by-reference-vs-value-in-python/"
   ]
  },
  {
   "cell_type": "markdown",
   "metadata": {},
   "source": []
  }
 ],
 "metadata": {
  "kernelspec": {
   "display_name": "Python 3",
   "language": "python",
   "name": "python3"
  },
  "language_info": {
   "codemirror_mode": {
    "name": "ipython",
    "version": 3
   },
   "file_extension": ".py",
   "mimetype": "text/x-python",
   "name": "python",
   "nbconvert_exporter": "python",
   "pygments_lexer": "ipython3",
   "version": "3.10.5"
  }
 },
 "nbformat": 4,
 "nbformat_minor": 2
}
