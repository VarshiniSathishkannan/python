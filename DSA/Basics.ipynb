{
 "cells": [
  {
   "cell_type": "code",
   "execution_count": 5,
   "metadata": {},
   "outputs": [
    {
     "name": "stdout",
     "output_type": "stream",
     "text": [
      "Typed : \"a\" , Suggestions:\n",
      "apple\n",
      "Typed : \"ap\" , Suggestions:\n",
      "Typed : \"app\" , Suggestions:\n"
     ]
    }
   ],
   "source": [
    "#User function Template for python3\n",
    "\n",
    "class AutoCompleteSystem():\n",
    "    def __init__(self, sentences, times):\n",
    "        self.sentences = sentences\n",
    "        self.times = times\n",
    "        self.temp = self.sentences.copy()\n",
    "    \n",
    "    def input(self,c):\n",
    "        '''\n",
    "            write code to return the top 3 suggestions when the current character in the stream is c\n",
    "            c == '#' means , the current query is complete and you may save the entire query into\n",
    "            historical data\n",
    "        '''\n",
    "        inp = ''\n",
    "        if(c == '#'):\n",
    "            if(inp in self.sentences):\n",
    "                self.times[self.sentences.index(inp)]+=1\n",
    "            else:\n",
    "                self.sentences.append(inp)\n",
    "                self.sentences.append(1)\n",
    "            self.temp = self.sentences.copy()\n",
    "        else:\n",
    "            inp += c\n",
    "            for i in range(len(inp)):\n",
    "                for j in range(len(self.temp)):\n",
    "                    if(self.temp[j][i]==inp[i]):\n",
    "                        continue\n",
    "                    else:\n",
    "                        self.temp.pop(j)\n",
    "            return self.temp\n",
    "                    \n",
    "if __name__ == \"__main__\":\n",
    "    t = int(input())\n",
    "    while t > 0:\n",
    "        n = int(input())\n",
    "        sentences = []\n",
    "        times = []\n",
    "        for _ in range(n):\n",
    "            sentence = input()\n",
    "            sentences.append(sentence)\n",
    "            time = int(input())\n",
    "            times.append(time)\n",
    "\n",
    "        obj = AutoCompleteSystem(sentences, times)\n",
    "\n",
    "        q = int(input())\n",
    "        for _ in range(q):\n",
    "            query = input()\n",
    "            qq = \"\"\n",
    "            for x in query:\n",
    "                qq += x\n",
    "                suggestions = obj.input(x)\n",
    "                if x == '#':\n",
    "                    continue\n",
    "                print('Typed : \"' + qq + '\" , Suggestions:')\n",
    "                for y in suggestions:\n",
    "                    print(y)\n",
    "\n",
    "        t -= 1\n",
    "\n",
    "# } Driver Code Ends"
   ]
  },
  {
   "cell_type": "code",
   "execution_count": 34,
   "metadata": {},
   "outputs": [
    {
     "name": "stdout",
     "output_type": "stream",
     "text": [
      "*\n",
      "\n",
      "**\n",
      "\n",
      "* *\n",
      "\n",
      "*  *\n",
      "\n",
      "* *\n",
      "\n",
      "**\n",
      "\n",
      "*\n",
      "\n"
     ]
    }
   ],
   "source": [
    "n = int(input())\n",
    "for i in range(1,n):\n",
    "    for j in range(i):\n",
    "        if(j==0 or j==i-1):\n",
    "            print('*',end='')\n",
    "        else:\n",
    "            print(' ',end='')\n",
    "    print('\\n')\n",
    "for i in range(n,0,-1):\n",
    "    for j in range(i):\n",
    "        if(j==0 or j==i-1):\n",
    "            print('*',end='')\n",
    "        else:\n",
    "            print(' ',end='')\n",
    "    print('\\n')\n",
    "\n",
    "        \n"
   ]
  },
  {
   "cell_type": "code",
   "execution_count": 23,
   "metadata": {},
   "outputs": [
    {
     "name": "stdout",
     "output_type": "stream",
     "text": [
      "100\n"
     ]
    }
   ],
   "source": [
    "n = int(input())\n",
    "\n",
    "    \n",
    "arr = [int(i) for i in input().split()]\n",
    "d = {}\n",
    "total = 0\n",
    "\n",
    "for i in range(n):\n",
    "    if(arr[i] in d):\n",
    "        d[arr[i]] = d[arr[i]]+1\n",
    "    else:\n",
    "        d[arr[i]] = 1\n",
    "\n",
    "# print(d)\n",
    "\n",
    "for i in d:\n",
    "    if(d[i]>1):\n",
    "        total = total + (d[i]//2)*i*5\n",
    "\n",
    "print(total)\n",
    "\n"
   ]
  },
  {
   "cell_type": "code",
   "execution_count": 41,
   "metadata": {},
   "outputs": [
    {
     "name": "stdout",
     "output_type": "stream",
     "text": [
      "[2, 3, 4, 3]\n"
     ]
    }
   ],
   "source": [
    "h = [int(i) for i in input().split()]\n",
    "t = 0\n",
    "maxt = 0\n",
    "increase = 0\n",
    "decrease = 0\n",
    "l = 0\n",
    "r = 0\n",
    "for i in range(1,len(h)):\n",
    "    if(h[i]>h[i-1]):\n",
    "        if(decrease):\n",
    "            print(l,r,t)\n",
    "            if(t>maxt):\n",
    "                maxt=t\n",
    "                ii=l\n",
    "                jj=r\n",
    "            l=0\n",
    "            r=0\n",
    "            continue\n",
    "        increase = 1\n",
    "        t = t+1\n",
    "        if(not l):\n",
    "            l = i-1\n",
    "        r = i\n",
    "    else:\n",
    "        if(increase):\n",
    "            decrease = 1\n",
    "            t = t+1\n",
    "            r = i\n",
    "            if(i==len(h)-1):\n",
    "                if(t>maxt):\n",
    "                    maxt=t\n",
    "                    ii=l\n",
    "                    jj=r\n",
    "        else:\n",
    "            l=0\n",
    "            r=0\n",
    "\n",
    "\n",
    "print(h[ii:jj]) \n",
    "\n",
    "\n"
   ]
  },
  {
   "cell_type": "code",
   "execution_count": null,
   "metadata": {},
   "outputs": [],
   "source": []
  }
 ],
 "metadata": {
  "kernelspec": {
   "display_name": "Python 3",
   "language": "python",
   "name": "python3"
  },
  "language_info": {
   "codemirror_mode": {
    "name": "ipython",
    "version": 3
   },
   "file_extension": ".py",
   "mimetype": "text/x-python",
   "name": "python",
   "nbconvert_exporter": "python",
   "pygments_lexer": "ipython3",
   "version": "3.10.5"
  }
 },
 "nbformat": 4,
 "nbformat_minor": 2
}
