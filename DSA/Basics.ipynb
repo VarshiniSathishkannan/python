{
 "cells": [
  {
   "cell_type": "markdown",
   "metadata": {},
   "source": [
    "1. Search Query Auto Complete (Hard)"
   ]
  },
  {
   "cell_type": "code",
   "execution_count": 60,
   "metadata": {},
   "outputs": [
    {
     "name": "stdout",
     "output_type": "stream",
     "text": [
      "Typed : \"h\" , Suggestions:\n",
      "hello\n",
      "hell\n",
      "helt\n",
      "Typed : \"he\" , Suggestions:\n",
      "hello\n",
      "hell\n",
      "helt\n",
      "Typed : \"hel\" , Suggestions:\n",
      "hello\n",
      "hell\n",
      "helt\n",
      "Typed : \"helo\" , Suggestions:\n",
      "Typed : \"h\" , Suggestions:\n",
      "hello\n",
      "hell\n",
      "helt\n",
      "Typed : \"ho\" , Suggestions:\n",
      "Typed : \"hol\" , Suggestions:\n",
      "Typed : \"h\" , Suggestions:\n",
      "hello\n",
      "hell\n",
      "helt\n",
      "Typed : \"ho\" , Suggestions:\n",
      "hol\n",
      "Typed : \"hot\" , Suggestions:\n"
     ]
    }
   ],
   "source": [
    "#User function Template for python3\n",
    "\n",
    "class AutoCompleteSystem():\n",
    "    def __init__(self, sentences:list, times:list):\n",
    "        self.sentences = sentences\n",
    "        self.times = times\n",
    "        self.inp = ''\n",
    "    \n",
    "    def input(self,c):\n",
    "        '''\n",
    "            write code to return the top 3 suggestions when the current character in the stream is c\n",
    "            c == '#' means , the current query is complete and you may save the entire query into\n",
    "            historical data\n",
    "        '''\n",
    "        result = []\n",
    "        if(c == '#'):\n",
    "            if(self.inp in self.sentences):\n",
    "                self.times[self.sentences.index(self.inp)]+=1\n",
    "            else:\n",
    "                self.sentences.append(self.inp)\n",
    "                self.times.append(1)\n",
    "            self.inp = ''\n",
    "        else:\n",
    "            count = 0\n",
    "            self.inp += c\n",
    "            l = len(self.inp)\n",
    "            for j in range(len(self.sentences)):\n",
    "                if(self.sentences[j][0:l]==self.inp[:l]):\n",
    "                    count+=1\n",
    "                    result.append(self.sentences[j])\n",
    "                    if(count==3):\n",
    "                        break\n",
    "            return result\n",
    "              \n",
    "                    \n",
    "if __name__ == \"__main__\":\n",
    "    t = int(input())\n",
    "    while t > 0:\n",
    "        n = int(input())\n",
    "        sentences = []\n",
    "        times = []\n",
    "        for _ in range(n):\n",
    "            sentence = input()\n",
    "            sentences.append(sentence)\n",
    "            time = int(input())\n",
    "            times.append(time)\n",
    "\n",
    "        obj = AutoCompleteSystem(sentences, times)\n",
    "\n",
    "        q = int(input())\n",
    "        for _ in range(q):\n",
    "            query = input()\n",
    "            qq = \"\"\n",
    "            for x in query:\n",
    "                qq += x\n",
    "                suggestions = obj.input(x)\n",
    "                if x == '#':\n",
    "                    continue\n",
    "                print('Typed : \"' + qq + '\" , Suggestions:')\n",
    "                for y in suggestions:\n",
    "                    print(y)\n",
    "\n",
    "        t -= 1\n",
    "\n",
    "# } Driver Code Ends"
   ]
  },
  {
   "cell_type": "markdown",
   "metadata": {},
   "source": [
    "Pair of socks to sell"
   ]
  },
  {
   "cell_type": "code",
   "execution_count": 23,
   "metadata": {},
   "outputs": [
    {
     "name": "stdout",
     "output_type": "stream",
     "text": [
      "100\n"
     ]
    }
   ],
   "source": [
    "n = int(input())\n",
    "\n",
    "    \n",
    "arr = [int(i) for i in input().split()]\n",
    "d = {}\n",
    "total = 0\n",
    "\n",
    "for i in range(n):\n",
    "    if(arr[i] in d):\n",
    "        d[arr[i]] = d[arr[i]]+1\n",
    "    else:\n",
    "        d[arr[i]] = 1\n",
    "\n",
    "# print(d)\n",
    "\n",
    "for i in d:\n",
    "    if(d[i]>1):\n",
    "        total = total + (d[i]//2)*i*5\n",
    "\n",
    "print(total)\n",
    "\n"
   ]
  },
  {
   "cell_type": "markdown",
   "metadata": {},
   "source": [
    "Increase/decrease trial"
   ]
  },
  {
   "cell_type": "code",
   "execution_count": 82,
   "metadata": {},
   "outputs": [
    {
     "name": "stdout",
     "output_type": "stream",
     "text": [
      "i/p - [10, 3, 5, 7, 2, 9, 11, 6]\n",
      "[3, 5, 7, 2]\n"
     ]
    }
   ],
   "source": [
    "h = [int(i) for i in input().split()]\n",
    "print(f\"i/p - {h}\")\n",
    "maxt = 0\n",
    "increase = 0\n",
    "decrease = 0\n",
    "l = -1\n",
    "r = -1\n",
    "ii = -1\n",
    "jj = -1\n",
    "for i in range(1,len(h)):\n",
    "    if(h[i]>h[i-1]):\n",
    "        if(decrease):\n",
    "            # print(l,r,t)\n",
    "            # if((r-l+1)>maxt):\n",
    "            #     maxt=t\n",
    "            #     ii=l\n",
    "            #     jj=r\n",
    "            l=-1\n",
    "            r=-1\n",
    "            decrease = 0\n",
    "            increase = 0\n",
    "            continue\n",
    "        increase = 1\n",
    "        t = t+1\n",
    "        if(l<0):\n",
    "            l = i-1\n",
    "        r = i\n",
    "    else:\n",
    "        if(increase):\n",
    "            decrease = 1\n",
    "            r = i\n",
    "            # if((r-l+1)>maxt):\n",
    "            #     maxt=t\n",
    "            #     ii=l\n",
    "            #     jj=r\n",
    "        else:\n",
    "            increase = 0\n",
    "            decrease = 0\n",
    "            l=-1\n",
    "            r=-1\n",
    "    if((r-l+1)>maxt):\n",
    "        maxt=r-l+1\n",
    "        ii=l\n",
    "        jj=r\n",
    "    # print(l , r)\n",
    "\n",
    "if(ii >= 0  or jj >= 0):\n",
    "    print(h[ii:jj+1])\n",
    "else:\n",
    "    print('No strict increase or decrease')"
   ]
  },
  {
   "cell_type": "markdown",
   "metadata": {},
   "source": [
    "Pass by reference/value\n",
    "\n",
    "https://www.geeksforgeeks.org/pass-by-reference-vs-value-in-python/"
   ]
  },
  {
   "cell_type": "markdown",
   "metadata": {},
   "source": [
    "Reverse a integer - with corner conditions"
   ]
  },
  {
   "cell_type": "code",
   "execution_count": 4,
   "metadata": {},
   "outputs": [
    {
     "data": {
      "text/plain": [
       "-1098765432"
      ]
     },
     "execution_count": 4,
     "metadata": {},
     "output_type": "execute_result"
    }
   ],
   "source": [
    "class Solution:\n",
    "    def reverse(self, x: int) -> int:\n",
    "        reverse = 0\n",
    "        negative = 0\n",
    "        c = 0\n",
    "        if(x<0):\n",
    "            negative = 1\n",
    "        x = abs(x)\n",
    "        try:\n",
    "            while(x):\n",
    "                digit = x%10\n",
    "                c +=1\n",
    "                reverse = reverse*10 + digit\n",
    "                x = x//10\n",
    "            if(negative):\n",
    "                reverse = (-1)*reverse\n",
    "            if(reverse > 2**31-1 or reverse < -2**31):\n",
    "                return 0\n",
    "            else:\n",
    "                return reverse\n",
    "        except:\n",
    "            return 0\n",
    "\n",
    "obj = Solution()\n",
    "\n",
    "obj.reverse(-2345678901)\n",
    "        "
   ]
  },
  {
   "cell_type": "markdown",
   "metadata": {},
   "source": [
    "LCM and GCD\n",
    "\n",
    "LCM is (product of 2 numbers)/(HCF or GCD)"
   ]
  },
  {
   "cell_type": "code",
   "execution_count": 10,
   "metadata": {},
   "outputs": [
    {
     "name": "stdout",
     "output_type": "stream",
     "text": [
      "65 1\n"
     ]
    }
   ],
   "source": [
    "#User function Template for python3\n",
    "\n",
    "class Solution:\n",
    "    def lcmAndGcd(self, A , B):\n",
    "        def gcd(a,b):\n",
    "            if(not a):\n",
    "                return b\n",
    "            if(not b):\n",
    "                return a\n",
    "            if(a<b):\n",
    "                a,b = b,a\n",
    "            return gcd(a-b,b)\n",
    "            \n",
    "        g = gcd(A,B)\n",
    "        lcm = (A*B)//g\n",
    "        \n",
    "        return (lcm,g)\n",
    "            \n",
    "\n",
    "\n",
    "#{ \n",
    " # Driver Code Starts\n",
    "#Initial Template for Python 3\n",
    "\n",
    "import math\n",
    "if __name__ == '__main__': \n",
    "    t = int (input ())\n",
    "    for _ in range (t):\n",
    "        A,B=map(int,input().split())\n",
    "        \n",
    "        ob = Solution()\n",
    "        ptr = ob.lcmAndGcd(A,B)\n",
    "        \n",
    "        print(ptr[0],ptr[1])\n",
    "# } Driver Code Ends"
   ]
  },
  {
   "cell_type": "markdown",
   "metadata": {},
   "source": [
    "sum of all divisors from 1 to N"
   ]
  },
  {
   "cell_type": "code",
   "execution_count": 23,
   "metadata": {},
   "outputs": [
    {
     "name": "stdout",
     "output_type": "stream",
     "text": [
      "2 1 2\n",
      "4\n",
      "3 1 3\n",
      "8\n",
      "4 1 4\n",
      "4 2 2\n",
      "15\n",
      "5 1 5\n",
      "21\n",
      "6 1 6\n",
      "6 2 3\n",
      "33\n",
      "33\n"
     ]
    }
   ],
   "source": [
    "#User function Template for python3\n",
    "\n",
    "\n",
    "class Solution:\n",
    "    def sumOfDivisors(self, N):\n",
    "        result = 1\n",
    "        for i in range(2,N+1):\n",
    "            limit = int(pow(i,0.5))\n",
    "            for j in range(1,limit+1):\n",
    "                if(i%j==0):\n",
    "                    result+=j\n",
    "                    print(i,j,(i//j))\n",
    "                    if(j!=(i//j)):\n",
    "                        result+=(i//j)\n",
    "            # result += i\n",
    "            print(result)\n",
    "        return result\n",
    "            \n",
    "           \n",
    "#{ \n",
    " # Driver Code Starts\n",
    "#Initial Template for Python 3\n",
    "\n",
    "if __name__ == '__main__': \n",
    "    t = int(input())\n",
    "    for _ in range(t):\n",
    "        N = int(input())\n",
    "        ob = Solution()\n",
    "        ans = ob.sumOfDivisors(N)\n",
    "        print(ans)\n",
    "# } Driver Code Ends\n",
    "\n",
    "# 1 - 1\n",
    "# 2 - 1,2\n",
    "# 3 - 1,3\n",
    "# 4 - 1,2,4\n",
    "# 5 - 1,5\n",
    "# 6 - 1,2,3,6"
   ]
  },
  {
   "cell_type": "code",
   "execution_count": 24,
   "metadata": {},
   "outputs": [
    {
     "name": "stdout",
     "output_type": "stream",
     "text": [
      "33\n"
     ]
    }
   ],
   "source": [
    "# Above approach gives time limit exceeded, because we are using 2 loops\n",
    "\n",
    "# optimised solution - How each number is contributing to overall sum. \n",
    "# we are running only one loop here\n",
    "\n",
    "#User function Template for python3\n",
    "\n",
    "\n",
    "class Solution:\n",
    "    def sumOfDivisors(self, N):\n",
    "        result = 0\n",
    "        for i in range(1,N+1):\n",
    "            k = (N//i)\n",
    "            result += (k*i)\n",
    "        return result\n",
    "            \n",
    "           \n",
    "#{ \n",
    " # Driver Code Starts\n",
    "#Initial Template for Python 3\n",
    "\n",
    "if __name__ == '__main__': \n",
    "    t = int(input())\n",
    "    for _ in range(t):\n",
    "        N = int(input())\n",
    "        ob = Solution()\n",
    "        ans = ob.sumOfDivisors(N)\n",
    "        print(ans)\n",
    "# } Driver Code Ends\n",
    "\n",
    "# 1 - 1\n",
    "# 2 - 1,2\n",
    "# 3 - 1,3\n",
    "# 4 - 1,2,4\n",
    "# 5 - 1,5\n",
    "# 6 - 1,2,3,6"
   ]
  },
  {
   "cell_type": "markdown",
   "metadata": {},
   "source": [
    "Minimum jumps"
   ]
  },
  {
   "cell_type": "code",
   "execution_count": 31,
   "metadata": {},
   "outputs": [
    {
     "name": "stdout",
     "output_type": "stream",
     "text": [
      "-1\n"
     ]
    }
   ],
   "source": [
    "#User function Template for python3\n",
    "# 0 1 2 3 4 5\n",
    "# 1 4 3 2 6 7\n",
    "class Solution():\n",
    "    def minJumps(self,arr):\n",
    "        maxIndex = 0\n",
    "        jumps = 0\n",
    "        currIndex = 0\n",
    "        for i in range(len(arr)):\n",
    "            maxIndex = max(maxIndex,i+arr[i])\n",
    "            if(i == currIndex):\n",
    "                jumps +=1\n",
    "                currIndex = maxIndex\n",
    "            if(currIndex >= len(arr)-1):\n",
    "                return jumps\n",
    "        else:\n",
    "            return -1\n",
    "\n",
    "#    maxIndex = 1\n",
    "#    jump = 1\n",
    "#    currentIndex = 1\n",
    "   \n",
    "#    maxindex = 5\n",
    "#    jump = 2\n",
    "#    currentIndex = 5\n",
    "   \n",
    "#    maxindex = 5\n",
    "#    jump = 3\n",
    "#    currentIndex = 5         \n",
    "                \n",
    "            \n",
    "                \n",
    "                \n",
    "            \n",
    "        \n",
    "\n",
    "#{ \n",
    " # Driver Code Starts\n",
    "#Initial Template for Python 3\n",
    "if __name__ == '__main__':\n",
    "    T = int(input())\n",
    "    for i in range(T):\n",
    "        # n = int(input())\n",
    "        Arr = [int(x) for x in input().split()]\n",
    "        ob = Solution()\n",
    "        ans = ob.minJumps(Arr)\n",
    "        print(ans)\n",
    "\n",
    "# } Driver Code Ends"
   ]
  },
  {
   "cell_type": "markdown",
   "metadata": {},
   "source": [
    "Sum of series:\n",
    "\n",
    "1 + 2 + ..... n = n (n+1)//2\n",
    "\n",
    "(1**3)+(2**3)+(3**3)+⋯+(n**3) = (n * (n + 1) // 2) ** 2 "
   ]
  },
  {
   "cell_type": "markdown",
   "metadata": {},
   "source": [
    "Is palindrome"
   ]
  },
  {
   "cell_type": "code",
   "execution_count": 3,
   "metadata": {},
   "outputs": [
    {
     "name": "stdout",
     "output_type": "stream",
     "text": [
      "True\n"
     ]
    }
   ],
   "source": [
    "class Solution:\n",
    "    def isPalindrome(self, s: str) -> bool:\n",
    "        l = 0\n",
    "        r = len(s)-1\n",
    "        while(l<r):\n",
    "            if(s[l].isalnum()):\n",
    "                if(s[r].isalnum()):\n",
    "                    if(s[l].lower() == s[r].lower()):\n",
    "                        l+=1\n",
    "                        r-=1\n",
    "                        continue\n",
    "                    else:\n",
    "                        return False\n",
    "                else:\n",
    "                    r-=1\n",
    "            else:\n",
    "                l+=1\n",
    "        else:\n",
    "            return True\n",
    "\n",
    "a = Solution()\n",
    "\n",
    "print(a.isPalindrome('a bb !a'))"
   ]
  },
  {
   "cell_type": "code",
   "execution_count": null,
   "metadata": {},
   "outputs": [],
   "source": [
    "class Solution:\n",
    "    def isPalindrome(self, s: str) -> bool:\n",
    "        strippedString = ''.join(filter(lambda char : char.isalnum(), s.lower()))\n",
    "        return strippedString == strippedString[::-1]"
   ]
  },
  {
   "cell_type": "markdown",
   "metadata": {},
   "source": [
    "Fibonacci number"
   ]
  },
  {
   "cell_type": "code",
   "execution_count": null,
   "metadata": {},
   "outputs": [],
   "source": [
    "class Solution:\n",
    "    def fib(self, n: int) -> int:\n",
    "        a = 0\n",
    "        b = 1\n",
    "        if(n==0):\n",
    "            return 0\n",
    "        if(n==1):\n",
    "            return 1\n",
    "        for i in range(2,n+1):\n",
    "            ans = a+b\n",
    "            a = b\n",
    "            b = ans\n",
    "        return ans\n",
    "        "
   ]
  },
  {
   "cell_type": "markdown",
   "metadata": {},
   "source": [
    "Hashing - Basics\n",
    "\n",
    "ASCII of 'a' is 97\n",
    "ASCII of 'A' is 65"
   ]
  },
  {
   "cell_type": "markdown",
   "metadata": {},
   "source": [
    "Frequencies of Limited Range Array Elements\n",
    "Expected time complexity: O(n)\n",
    "Expected auxiliary space: O(1)"
   ]
  },
  {
   "cell_type": "code",
   "execution_count": null,
   "metadata": {},
   "outputs": [],
   "source": [
    "class Solution:\n",
    "    #Function to count the frequency of all elements from 1 to N in the array.\n",
    "    def frequencyCount(self, arr, N, P):\n",
    "        #  do modify in the given array\n",
    "        d = dict()\n",
    "        for i in range(N):\n",
    "            if(d.get(arr[i])):\n",
    "                d[arr[i]] +=1\n",
    "            else:\n",
    "                d[arr[i]] = 1\n",
    "        for i in range(1,N+1):\n",
    "            if(d.get(i)):\n",
    "                arr[i-1] = d[i]\n",
    "            else:\n",
    "                arr[i-1] = 0\n",
    "    \n",
    "#{ \n",
    " # Driver Code Starts\n",
    "#Initial Template for Python 3\n",
    "\n",
    "import math\n",
    "if __name__ == \"__main__\":\n",
    "    T = int(input())\n",
    "    while (T > 0):\n",
    "        N = int(input())\n",
    "        arr = [int(x) for x in input().strip().split()]\n",
    "        P = int(input())\n",
    "        ob = Solution()\n",
    "        ob.frequencyCount(arr, N, P)\n",
    "        for i in arr:\n",
    "            print(i, end=\" \")\n",
    "        print()\n",
    "        T -= 1\n",
    "\n",
    "# } Driver Code Ends"
   ]
  },
  {
   "cell_type": "code",
   "execution_count": 5,
   "metadata": {},
   "outputs": [
    {
     "name": "stdout",
     "output_type": "stream",
     "text": [
      "[10, 2, 2, 3, 3, 3, 4, 4]\n",
      "[10, 11, 2, 3, 3, 3, 4, 4]\n",
      "[10, 20, 2, 3, 3, 3, 4, 4]\n",
      "[10, 20, 11, 3, 3, 3, 4, 4]\n",
      "[10, 20, 20, 3, 3, 3, 4, 4]\n",
      "[10, 20, 29, 3, 3, 3, 4, 4]\n",
      "[10, 20, 29, 12, 3, 3, 4, 4]\n",
      "[10, 20, 29, 21, 3, 3, 4, 4]\n",
      "result\n",
      "[1, 2, 3, 2, 0, 0, 0, 0]\n"
     ]
    }
   ],
   "source": [
    "class Solution:\n",
    "       \n",
    "    def frequencyCount(self, arr, n, p):\n",
    "        # Step 1: Identify and ignore elements greater than N\n",
    "        for i in range(n):\n",
    "            if arr[i] > n:\n",
    "                arr[i] = 0\n",
    "       \n",
    "        # Step 2: Encode frequency information into array elements\n",
    "        for i in range(n):\n",
    "            if arr[i] % (n + 1) > 0:\n",
    "                arr[(arr[i] % (n + 1)) - 1] += (n + 1)\n",
    "                print(arr)\n",
    "        \n",
    "        print('result')\n",
    "       \n",
    "        # Step 3: Decode the frequency information\n",
    "        for i in range(n):\n",
    "            arr[i] //= (n + 1)\n",
    "        print(arr)\n",
    "\n",
    "a = Solution()\n",
    "\n",
    "a.frequencyCount([1,2,2,3,3,3,4,4],8,9)\n"
   ]
  },
  {
   "cell_type": "markdown",
   "metadata": {},
   "source": [
    "Frequency of the Most Frequent Element"
   ]
  },
  {
   "cell_type": "code",
   "execution_count": null,
   "metadata": {},
   "outputs": [],
   "source": [
    "class Solution:\n",
    "    def maxFrequency(self, nums: List[int], k: int) -> int:\n",
    "        nums.sort()\n",
    "        l = 0\n",
    "        r = 0\n",
    "        total = 0\n",
    "        windowlen = 0\n",
    "        result = 0\n",
    "        while(r<len(nums)):\n",
    "            total = total + nums[r]\n",
    "            while(nums[r]*(r-l+1) > total+k):\n",
    "                total -= nums[l]\n",
    "                l+=1\n",
    "            result = max(result,r-l+1)\n",
    "            r+=1\n",
    "        return result\n",
    "\n"
   ]
  }
 ],
 "metadata": {
  "kernelspec": {
   "display_name": "Python 3",
   "language": "python",
   "name": "python3"
  },
  "language_info": {
   "codemirror_mode": {
    "name": "ipython",
    "version": 3
   },
   "file_extension": ".py",
   "mimetype": "text/x-python",
   "name": "python",
   "nbconvert_exporter": "python",
   "pygments_lexer": "ipython3",
   "version": "3.10.5"
  }
 },
 "nbformat": 4,
 "nbformat_minor": 2
}
