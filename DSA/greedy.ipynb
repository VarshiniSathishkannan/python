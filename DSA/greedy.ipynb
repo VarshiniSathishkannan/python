{
 "cells": [
  {
   "cell_type": "markdown",
   "metadata": {},
   "source": [
    "1- Assign cookies\n",
    "\n",
    "Assign cookied to the children based on the greed factor, return the maximum children that can be satisfied"
   ]
  },
  {
   "cell_type": "code",
   "execution_count": 1,
   "metadata": {},
   "outputs": [
    {
     "name": "stdout",
     "output_type": "stream",
     "text": [
      "3\n"
     ]
    }
   ],
   "source": [
    "greed = [1,5,3,3,4]\n",
    "c = [4,2,1,2,1,3]\n",
    "\n",
    "m = len(greed)\n",
    "n = len(c)\n",
    "\n",
    "greed.sort()\n",
    "c.sort()\n",
    "\n",
    "i=0\n",
    "j=0\n",
    "r=0\n",
    "while(i<m and j<n):\n",
    "    if(c[j]>=greed[i]):\n",
    "        r = r +1\n",
    "        i = i+1\n",
    "    j = j+1\n",
    "\n",
    "print(r)\n",
    "\n"
   ]
  },
  {
   "cell_type": "markdown",
   "metadata": {},
   "source": [
    "2- Lemonade change\n",
    "\n",
    "return the maximum no of customers who can be served with lemonade, cost is 5rs"
   ]
  },
  {
   "cell_type": "code",
   "execution_count": 2,
   "metadata": {},
   "outputs": [
    {
     "name": "stdout",
     "output_type": "stream",
     "text": [
      "True\n"
     ]
    }
   ],
   "source": [
    "bills = [5,5,5,10,20]\n",
    "\n",
    "five, ten, twenty = (0,0,0)\n",
    "flag = 1\n",
    "\n",
    "for i in bills:\n",
    "    if(i == 5):\n",
    "        five = five + 1\n",
    "    elif(i == 10):\n",
    "        if(five):\n",
    "            five = five-1\n",
    "            ten = ten + 1\n",
    "        else:\n",
    "            print(False)\n",
    "            flag = 0\n",
    "            break\n",
    "    else:\n",
    "        if(five and ten):\n",
    "            five = five - 1\n",
    "            ten = ten - 1\n",
    "            twenty = twenty+1\n",
    "        elif(len(five)>=3):\n",
    "            five = five - 3\n",
    "            twenty = twenty+1\n",
    "        else:\n",
    "            print(False)\n",
    "            flag = 0\n",
    "            break\n",
    "\n",
    "if(flag):\n",
    "    print(True)\n",
    "            "
   ]
  },
  {
   "cell_type": "markdown",
   "metadata": {},
   "source": [
    "3- Jump Game - 1\n",
    "\n",
    "If we are able to reach the end of the array - return true or false"
   ]
  },
  {
   "cell_type": "code",
   "execution_count": 4,
   "metadata": {},
   "outputs": [
    {
     "name": "stdout",
     "output_type": "stream",
     "text": [
      "False\n"
     ]
    }
   ],
   "source": [
    "arr = [1,2,2,1,0,1,2,5]\n",
    "\n",
    "max_index = 0\n",
    "value = 0\n",
    "\n",
    "for i in range(len(arr)):\n",
    "    if(i>max_index):\n",
    "        print(False)\n",
    "        break\n",
    "    value = arr[i]\n",
    "    max_index = max(value+i,max_index)\n",
    "    if(max_index >= len(arr)-1):\n",
    "        print(True)\n",
    "        break\n",
    "else:\n",
    "    print(False)\n",
    "    "
   ]
  },
  {
   "cell_type": "markdown",
   "metadata": {},
   "source": [
    "4- Jump Game - 2\n",
    "\n",
    "minimum steps required to reach the end"
   ]
  },
  {
   "cell_type": "code",
   "execution_count": 20,
   "metadata": {},
   "outputs": [
    {
     "name": "stdout",
     "output_type": "stream",
     "text": [
      "3\n"
     ]
    }
   ],
   "source": [
    "arr = [2,3,1,4,1,1,1,2]\n",
    "n = len(arr)\n",
    "max_index = n+1\n",
    "def func(arr,i,index):\n",
    "    global max_index\n",
    "    if(i >= n-1):\n",
    "        if(index<max_index):\n",
    "            max_index = index\n",
    "        return\n",
    "    for j in range(1,arr[i]+1):\n",
    "        func(arr,i+j,index+1)\n",
    "\n",
    "func(arr,0,0)\n",
    "print(max_index)\n"
   ]
  },
  {
   "cell_type": "code",
   "execution_count": 2,
   "metadata": {},
   "outputs": [
    {
     "name": "stdout",
     "output_type": "stream",
     "text": [
      "3\n"
     ]
    }
   ],
   "source": [
    "# Optimised solution\n",
    "\n",
    "arr = [2,3,1,4,1,1,1,2]\n",
    "n = len(arr)\n",
    "\n",
    "def fun(arr):\n",
    "    jumps = 0\n",
    "    l,r = (0,0)\n",
    "    while(r<n-1):\n",
    "        farthest = 0\n",
    "        for i in range(l,r+1):\n",
    "            farthest = max(i+arr[i],farthest)\n",
    "        l = r+1\n",
    "        r = farthest\n",
    "        jumps = jumps + 1\n",
    "    print(jumps)\n",
    "\n",
    "fun(arr)\n",
    "\n"
   ]
  },
  {
   "cell_type": "markdown",
   "metadata": {},
   "source": [
    "5- Job sequencing problem\n",
    "\n",
    "Maximize the profit, only one job can be done in a day within the deadline"
   ]
  },
  {
   "cell_type": "code",
   "execution_count": 13,
   "metadata": {},
   "outputs": [
    {
     "name": "stdout",
     "output_type": "stream",
     "text": [
      "{2: 80, 6: 70, 5: 60}\n",
      "210\n"
     ]
    }
   ],
   "source": [
    "# id = [1,2,3,4]\n",
    "# deadline = [4,1,1,1]\n",
    "# profit = [40,10,40,30]\n",
    "\n",
    "id = [1,2,3,4]\n",
    "deadline = [2,6,6,5,4,2,4,2]\n",
    "profit = [80,70,65,60,25,22,20,10]\n",
    "\n",
    "d = {}\n",
    "for i in range(len(id)):\n",
    "    if(deadline[i] in d):\n",
    "        d[deadline[i]] = max(profit[i],d[deadline[i]])\n",
    "    else:\n",
    "        d[deadline[i]] = profit[i]\n",
    "print(d)\n",
    "\n",
    "print(sum(list(d.values())))\n",
    "\n",
    "\n"
   ]
  },
  {
   "cell_type": "code",
   "execution_count": 14,
   "metadata": {},
   "outputs": [
    {
     "name": "stdout",
     "output_type": "stream",
     "text": [
      "342\n"
     ]
    }
   ],
   "source": [
    "# id = [1,2,3,4]\n",
    "# deadline = [4,1,1,1]\n",
    "# profit = [40,10,40,30]\n",
    "\n",
    "id = [1,2,3,4]\n",
    "deadline = [2,6,6,5,4,2,4,2]\n",
    "profit = [80,70,65,60,25,22,20,10] #sorted in desc\n",
    "\n",
    "max_deadline = max(deadline)\n",
    "max_profit = 0\n",
    "\n",
    "jobs = [-1]*(max_deadline+1)\n",
    "\n",
    "for i in range(len(deadline)):\n",
    "    ele = deadline[i]\n",
    "    if(jobs[ele]==-1):\n",
    "        jobs[ele] = profit[i]\n",
    "        max_profit += profit[i]\n",
    "    else:\n",
    "        j = ele-1\n",
    "        while(j>=0):\n",
    "            if(jobs[j]==-1):\n",
    "                jobs[j] = profit[i]\n",
    "                max_profit += profit[i]\n",
    "                break\n",
    "            j = j-1\n",
    "print(max_profit)\n"
   ]
  },
  {
   "cell_type": "markdown",
   "metadata": {},
   "source": [
    "6- N - meetings in 1 room\n",
    "\n",
    "Given the start and end time, get the maximum no of meetings where there can be only one meeting a time"
   ]
  },
  {
   "cell_type": "code",
   "execution_count": 36,
   "metadata": {},
   "outputs": [
    {
     "name": "stdout",
     "output_type": "stream",
     "text": [
      "[(1, 2, 1), (3, 4, 1), (0, 5, 5), (5, 7, 2), (5, 9, 4), (8, 9, 1)]\n",
      "(3, 4, 1)\n",
      "(5, 7, 2)\n",
      "(8, 9, 1)\n",
      "4\n"
     ]
    }
   ],
   "source": [
    "start = [0,3,1,5,5,8]\n",
    "end = [5,4,2,9,7,9]\n",
    "# duration = [5,1,1,4,2,1]\n",
    "duration = []\n",
    "for i in range(len(start)):\n",
    "    duration.append((start[i],end[i],end[i]-start[i]))\n",
    "\n",
    "duration.sort(key=lambda ele: ele[1])\n",
    "print(duration)\n",
    "cnt = 1\n",
    "i = 1\n",
    "current = duration[0][1]\n",
    "while(i<len(start)):\n",
    "    if(current<=duration[i][0]):\n",
    "        print(duration[i])\n",
    "        cnt +=1\n",
    "        current = duration[i][1]\n",
    "    i = i+1\n",
    "print(cnt)\n",
    "\n",
    "\n"
   ]
  },
  {
   "cell_type": "markdown",
   "metadata": {},
   "source": [
    "7- Non overlapping intervals\n",
    "\n",
    "Minimum removals to get an array with no overlaps"
   ]
  },
  {
   "cell_type": "code",
   "execution_count": 43,
   "metadata": {},
   "outputs": [
    {
     "name": "stdout",
     "output_type": "stream",
     "text": [
      "[(1, 2), (1, 3), (1, 4), (2, 3), (2, 5), (3, 4)]\n",
      "3\n"
     ]
    }
   ],
   "source": [
    "intervals = [(1,2),(2,3),(3,4),(1,3),(1,4),(2,5)]\n",
    "\n",
    "intervals.sort(key=lambda a:(a[0],a[1]-a[0]))\n",
    "\n",
    "print(intervals)\n",
    "\n",
    "current = intervals[0][1]\n",
    "cnt = 0\n",
    "i = 1\n",
    "while(i<len(intervals)):\n",
    "    if(current > intervals[i][0] and current < intervals[i][1]):\n",
    "        cnt +=1\n",
    "    else:\n",
    "        current = intervals[i][1]\n",
    "    i +=1\n",
    "print(cnt)\n",
    "\n",
    "\n",
    "\n",
    "# n = max(intervals,key=lambda a:a[1])[1]\n",
    "\n",
    "# arr = [-1]*(n+1)\n",
    "\n",
    "# for i in range(len(intervals)):\n",
    "#     s = intervals[i][0]\n",
    "#     e = intervals[i][1]\n",
    "#     if(arr[s])"
   ]
  },
  {
   "cell_type": "markdown",
   "metadata": {},
   "source": [
    "8- Insert Intervals"
   ]
  },
  {
   "cell_type": "code",
   "execution_count": 50,
   "metadata": {},
   "outputs": [
    {
     "name": "stdout",
     "output_type": "stream",
     "text": [
      "[(1, 2), (3, 4), (5, 16)]\n"
     ]
    }
   ],
   "source": [
    "intervals = [(1,2),(3,4),(7,9),(12,16)]\n",
    "new = [6,8]\n",
    "\n",
    "\n",
    "i = 0\n",
    "while(i<len(intervals)):\n",
    "    if(new[0] <= intervals[i][0]):\n",
    "        if(new[0] >= intervals[i-1][1] and new[1]<=intervals[i][0]):\n",
    "            intervals.insert(i,tuple(new))\n",
    "            break\n",
    "        else:\n",
    "            if(new[0] < intervals[i-1][1]):\n",
    "                a = min(new[0],intervals[i-1][0])\n",
    "            if(new[1]>intervals[i][0]):\n",
    "\n",
    "            # a = intervals[i]\n",
    "            # b = intervals[i-1]\n",
    "            # ans = (min(a[0],b[0],new[0]),max(a[1],b[1],new[1]))\n",
    "            # intervals.insert(i,ans)\n",
    "            # intervals.remove(a)\n",
    "            # intervals.remove(b)\n",
    "            # break\n",
    "    i +=1\n",
    "print(intervals)"
   ]
  },
  {
   "cell_type": "markdown",
   "metadata": {},
   "source": [
    "9- Minimum no of platforms required for a railway station\n",
    "\n"
   ]
  },
  {
   "cell_type": "code",
   "execution_count": 1,
   "metadata": {},
   "outputs": [
    {
     "name": "stdout",
     "output_type": "stream",
     "text": [
      "3\n"
     ]
    }
   ],
   "source": [
    "# Maximum no of intersections will be the no of trains\n",
    "\n",
    "arr = [900,945,955,1100,1500,1800]\n",
    "dep = [920,1200,1130,1150,1900,2000]\n",
    "\n",
    "# 1200, 1130 1900\n",
    "maxStation = 1\n",
    "temp = [dep[0]]\n",
    "for i in range(1,len(arr)):\n",
    "    j = len(temp)-1\n",
    "    while(j>=0):\n",
    "        if(arr[i] >= temp[j]):\n",
    "            temp[j] = dep[i]\n",
    "            break\n",
    "        else:\n",
    "            j = j-1\n",
    "    else:\n",
    "        temp.append(dep[i])\n",
    "        maxStation+=1\n",
    "print(maxStation)"
   ]
  },
  {
   "cell_type": "code",
   "execution_count": null,
   "metadata": {},
   "outputs": [],
   "source": [
    "# Maximum no of intersections will be the no of trains\n",
    "\n",
    "arr = [900,945,955,1100,1500,1800]\n",
    "dep = [920,1200,1130,1150,1900,2000]\n",
    "\n",
    "# 1200, 1130 1900\n",
    "maxStation = 1\n",
    "temp = [dep[0]]\n",
    "for i in range(1,len(arr)):\n",
    "    j = len(temp)-1\n",
    "    while(j>=0):\n",
    "        if(arr[i] >= temp[j]):\n",
    "            temp[j] = dep[i]\n",
    "            break\n",
    "        else:\n",
    "            j = j-1\n",
    "    else:\n",
    "        temp.append(dep[i])\n",
    "        maxStation+=1\n",
    "print(maxStation) "
   ]
  },
  {
   "cell_type": "code",
   "execution_count": 7,
   "metadata": {},
   "outputs": [
    {
     "name": "stdout",
     "output_type": "stream",
     "text": [
      "[920, 1130, 1150, 1200, 1900, 2000]\n",
      "3\n"
     ]
    }
   ],
   "source": [
    "arr = [900,945,955,1100,1500,1800]\n",
    "dep = [920,1200,1130,1150,1900,2000]\n",
    "\n",
    "dep.sort()\n",
    "\n",
    "print(dep)\n",
    "cnt = 0\n",
    "i = 0\n",
    "j = 0\n",
    "maxCnt = 0\n",
    "while(i<len(arr) and j<len(dep)):\n",
    "    if(arr[i] <= dep[j]):\n",
    "        cnt +=1\n",
    "        maxCnt = max(maxCnt,cnt)\n",
    "        i += 1\n",
    "    else:\n",
    "        cnt -=1\n",
    "        j+=1\n",
    "while(i<len(arr)):\n",
    "        cnt +=1\n",
    "        maxCnt = max(maxCnt,cnt)\n",
    "        i += 1\n",
    "\n",
    "print(maxCnt)\n",
    "\n"
   ]
  },
  {
   "cell_type": "markdown",
   "metadata": {},
   "source": [
    "10- Valid paranthesis string"
   ]
  },
  {
   "cell_type": "code",
   "execution_count": null,
   "metadata": {},
   "outputs": [],
   "source": [
    "class Solution:\n",
    "    def isBalanced(self, s):\n",
    "        d = {'(' : ')', '{':'}', '[':']'}\n",
    "        stack = []\n",
    "        for i in s:\n",
    "            if i in d:\n",
    "                stack.append(i)\n",
    "            else:\n",
    "                if(len(stack)):\n",
    "                    ele = stack.pop()\n",
    "                    if(i != d[ele]):\n",
    "                        return False\n",
    "                else:\n",
    "                    return False\n",
    "        if(len(stack)):\n",
    "            return False\n",
    "        return True"
   ]
  },
  {
   "cell_type": "code",
   "execution_count": 8,
   "metadata": {},
   "outputs": [
    {
     "name": "stdout",
     "output_type": "stream",
     "text": [
      "False\n"
     ]
    }
   ],
   "source": [
    "s = '(*)' # * can be ( or ) or empty\n",
    "\n",
    "stack = []\n",
    "\n",
    "for i in range(len(s)):\n",
    "    if(s[i] in '(*'):\n",
    "        stack.append(s[i])\n",
    "    else:\n",
    "        ele = stack.pop()\n",
    "        if(s[i] == ')' and ele in '(*'):\n",
    "            continue\n",
    "        else:\n",
    "            print('False')\n",
    "            break\n",
    "if(len(stack)%2!=0):\n",
    "    print('False')\n",
    "else:\n",
    "    while(stack):\n",
    "        ele1 = stack.pop()\n",
    "        ele2 = stack.pop()\n",
    "        if(ele1 == '(' and ele2 == '*'):\n",
    "            continue\n",
    "        else:\n",
    "            print('False')\n",
    "            break\n",
    "        \n",
    "        \n"
   ]
  },
  {
   "cell_type": "code",
   "execution_count": 23,
   "metadata": {},
   "outputs": [
    {
     "name": "stdout",
     "output_type": "stream",
     "text": [
      "False\n"
     ]
    }
   ],
   "source": [
    "s = '))' \n",
    "\n",
    "\n",
    "min_range = 0\n",
    "max_range = 0\n",
    "flag = 0\n",
    "\n",
    "for i in range(len(s)):\n",
    "    if(s[i]=='('):\n",
    "        min_range +=1\n",
    "        max_range +=1\n",
    "    if(s[i]==')'):\n",
    "        min_range -=1\n",
    "        max_range -=1\n",
    "    if(s[i]=='*'):\n",
    "        min_range -=1\n",
    "        max_range +=1\n",
    "    if(min_range <0):\n",
    "        min_range =0\n",
    "    if(max_range <0):\n",
    "        print('False')\n",
    "        flag = 1\n",
    "        break\n",
    "if(flag == 0):\n",
    "    if(min_range == 0):\n",
    "        print(True)\n",
    "    else:\n",
    "        print(False)\n"
   ]
  },
  {
   "cell_type": "markdown",
   "metadata": {},
   "source": [
    "11- Candy distribution\n",
    "\n",
    "slope theory\n",
    "\n",
    "distribute candies to the children, such that each child gets atleast one candy and based on the value it should get higher then its neighbour child"
   ]
  },
  {
   "cell_type": "code",
   "execution_count": 24,
   "metadata": {},
   "outputs": [
    {
     "name": "stdout",
     "output_type": "stream",
     "text": [
      "6\n"
     ]
    }
   ],
   "source": [
    "arr = [1,2,3]\n",
    "left = [0]*(len(arr)+1)\n",
    "right = [0]*(len(arr)+1)\n",
    "left[0]=1\n",
    "right[len(arr)-1]=1\n",
    "\n",
    "for i in range(1,len(arr)):\n",
    "    if(arr[i]>arr[i-1]):\n",
    "        left[i]=left[i-1]+1\n",
    "    else:\n",
    "        left[i]=left[i-1]\n",
    "\n",
    "for j in range(len(arr)-2,-1,-1):\n",
    "    if(arr[j]>arr[j+1]):\n",
    "        right[j] = right[j+1]+1\n",
    "    else:\n",
    "        right[j] = right[j+1]\n",
    "\n",
    "s = 0\n",
    "for i in range(len(arr)):\n",
    "    s = s + max(left[i],right[i])\n",
    "\n",
    "print(s)\n"
   ]
  },
  {
   "cell_type": "code",
   "execution_count": 29,
   "metadata": {},
   "outputs": [
    {
     "name": "stdout",
     "output_type": "stream",
     "text": [
      "6\n"
     ]
    }
   ],
   "source": [
    "# Optimised approach\n",
    "\n",
    "arr = [1,2,3]\n",
    "n = len(arr)\n",
    "s = 1\n",
    "i = 1\n",
    "while(i<n):\n",
    "    if(arr[i]==arr[i-1]):\n",
    "        s = s+1\n",
    "    peak = 1\n",
    "    while(i <n and arr[i]>arr[i-1]):\n",
    "        peak +=1\n",
    "        s = s+peak\n",
    "        i +=1\n",
    "    down = 1\n",
    "    while(i<n and arr[i]<arr[i-1]):\n",
    "        s = s+down\n",
    "        down +=1\n",
    "        i +=1\n",
    "    if(down>peak):\n",
    "        s = s + (down - peak)\n",
    "print(s)"
   ]
  },
  {
   "cell_type": "markdown",
   "metadata": {},
   "source": [
    "12- Fractional Knapsack"
   ]
  },
  {
   "cell_type": "code",
   "execution_count": 32,
   "metadata": {},
   "outputs": [
    {
     "name": "stdout",
     "output_type": "stream",
     "text": [
      "[(60, 10), (100, 20), (200, 50), (100, 50)]\n",
      "370\n"
     ]
    }
   ],
   "source": [
    "arr = [(100,20),(60,10),(100,50),(200,50)] #(value,weight)\n",
    "w = 90 #max weight \n",
    "\n",
    "# (5,6,2,4)\n",
    "arr.sort(key = lambda x:(x[0]//x[1]), reverse=True)\n",
    "print(arr)\n",
    "\n",
    "s = 0\n",
    "weight = 0\n",
    "for i in range(len(arr)):\n",
    "    if(arr[i][1]+weight > w):\n",
    "        remaining = w - weight\n",
    "        s = s + (arr[i][0]//remaining)\n",
    "    else:\n",
    "        s  = s+arr[i][0]\n",
    "        weight = weight + arr[i][1]\n",
    "print(s)"
   ]
  }
 ],
 "metadata": {
  "kernelspec": {
   "display_name": "Python 3",
   "language": "python",
   "name": "python3"
  },
  "language_info": {
   "codemirror_mode": {
    "name": "ipython",
    "version": 3
   },
   "file_extension": ".py",
   "mimetype": "text/x-python",
   "name": "python",
   "nbconvert_exporter": "python",
   "pygments_lexer": "ipython3",
   "version": "3.10.5"
  }
 },
 "nbformat": 4,
 "nbformat_minor": 2
}
