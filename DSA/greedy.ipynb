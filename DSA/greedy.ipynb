{
 "cells": [
  {
   "cell_type": "markdown",
   "metadata": {},
   "source": [
    "Assign cookies\n",
    "\n",
    "Assign cookied to the children based on the greed factor, return the maximum children that can be satisfied"
   ]
  },
  {
   "cell_type": "code",
   "execution_count": 1,
   "metadata": {},
   "outputs": [
    {
     "name": "stdout",
     "output_type": "stream",
     "text": [
      "3\n"
     ]
    }
   ],
   "source": [
    "greed = [1,5,3,3,4]\n",
    "c = [4,2,1,2,1,3]\n",
    "\n",
    "m = len(greed)\n",
    "n = len(c)\n",
    "\n",
    "greed.sort()\n",
    "c.sort()\n",
    "\n",
    "i=0\n",
    "j=0\n",
    "r=0\n",
    "while(i<m and j<n):\n",
    "    if(c[j]>=greed[i]):\n",
    "        r = r +1\n",
    "        i = i+1\n",
    "    j = j+1\n",
    "\n",
    "print(r)\n",
    "\n"
   ]
  },
  {
   "cell_type": "markdown",
   "metadata": {},
   "source": [
    "Lemonade change\n",
    "\n",
    "return the maximum no of customers who can be served with lemonade, cost is 5rs"
   ]
  },
  {
   "cell_type": "code",
   "execution_count": 2,
   "metadata": {},
   "outputs": [
    {
     "name": "stdout",
     "output_type": "stream",
     "text": [
      "True\n"
     ]
    }
   ],
   "source": [
    "bills = [5,5,5,10,20]\n",
    "\n",
    "five, ten, twenty = (0,0,0)\n",
    "flag = 1\n",
    "\n",
    "for i in bills:\n",
    "    if(i == 5):\n",
    "        five = five + 1\n",
    "    elif(i == 10):\n",
    "        if(five):\n",
    "            five = five-1\n",
    "            ten = ten + 1\n",
    "        else:\n",
    "            print(False)\n",
    "            flag = 0\n",
    "            break\n",
    "    else:\n",
    "        if(five and ten):\n",
    "            five = five - 1\n",
    "            ten = ten - 1\n",
    "            twenty = twenty+1\n",
    "        elif(len(five)>=3):\n",
    "            five = five - 3\n",
    "            twenty = twenty+1\n",
    "        else:\n",
    "            print(False)\n",
    "            flag = 0\n",
    "            break\n",
    "\n",
    "if(flag):\n",
    "    print(True)\n",
    "            "
   ]
  },
  {
   "cell_type": "markdown",
   "metadata": {},
   "source": [
    "Jump Game - 1\n",
    "\n",
    "If we are able to reach the end of the array - return true or false"
   ]
  },
  {
   "cell_type": "code",
   "execution_count": 4,
   "metadata": {},
   "outputs": [
    {
     "name": "stdout",
     "output_type": "stream",
     "text": [
      "False\n"
     ]
    }
   ],
   "source": [
    "arr = [1,2,2,1,0,1,2,5]\n",
    "\n",
    "max_index = 0\n",
    "value = 0\n",
    "\n",
    "for i in range(len(arr)):\n",
    "    if(i>max_index):\n",
    "        print(False)\n",
    "        break\n",
    "    value = arr[i]\n",
    "    max_index = max(value+i,max_index)\n",
    "    if(max_index >= len(arr)-1):\n",
    "        print(True)\n",
    "        break\n",
    "else:\n",
    "    print(False)\n",
    "    "
   ]
  },
  {
   "cell_type": "markdown",
   "metadata": {},
   "source": [
    "Jump Game - 2\n",
    "\n",
    "minimum steps required to reach the end"
   ]
  },
  {
   "cell_type": "code",
   "execution_count": null,
   "metadata": {},
   "outputs": [
    {
     "ename": "",
     "evalue": "",
     "output_type": "error",
     "traceback": [
      "\u001b[1;31mThe Kernel crashed while executing code in the current cell or a previous cell. \n",
      "\u001b[1;31mPlease review the code in the cell(s) to identify a possible cause of the failure. \n",
      "\u001b[1;31mClick <a href='https://aka.ms/vscodeJupyterKernelCrash'>here</a> for more info. \n",
      "\u001b[1;31mView Jupyter <a href='command:jupyter.viewOutput'>log</a> for further details."
     ]
    }
   ],
   "source": [
    "arr = [2,3,1,4,1,1,1,2]\n",
    "n = len(arr)\n",
    "m = [n]\n",
    "\n",
    "def jump(arr,i,c):\n",
    "    if(i >= n-1):\n",
    "        print(c)\n",
    "        if(c < m[0]):\n",
    "            m[0] = c        \n",
    "    else:\n",
    "        for index in range(i,arr[i]+i):\n",
    "            jump(arr,index,c+1)\n",
    "            if(index >= n-1):\n",
    "                break\n",
    "\n",
    "jump(arr,0,0)"
   ]
  },
  {
   "cell_type": "code",
   "execution_count": null,
   "metadata": {},
   "outputs": [
    {
     "ename": "",
     "evalue": "",
     "output_type": "error",
     "traceback": [
      "\u001b[1;31mThe Kernel crashed while executing code in the current cell or a previous cell. \n",
      "\u001b[1;31mPlease review the code in the cell(s) to identify a possible cause of the failure. \n",
      "\u001b[1;31mClick <a href='https://aka.ms/vscodeJupyterKernelCrash'>here</a> for more info. \n",
      "\u001b[1;31mView Jupyter <a href='command:jupyter.viewOutput'>log</a> for further details."
     ]
    }
   ],
   "source": [
    "arr = [2,3,1]\n",
    "n = len(arr)\n",
    "m.append(n)\n",
    "\n",
    "def jump(arr,i,c):\n",
    "    if(i >= n-1):\n",
    "        print(c)\n",
    "        if(c < m[0]):\n",
    "            m[0] = c        \n",
    "    else:\n",
    "        for index in range(i,arr[i]+i):\n",
    "            jump(arr,index,c+1)\n",
    "            if(index >= n-1):\n",
    "                break\n",
    "\n",
    "jump(arr,0,0)"
   ]
  }
 ],
 "metadata": {
  "kernelspec": {
   "display_name": "Python 3",
   "language": "python",
   "name": "python3"
  },
  "language_info": {
   "codemirror_mode": {
    "name": "ipython",
    "version": 3
   },
   "file_extension": ".py",
   "mimetype": "text/x-python",
   "name": "python",
   "nbconvert_exporter": "python",
   "pygments_lexer": "ipython3",
   "version": "3.10.5"
  }
 },
 "nbformat": 4,
 "nbformat_minor": 2
}
