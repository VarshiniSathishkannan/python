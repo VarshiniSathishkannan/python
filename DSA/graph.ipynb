{
 "cells": [
  {
   "cell_type": "markdown",
   "metadata": {},
   "source": [
    "Graph\n",
    "\n",
    "Made up of vertices and edges\n",
    "\n",
    "vertices are nodes\n",
    "edges are connecting lines - Undirected or directed edge\n",
    "\n",
    "Path - connected by edges - travel to a node. \n",
    "\n",
    "Degree of a node - \n",
    "\n",
    "For an undirected graph, the no of nodes connected to it\n",
    "\n",
    "Total degree of a graph - 2 times the no of edges of a graph\n",
    "\n",
    "For an directed graph, In dgree and out degree\n",
    "\n"
   ]
  },
  {
   "cell_type": "markdown",
   "metadata": {},
   "source": [
    "Types\n",
    "\n",
    "1. Directed graph\n",
    "2. Undirected graph\n",
    "3. weighted graph\n",
    "4. unweighted graph\n",
    "5. complete graph\n",
    "6. Bipartite Graph\n",
    "7. Trees\n",
    "8. Cycles\n",
    "9. Sparse Graphs\n",
    "10. Dense graph\n",
    "\n",
    "Undirected Cyclic Graph\n",
    "\n",
    "Directed Acylic Graph"
   ]
  },
  {
   "cell_type": "markdown",
   "metadata": {},
   "source": [
    "Representations:\n",
    "\n",
    "1. Adjacency matrix\n",
    "2. Adjaceny list "
   ]
  },
  {
   "cell_type": "code",
   "execution_count": 3,
   "metadata": {},
   "outputs": [
    {
     "name": "stdout",
     "output_type": "stream",
     "text": [
      "2---1\n",
      "1---3\n",
      "2---4\n",
      "3---4\n",
      "2---5\n",
      "2---5\n"
     ]
    }
   ],
   "source": [
    "nodes = 5\n",
    "edges = 6\n",
    "\n",
    "# input will be 6 lines, consisting of edges with nodes \n",
    "\n",
    "for _ in range(edges):\n",
    "    n1,n2 = input().split()\n",
    "    print(f\"{n1}---{n2}\")"
   ]
  },
  {
   "cell_type": "markdown",
   "metadata": {},
   "source": [
    "Adjacency matrix\n",
    "\n",
    "Space complexity - O(nodes^2)"
   ]
  },
  {
   "cell_type": "code",
   "execution_count": 17,
   "metadata": {},
   "outputs": [
    {
     "name": "stdout",
     "output_type": "stream",
     "text": [
      "[[0, 0, 0, 0], [0, 0, 0, 0], [0, 0, 0, 0], [0, 0, 0, 0]]\n",
      "[[1, 1, 1, 0], [1, 1, 1, 0], [1, 1, 1, 0], [1, 1, 1, 0]]\n"
     ]
    }
   ],
   "source": [
    "nodes = 3\n",
    "edges = 3\n",
    "\n",
    "# input will be 6 lines, consisting of edges with nodes \n",
    "adj = [[0]*(nodes+1)]*(nodes+1)\n",
    "print(adj)\n",
    "for _ in range(edges):\n",
    "    n,m = input().split()\n",
    "    n = int(n)\n",
    "    m = int(m)\n",
    "    adj[n][m] = 1\n",
    "    adj[m][n] = 1\n",
    "print(adj)\n",
    "\n",
    "# For weighted graph, replace 1 by the weights\n",
    "    "
   ]
  },
  {
   "cell_type": "markdown",
   "metadata": {},
   "source": [
    "Adjacency list\n",
    "\n",
    "Space complexity - O(V+E)"
   ]
  },
  {
   "cell_type": "code",
   "execution_count": 18,
   "metadata": {},
   "outputs": [
    {
     "name": "stdout",
     "output_type": "stream",
     "text": [
      "{0: [1, 2], 1: [0, 2], 2: [1, 0]}\n"
     ]
    }
   ],
   "source": [
    "# Using dict\n",
    "\n",
    "nodes = 3\n",
    "edges = 3\n",
    "\n",
    "# input will be 3 lines, consisting of edges with nodes \n",
    "\n",
    "adj = {}\n",
    "\n",
    "for i in range(nodes):\n",
    "    adj[i] = []\n",
    "\n",
    "for _ in range(edges):\n",
    "    n,m = input().split()\n",
    "    n = int(n)\n",
    "    m = int(m)\n",
    "    adj[n].append(m)\n",
    "    adj[m].append(n)\n",
    "\n",
    "print(adj)\n",
    "\n",
    "    "
   ]
  },
  {
   "cell_type": "code",
   "execution_count": 19,
   "metadata": {},
   "outputs": [
    {
     "name": "stdout",
     "output_type": "stream",
     "text": [
      "[[1, 2], [2, 0], [1, 0]]\n"
     ]
    }
   ],
   "source": [
    "# Using List\n",
    "\n",
    "nodes = 3\n",
    "edges = 3\n",
    "\n",
    "# input will be 3 lines, consisting of edges with nodes \n",
    "\n",
    "adj = []\n",
    "\n",
    "for i in range(nodes):\n",
    "    adj.append([])\n",
    "\n",
    "for _ in range(edges):\n",
    "    n,m = input().split()\n",
    "    n = int(n)\n",
    "    m = int(m)\n",
    "    adj[n].append(m)\n",
    "    adj[m].append(n)\n",
    "\n",
    "print(adj)\n",
    "\n",
    "    "
   ]
  },
  {
   "cell_type": "markdown",
   "metadata": {},
   "source": [
    "Adjacency list for weighted graph"
   ]
  },
  {
   "cell_type": "code",
   "execution_count": 20,
   "metadata": {},
   "outputs": [
    {
     "name": "stdout",
     "output_type": "stream",
     "text": [
      "{0: [(1, 3), (2, 4)], 1: [(2, 2), (0, 3)], 2: [(1, 2), (0, 4)]}\n"
     ]
    }
   ],
   "source": [
    "# Using Dict\n",
    "\n",
    "nodes = 3\n",
    "edges = 3\n",
    "\n",
    "# input will be 3 lines, consisting of edges with nodes \n",
    "\n",
    "adj = {}\n",
    "\n",
    "for i in range(nodes):\n",
    "    adj[i] = []\n",
    "\n",
    "for _ in range(edges):\n",
    "    n,m,w = input().split()\n",
    "    n = int(n)\n",
    "    m = int(m)\n",
    "    w = int(w)\n",
    "    adj[n].append((m,w))\n",
    "    adj[m].append((n,w))\n",
    "\n",
    "print(adj)\n",
    "\n",
    "    "
   ]
  },
  {
   "cell_type": "code",
   "execution_count": 21,
   "metadata": {},
   "outputs": [
    {
     "name": "stdout",
     "output_type": "stream",
     "text": [
      "[[(1, 3), (2, 4)], [(2, 2), (0, 3)], [(1, 2), (0, 4)]]\n"
     ]
    }
   ],
   "source": [
    "# Using List\n",
    "\n",
    "nodes = 3\n",
    "edges = 3\n",
    "\n",
    "# input will be 3 lines, consisting of edges with nodes \n",
    "\n",
    "adj = []\n",
    "\n",
    "for i in range(nodes):\n",
    "    adj.append([])\n",
    "\n",
    "for _ in range(edges):\n",
    "    n,m,w = input().split()\n",
    "    n = int(n)\n",
    "    m = int(m)\n",
    "    w = int(w)\n",
    "    adj[n].append((m,w))\n",
    "    adj[m].append((n,w))\n",
    "\n",
    "print(adj)\n",
    "\n",
    "    "
   ]
  },
  {
   "cell_type": "markdown",
   "metadata": {},
   "source": [
    "Component graph\n",
    "\n",
    "Disjoint graph, where they are not connected. Treaversal becomes difficult, that is why we have to always maintain a visited array."
   ]
  },
  {
   "cell_type": "markdown",
   "metadata": {},
   "source": [
    "Graph traversal\n",
    "\n",
    "1. BFS \n",
    "2. DFS"
   ]
  },
  {
   "cell_type": "markdown",
   "metadata": {},
   "source": [
    "BFS\n",
    "\n",
    "level wise traversal\n",
    "implemented using queue"
   ]
  },
  {
   "cell_type": "code",
   "execution_count": 29,
   "metadata": {},
   "outputs": [
    {
     "name": "stdout",
     "output_type": "stream",
     "text": [
      "{1: [2, 6], 2: [1, 3, 4], 3: [2], 4: [2, 5], 5: [4], 6: [1, 7, 9], 7: [6, 8], 8: [7], 9: [6]}\n"
     ]
    }
   ],
   "source": [
    "vertex = 9\n",
    "edges = 8\n",
    "\n",
    "edge = [(1,2),(1,6),(2,3),(2,4),(6,7),(6,9),(4,5),(7,8)]\n",
    "\n",
    "adj = {}\n",
    "\n",
    "for i in range(1,vertex+1):\n",
    "    adj[i] = []\n",
    "\n",
    "for i in edge:\n",
    "    m,n = i\n",
    "    adj[m].append(n)\n",
    "    adj[n].append(m)\n",
    "print(adj)"
   ]
  },
  {
   "cell_type": "code",
   "execution_count": 33,
   "metadata": {},
   "outputs": [
    {
     "name": "stdout",
     "output_type": "stream",
     "text": [
      "1 2 6 3 4 7 9 5 8 \n",
      "\n",
      "2 1 3 4 6 5 7 9 8 \n",
      "\n"
     ]
    }
   ],
   "source": [
    "def levelOrder(node):\n",
    "    q = []\n",
    "    visited = set()\n",
    "    q.append(node)\n",
    "    while(q):\n",
    "        temp = q.pop(0)\n",
    "        visited.add(temp)\n",
    "        print(temp,end=\" \")\n",
    "        for i in adj[temp]:\n",
    "            if(i not in visited):\n",
    "                q.append(i)\n",
    "    print('\\n')\n",
    "levelOrder(1)\n",
    "levelOrder(2)"
   ]
  },
  {
   "cell_type": "markdown",
   "metadata": {},
   "source": [
    "DFS \n",
    "\n",
    "implemented using stack"
   ]
  },
  {
   "cell_type": "code",
   "execution_count": 57,
   "metadata": {},
   "outputs": [
    {
     "name": "stdout",
     "output_type": "stream",
     "text": [
      "{1: [2, 3], 2: [1, 5, 6], 3: [1, 7, 4], 4: [3, 8], 5: [2], 6: [2], 7: [3, 8], 8: [4, 7]}\n",
      "1 2 5 6 3 7 8 4 \n",
      "\n",
      "2 1 3 7 8 4 5 6 \n",
      "\n"
     ]
    }
   ],
   "source": [
    "# Using Recursion\n",
    "\n",
    "vertex = 8\n",
    "edges = 8\n",
    "\n",
    "edge = [(1,2),(1,3),(2,5),(2,6),(3,7),(3,4),(4,8),(7,8)]\n",
    "\n",
    "adj = {}\n",
    "\n",
    "for i in range(1,vertex+1):\n",
    "    adj[i] = []\n",
    "\n",
    "for i in edge:\n",
    "    m,n = i\n",
    "    adj[m].append(n)\n",
    "    adj[n].append(m)\n",
    "print(adj)\n",
    "\n",
    "def solution(node):\n",
    "    visited = set()\n",
    "    def dfs(node):\n",
    "        # if(len(visited) == vertex):\n",
    "        #     return\n",
    "        if(node not in visited):\n",
    "            print(node, end=\" \")\n",
    "            visited.add(node)\n",
    "            for i in adj[node]:\n",
    "                dfs(i)\n",
    "    dfs(node)\n",
    "    print('\\n')\n",
    "\n",
    "\n",
    "solution(1)\n",
    "solution(2)"
   ]
  },
  {
   "cell_type": "code",
   "execution_count": 48,
   "metadata": {},
   "outputs": [
    {
     "name": "stdout",
     "output_type": "stream",
     "text": [
      "1 3 4 8 7 2 6 5 \n",
      "\n"
     ]
    }
   ],
   "source": [
    "# using stack\n",
    "\n",
    "def stack_DFS(node):            \n",
    "        visited = set()\n",
    "        stack = []\n",
    "        stack.append(node) \n",
    "        while (len(stack)): \n",
    "            s = stack[-1] \n",
    "            stack.pop()\n",
    "\n",
    "            if (s not in visited): \n",
    "                print(s,end=' ')\n",
    "                visited.add(s)\n",
    "                \n",
    "            for node in adj[s]: \n",
    "                if (node not in visited): \n",
    "                    stack.append(node)\n",
    "stack_DFS(1)\n",
    "print('\\n')\n"
   ]
  },
  {
   "cell_type": "markdown",
   "metadata": {},
   "source": [
    "No of provinces\n",
    "\n",
    "Which means the number of disjoint graphs\n",
    "\n",
    "Algorithm:\n",
    "\n",
    "visited = set()\n",
    "\n",
    "for i in range(vertex):\n",
    "    if i not visited:\n",
    "        count = count+1\n",
    "        dfs(i)\n"
   ]
  },
  {
   "cell_type": "markdown",
   "metadata": {},
   "source": [
    "No of Islands\n",
    "\n",
    "Similar to above"
   ]
  },
  {
   "cell_type": "markdown",
   "metadata": {},
   "source": [
    "Flood fill \n",
    "\n",
    "Similar to above"
   ]
  },
  {
   "cell_type": "markdown",
   "metadata": {},
   "source": [
    "Rotten oranges"
   ]
  },
  {
   "cell_type": "code",
   "execution_count": 60,
   "metadata": {},
   "outputs": [
    {
     "name": "stdout",
     "output_type": "stream",
     "text": [
      "7\n"
     ]
    }
   ],
   "source": [
    "grid  = [[2,1,1],[1,1,0],[0,1,1]]\n",
    "\n",
    "def orangesRotting(grid: list[list[int]]) -> int:\n",
    "    r = len(grid)\n",
    "    c = len(grid[0])\n",
    "    visited = [[0]*r]*c\n",
    "    time = 0\n",
    "    def bfs(i,j,visited,r,c,t):\n",
    "        q = []\n",
    "        q.append((i,j))\n",
    "        dr = [-1,0,+1,0]\n",
    "        dc = [0,+1,0,-1]\n",
    "        while(q):\n",
    "            i,j = q.pop(0)\n",
    "            for a in dr:\n",
    "                for b in dc:\n",
    "                    if(i+a<r and i+r>=0 and j+b<c and j+b>=0 and grid[i+a][j+b]==1):\n",
    "                        grid[a+i][j+b]=2\n",
    "                        visited[a+i][b+j]=1\n",
    "                        q.append((a+i,b+j))\n",
    "            t = t+1\n",
    "        return t\n",
    "    \n",
    "    for i in range(r):\n",
    "        for j in range(c):\n",
    "            if(grid[i][j] == 2 and visited[i][j] == 0):\n",
    "                time = max(bfs(i,j,visited,r,c,0),time)\n",
    "    for i in range(r):\n",
    "        for j in range(c):\n",
    "            if(grid[i][j] == 1):\n",
    "                return -1\n",
    "    return time\n",
    "      \n",
    "\n",
    "\n",
    "print(orangesRotting(grid))\n",
    "\n",
    "\n",
    "\n",
    "        \n"
   ]
  },
  {
   "cell_type": "code",
   "execution_count": 91,
   "metadata": {},
   "outputs": [
    {
     "name": "stdout",
     "output_type": "stream",
     "text": [
      "0\n"
     ]
    }
   ],
   "source": [
    "\n",
    "def orangesRotting(grid: list[list[int]]) -> int:\n",
    "    r = len(grid)\n",
    "    c = len(grid[0])\n",
    "    visited = [[0]*c]*r\n",
    "    q = []\n",
    "    result = 0\n",
    "    for i in range(r):\n",
    "        for j in range(c):\n",
    "            if(grid[i][j] == 2 and visited[i][j] == 0):\n",
    "                q.append((i,j,0))\n",
    "\n",
    "    dr = [-1,0,+1,0]\n",
    "    dc = [0,+1,0,-1]\n",
    "    while(q):\n",
    "        i,j,t = q.pop(0)\n",
    "        result = max(t,result)\n",
    "        for k in range(4):\n",
    "            a = dr[k]\n",
    "            b = dc[k]\n",
    "            if(i+a<r and i+a>=0 and j+b<c and j+b>=0 and grid[i+a][j+b]==1):\n",
    "                # print(f\"{i+a},{j+b},{grid[i+a][j+b]}\")\n",
    "                grid[a+i][j+b]=2\n",
    "                # print(f\"{i+a},{j+b},{grid[i+a][j+b]}\")\n",
    "                q.append((a+i,b+j,t+1))\n",
    "\n",
    "    for i in range(r):\n",
    "        for j in range(c):\n",
    "            if(grid[i][j] == 1):\n",
    "                return -1\n",
    "    return result\n",
    "\n",
    "# grid  = [[2,1,1],\n",
    "#          [1,1,0],\n",
    "#          [0,1,1]]\n",
    "\n",
    "grid = [[0,2]]\n",
    "\n",
    "print(orangesRotting(grid))\n"
   ]
  },
  {
   "cell_type": "markdown",
   "metadata": {},
   "source": [
    "Detect a cycle \n",
    "\n",
    "Undirected, using BFS.\n",
    "\n",
    "with the node, add the parent node as well in the queue, if a node is already visited and that node is not a parent then it implies there is a cycle. parent of startin node will be -1\n",
    "\n",
    "Using DFS\n",
    "\n",
    "similar approach\n"
   ]
  },
  {
   "cell_type": "markdown",
   "metadata": {},
   "source": [
    "Distance of nearest 1 - 0/1 matrix\n",
    "\n",
    "use bfs"
   ]
  },
  {
   "cell_type": "markdown",
   "metadata": {},
   "source": [
    "Surrounded regions - replace O with X\n",
    "\n",
    "if O is in boundary, then they cannot be surrounded by x\n",
    "\n",
    "O's connect to the boundary o, also cannot be surrounded\n",
    "\n",
    "mark them\n",
    "\n",
    "other O's which are not connected, will be replaced to X"
   ]
  },
  {
   "cell_type": "markdown",
   "metadata": {},
   "source": [
    "Number of enclaves\n",
    "\n",
    "Similar approach like above"
   ]
  },
  {
   "cell_type": "markdown",
   "metadata": {},
   "source": [
    "No of distinct islands\n",
    "\n",
    "Distinct here is no 2 same shaped islands \n",
    "\n",
    "shape we storing in a set by subrating with the base element"
   ]
  },
  {
   "cell_type": "markdown",
   "metadata": {},
   "source": [
    "Bipartite graph\n",
    "\n",
    "if we have 2 colours, where 2 adjacent nodes cannot have same colour, if this is possible, then it is a bipartite graph\n",
    "\n",
    "linear graphs with no cycle will always be bipartite\n",
    "\n",
    "graph with even cycle length will be bipartite\n",
    "\n",
    "graph with odd cycle length cannot be bipartite"
   ]
  },
  {
   "cell_type": "markdown",
   "metadata": {},
   "source": [
    "\n",
    "Detect a cycle in Directed graph\n",
    "\n",
    "cycle should be formed on the same path for directed graph\n",
    "\n"
   ]
  }
 ],
 "metadata": {
  "kernelspec": {
   "display_name": "Python 3",
   "language": "python",
   "name": "python3"
  },
  "language_info": {
   "codemirror_mode": {
    "name": "ipython",
    "version": 3
   },
   "file_extension": ".py",
   "mimetype": "text/x-python",
   "name": "python",
   "nbconvert_exporter": "python",
   "pygments_lexer": "ipython3",
   "version": "3.10.5"
  }
 },
 "nbformat": 4,
 "nbformat_minor": 2
}
