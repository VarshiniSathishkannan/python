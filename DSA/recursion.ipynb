{
 "cells": [
  {
   "cell_type": "markdown",
   "metadata": {},
   "source": [
    "Recursion\n",
    "\n",
    "function calls itself until a base condition is reached\n",
    "\n",
    "recursion tree\n",
    "\n",
    "segmention error or stack overflow\n",
    "\n",
    "stack space - depth of the stack maximum\n",
    "\n",
    "backtracking \n",
    "\n",
    "result in parameter\n",
    "result in functional"
   ]
  },
  {
   "cell_type": "code",
   "execution_count": 1,
   "metadata": {},
   "outputs": [
    {
     "name": "stdout",
     "output_type": "stream",
     "text": [
      "15\n"
     ]
    }
   ],
   "source": [
    "# Result in parameter\n",
    "\n",
    "def recursion(i,sum):\n",
    "    if(i<1):\n",
    "        print(sum)\n",
    "        return\n",
    "    recursion(i-1,sum+i)\n",
    "\n",
    "recursion(5,0)"
   ]
  },
  {
   "cell_type": "code",
   "execution_count": 4,
   "metadata": {},
   "outputs": [
    {
     "name": "stdout",
     "output_type": "stream",
     "text": [
      "15\n"
     ]
    }
   ],
   "source": [
    "# Result in functional\n",
    "\n",
    "def recursion(i):\n",
    "    if(i == 0):\n",
    "        return 0\n",
    "    else:\n",
    "        return i + recursion(i-1)\n",
    "    \n",
    "print(recursion(5))\n",
    "\n"
   ]
  },
  {
   "cell_type": "markdown",
   "metadata": {},
   "source": [
    "Factorial of a number"
   ]
  },
  {
   "cell_type": "code",
   "execution_count": 6,
   "metadata": {},
   "outputs": [
    {
     "name": "stdout",
     "output_type": "stream",
     "text": [
      "6\n"
     ]
    }
   ],
   "source": [
    "def fact(n):\n",
    "    if n==1:\n",
    "        return 1\n",
    "    return n * fact(n-1)\n",
    "\n",
    "print(fact(3))"
   ]
  },
  {
   "cell_type": "markdown",
   "metadata": {},
   "source": [
    "Reverse an array "
   ]
  },
  {
   "cell_type": "code",
   "execution_count": 10,
   "metadata": {},
   "outputs": [
    {
     "name": "stdout",
     "output_type": "stream",
     "text": [
      "[4, 3, 2, 1]\n"
     ]
    }
   ],
   "source": [
    "def reverse(a,l,r):\n",
    "    if(l>=r):\n",
    "        return\n",
    "    a[l],a[r] = a[r],a[l]\n",
    "    reverse(a,l+1,r-1)\n",
    "\n",
    "a = [1,2,3,4]\n",
    "reverse(a,0,3)\n",
    "print(a)\n"
   ]
  },
  {
   "cell_type": "code",
   "execution_count": 12,
   "metadata": {},
   "outputs": [
    {
     "name": "stdout",
     "output_type": "stream",
     "text": [
      "[8, 7, 4, 3, 2, 1]\n"
     ]
    }
   ],
   "source": [
    "a = [1,2,3,4,7,8]\n",
    "n = len(a)\n",
    "def reverse(i):\n",
    "    if i >= (n-i-1):\n",
    "        return\n",
    "    a[i],a[n-i-1] = a[n-i-1],a[i]\n",
    "    reverse(i+1)\n",
    "\n",
    "reverse(0)\n",
    "print(a)"
   ]
  },
  {
   "cell_type": "markdown",
   "metadata": {},
   "source": [
    "Check if palindrome"
   ]
  },
  {
   "cell_type": "code",
   "execution_count": 15,
   "metadata": {},
   "outputs": [
    {
     "name": "stdout",
     "output_type": "stream",
     "text": [
      "False\n"
     ]
    }
   ],
   "source": [
    "s = 'appap'\n",
    "n = len(s)\n",
    "\n",
    "def palindrome(i,j):\n",
    "    if(i>=j):\n",
    "        return True\n",
    "    if(s[i] == s[j]):\n",
    "        return palindrome(i+1,j-1)\n",
    "    else:\n",
    "        return False\n",
    "    \n",
    "print(palindrome(0,n-1))"
   ]
  },
  {
   "cell_type": "markdown",
   "metadata": {},
   "source": [
    "Multiple recrusive calls\n",
    "\n",
    "if 2 calls - 2 pow n is the time complexity "
   ]
  },
  {
   "cell_type": "markdown",
   "metadata": {},
   "source": [
    "Print all subsequences\n",
    "\n",
    "contiguous or non contiguous elements in sequence \n",
    "\n",
    "subarray will be contiguous, all subarrays are subsequence\n",
    "\n",
    "even empty array is subsequence"
   ]
  },
  {
   "cell_type": "code",
   "execution_count": 3,
   "metadata": {},
   "outputs": [
    {
     "name": "stdout",
     "output_type": "stream",
     "text": [
      "[1, 2, 3, 4]\n",
      "[1, 2, 3]\n",
      "[1, 2, 4]\n",
      "[1, 2]\n",
      "[1, 3, 4]\n",
      "[1, 3]\n",
      "[1, 4]\n",
      "[1]\n",
      "[2, 3, 4]\n",
      "[2, 3]\n",
      "[2, 4]\n",
      "[2]\n",
      "[3, 4]\n",
      "[3]\n",
      "[4]\n",
      "[]\n"
     ]
    }
   ],
   "source": [
    "arr = [1,2,3,4]\n",
    "n = len(arr)\n",
    "def sub(i:int,a:list[int]):\n",
    "    if(i>=n):\n",
    "        print(a)\n",
    "        return\n",
    "    a.append(arr[i]) #pick the element\n",
    "    sub(i+1,a)\n",
    "    a.remove(arr[i]) #Don't pick the element\n",
    "    sub(i+1,a)\n",
    "\n",
    "sub(0,[])\n",
    "\n",
    "# time complexity = 2 pow n\n",
    "# space complecity = n"
   ]
  },
  {
   "cell_type": "markdown",
   "metadata": {},
   "source": [
    "Subsequence whose sum is k"
   ]
  },
  {
   "cell_type": "code",
   "execution_count": 7,
   "metadata": {},
   "outputs": [
    {
     "name": "stdout",
     "output_type": "stream",
     "text": [
      "[1, 3]\n",
      "[4]\n"
     ]
    }
   ],
   "source": [
    "arr = [1,2,3,4]\n",
    "k = 4\n",
    "n = len(arr)\n",
    "def subs(i:int,a:list[int]):\n",
    "    if(i>=n):\n",
    "        if sum(a) == k:\n",
    "            print(a)\n",
    "        return  \n",
    "    a.append(arr[i])\n",
    "    subs(i+1,a)\n",
    "    a.remove(arr[i])\n",
    "    subs(i+1,a)\n",
    "\n",
    "subs(0,[])\n",
    "\n",
    "    "
   ]
  },
  {
   "cell_type": "markdown",
   "metadata": {},
   "source": [
    "Count of all subsequence whose sum is k"
   ]
  },
  {
   "cell_type": "code",
   "execution_count": 26,
   "metadata": {},
   "outputs": [
    {
     "data": {
      "text/plain": [
       "2"
      ]
     },
     "execution_count": 26,
     "metadata": {},
     "output_type": "execute_result"
    }
   ],
   "source": [
    "arr = [1,2,3,4]\n",
    "k = 4\n",
    "n = len(arr)\n",
    "def subs(i:int,s):\n",
    "    if(i>=n):\n",
    "        if s == k:\n",
    "            return 1\n",
    "        else:\n",
    "            return 0\n",
    "    return subs(i+1,s+arr[i]) + subs(i+1,s-arr[i])\n",
    "\n",
    "subs(0,0)"
   ]
  },
  {
   "cell_type": "markdown",
   "metadata": {},
   "source": [
    "Print only one result"
   ]
  },
  {
   "cell_type": "code",
   "execution_count": 18,
   "metadata": {},
   "outputs": [
    {
     "name": "stdout",
     "output_type": "stream",
     "text": [
      "[1, 3]\n",
      "[1, 3]\n"
     ]
    }
   ],
   "source": [
    "arr = [1,2,3,4]\n",
    "k = 4\n",
    "n = len(arr)\n",
    "a = []\n",
    "def subs(i:int,a:list[int]):\n",
    "    if(i>=n):\n",
    "        if sum(a) == k:\n",
    "            print(a)\n",
    "            return True\n",
    "        else:\n",
    "            return False\n",
    "    a.append(arr[i])\n",
    "    if(subs(i+1,a)):\n",
    "        return True\n",
    "    a.remove(arr[i])\n",
    "    if(subs(i+1,a)):\n",
    "        return True\n",
    "\n",
    "subs(0,a)\n",
    "print(a)\n",
    "    "
   ]
  },
  {
   "cell_type": "markdown",
   "metadata": {},
   "source": [
    "Count of all subsequences"
   ]
  },
  {
   "cell_type": "code",
   "execution_count": 21,
   "metadata": {},
   "outputs": [
    {
     "data": {
      "text/plain": [
       "16"
      ]
     },
     "execution_count": 21,
     "metadata": {},
     "output_type": "execute_result"
    }
   ],
   "source": [
    "arr = [1,2,3,4]\n",
    "n = len(arr)\n",
    "def sub(i:int):\n",
    "    if(i>=n):\n",
    "        return 1\n",
    "    # a.append(arr[i]) #pick the element\n",
    "    return sub(i+1) + sub(i+1)\n",
    "    # a.remove(arr[i]) #Don't pick the element\n",
    "    # sub(i+1)\n",
    "\n",
    "sub(0)\n",
    "\n",
    "# time complexity = 2 pow n\n",
    "# space complecity = n"
   ]
  },
  {
   "cell_type": "markdown",
   "metadata": {},
   "source": [
    "Combination sum\n"
   ]
  },
  {
   "cell_type": "code",
   "execution_count": 37,
   "metadata": {},
   "outputs": [
    {
     "name": "stdout",
     "output_type": "stream",
     "text": [
      "[2, 2, 2, 2, 2]\n",
      "[2, 2, 2, 4]\n",
      "[2, 2, 3, 3]\n",
      "[2, 3, 5]\n",
      "[2, 4, 4]\n",
      "[3, 3, 4]\n",
      "[5, 5]\n"
     ]
    }
   ],
   "source": [
    "arr = [2,3,4,5]\n",
    "n = len(arr)\n",
    "target = 10\n",
    "a = []\n",
    "def combination(i:int,a:list[int]):\n",
    "    if(sum(a) == target):\n",
    "        print(a)\n",
    "        return \n",
    "    if(sum(a)>target):\n",
    "        return\n",
    "    if(i>=n):\n",
    "        return \n",
    "    a.append(arr[i])\n",
    "    combination(i,a)\n",
    "    a.remove(arr[i])\n",
    "    combination(i+1,a)\n",
    "combination(0,a)"
   ]
  },
  {
   "cell_type": "markdown",
   "metadata": {},
   "source": [
    "Combination sum - II\n",
    "\n",
    "No duplicates"
   ]
  },
  {
   "cell_type": "code",
   "execution_count": 61,
   "metadata": {},
   "outputs": [
    {
     "name": "stdout",
     "output_type": "stream",
     "text": [
      "[[1, 2, 5], [1, 7], [1, 1, 6], [2, 6], [1, 2, 5], [1, 7]]\n",
      "{(1, 7), (1, 1, 6), (1, 2, 5), (2, 6)}\n"
     ]
    }
   ],
   "source": [
    "arr = [10,1,2,7,6,1,5]\n",
    "n = len(arr)\n",
    "target = 8\n",
    "a = []\n",
    "s = []\n",
    "def combination(i:int,a:list[int]):\n",
    "    if(sum(a) == target):\n",
    "        s.append(a[:])\n",
    "        return \n",
    "    if(sum(a)>target):\n",
    "        return\n",
    "    if(i>=n):\n",
    "        return \n",
    "    a.append(arr[i])\n",
    "    combination(i+1,a)\n",
    "    a.remove(arr[i])\n",
    "    combination(i+1,a)\n",
    "combination(0,a)\n",
    "\n",
    "result = set()\n",
    "for i in range(len(s)):\n",
    "    s[i].sort()\n",
    "    result.add(tuple(s[i]))\n",
    "   \n",
    "print(s)\n",
    "print(result)\n",
    "    \n",
    "\n",
    "#https://stackoverflow.com/questions/71108130/getting-empty-list-even-though-appending-while-using-recursion\n",
    "#https://stackoverflow.com/questions/14535730/what-does-hashable-mean-in-python"
   ]
  },
  {
   "cell_type": "markdown",
   "metadata": {},
   "source": [
    "Print sum of all subsets"
   ]
  },
  {
   "cell_type": "code",
   "execution_count": 85,
   "metadata": {},
   "outputs": [
    {
     "name": "stdout",
     "output_type": "stream",
     "text": [
      "[1, 2, 2, 3]\n",
      "[1, 2, 2]\n",
      "[1, 2, 3]\n",
      "[1, 2]\n",
      "[1, 2, 3]\n",
      "[1, 2]\n",
      "[1, 3]\n",
      "[1]\n",
      "[2, 2, 3]\n",
      "[2, 2]\n",
      "[2, 3]\n",
      "[2]\n",
      "[2, 3]\n",
      "[2]\n",
      "[3]\n",
      "[]\n",
      "[8, 5, 6, 3, 6, 3, 4, 1, 7, 4, 5, 2, 5, 2, 3, 0]\n",
      "64\n",
      "[64]\n"
     ]
    }
   ],
   "source": [
    "arr = [1,2,2,3]\n",
    "n = len(arr)\n",
    "result = []\n",
    "total = 0\n",
    "local = [0]\n",
    "def sub(i:int,a:list[int]):\n",
    "    global total\n",
    "    if(i>=n):\n",
    "        print(a)\n",
    "        result.append(sum(a[:]))\n",
    "        total = total + sum(a[:])\n",
    "        local[0] = local[0]+sum(a[:])\n",
    "        return\n",
    "    a.append(arr[i]) #pick the element\n",
    "    sub(i+1,a)\n",
    "    a.remove(arr[i]) #Don't pick the element\n",
    "    sub(i+1,a)\n",
    "\n",
    "sub(0,[])\n",
    "print(result)\n",
    "print(total)\n",
    "print(local)\n",
    "\n"
   ]
  },
  {
   "cell_type": "markdown",
   "metadata": {},
   "source": [
    "Print all subsets with no duplicates"
   ]
  },
  {
   "cell_type": "code",
   "execution_count": 93,
   "metadata": {},
   "outputs": [
    {
     "name": "stdout",
     "output_type": "stream",
     "text": [
      "[]\n",
      "[1]\n",
      "[1, 2]\n",
      "[1, 2, 3]\n",
      "[1, 3]\n",
      "[2]\n",
      "[2, 3]\n",
      "[3]\n"
     ]
    }
   ],
   "source": [
    "arr = [1,2,2,3]\n",
    "n = len(arr)\n",
    "result = []\n",
    "total = 0\n",
    "local = [0]\n",
    "def sub(i:int,a:list[int]):\n",
    "    print(a[:])\n",
    "    for j in range(i,n):\n",
    "        # print(f'j is {j} a is {a} i is {i}')\n",
    "        if(j>i and arr[j] == arr[j-1]):\n",
    "            continue\n",
    "        a.append(arr[j])\n",
    "        sub(j+1,a)\n",
    "        a.remove(arr[j])\n",
    "\n",
    "sub(0,[])\n",
    "\n",
    "\n"
   ]
  },
  {
   "cell_type": "markdown",
   "metadata": {},
   "source": [
    "Print all possible permutations"
   ]
  },
  {
   "cell_type": "code",
   "execution_count": 90,
   "metadata": {},
   "outputs": [
    {
     "name": "stdout",
     "output_type": "stream",
     "text": [
      "[[1, 2, 3], [1, 3, 2], [2, 1, 3], [2, 3, 1], [3, 1, 2], [3, 2, 1]]\n"
     ]
    }
   ],
   "source": [
    "arr = [1,2,3]\n",
    "n = len(arr)\n",
    "result = []\n",
    "visited = [0]*n\n",
    "def perumutations(a:list[int]):\n",
    "    if(len(a)==n):\n",
    "        result.append(a[:])\n",
    "    for i in range(n):\n",
    "        if(not visited[i]):\n",
    "            visited[i] = 1\n",
    "            a.append(arr[i])\n",
    "            perumutations(a)\n",
    "            a.remove(arr[i])\n",
    "            visited[i]=0\n",
    "\n",
    "\n",
    "perumutations([])\n",
    "print(result)\n",
    "\n",
    "\n"
   ]
  },
  {
   "cell_type": "markdown",
   "metadata": {},
   "source": [
    "Permutation - another approach"
   ]
  },
  {
   "cell_type": "code",
   "execution_count": 100,
   "metadata": {},
   "outputs": [
    {
     "name": "stdout",
     "output_type": "stream",
     "text": [
      "[[1, 2, 3], [1, 3, 2], [2, 1, 3], [2, 3, 1], [3, 2, 1], [3, 1, 2]]\n"
     ]
    }
   ],
   "source": [
    "arr = [1,2,3]\n",
    "n = len(arr)\n",
    "result = []\n",
    "a = []\n",
    "def perumutations(index:int,a:list[int],arr:list[int]):\n",
    "    if(index>=n):\n",
    "        result.append(arr[:])\n",
    "        return\n",
    "    for i in range(index,n):\n",
    "        arr[i],arr[index] = arr[index],arr[i]\n",
    "        perumutations(index+1,a,arr)\n",
    "        arr[index],arr[i] = arr[i],arr[index]\n",
    "\n",
    "\n",
    "perumutations(0,[],arr)\n",
    "print(result)\n",
    "\n",
    "\n"
   ]
  },
  {
   "cell_type": "markdown",
   "metadata": {},
   "source": [
    "N - Queens "
   ]
  },
  {
   "cell_type": "code",
   "execution_count": null,
   "metadata": {},
   "outputs": [],
   "source": []
  }
 ],
 "metadata": {
  "kernelspec": {
   "display_name": "Python 3",
   "language": "python",
   "name": "python3"
  },
  "language_info": {
   "codemirror_mode": {
    "name": "ipython",
    "version": 3
   },
   "file_extension": ".py",
   "mimetype": "text/x-python",
   "name": "python",
   "nbconvert_exporter": "python",
   "pygments_lexer": "ipython3",
   "version": "3.10.5"
  }
 },
 "nbformat": 4,
 "nbformat_minor": 2
}
