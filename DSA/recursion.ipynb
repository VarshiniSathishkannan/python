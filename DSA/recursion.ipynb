{
 "cells": [
  {
   "cell_type": "markdown",
   "metadata": {},
   "source": [
    "Recursion\n",
    "\n",
    "function calls itself until a base condition is reached\n",
    "\n",
    "recursion tree\n",
    "\n",
    "segmention error or stack overflow\n",
    "\n",
    "stack space - depth of the stack maximum\n",
    "\n",
    "backtracking \n",
    "\n",
    "result in parameter\n",
    "result in functional"
   ]
  },
  {
   "cell_type": "code",
   "execution_count": 1,
   "metadata": {},
   "outputs": [
    {
     "name": "stdout",
     "output_type": "stream",
     "text": [
      "1 2 3 4 5 "
     ]
    }
   ],
   "source": [
    "def func(N):\n",
    "    if(N==0):\n",
    "        return\n",
    "    func(N-1)\n",
    "    print(N,end=' ')\n",
    "func(5)"
   ]
  },
  {
   "cell_type": "code",
   "execution_count": 1,
   "metadata": {},
   "outputs": [
    {
     "name": "stdout",
     "output_type": "stream",
     "text": [
      "15\n"
     ]
    }
   ],
   "source": [
    "# Result in parameter\n",
    "\n",
    "def recursion(i,sum):\n",
    "    if(i<1):\n",
    "        print(sum)\n",
    "        return\n",
    "    recursion(i-1,sum+i)\n",
    "\n",
    "recursion(5,0)"
   ]
  },
  {
   "cell_type": "code",
   "execution_count": 4,
   "metadata": {},
   "outputs": [
    {
     "name": "stdout",
     "output_type": "stream",
     "text": [
      "15\n"
     ]
    }
   ],
   "source": [
    "# Result in functional\n",
    "\n",
    "def recursion(i):\n",
    "    if(i == 0):\n",
    "        return 0\n",
    "    else:\n",
    "        return i + recursion(i-1)\n",
    "    \n",
    "print(recursion(5))\n",
    "\n"
   ]
  },
  {
   "cell_type": "markdown",
   "metadata": {},
   "source": [
    "1- Factorial of a number"
   ]
  },
  {
   "cell_type": "code",
   "execution_count": 6,
   "metadata": {},
   "outputs": [
    {
     "name": "stdout",
     "output_type": "stream",
     "text": [
      "6\n"
     ]
    }
   ],
   "source": [
    "def fact(n):\n",
    "    if n==1:\n",
    "        return 1\n",
    "    return n * fact(n-1)\n",
    "\n",
    "print(fact(3))"
   ]
  },
  {
   "cell_type": "markdown",
   "metadata": {},
   "source": [
    "2- Reverse an array "
   ]
  },
  {
   "cell_type": "code",
   "execution_count": 10,
   "metadata": {},
   "outputs": [
    {
     "name": "stdout",
     "output_type": "stream",
     "text": [
      "[4, 3, 2, 1]\n"
     ]
    }
   ],
   "source": [
    "def reverse(a,l,r):\n",
    "    if(l>=r):\n",
    "        return\n",
    "    a[l],a[r] = a[r],a[l]\n",
    "    reverse(a,l+1,r-1)\n",
    "\n",
    "a = [1,2,3,4]\n",
    "reverse(a,0,3)\n",
    "print(a)\n"
   ]
  },
  {
   "cell_type": "code",
   "execution_count": 12,
   "metadata": {},
   "outputs": [
    {
     "name": "stdout",
     "output_type": "stream",
     "text": [
      "[8, 7, 4, 3, 2, 1]\n"
     ]
    }
   ],
   "source": [
    "a = [1,2,3,4,7,8]\n",
    "n = len(a)\n",
    "def reverse(i):\n",
    "    if i >= (n-i-1):\n",
    "        return\n",
    "    a[i],a[n-i-1] = a[n-i-1],a[i]\n",
    "    reverse(i+1)\n",
    "\n",
    "reverse(0)\n",
    "print(a)"
   ]
  },
  {
   "cell_type": "markdown",
   "metadata": {},
   "source": [
    "3- Check if palindrome"
   ]
  },
  {
   "cell_type": "code",
   "execution_count": 15,
   "metadata": {},
   "outputs": [
    {
     "name": "stdout",
     "output_type": "stream",
     "text": [
      "False\n"
     ]
    }
   ],
   "source": [
    "s = 'appap'\n",
    "n = len(s)\n",
    "\n",
    "def palindrome(i,j):\n",
    "    if(i>=j):\n",
    "        return True\n",
    "    if(s[i] == s[j]):\n",
    "        return palindrome(i+1,j-1)\n",
    "    else:\n",
    "        return False\n",
    "    \n",
    "print(palindrome(0,n-1))"
   ]
  },
  {
   "cell_type": "markdown",
   "metadata": {},
   "source": [
    "Multiple recrusive calls\n",
    "\n",
    "if 2 calls - 2 pow n is the time complexity "
   ]
  },
  {
   "cell_type": "markdown",
   "metadata": {},
   "source": [
    "4- Print all subsequences\n",
    "\n",
    "contiguous or non contiguous elements in sequence \n",
    "\n",
    "subarray will be contiguous, all subarrays are subsequence\n",
    "\n",
    "even empty array is subsequence"
   ]
  },
  {
   "cell_type": "code",
   "execution_count": 3,
   "metadata": {},
   "outputs": [
    {
     "name": "stdout",
     "output_type": "stream",
     "text": [
      "[1, 2, 3, 4]\n",
      "[1, 2, 3]\n",
      "[1, 2, 4]\n",
      "[1, 2]\n",
      "[1, 3, 4]\n",
      "[1, 3]\n",
      "[1, 4]\n",
      "[1]\n",
      "[2, 3, 4]\n",
      "[2, 3]\n",
      "[2, 4]\n",
      "[2]\n",
      "[3, 4]\n",
      "[3]\n",
      "[4]\n",
      "[]\n"
     ]
    }
   ],
   "source": [
    "arr = [1,2,3,4]\n",
    "n = len(arr)\n",
    "def sub(i:int,a:list[int]):\n",
    "    if(i>=n):\n",
    "        print(a)\n",
    "        return\n",
    "    a.append(arr[i]) #pick the element\n",
    "    sub(i+1,a)\n",
    "    a.remove(arr[i]) #Don't pick the element\n",
    "    sub(i+1,a)\n",
    "\n",
    "sub(0,[])\n",
    "\n",
    "# time complexity = 2 pow n\n",
    "# space complecity = n"
   ]
  },
  {
   "cell_type": "code",
   "execution_count": 3,
   "metadata": {},
   "outputs": [
    {
     "name": "stdout",
     "output_type": "stream",
     "text": [
      "[3]\n",
      "[2]\n",
      "[2, 3]\n",
      "[1]\n",
      "[1, 3]\n",
      "[1, 2]\n",
      "[1, 2, 3]\n"
     ]
    }
   ],
   "source": [
    "def printSubsequences(arr, index, subarr): \n",
    "       \n",
    "    # Print the subsequence when reach  \n",
    "    # the leaf of recursion tree \n",
    "    if index == len(arr): \n",
    "           \n",
    "        # Condition to avoid printing \n",
    "        # empty subsequence \n",
    "        if len(subarr) != 0: \n",
    "            print(subarr) \n",
    "       \n",
    "    else: \n",
    "        # Subsequence without including  \n",
    "        # the element at current index \n",
    "        printSubsequences(arr, index + 1, subarr) \n",
    "           \n",
    "        # Subsequence including the element \n",
    "        # at current index \n",
    "        printSubsequences(arr, index + 1,  \n",
    "                            subarr+[arr[index]]) \n",
    "       \n",
    "    return\n",
    "           \n",
    "arr = [1, 2, 3] \n",
    "   \n",
    "printSubsequences(arr, 0, []) "
   ]
  },
  {
   "cell_type": "markdown",
   "metadata": {},
   "source": [
    "5- Subsequence whose sum is k"
   ]
  },
  {
   "cell_type": "code",
   "execution_count": 7,
   "metadata": {},
   "outputs": [
    {
     "name": "stdout",
     "output_type": "stream",
     "text": [
      "[1, 3]\n",
      "[4]\n"
     ]
    }
   ],
   "source": [
    "arr = [1,2,3,4]\n",
    "k = 4\n",
    "n = len(arr)\n",
    "def subs(i:int,a:list[int]):\n",
    "    if(i>=n):\n",
    "        if sum(a) == k:\n",
    "            print(a)\n",
    "        return  \n",
    "    a.append(arr[i])\n",
    "    subs(i+1,a)\n",
    "    a.remove(arr[i])\n",
    "    subs(i+1,a)\n",
    "\n",
    "subs(0,[])\n",
    "\n",
    "    "
   ]
  },
  {
   "cell_type": "markdown",
   "metadata": {},
   "source": [
    "6- Count of all subsequence whose sum is k"
   ]
  },
  {
   "cell_type": "code",
   "execution_count": 26,
   "metadata": {},
   "outputs": [
    {
     "data": {
      "text/plain": [
       "2"
      ]
     },
     "execution_count": 26,
     "metadata": {},
     "output_type": "execute_result"
    }
   ],
   "source": [
    "arr = [1,2,3,4]\n",
    "k = 4\n",
    "n = len(arr)\n",
    "def subs(i:int,s):\n",
    "    if(i>=n):\n",
    "        if s == k:\n",
    "            return 1\n",
    "        else:\n",
    "            return 0\n",
    "    return subs(i+1,s+arr[i]) + subs(i+1,s-arr[i])\n",
    "\n",
    "subs(0,0)"
   ]
  },
  {
   "cell_type": "markdown",
   "metadata": {},
   "source": [
    "Print only one result"
   ]
  },
  {
   "cell_type": "code",
   "execution_count": 18,
   "metadata": {},
   "outputs": [
    {
     "name": "stdout",
     "output_type": "stream",
     "text": [
      "[1, 3]\n",
      "[1, 3]\n"
     ]
    }
   ],
   "source": [
    "arr = [1,2,3,4]\n",
    "k = 4\n",
    "n = len(arr)\n",
    "a = []\n",
    "def subs(i:int,a:list[int]):\n",
    "    if(i>=n):\n",
    "        if sum(a) == k:\n",
    "            print(a)\n",
    "            return True\n",
    "        else:\n",
    "            return False\n",
    "    a.append(arr[i])\n",
    "    if(subs(i+1,a)):\n",
    "        return True\n",
    "    a.remove(arr[i])\n",
    "    if(subs(i+1,a)):\n",
    "        return True\n",
    "\n",
    "subs(0,a)\n",
    "print(a)\n",
    "    "
   ]
  },
  {
   "cell_type": "markdown",
   "metadata": {},
   "source": [
    "7- Count of all subsequences\n",
    "\n",
    "formula = 2^n"
   ]
  },
  {
   "cell_type": "code",
   "execution_count": 21,
   "metadata": {},
   "outputs": [
    {
     "data": {
      "text/plain": [
       "16"
      ]
     },
     "execution_count": 21,
     "metadata": {},
     "output_type": "execute_result"
    }
   ],
   "source": [
    "arr = [1,2,3,4]\n",
    "n = len(arr)\n",
    "def sub(i:int):\n",
    "    if(i>=n):\n",
    "        return 1\n",
    "    # a.append(arr[i]) #pick the element\n",
    "    return sub(i+1) + sub(i+1)\n",
    "    # a.remove(arr[i]) #Don't pick the element\n",
    "    # sub(i+1)\n",
    "\n",
    "sub(0)\n",
    "\n",
    "# time complexity = 2 pow n\n",
    "# space complecity = n"
   ]
  },
  {
   "cell_type": "markdown",
   "metadata": {},
   "source": [
    "8- Combination sum\n"
   ]
  },
  {
   "cell_type": "code",
   "execution_count": 37,
   "metadata": {},
   "outputs": [
    {
     "name": "stdout",
     "output_type": "stream",
     "text": [
      "[2, 2, 2, 2, 2]\n",
      "[2, 2, 2, 4]\n",
      "[2, 2, 3, 3]\n",
      "[2, 3, 5]\n",
      "[2, 4, 4]\n",
      "[3, 3, 4]\n",
      "[5, 5]\n"
     ]
    }
   ],
   "source": [
    "arr = [2,3,4,5]\n",
    "n = len(arr)\n",
    "target = 10\n",
    "a = []\n",
    "def combination(i:int,a:list[int]):\n",
    "    if(sum(a) == target):\n",
    "        print(a)\n",
    "        return \n",
    "    if(sum(a)>target):\n",
    "        return\n",
    "    if(i>=n):\n",
    "        return \n",
    "    a.append(arr[i])\n",
    "    combination(i,a)\n",
    "    a.remove(arr[i])\n",
    "    combination(i+1,a)\n",
    "combination(0,a)"
   ]
  },
  {
   "cell_type": "markdown",
   "metadata": {},
   "source": [
    "9- Combination sum - II\n",
    "\n",
    "No duplicates"
   ]
  },
  {
   "cell_type": "code",
   "execution_count": 8,
   "metadata": {},
   "outputs": [
    {
     "name": "stdout",
     "output_type": "stream",
     "text": [
      "{(7, 1), (1, 7), (2, 6), (2, 1, 5), (1, 6, 1)}\n"
     ]
    }
   ],
   "source": [
    "arr = [10,1,2,7,6,1,5]\n",
    "n = len(arr)\n",
    "target = 8\n",
    "a = []\n",
    "s = set()\n",
    "def combination(i:int,a:list[int]):\n",
    "    if(sum(a) == target):\n",
    "        s.add(tuple(a[:]))\n",
    "        return \n",
    "    if(sum(a)>target):\n",
    "        return\n",
    "    if(i>=n):\n",
    "        return \n",
    "    a.append(arr[i])\n",
    "    combination(i+1,a)\n",
    "    a.remove(arr[i])\n",
    "    combination(i+1,a)\n",
    "combination(0,a)\n",
    "\n",
    "# result = set()\n",
    "# for i in range(len(s)):\n",
    "#     s[i].sort()\n",
    "#     result.add(tuple(s[i]))\n",
    "   \n",
    "print(s)\n",
    "# print(result)\n",
    "    \n",
    "\n",
    "#https://stackoverflow.com/questions/71108130/getting-empty-list-even-though-appending-while-using-recursion\n",
    "#https://stackoverflow.com/questions/14535730/what-does-hashable-mean-in-python"
   ]
  },
  {
   "cell_type": "markdown",
   "metadata": {},
   "source": [
    "10- Print sum of all subsets"
   ]
  },
  {
   "cell_type": "code",
   "execution_count": 85,
   "metadata": {},
   "outputs": [
    {
     "name": "stdout",
     "output_type": "stream",
     "text": [
      "[1, 2, 2, 3]\n",
      "[1, 2, 2]\n",
      "[1, 2, 3]\n",
      "[1, 2]\n",
      "[1, 2, 3]\n",
      "[1, 2]\n",
      "[1, 3]\n",
      "[1]\n",
      "[2, 2, 3]\n",
      "[2, 2]\n",
      "[2, 3]\n",
      "[2]\n",
      "[2, 3]\n",
      "[2]\n",
      "[3]\n",
      "[]\n",
      "[8, 5, 6, 3, 6, 3, 4, 1, 7, 4, 5, 2, 5, 2, 3, 0]\n",
      "64\n",
      "[64]\n"
     ]
    }
   ],
   "source": [
    "arr = [1,2,2,3]\n",
    "n = len(arr)\n",
    "result = []\n",
    "total = 0\n",
    "local = [0]\n",
    "def sub(i:int,a:list[int]):\n",
    "    global total\n",
    "    if(i>=n):\n",
    "        print(a)\n",
    "        result.append(sum(a[:]))\n",
    "        total = total + sum(a[:])\n",
    "        local[0] = local[0]+sum(a[:])\n",
    "        return\n",
    "    a.append(arr[i]) #pick the element\n",
    "    sub(i+1,a)\n",
    "    a.remove(arr[i]) #Don't pick the element\n",
    "    sub(i+1,a)\n",
    "\n",
    "sub(0,[])\n",
    "print(result)\n",
    "print(total)\n",
    "print(local)\n",
    "\n"
   ]
  },
  {
   "cell_type": "markdown",
   "metadata": {},
   "source": [
    "11- Print all subsets with no duplicates"
   ]
  },
  {
   "cell_type": "code",
   "execution_count": 93,
   "metadata": {},
   "outputs": [
    {
     "name": "stdout",
     "output_type": "stream",
     "text": [
      "[]\n",
      "[1]\n",
      "[1, 2]\n",
      "[1, 2, 3]\n",
      "[1, 3]\n",
      "[2]\n",
      "[2, 3]\n",
      "[3]\n"
     ]
    }
   ],
   "source": [
    "arr = [1,2,2,3]\n",
    "n = len(arr)\n",
    "result = []\n",
    "total = 0\n",
    "local = [0]\n",
    "def sub(i:int,a:list[int]):\n",
    "    print(a[:])\n",
    "    for j in range(i,n):\n",
    "        # print(f'j is {j} a is {a} i is {i}')\n",
    "        if(j>i and arr[j] == arr[j-1]):\n",
    "            continue\n",
    "        a.append(arr[j])\n",
    "        sub(j+1,a)\n",
    "        a.remove(arr[j])\n",
    "\n",
    "sub(0,[])\n",
    "\n",
    "\n"
   ]
  },
  {
   "cell_type": "markdown",
   "metadata": {},
   "source": [
    "12- Print all possible permutations"
   ]
  },
  {
   "cell_type": "code",
   "execution_count": 90,
   "metadata": {},
   "outputs": [
    {
     "name": "stdout",
     "output_type": "stream",
     "text": [
      "[[1, 2, 3], [1, 3, 2], [2, 1, 3], [2, 3, 1], [3, 1, 2], [3, 2, 1]]\n"
     ]
    }
   ],
   "source": [
    "arr = [1,2,3]\n",
    "n = len(arr)\n",
    "result = []\n",
    "visited = [0]*n\n",
    "def perumutations(a:list[int]):\n",
    "    if(len(a)==n):\n",
    "        result.append(a[:])\n",
    "    for i in range(n):\n",
    "        if(not visited[i]):\n",
    "            visited[i] = 1\n",
    "            a.append(arr[i])\n",
    "            perumutations(a)\n",
    "            a.remove(arr[i])\n",
    "            visited[i]=0\n",
    "\n",
    "\n",
    "perumutations([])\n",
    "print(result)\n",
    "\n",
    "\n"
   ]
  },
  {
   "cell_type": "markdown",
   "metadata": {},
   "source": [
    "Permutation - another approach"
   ]
  },
  {
   "cell_type": "code",
   "execution_count": 4,
   "metadata": {},
   "outputs": [
    {
     "name": "stdout",
     "output_type": "stream",
     "text": [
      "[[3, 2, 1], [3, 1, 2], [2, 3, 1], [2, 1, 3], [1, 2, 3], [1, 3, 2]]\n",
      "[[1, 2, 3], [1, 3, 2], [2, 1, 3], [2, 3, 1], [3, 1, 2], [3, 2, 1]]\n"
     ]
    }
   ],
   "source": [
    "arr = [3,2,1]\n",
    "n = len(arr)\n",
    "result = []\n",
    "a = []\n",
    "def perumutations(index:int,arr:list[int]):\n",
    "    if(index>=n):\n",
    "        result.append(arr[:])\n",
    "        return\n",
    "    for i in range(index,n):\n",
    "        arr[i],arr[index] = arr[index],arr[i]\n",
    "        perumutations(index+1,arr)\n",
    "        arr[index],arr[i] = arr[i],arr[index]\n",
    "\n",
    "\n",
    "perumutations(0,arr)\n",
    "print(result)\n",
    "print(sorted(result))\n",
    "\n",
    "\n"
   ]
  },
  {
   "cell_type": "markdown",
   "metadata": {},
   "source": [
    "13- N - Queens \n",
    "\n",
    "Place N queens in N*N chessboard\n",
    "\n",
    "conditions:\n",
    "1. every row must have 1 queen\n",
    "2. every col must have 1 queen\n",
    "3. No queens can attach each other"
   ]
  },
  {
   "cell_type": "code",
   "execution_count": 26,
   "metadata": {},
   "outputs": [
    {
     "name": "stdout",
     "output_type": "stream",
     "text": [
      "[[0, 0, 0, 0], [0, 0, 0, 0], [0, 0, 0, 0], [0, 0, 0, 0]]\n",
      "c=0 r = 0\n",
      "True\n",
      "[[1, 0, 0, 0], [1, 0, 0, 0], [1, 0, 0, 0], [1, 0, 0, 0]]\n",
      "c=1 r = 0\n",
      "False\n",
      "c=1 r = 1\n",
      "False\n",
      "c=1 r = 2\n",
      "False\n",
      "c=1 r = 3\n",
      "False\n",
      "c=0 r = 1\n",
      "True\n",
      "[[1, 0, 0, 0], [1, 0, 0, 0], [1, 0, 0, 0], [1, 0, 0, 0]]\n",
      "c=1 r = 0\n",
      "False\n",
      "c=1 r = 1\n",
      "False\n",
      "c=1 r = 2\n",
      "False\n",
      "c=1 r = 3\n",
      "False\n",
      "c=0 r = 2\n",
      "True\n",
      "[[1, 0, 0, 0], [1, 0, 0, 0], [1, 0, 0, 0], [1, 0, 0, 0]]\n",
      "c=1 r = 0\n",
      "False\n",
      "c=1 r = 1\n",
      "False\n",
      "c=1 r = 2\n",
      "False\n",
      "c=1 r = 3\n",
      "False\n",
      "c=0 r = 3\n",
      "True\n",
      "[[1, 0, 0, 0], [1, 0, 0, 0], [1, 0, 0, 0], [1, 0, 0, 0]]\n",
      "c=1 r = 0\n",
      "False\n",
      "c=1 r = 1\n",
      "False\n",
      "c=1 r = 2\n",
      "False\n",
      "c=1 r = 3\n",
      "False\n"
     ]
    }
   ],
   "source": [
    "n = 4\n",
    "arr = [[0]*n]*n\n",
    "def safe(c,r,arr):\n",
    "        print(f'c={c} r = {r}')\n",
    "        col = c\n",
    "        row = r\n",
    "        while(col>=0):\n",
    "            if(arr[row][col]==1):\n",
    "                print(False)\n",
    "                return False\n",
    "            col -=1\n",
    "        col = c\n",
    "        row = r\n",
    "        while(row>=0 and col>=0):\n",
    "            if(arr[row][col]==1):\n",
    "                print(False)\n",
    "                return False\n",
    "            row -=1\n",
    "            col -=1\n",
    "        col = c\n",
    "        row = r\n",
    "        while(row<n and col>=0):\n",
    "            if(arr[row][col]==1):\n",
    "                print(False)\n",
    "                return False\n",
    "            row+=1\n",
    "            col-=1\n",
    "        print(True)\n",
    "        return True\n",
    "\n",
    "\n",
    "\n",
    "def queens(arr,col):\n",
    "    print(arr)\n",
    "    if(col == n):\n",
    "        print(arr)\n",
    "        return\n",
    "    for row in range(n):\n",
    "        if(safe(col,row,arr)):\n",
    "            arr[row][col] = 1\n",
    "            queens(arr,col+1)\n",
    "            arr[row][col] = 0\n",
    "\n",
    "\n",
    "\n",
    "queens(arr,0)\n",
    "\n",
    "# [1, 0, 0, 0], 00 01 02 03\n",
    "# [0, 0, 0, 0], 10 11 12 13\n",
    "# [0, 0, 0, 0], 20 21 22 23\n",
    "# [0, 0, 0, 0]  30 31 32 33"
   ]
  },
  {
   "cell_type": "markdown",
   "metadata": {},
   "source": [
    "14- Sudoko solver\n",
    "\n",
    "Complete an incomplete sudoko\n",
    "\n",
    "Conditions:\n",
    "\n",
    "1. The digit 1-9 occurs once in every row\n",
    "2. the digit 1-9 occurs once in every column\n",
    "3. the digit 1-9 occurs once in every 3*3 sub matrix"
   ]
  },
  {
   "cell_type": "code",
   "execution_count": null,
   "metadata": {},
   "outputs": [],
   "source": [
    "# checking submatrix is difficult"
   ]
  },
  {
   "cell_type": "markdown",
   "metadata": {},
   "source": [
    "15- M Colouring problem\n",
    "\n",
    "None of the adjacent node in a graph is of same colour"
   ]
  },
  {
   "cell_type": "markdown",
   "metadata": {},
   "source": [
    "16- Palindrome Partitioning\n",
    "\n",
    "return an array of partitions of s where each partition is a palindrome"
   ]
  },
  {
   "cell_type": "code",
   "execution_count": 36,
   "metadata": {},
   "outputs": [
    {
     "name": "stdout",
     "output_type": "stream",
     "text": [
      "['a', 'a', 'b']\n",
      "['aa', 'b']\n"
     ]
    }
   ],
   "source": [
    "s = 'aab'\n",
    "n = len(s)\n",
    "partition = []\n",
    "result = []\n",
    "def ispal(s,l,i):\n",
    "    while(l<=i):\n",
    "        if(s[l] == s[i]):\n",
    "            l+=1\n",
    "            i-=1\n",
    "        else:\n",
    "            return False\n",
    "    return True\n",
    "\n",
    "def palindrome(s,l):\n",
    "    if(l == n):\n",
    "        print(partition)\n",
    "        result.append(partition[:])\n",
    "        return\n",
    "    for i in range(l,n):\n",
    "        if(ispal(s,l,i)):\n",
    "            partition.append(s[l:i+1])\n",
    "            palindrome(s,i+1)\n",
    "            partition.pop()\n",
    "palindrome(s,0)\n",
    "# print(result)\n"
   ]
  },
  {
   "cell_type": "markdown",
   "metadata": {},
   "source": [
    "17- Permutation Sequence\n",
    "\n",
    "for a given n and k, find all the permutations of n, and return the kth permutation, sorted in order\n",
    "\n",
    "for n, we have n factorial permutations\n",
    "\n",
    "1 2 3\n",
    "1 3 2\n",
    "2 1 3 k =3\n",
    "2 3 2\n",
    "3 1 2\n",
    "3 2 1\n",
    "\n",
    "f = 2"
   ]
  },
  {
   "cell_type": "code",
   "execution_count": 43,
   "metadata": {},
   "outputs": [
    {
     "name": "stdout",
     "output_type": "stream",
     "text": [
      "231\n"
     ]
    }
   ],
   "source": [
    "n = 3\n",
    "k = 4\n",
    "arr = []\n",
    "fact = 1\n",
    "\n",
    "for i in range(1,n):\n",
    "    fact = fact * i\n",
    "    arr.append(i)\n",
    "arr.append(n)\n",
    "# we are working on 0 based indexing\n",
    "k = k -1\n",
    "result = ''\n",
    "while(True):\n",
    "    result = result + str(arr[k//fact])\n",
    "    arr.remove(arr[k//fact])\n",
    "    if(not len(arr)):\n",
    "        break\n",
    "    k = k%fact\n",
    "    fact = fact//len(arr)\n",
    "print(result)\n"
   ]
  },
  {
   "cell_type": "markdown",
   "metadata": {},
   "source": [
    "18- Rat in a Maze\n",
    "\n",
    "In a N*N matrix, 1 denotes a path and 0 denotes a block. The rat has to move from [0,0] to [N-1][N-1] index using the paths. the rat can move in 4 directions. no cell can be visited twice. Find all possible paths"
   ]
  },
  {
   "cell_type": "code",
   "execution_count": 54,
   "metadata": {},
   "outputs": [
    {
     "name": "stdout",
     "output_type": "stream",
     "text": [
      "[(0, 0)]\n",
      "0 1\n",
      "1 0\n",
      "0 -1\n",
      "-1 0\n"
     ]
    }
   ],
   "source": [
    "n = 4\n",
    "m = [[1,0,0,0],\n",
    "     [1,1,0,1],\n",
    "     [1,1,0,0],\n",
    "     [0,1,1,1]]\n",
    "\n",
    "q = []\n",
    "visited = [[0]*n]*n\n",
    "visited[0][0] = 1\n",
    "q.append((0,0))\n",
    "dr = [0,1,0,-1]\n",
    "dc = [1,0,-1,0]\n",
    "flag = 0\n",
    "while(q):\n",
    "    print(q)\n",
    "    (r,c) = q.pop(0)\n",
    "    for i in range(4):\n",
    "        nr = r + dr[i]\n",
    "        nc = c + dc[i]\n",
    "        print(nr,nc)\n",
    "        if(nr >=0 and nr <n and nc >=0 and nc < n and m[nr][nc]==1):\n",
    "            visited[nr][nc] = 1\n",
    "            q.append((nr,nc))\n",
    "\n",
    "    \n",
    "#https://stackoverflow.com/questions/63221295/value-of-2d-array-is-fine-while-assigning-values-but-changes-when-i-print-it-aga\n",
    "    \n",
    "\n",
    "        \n"
   ]
  },
  {
   "cell_type": "code",
   "execution_count": 7,
   "metadata": {},
   "outputs": [
    {
     "name": "stdout",
     "output_type": "stream",
     "text": [
      "DLDDLL\n",
      "DDLDLL\n"
     ]
    }
   ],
   "source": [
    "n = 4\n",
    "m = [[1,0,0,0],\n",
    "     [1,1,0,1],\n",
    "     [1,1,0,0],\n",
    "     [0,1,1,1]]\n",
    "\n",
    "visited = [[0]*n for i in range(n)]\n",
    "\n",
    "dr = [0,1,0,-1]\n",
    "dc = [1,0,-1,0]\n",
    "\n",
    "def dfs(m,i,j,path):\n",
    "    if(i==n-1 and j==n-1):\n",
    "        print(path)\n",
    "        return\n",
    "    #left\n",
    "    if(j+1<n and m[i][j+1]==1 and visited[i][j+1]==0):\n",
    "        visited[i][j+1]=1\n",
    "        dfs(m,i,j+1,path+'L')\n",
    "        visited[i][j+1]=0\n",
    "    if(i+1<n and m[i+1][j]==1 and visited[i+1][j]==0):\n",
    "        visited[i+1][j]=1\n",
    "        dfs(m,i+1,j,path+'D')\n",
    "        visited[i+1][j]=0\n",
    "    if(j-1>=0 and m[i][j-1]==1 and visited[i][j-1]==0):\n",
    "        visited[i][j-1]=1\n",
    "        dfs(m,i,j-1,path+'R')\n",
    "        visited[i][j-1]=0\n",
    "    if(i-1>=0 and m[i-1][j]==1 and visited[i-1][j]==0):\n",
    "        visited[i-1][j]=1\n",
    "        dfs(m,i-1,j,path+'U')\n",
    "        visited[i-1][j]=0\n",
    "\n",
    "dfs(m,0,0,'')\n",
    "    "
   ]
  }
 ],
 "metadata": {
  "kernelspec": {
   "display_name": "Python 3",
   "language": "python",
   "name": "python3"
  },
  "language_info": {
   "codemirror_mode": {
    "name": "ipython",
    "version": 3
   },
   "file_extension": ".py",
   "mimetype": "text/x-python",
   "name": "python",
   "nbconvert_exporter": "python",
   "pygments_lexer": "ipython3",
   "version": "3.10.5"
  }
 },
 "nbformat": 4,
 "nbformat_minor": 2
}
