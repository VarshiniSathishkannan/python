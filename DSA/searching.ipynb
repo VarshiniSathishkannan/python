{
 "cells": [
  {
   "cell_type": "markdown",
   "metadata": {},
   "source": [
    "Linear search\n",
    "\n",
    "Time complexity - O(n)"
   ]
  },
  {
   "cell_type": "markdown",
   "metadata": {},
   "source": [
    "Binary search\n",
    "\n",
    "Requisite - Array should be sorted.\n",
    "\n",
    "Time complexity - O(log(n))"
   ]
  },
  {
   "cell_type": "markdown",
   "metadata": {},
   "source": [
    "Iterative approach"
   ]
  },
  {
   "cell_type": "code",
   "execution_count": 8,
   "metadata": {},
   "outputs": [
    {
     "name": "stdout",
     "output_type": "stream",
     "text": [
      "4\n"
     ]
    }
   ],
   "source": [
    "arr = [1,2,3,4,5]\n",
    "target = 5\n",
    "\n",
    "def binary(arr):\n",
    "    l = 0\n",
    "    h = len(arr)-1\n",
    "    while(l<=h):\n",
    "        mid = (l+h)//2\n",
    "        if(target == arr[mid]):\n",
    "            return mid\n",
    "        elif(target > arr[mid]):\n",
    "            l = mid+1\n",
    "        else:\n",
    "            h = mid-1\n",
    "    return -1\n",
    "\n",
    "print(binary(arr))"
   ]
  },
  {
   "cell_type": "markdown",
   "metadata": {},
   "source": [
    "Recursive Approach"
   ]
  },
  {
   "cell_type": "code",
   "execution_count": 1,
   "metadata": {},
   "outputs": [
    {
     "name": "stdout",
     "output_type": "stream",
     "text": [
      "4\n"
     ]
    }
   ],
   "source": [
    "arr = [1,2,3,4,5]\n",
    "target = 5\n",
    "\n",
    "def binary(arr,l,h):\n",
    "        if(l>h):\n",
    "             return -1\n",
    "        mid = (l+((h-l)//2)) # l+((h-l)//2) also works - brackets is crucial\n",
    "        if(target == arr[mid]):\n",
    "            return mid\n",
    "        elif(target > arr[mid]):\n",
    "            return binary(arr,mid+1,h)\n",
    "        else:\n",
    "            return binary(arr,l,mid-1)\n",
    "\n",
    "print(binary(arr,0,len(arr)-1))"
   ]
  },
  {
   "cell_type": "markdown",
   "metadata": {},
   "source": [
    "Implement lower bound and upper bound \n",
    "\n",
    "LB = smallest index such that arr[index] >= target\n",
    "UB = Smallest index such that arr[index] > target"
   ]
  },
  {
   "cell_type": "code",
   "execution_count": 5,
   "metadata": {},
   "outputs": [
    {
     "name": "stdout",
     "output_type": "stream",
     "text": [
      "4\n"
     ]
    }
   ],
   "source": [
    "# Lower Bound\n",
    "\n",
    "arr = [1,2,3,4,6]\n",
    "target = 5\n",
    "\n",
    "def binary(arr):\n",
    "    l = 0\n",
    "    h = len(arr)-1\n",
    "    lb = len(arr)\n",
    "    while(l<=h):\n",
    "        mid = (l+h)//2\n",
    "        if(arr[mid] >= target):\n",
    "            lb = mid\n",
    "            h = mid-1\n",
    "        else:\n",
    "            l = mid+1 \n",
    "    return lb\n",
    "\n",
    "print(binary(arr))"
   ]
  },
  {
   "cell_type": "code",
   "execution_count": 8,
   "metadata": {},
   "outputs": [
    {
     "name": "stdout",
     "output_type": "stream",
     "text": [
      "4\n"
     ]
    }
   ],
   "source": [
    "# Upper Bound\n",
    "\n",
    "arr = [1,2,3,4,6]\n",
    "target = 4\n",
    "\n",
    "def binary(arr):\n",
    "    l = 0\n",
    "    h = len(arr)-1\n",
    "    ub = len(arr)\n",
    "    while(l<=h):\n",
    "        mid = (l+h)//2\n",
    "        if(arr[mid] > target):\n",
    "            ub = mid\n",
    "            h = mid-1\n",
    "        else:\n",
    "            l = mid+1\n",
    "    return ub\n",
    "\n",
    "print(binary(arr))"
   ]
  },
  {
   "cell_type": "markdown",
   "metadata": {},
   "source": [
    "Search Insert position\n",
    "\n",
    "it is similar to Lower bound"
   ]
  },
  {
   "cell_type": "code",
   "execution_count": null,
   "metadata": {},
   "outputs": [],
   "source": [
    "class Solution:\n",
    "    def searchInsert(self, nums: List[int], target: int) -> int:\n",
    "            ele = target\n",
    "            if(ele<nums[0]):\n",
    "                return 0\n",
    "            if(ele > nums[len(nums)-1]):\n",
    "                return len(nums)\n",
    "            l = 0\n",
    "            h = len(nums)\n",
    "            index = -1\n",
    "            while(l<h):\n",
    "                mid = (l+h)//2\n",
    "                if(nums[mid]==target):\n",
    "                    index = mid\n",
    "                    break\n",
    "                elif(nums[mid]>target):\n",
    "                    index = mid\n",
    "                    h = mid\n",
    "                else:\n",
    "                    l = mid+1\n",
    "\n",
    "            return index"
   ]
  },
  {
   "cell_type": "markdown",
   "metadata": {},
   "source": [
    "Floor and Ceil in sorted array\n",
    "\n",
    "Floor - largest number in array <= x\n",
    "Ceil - Smallest number in array >=x"
   ]
  },
  {
   "cell_type": "code",
   "execution_count": 29,
   "metadata": {},
   "outputs": [
    {
     "name": "stdout",
     "output_type": "stream",
     "text": [
      "floor index = 3 Ceil index = 4\n"
     ]
    }
   ],
   "source": [
    "n = [10,20,30,40,45,50]\n",
    "target = 43\n",
    "\n",
    "def binary(arr):\n",
    "    l = 0\n",
    "    h = len(arr)-1\n",
    "    ceil = len(arr)\n",
    "    floor = -1\n",
    "    while(l<=h):\n",
    "        mid = (l+h)//2\n",
    "        if(arr[mid] >= target):\n",
    "            ceil = mid\n",
    "            h = mid-1\n",
    "        else:\n",
    "            floor = mid\n",
    "            l = mid+1\n",
    "    print(f\"floor index = {floor} Ceil index = {ceil}\")\n",
    "    # print(f\"floor = {arr[floor]} Ceil = {arr[ceil]}\")\n",
    "\n",
    "\n",
    "binary(n)\n"
   ]
  },
  {
   "cell_type": "markdown",
   "metadata": {},
   "source": [
    "First and Last occurring index of target    "
   ]
  },
  {
   "cell_type": "code",
   "execution_count": 32,
   "metadata": {},
   "outputs": [
    {
     "name": "stdout",
     "output_type": "stream",
     "text": [
      "first = 1 last = 6\n"
     ]
    }
   ],
   "source": [
    "n = [10,30,30,30,30,30,30]\n",
    "target = 30\n",
    "\n",
    "def binary(arr):\n",
    "    l = 0\n",
    "    h = len(arr)-1\n",
    "    first = -1\n",
    "    while(l<=h):\n",
    "        mid = (l+h)//2\n",
    "        if(arr[mid] >= target):\n",
    "            if(arr[mid]==target):\n",
    "                first = mid\n",
    "            h = mid - 1\n",
    "        else:\n",
    "            l = mid+1\n",
    "    if(first==-1):\n",
    "        print(f\"first = -1 last = -1\")\n",
    "        return\n",
    "    l = first\n",
    "    h = len(arr)-1\n",
    "    last = -1\n",
    "    while(l<=h):\n",
    "        mid = (l+h)//2\n",
    "        if(arr[mid] <= target):\n",
    "            if(arr[mid]==target):\n",
    "                last = mid\n",
    "            l = mid + 1\n",
    "        else:\n",
    "            h = mid-1\n",
    "    print(f\"first = {first} last = {last}\")\n",
    "\n",
    "\n",
    "binary(n)\n"
   ]
  },
  {
   "cell_type": "markdown",
   "metadata": {},
   "source": [
    "No of Occurances of target"
   ]
  },
  {
   "cell_type": "code",
   "execution_count": 33,
   "metadata": {},
   "outputs": [
    {
     "name": "stdout",
     "output_type": "stream",
     "text": [
      "6\n"
     ]
    }
   ],
   "source": [
    "n = [10,30,30,30,30,30,30]\n",
    "target = 30\n",
    "\n",
    "def binary(arr):\n",
    "    l = 0\n",
    "    h = len(arr)-1\n",
    "    first = -1\n",
    "    while(l<=h):\n",
    "        mid = (l+h)//2\n",
    "        if(arr[mid] >= target):\n",
    "            if(arr[mid]==target):\n",
    "                first = mid\n",
    "            h = mid - 1\n",
    "        else:\n",
    "            l = mid+1\n",
    "    if(first==-1):\n",
    "        print(0)\n",
    "        return\n",
    "    l = first\n",
    "    h = len(arr)-1\n",
    "    last = -1\n",
    "    while(l<=h):\n",
    "        mid = (l+h)//2\n",
    "        if(arr[mid] <= target):\n",
    "            if(arr[mid]==target):\n",
    "                last = mid\n",
    "            l = mid + 1\n",
    "        else:\n",
    "            h = mid-1\n",
    "    print(last-first+1)\n",
    "\n",
    "\n",
    "binary(n)\n"
   ]
  },
  {
   "cell_type": "markdown",
   "metadata": {},
   "source": [
    "Search element in rotated sorted array - Unique elements"
   ]
  },
  {
   "cell_type": "code",
   "execution_count": 41,
   "metadata": {},
   "outputs": [
    {
     "name": "stdout",
     "output_type": "stream",
     "text": [
      "1\n"
     ]
    }
   ],
   "source": [
    "arr = [11,13,1,3,5,7,9] #array is sorted but rotated\n",
    "target = 13\n",
    "l=0\n",
    "h = len(arr)-1\n",
    "while(l<=h):\n",
    "    mid = (l+h)//2\n",
    "    if(arr[mid]==target):\n",
    "        print(mid)\n",
    "        break\n",
    "    if(arr[l]<=arr[mid]):\n",
    "        if(target < arr[mid] and target >= arr[l]):\n",
    "            h = mid-1\n",
    "        else:\n",
    "            l = mid+1\n",
    "    else:\n",
    "        if(target > arr[mid] and target <= arr[h]):\n",
    "            l = mid +1\n",
    "        else:\n",
    "            h = mid - 1"
   ]
  },
  {
   "cell_type": "markdown",
   "metadata": {},
   "source": [
    "Search element in rotated sorted array - Duplicate elements"
   ]
  },
  {
   "cell_type": "code",
   "execution_count": 53,
   "metadata": {},
   "outputs": [
    {
     "name": "stdout",
     "output_type": "stream",
     "text": [
      "0 7 3\n",
      "1 6 3\n",
      "1 2 1\n",
      "1\n"
     ]
    }
   ],
   "source": [
    "arr = [3,1,2,3,3,3,3,3] #array is sorted but rotated\n",
    "target = 1\n",
    "l=0\n",
    "h = len(arr)-1\n",
    "while(l<=h):\n",
    "    mid = (l+h)//2\n",
    "    print(l,h,mid)\n",
    "    if(arr[mid]==target):\n",
    "        print(mid)\n",
    "        break\n",
    "    if(arr[mid]==arr[l] and arr[h]==arr[mid]): # This step is critical\n",
    "        l +=1\n",
    "        h -=1\n",
    "        continue\n",
    "    if(arr[l]<=arr[mid]):\n",
    "        if(target < arr[mid] and target >= arr[l]):\n",
    "            h = mid-1\n",
    "        else:\n",
    "            l = mid+1\n",
    "    else:\n",
    "        if(target > arr[mid] and target <= arr[h]):\n",
    "            l = mid +1\n",
    "        else:\n",
    "            h = mid - 1"
   ]
  },
  {
   "cell_type": "markdown",
   "metadata": {},
   "source": [
    "Minimum in rotated sorted array - unique"
   ]
  },
  {
   "cell_type": "code",
   "execution_count": 2,
   "metadata": {},
   "outputs": [
    {
     "name": "stdout",
     "output_type": "stream",
     "text": [
      "2\n"
     ]
    }
   ],
   "source": [
    "class Solution:\n",
    "    def findMin(self, nums: list[int]) -> int:\n",
    "        l = 0\n",
    "        h = len(nums)-1\n",
    "        minimum = nums[0]\n",
    "        while(l<=h):\n",
    "            mid = (l+h)//2\n",
    "            if(nums[mid]<=nums[h]):\n",
    "                minimum = min(nums[mid],minimum)\n",
    "                h = mid-1\n",
    "            else:\n",
    "                l = mid+1\n",
    "        return minimum\n",
    "\n",
    "obj = Solution()\n",
    "print(obj.findMin([2,7,7,7]))        "
   ]
  },
  {
   "cell_type": "code",
   "execution_count": 91,
   "metadata": {},
   "outputs": [
    {
     "name": "stdout",
     "output_type": "stream",
     "text": [
      "0 2 1\n",
      "2 2 2\n",
      "1\n"
     ]
    }
   ],
   "source": [
    "# Optimised solution\n",
    "\n",
    "arr = [1,2,3] #array is sorted but rotated\n",
    "l=0\n",
    "h = len(arr)-1\n",
    "minimum = float('+inf')\n",
    "while(l<=h):\n",
    "    mid = (l+h)//2\n",
    "    print(l,h,mid)\n",
    "    if(arr[l] <= arr[mid]):\n",
    "        minimum = min(arr[l],minimum)\n",
    "        l = mid+1\n",
    "    else:\n",
    "        minimum = min(arr[mid],minimum)\n",
    "        h = mid-1\n",
    "\n",
    "   \n",
    "print(minimum)\n",
    "        "
   ]
  },
  {
   "cell_type": "markdown",
   "metadata": {},
   "source": [
    "How many times the array has been rotated\n",
    "\n",
    "Optimised solution is similar to above problem, if we find the index of the minimum, that is the no of times the array has been rotated"
   ]
  },
  {
   "cell_type": "code",
   "execution_count": 10,
   "metadata": {},
   "outputs": [
    {
     "name": "stdout",
     "output_type": "stream",
     "text": [
      "0 7 3\n",
      "0 2 1\n",
      "0 0 0\n",
      "0\n"
     ]
    }
   ],
   "source": [
    "arr = [39,6,11,14,18,36,37,38]  # ans is 3 \n",
    "l=0\n",
    "h = len(arr)-1\n",
    "index = 0\n",
    "while(l<=h):\n",
    "            mid = (l+h)//2\n",
    "            print(l,h,mid)\n",
    "            if(arr[l]>=arr[mid]):\n",
    "                h = mid-1\n",
    "            else:\n",
    "                l = mid+1\n",
    "                index = mid+1\n",
    "print(index)\n",
    "        "
   ]
  },
  {
   "cell_type": "markdown",
   "metadata": {},
   "source": [
    "Single element is sorted array"
   ]
  },
  {
   "cell_type": "code",
   "execution_count": 5,
   "metadata": {},
   "outputs": [
    {
     "name": "stdout",
     "output_type": "stream",
     "text": [
      "6\n"
     ]
    }
   ],
   "source": [
    "arr = [1,1,2,2,3,3,4,4,6,7,7]\n",
    "n = len(arr)\n",
    "def func(arr,l,h,n):\n",
    "    if(n==1):\n",
    "        print(arr[0])\n",
    "        return\n",
    "\n",
    "    if(arr[0]!=arr[1]):\n",
    "        print(arr[0])\n",
    "        return\n",
    "\n",
    "    if(arr[n-1]!=arr[n-2]):\n",
    "        print(arr[len(arr)-1])\n",
    "        return\n",
    "    l = 1\n",
    "    h = n-2\n",
    "    while(l<=h):\n",
    "        # print(l,h,mid)\n",
    "        mid = (l+h)//2\n",
    "        if(arr[mid] != arr[mid+1] and arr[mid] != arr[mid-1]):\n",
    "            print(arr[mid])\n",
    "            break\n",
    "        if(arr[mid]==arr[mid-1]):\n",
    "            if(mid%2!=0 and (mid-1)%2==0):\n",
    "                l = mid+1\n",
    "            else:\n",
    "                h = mid-1\n",
    "        if(arr[mid]==arr[mid+1]):\n",
    "            if(mid%2==0 and (mid-1)%2!=0):\n",
    "                l = mid+1\n",
    "            else:\n",
    "                h = mid-1\n",
    "n = len(arr)\n",
    "func(arr,0,n-1,n)\n"
   ]
  },
  {
   "cell_type": "code",
   "execution_count": null,
   "metadata": {},
   "outputs": [],
   "source": [
    "class Solution:\n",
    "    def singleNonDuplicate(self, nums: List[int]) -> int:\n",
    "        l = 0\n",
    "        h = len(nums)-1\n",
    "        while(l<=h):\n",
    "            mid = (l+h)//2\n",
    "            if(mid%2==0):\n",
    "                if(mid+1<len(nums) and nums[mid]==nums[mid+1]):\n",
    "                    l = mid+1\n",
    "                elif(mid-1>=0 and nums[mid]==nums[mid-1]):\n",
    "                    h = mid-1\n",
    "                else:\n",
    "                    return nums[mid]\n",
    "            else:\n",
    "                if(mid+1<len(nums) and nums[mid]==nums[mid+1]):\n",
    "                    h = mid-1\n",
    "                elif(mid-1>=0 and nums[mid]==nums[mid-1]):\n",
    "                    l = mid+1\n",
    "                else:\n",
    "                    return nums[mid]"
   ]
  },
  {
   "cell_type": "markdown",
   "metadata": {},
   "source": [
    "Find peak element\n",
    "\n",
    "element should be greater than post prev and next element"
   ]
  },
  {
   "cell_type": "code",
   "execution_count": 6,
   "metadata": {},
   "outputs": [
    {
     "name": "stdout",
     "output_type": "stream",
     "text": [
      "4\n",
      "8\n"
     ]
    }
   ],
   "source": [
    "arr = [0,1,5,3,4,2,6,7,8] \n",
    "l = 1\n",
    "h = len(arr)-2\n",
    "\n",
    "while(l<=h):\n",
    "    mid = (l+h)//2\n",
    "    if(arr[mid]>arr[mid-1] and arr[mid]>arr[mid+1]):\n",
    "        print(arr[mid])\n",
    "    if(arr[mid]>arr[mid-1]):\n",
    "        l = mid+1\n",
    "    else:\n",
    "        h = mid-1\n",
    "else:\n",
    "    if(arr[0]>arr[1]):\n",
    "        print(arr[0])\n",
    "    if(arr[len(arr)-1]>arr[len(arr)-2]):\n",
    "        print(arr[len(arr)-1])\n"
   ]
  },
  {
   "cell_type": "code",
   "execution_count": 18,
   "metadata": {},
   "outputs": [
    {
     "name": "stdout",
     "output_type": "stream",
     "text": [
      "2 1 3\n",
      "1 1 1\n",
      "1\n"
     ]
    }
   ],
   "source": [
    "class Solution:\n",
    "    def findPeakElement(self, nums: list[int]) -> int:\n",
    "        if(len(nums)<2):\n",
    "            return 0\n",
    "        l = 1\n",
    "        h = len(nums)-2\n",
    "        if(nums[0]>nums[1]):\n",
    "            return 0\n",
    "        if(nums[len(nums)-1]>nums[len(nums)-2]):\n",
    "            return len(nums)-1\n",
    "        while(l<=h):\n",
    "            mid = (l+h)//2\n",
    "            print(mid,l,h)\n",
    "            if(mid+1<len(nums) and mid-1>=0 and nums[mid]>nums[mid-1] and nums[mid]>nums[mid+1]):\n",
    "                return mid\n",
    "            if(nums[mid]>nums[mid-1]):\n",
    "                    l = mid+1\n",
    "            else:\n",
    "                    h = mid-1\n",
    "        else:\n",
    "            return 0\n",
    "\n",
    "\n",
    "obj = Solution()\n",
    "print(obj.findPeakElement([1,2,1,2,1]))"
   ]
  },
  {
   "cell_type": "markdown",
   "metadata": {},
   "source": [
    "Find Sqrt of a number using binary search"
   ]
  },
  {
   "cell_type": "code",
   "execution_count": 121,
   "metadata": {},
   "outputs": [
    {
     "name": "stdout",
     "output_type": "stream",
     "text": [
      "6\n"
     ]
    }
   ],
   "source": [
    "n = 38\n",
    "l = 1\n",
    "h = n\n",
    "while(l<=h):\n",
    "    mid = (l+h)//2\n",
    "    if(mid*mid<=n):\n",
    "        ans = mid\n",
    "        l = mid+1\n",
    "    else:\n",
    "        h = mid-1\n",
    "print(ans)"
   ]
  },
  {
   "cell_type": "code",
   "execution_count": null,
   "metadata": {},
   "outputs": [],
   "source": [
    "class Solution:\n",
    "    def floorSqrt(self, n): \n",
    "        l = 1\n",
    "        h = n\n",
    "        ans = 1\n",
    "        while(l<=h):\n",
    "            mid = (l+h)//2\n",
    "            if(mid*mid==n):\n",
    "                return mid\n",
    "            if(mid*mid>n):\n",
    "                h = mid-1\n",
    "            else:\n",
    "                ans = mid\n",
    "                l = mid+1\n",
    "        return ans"
   ]
  },
  {
   "cell_type": "markdown",
   "metadata": {},
   "source": [
    "Find 'N'th root of Integer 'M'"
   ]
  },
  {
   "cell_type": "code",
   "execution_count": 134,
   "metadata": {},
   "outputs": [
    {
     "name": "stdout",
     "output_type": "stream",
     "text": [
      "2 64 35937 33\n",
      "2 32 4913 17\n",
      "2 16 729 9\n",
      "2 8 125 5\n",
      "2 4 27 3\n",
      "4 4 64 4\n",
      "4\n"
     ]
    }
   ],
   "source": [
    "n = 3\n",
    "m = 64\n",
    "def multiply(n,x):\n",
    "    ans = 1\n",
    "    while(x>0):\n",
    "        if(x%2==1):\n",
    "            ans = ans*n\n",
    "            x = x-1\n",
    "        else:\n",
    "            n = n*n\n",
    "            x = x//2\n",
    "    return ans\n",
    "\n",
    "\n",
    "l = 2\n",
    "h = m\n",
    "\n",
    "while(l<=h):\n",
    "    mid = (l+h)//2\n",
    "    t = multiply(mid,n)\n",
    "    print(l,h,t,mid)\n",
    "    if(t==m):\n",
    "        print(mid)\n",
    "        break\n",
    "    elif(t>m):\n",
    "        h = mid-1\n",
    "    else:\n",
    "        l = mid+1\n",
    "else:\n",
    "    print(-1)\n",
    "    "
   ]
  },
  {
   "cell_type": "code",
   "execution_count": 21,
   "metadata": {},
   "outputs": [
    {
     "name": "stdout",
     "output_type": "stream",
     "text": [
      "5\n",
      "25\n",
      "2\n",
      "4\n",
      "3\n",
      "9\n",
      "3\n"
     ]
    }
   ],
   "source": [
    "class Solution:\n",
    "    \tdef NthRoot(self, n, m):\n",
    "            def func(mid):\n",
    "                ans = 1\n",
    "                for i in range(n):\n",
    "                    ans = ans*mid\n",
    "                    print(ans)\n",
    "                    if(ans>m):\n",
    "                        return 2\n",
    "                if(ans==m):\n",
    "                        return 0\n",
    "                return 1\n",
    "                    \n",
    "                    \n",
    "            l = 1   \n",
    "            h = m\n",
    "            while(l<=h):\n",
    "                mid = (l+h)//2\n",
    "                ans = func(mid)\n",
    "                if(ans==0):\n",
    "                    return mid\n",
    "                elif(ans==2):\n",
    "                    h = mid-1\n",
    "                else:\n",
    "                    l = mid+1\n",
    "            else:\n",
    "                return -1\n",
    "  \n",
    "obj = Solution()\n",
    "print(obj.NthRoot(2,9))"
   ]
  },
  {
   "cell_type": "markdown",
   "metadata": {},
   "source": [
    "Koko eating bananas"
   ]
  },
  {
   "cell_type": "code",
   "execution_count": 149,
   "metadata": {},
   "outputs": [
    {
     "name": "stdout",
     "output_type": "stream",
     "text": [
      "6\n"
     ]
    }
   ],
   "source": [
    "import math\n",
    "\n",
    "arr = [3,4,5,6,7,8]\n",
    "hr = 8\n",
    "\n",
    "h = arr[len(arr)-1]\n",
    "l = 1\n",
    "\n",
    "def totalhours(arr,ele):\n",
    "    ans = 0\n",
    "    for i in range(len(arr)):\n",
    "        # print(arr[i],ele)\n",
    "        if(arr[i]<=ele):\n",
    "            ans = ans+1\n",
    "        else:\n",
    "            ans = ans + int(math.ceil(arr[i]/ele)) \n",
    "        # print(ans)\n",
    "    return ans\n",
    "\n",
    "# 1,2,3,4,5,6,7,8,9,10,11\n",
    "\n",
    "while(l<=h):\n",
    "    mid = (l+h)//2\n",
    "    th = totalhours(arr,mid)\n",
    "    # print(l,h,mid,th)\n",
    "    if(th <= hr):\n",
    "        print(mid)\n",
    "        h = mid-1\n",
    "    else:\n",
    "        l = mid+1\n",
    "\n",
    "\n",
    "    "
   ]
  },
  {
   "cell_type": "markdown",
   "metadata": {},
   "source": [
    "Minimum no of days to make 'M' Bouquets"
   ]
  },
  {
   "cell_type": "code",
   "execution_count": 161,
   "metadata": {},
   "outputs": [
    {
     "name": "stdout",
     "output_type": "stream",
     "text": [
      "5\n",
      "8\n",
      "9\n",
      "10\n",
      "-1\n"
     ]
    }
   ],
   "source": [
    "# arr = [7,7,7,7,13,11,12,7]\n",
    "# m = 2\n",
    "# k = 3 # require 3 adjacent flowers\n",
    "\n",
    "arr = [1,10,3,10,2]\n",
    "m = 3\n",
    "k = 2 # require 3 adjacent flowers\n",
    "\n",
    "l = float('+inf')\n",
    "h = 0\n",
    "for i in range(len(arr)):\n",
    "    h = max(arr[i],h)\n",
    "    l = min(arr[i],l)\n",
    "\n",
    "def check(ele):\n",
    "    count = 0\n",
    "    total = 0\n",
    "    for i in range(len(arr)):\n",
    "        # print(arr[i],count,total,ele)\n",
    "        if(arr[i]<=ele):\n",
    "            count +=1\n",
    "        else:\n",
    "            count = 0\n",
    "        if(count == k):\n",
    "            total += 1\n",
    "            count = 0\n",
    "    if(total == m):\n",
    "        return True\n",
    "    else:\n",
    "        return False\n",
    "            \n",
    "\n",
    "    \n",
    "while(l<=h):\n",
    "    mid = (l+h)//2\n",
    "    print(mid)\n",
    "    if(check(mid)):\n",
    "        result = mid\n",
    "        print(result)\n",
    "        h = mid-1\n",
    "    else:\n",
    "        l = mid+1\n",
    "else:\n",
    "    print('-1')\n",
    "\n",
    "    \n",
    "\n"
   ]
  },
  {
   "cell_type": "code",
   "execution_count": 9,
   "metadata": {},
   "outputs": [
    {
     "name": "stdout",
     "output_type": "stream",
     "text": [
      "[7, 12]\n",
      "0 0 1 -1\n",
      "7 0 0 7\n",
      "7 1 0 7\n",
      "7 2 0 7\n",
      "7 0 1 7\n",
      "7 1 1 12\n",
      "7 0 1 7\n",
      "7 1 1 7\n",
      "1 1 1 -1\n",
      "12 0 0 7\n",
      "12 1 0 7\n",
      "12 2 0 7\n",
      "12 0 1 7\n",
      "12 1 1 12\n",
      "12 2 1 7\n",
      "12 0 2 7\n",
      "12\n"
     ]
    }
   ],
   "source": [
    "class Solution:\n",
    "    def minDays(self, bloomDay: list[int], m: int, k: int) -> int:\n",
    "        if(k*m>len(bloomDay)):\n",
    "            return -1\n",
    "        bloom = list(set(bloomDay))\n",
    "        bloom.sort()\n",
    "        print(bloom)\n",
    "        l = 0\n",
    "        h = len(bloom)-1\n",
    "        def func(ele):\n",
    "            c = 0\n",
    "            cnt = 0\n",
    "            for i in range(len(bloomDay)):\n",
    "                print(ele,c,cnt,bloomDay[i])\n",
    "                if(bloomDay[i]<=ele):\n",
    "                    c+=1\n",
    "                else:\n",
    "                    c=0\n",
    "                if(c==k):\n",
    "                    c = 0\n",
    "                    cnt +=1\n",
    "            if(cnt>=m):\n",
    "                return 1\n",
    "            else:\n",
    "                return 0\n",
    "\n",
    "        ans = -1\n",
    "        while(l<=h):\n",
    "            mid = (l+h)//2\n",
    "            print(mid,l,h,ans)\n",
    "            if(func(bloom[mid])):\n",
    "                ans = bloom[mid]\n",
    "                h = mid-1\n",
    "            else:\n",
    "                l = mid+1\n",
    "        return ans\n",
    "            \n",
    "obj = Solution()\n",
    "print(obj.minDays([7,7,7,7,12,7,7],2,3))"
   ]
  },
  {
   "cell_type": "markdown",
   "metadata": {},
   "source": [
    "Find the smallest divisor given a threshold"
   ]
  },
  {
   "cell_type": "code",
   "execution_count": 163,
   "metadata": {},
   "outputs": [
    {
     "name": "stdout",
     "output_type": "stream",
     "text": [
      "5\n"
     ]
    }
   ],
   "source": [
    "import math\n",
    "\n",
    "arr = [1,2,5,9]\n",
    "threshold = 6\n",
    "n = len(arr)\n",
    "\n",
    "l = arr[0]\n",
    "h = arr[n-1]\n",
    "\n",
    "def check(ele):\n",
    "    s = 0\n",
    "    for i in range(n):\n",
    "        s += int(math.ceil(arr[i]/ele))\n",
    "    if(s<=threshold):\n",
    "        return True\n",
    "        \n",
    "\n",
    "\n",
    "while(l<=h):\n",
    "    mid = (l+h)//2\n",
    "    if(check(mid)):\n",
    "        ans = mid\n",
    "        print(ans)\n",
    "        h = mid-1\n",
    "    else:\n",
    "        l = mid+1\n",
    "\n"
   ]
  },
  {
   "cell_type": "markdown",
   "metadata": {},
   "source": [
    "Capacity to ship packages within D days"
   ]
  },
  {
   "cell_type": "code",
   "execution_count": 168,
   "metadata": {},
   "outputs": [
    {
     "name": "stdout",
     "output_type": "stream",
     "text": [
      "32\n",
      "20\n",
      "17\n",
      "15\n"
     ]
    }
   ],
   "source": [
    "arr = [1,2,3,4,5,6,7,8,9,10] #weights\n",
    "days = 5\n",
    "total = sum(arr)\n",
    "# we must choose the minumum/least capacity of the ship\n",
    "n = len(arr)\n",
    "l = arr[n-1]\n",
    "h = total\n",
    "\n",
    "def check(ele):\n",
    "    s = 0\n",
    "    d = 0\n",
    "    for i in range(n):\n",
    "        s = s+arr[i]\n",
    "        if(s>ele):\n",
    "            d+=1\n",
    "            s =arr[i]\n",
    "    if(s):\n",
    "        d+=1\n",
    "    if(d<=days):\n",
    "        return True\n",
    "    else:\n",
    "        return False\n",
    "\n",
    "        \n",
    "\n",
    "while(l<=h):\n",
    "    mid = (l+h)//2\n",
    "    if(check(mid)):\n",
    "        ans = mid\n",
    "        print(ans)\n",
    "        h = mid-1\n",
    "    else:\n",
    "        l = mid+1\n"
   ]
  },
  {
   "cell_type": "code",
   "execution_count": 18,
   "metadata": {},
   "outputs": [
    {
     "name": "stdout",
     "output_type": "stream",
     "text": [
      "28 2\n",
      "14 6\n",
      "21 3\n",
      "17 4\n",
      "15 5\n",
      "15\n"
     ]
    }
   ],
   "source": [
    "class Solution:\n",
    "    def shipWithinDays(self, weights: list[int], days: int) -> int:\n",
    "        h = sum(weights)\n",
    "        l = 1\n",
    "        def check(ele):\n",
    "            w = 0\n",
    "            i=0\n",
    "            day = 0\n",
    "            while(i<len(weights)):\n",
    "                if(weights[i]>ele):\n",
    "                    return 0\n",
    "                if(w+weights[i] == ele):\n",
    "                    w = 0\n",
    "                    day+=1\n",
    "                    i+=1\n",
    "                elif(w+weights[i] > ele):\n",
    "                    w = 0\n",
    "                    day+=1\n",
    "                else:\n",
    "                    w += weights[i]\n",
    "                    i+=1\n",
    "                if(day>days):\n",
    "                    return 0\n",
    "            if(w>0):\n",
    "                day+=1\n",
    "            print(ele,day)\n",
    "            if(day<=days):\n",
    "                return 1\n",
    "\n",
    "\n",
    "                \n",
    "        while(l<=h):\n",
    "            mid = (l+h)//2\n",
    "            if(check(mid)):\n",
    "                ans = mid\n",
    "                h = mid-1\n",
    "            else:\n",
    "                l = mid+1\n",
    "        return ans\n",
    "        \n",
    "obj = Solution()\n",
    "print(obj.shipWithinDays([1,2,3,4,5,6,7,8,9,10],5))"
   ]
  },
  {
   "cell_type": "markdown",
   "metadata": {},
   "source": [
    "Find Kth missing number"
   ]
  },
  {
   "cell_type": "code",
   "execution_count": null,
   "metadata": {},
   "outputs": [],
   "source": [
    "arr = [2,3,4,7,11]\n",
    "k = 5"
   ]
  },
  {
   "cell_type": "code",
   "execution_count": 28,
   "metadata": {},
   "outputs": [
    {
     "name": "stdout",
     "output_type": "stream",
     "text": [
      "7\n"
     ]
    }
   ],
   "source": [
    "class Solution:\n",
    "    def findKthPositive(self, arr: list[int], k: int) -> int:\n",
    "        if(len(arr)==arr[len(arr)-1]):\n",
    "            return arr[len(arr)-1]+k\n",
    "        missing = arr[len(arr)-1] - len(arr)\n",
    "        if(k>missing):\n",
    "            return arr[len(arr)-1]+k-missing\n",
    "        l = 0\n",
    "        h = len(arr)-1\n",
    "\n",
    "        def check(i):\n",
    "            diff = arr[i]-i-1\n",
    "            return diff\n",
    "        ans = -1\n",
    "        while(l<=h):\n",
    "            mid = (l+h)//2\n",
    "            print(l,h,mid,arr[mid],ans)\n",
    "            if(check(mid)<k):\n",
    "                ans = mid\n",
    "                l = mid+1\n",
    "            else:\n",
    "                h = mid-1\n",
    "            print(l,h,mid,arr[mid],ans)\n",
    "        diff = arr[ans]-ans-1\n",
    "        return arr[ans]+k-diff\n",
    "obj = Solution()\n",
    "print(obj.findKthPositive([2,3],5))"
   ]
  },
  {
   "cell_type": "markdown",
   "metadata": {},
   "source": [
    "Aggressive cows \n",
    "\n",
    "Min distance between cows is maximum"
   ]
  },
  {
   "cell_type": "code",
   "execution_count": null,
   "metadata": {},
   "outputs": [],
   "source": [
    "arr = [0,3,4,7,10,9]\n",
    "cows = 4\n",
    "# output = 3"
   ]
  },
  {
   "cell_type": "markdown",
   "metadata": {},
   "source": [
    "Allocate books\n",
    "\n",
    "Given an array of books with no of pages and students. We have to allocate books in such a way that,\n",
    "1. each student must get atleast 1 book\n",
    "2. no book can be given twice \n",
    "3. We have to give books in a contiguous manner\n",
    "\n",
    "max num of pages allocated to a student is the minimum, if not possible return -1"
   ]
  },
  {
   "cell_type": "code",
   "execution_count": null,
   "metadata": {},
   "outputs": [],
   "source": [
    "arr = [25,46,28,49,24]\n",
    "s = 4\n",
    "\n",
    "#output = 71"
   ]
  },
  {
   "cell_type": "markdown",
   "metadata": {},
   "source": [
    "Painter's partition / Split array - largest sum\n",
    "\n",
    "k painters must be assigned and tasks has to be consecutive. Find the minimum time"
   ]
  },
  {
   "cell_type": "code",
   "execution_count": 171,
   "metadata": {},
   "outputs": [
    {
     "name": "stdout",
     "output_type": "stream",
     "text": [
      "70\n",
      "62\n",
      "60\n"
     ]
    }
   ],
   "source": [
    "arr = [10,20,30,40]\n",
    "painters = 2\n",
    "\n",
    "h = sum(arr)\n",
    "l = max(arr)\n",
    "\n",
    "def func(arr,val):\n",
    "    c = 0\n",
    "    s = 0\n",
    "    for i in range(len(arr)):\n",
    "        if(s + arr[i]<=val):\n",
    "            s += arr[i]\n",
    "        else:\n",
    "            c +=1\n",
    "            s = arr[i]\n",
    "\n",
    "    return c+1\n",
    "\n",
    "while(l<=h):\n",
    "    mid = (l+h)//2\n",
    "    if(func(arr,mid)==painters):\n",
    "        ans = mid\n",
    "        print(ans)\n",
    "        h = mid-1\n",
    "    elif(func(arr,mid)>painters):\n",
    "        l = mid+1\n",
    "    else:\n",
    "        high = mid-1\n",
    "\n"
   ]
  },
  {
   "cell_type": "markdown",
   "metadata": {},
   "source": [
    "Minimize maximum distance to Gas stations\n",
    "\n",
    "Place 'k' gas stations with maximum distance between stations is minimum"
   ]
  },
  {
   "cell_type": "code",
   "execution_count": null,
   "metadata": {},
   "outputs": [],
   "source": [
    "arr = [1,2,3,4,5] #coordinates and sorted\n",
    "k = 4 #gas stations\n",
    "n = len(arr)"
   ]
  },
  {
   "cell_type": "markdown",
   "metadata": {},
   "source": [
    "Median of 2 sorted arrays"
   ]
  },
  {
   "cell_type": "code",
   "execution_count": 43,
   "metadata": {},
   "outputs": [
    {
     "name": "stdout",
     "output_type": "stream",
     "text": [
      "2.0\n"
     ]
    }
   ],
   "source": [
    "class Solution:\n",
    "    def findMedianSortedArrays(self, nums1: list[int], nums2: list[int]) -> float:\n",
    "        len1 = len(nums1)\n",
    "        len2 = len(nums2)\n",
    "        if(not len1 and not len2):\n",
    "            return 0\n",
    "        even = 0 if (len1+len2)%2 else 1\n",
    "        median = ((len1+len2)//2)\n",
    "        i,j,index,s = 0,0,-1,0\n",
    "        while(i<len1 and j<len2):\n",
    "            if(nums1[i]<nums2[j]):\n",
    "                temp = nums1[i]\n",
    "                i = i+1\n",
    "            else:\n",
    "                temp = nums2[j]\n",
    "                j = j+1\n",
    "            index = index+1\n",
    "            if(index==median-1 and even):\n",
    "                    s = s+temp\n",
    "            if(index == median):\n",
    "                if even:\n",
    "                    s = s+temp\n",
    "                    return s/2\n",
    "                else:\n",
    "                    return temp/1\n",
    "        while(i<len1):\n",
    "            temp = nums1[i]\n",
    "            i = i+1\n",
    "            index = index+1\n",
    "            if(index==median-1 and even):\n",
    "                    s = s+temp\n",
    "            if(index == median):\n",
    "                if even:\n",
    "                    s = s+temp\n",
    "                    return s/2\n",
    "                else:\n",
    "                    return temp/1\n",
    "        while(j<len2):\n",
    "            temp = nums2[j]\n",
    "            j = j+1\n",
    "            index = index+1\n",
    "            if(index==median-1 and even):\n",
    "                    s = s+temp\n",
    "            if(index == median):\n",
    "                if even:\n",
    "                    s = s+temp\n",
    "                    return s/2\n",
    "                else:\n",
    "                    return temp/1\n",
    "        \n",
    "obj = Solution()\n",
    "print(obj.findMedianSortedArrays([1,3],[2]))"
   ]
  },
  {
   "cell_type": "markdown",
   "metadata": {},
   "source": [
    "Using BS approach"
   ]
  },
  {
   "cell_type": "code",
   "execution_count": null,
   "metadata": {},
   "outputs": [],
   "source": [
    "import math\n",
    "class Solution:\n",
    "    def findMedianSortedArrays(self, nums1: list[int], nums2: list[int]) -> float:\n",
    "        a = len(nums1)\n",
    "        b = len(nums2)\n",
    "        if(a>b):\n",
    "            return Solution.findMedianSortedArrays(b,a)\n",
    "        l = 0\n",
    "        r = a-1\n",
    "        left = (a+b+1)/2\n",
    "            \n",
    "        while(l<=r):\n",
    "            mid1 = (l+r)//2\n",
    "            mid2 = left-mid1\n",
    "            l1 = l2 = float('-inf')\n",
    "            r1 = r2 = float('+inf')\n",
    "            if(mid1<a):\n",
    "                r1 = nums1[mid1]\n",
    "            if(mid2<a):\n",
    "                \n",
    "            \n",
    "\n",
    "\n",
    "\n",
    "                \n",
    "                \n",
    "            \n",
    "        \n",
    "\n",
    "        \n",
    "obj = Solution()\n",
    "print(obj.findMedianSortedArrays([1,3],[2]))"
   ]
  },
  {
   "cell_type": "markdown",
   "metadata": {},
   "source": [
    "K-th element of 2 sorted arrays"
   ]
  },
  {
   "cell_type": "code",
   "execution_count": 42,
   "metadata": {},
   "outputs": [
    {
     "name": "stdout",
     "output_type": "stream",
     "text": [
      "10 6 0 6 0 6 3 3\n",
      "10 11 0 6 4 6 3 5\n",
      "10 10 0 6 4 4 3 4\n",
      "11 10 4 6 4 4 5 4\n",
      "10 10 4 4 4 4 4 4\n",
      "10\n"
     ]
    }
   ],
   "source": [
    "#User function Template for python3\n",
    "\n",
    "class Solution:\n",
    "    def kthElement(self, k, arr1, arr2):\n",
    "        l1 = 0\n",
    "        h1 = len(arr1)-1\n",
    "        l2 = 0\n",
    "        h2 = len(arr2)-1\n",
    "        ans = 0\n",
    "        while(l1<=h1 and l2<=h2):\n",
    "            mid1 = (l1+h1)//2\n",
    "            mid2 = (l2+h2)//2\n",
    "            print(arr1[mid1],arr2[mid2],l1,h1,l2,h2,mid1,mid2)\n",
    "            if(arr1[mid1]>arr2[mid2]):\n",
    "                if(mid1+mid2+2==k):\n",
    "                    ans = arr1[mid1]\n",
    "                    h1 = mid1-1\n",
    "                elif(mid1+mid2+2<k):\n",
    "                    l2 = mid2 + 1\n",
    "                else:\n",
    "                    h1 = mid1 - 1\n",
    "                    \n",
    "            else:\n",
    "                if(mid1+mid2+2==k):\n",
    "                    ans = arr2[mid2]\n",
    "                    h2 = mid2-1\n",
    "                elif(mid1+mid2+2<k):\n",
    "                    l1 = mid1 + 1\n",
    "                else:\n",
    "                    h2 = mid2 - 1\n",
    "        while(l1<=h1):\n",
    "                mid1 = (l1+h1)//2\n",
    "                if(mid1+mid2+2==k):\n",
    "                    return arr1[mid1]\n",
    "                elif(mid1+mid2+2<k):\n",
    "                    l1=mid1+1\n",
    "                else:\n",
    "                    h1=mid1-1\n",
    "        while(l2<=h2):\n",
    "                mid2 = (l2+h2)//2\n",
    "                if(mid1+mid2+2==k):\n",
    "                    return arr2[mid2]\n",
    "                elif(mid1+mid2+2<k):\n",
    "                    l2 = mid2+1\n",
    "                else:\n",
    "                    h2=mid2-1\n",
    "        return ans\n",
    "        \n",
    "obj = Solution()\n",
    "print(obj.kthElement(10,[6,6,9,10,10,11,12],[4,5,5,6,10,11,13]))\n"
   ]
  },
  {
   "cell_type": "markdown",
   "metadata": {},
   "source": [
    "Find the row with maximum 1's"
   ]
  },
  {
   "cell_type": "code",
   "execution_count": 181,
   "metadata": {},
   "outputs": [
    {
     "name": "stdout",
     "output_type": "stream",
     "text": [
      "2\n"
     ]
    }
   ],
   "source": [
    "arr = [[0,0,1,1,1], #arrays are sorted rowwise\n",
    "       [0,0,0,0,0],\n",
    "       [0,1,1,1,1],\n",
    "       [0,0,0,0,0],\n",
    "       [0,1,1,1,1]]\n",
    "\n",
    "m = 5\n",
    "n = 5\n",
    "def func(a):\n",
    "    l = 0\n",
    "    h = n-1\n",
    "    ans = n\n",
    "    while(l<=h):\n",
    "        mid = (l+h)//2\n",
    "        # print(a,l,h,mid,a[mid],ans)\n",
    "        if(a[mid]>=1):\n",
    "            ans = mid\n",
    "            h = mid-1\n",
    "        else:\n",
    "            l = mid+1\n",
    "    return ans\n",
    "\n",
    "\n",
    "result = -1\n",
    "index = -1\n",
    "for i in range(m):\n",
    "    cnt = n - func(arr[i])\n",
    "    # print(cnt)\n",
    "    if(cnt > result):\n",
    "        result = cnt\n",
    "        index = i\n",
    "print(index)\n",
    "\n",
    "\n"
   ]
  },
  {
   "cell_type": "code",
   "execution_count": 44,
   "metadata": {},
   "outputs": [
    {
     "name": "stdout",
     "output_type": "stream",
     "text": [
      "0\n"
     ]
    }
   ],
   "source": [
    "class Solution:\n",
    "    def rowWithMax1s(self, arr):\n",
    "        m = len(arr)\n",
    "        n = len(arr[0])\n",
    "        def func(a):\n",
    "            l = 0\n",
    "            h = n-1\n",
    "            ans = -1\n",
    "            while(l<=h):\n",
    "                mid = (l+h)//2\n",
    "                if(a[mid]>=1):\n",
    "                    ans = mid\n",
    "                    h = mid-1\n",
    "                else:\n",
    "                    l = mid+1\n",
    "            return ans\n",
    "        \n",
    "        \n",
    "        result = -1\n",
    "        index = -1\n",
    "        for i in range(m):\n",
    "            f = func(arr[i])\n",
    "            if(f<0):\n",
    "                continue\n",
    "            cnt = n - f\n",
    "            # print(cnt)\n",
    "            if(cnt > result):\n",
    "                result = cnt\n",
    "                index = i\n",
    "        return index\n",
    "    \n",
    "obj = Solution()\n",
    "print(obj.rowWithMax1s([[1,1,1],[0,1,1],[1,0,1]]))"
   ]
  },
  {
   "cell_type": "markdown",
   "metadata": {},
   "source": [
    "Search in a 2-D array"
   ]
  },
  {
   "cell_type": "code",
   "execution_count": 182,
   "metadata": {},
   "outputs": [
    {
     "name": "stdout",
     "output_type": "stream",
     "text": [
      "2 2\n"
     ]
    }
   ],
   "source": [
    "arr = [[3,4,7,9],\n",
    "       [12,13,16,18],\n",
    "       [20,21,23,29]]\n",
    "\n",
    "n = 3\n",
    "m = 4\n",
    "target = 23\n",
    "\n",
    "def func(a):\n",
    "    l = 0\n",
    "    h = m-1\n",
    "    while(l<=h):\n",
    "        mid = (l+h)//2\n",
    "        if(a[mid]==target):\n",
    "            return mid\n",
    "        elif(a[mid]>target):\n",
    "            h = mid-1\n",
    "        else:\n",
    "            l = mid+1\n",
    "    return ans\n",
    "for i in range(n):\n",
    "    if(target < arr[i][m-1]):\n",
    "        c = func(arr[i])\n",
    "        print(i,c)\n",
    "        break"
   ]
  },
  {
   "cell_type": "code",
   "execution_count": null,
   "metadata": {},
   "outputs": [
    {
     "name": "stdout",
     "output_type": "stream",
     "text": [
      "False\n"
     ]
    }
   ],
   "source": [
    "class Solution:\n",
    "    def searchMatrix(self, matrix: list[list[int]], target: int) -> bool:\n",
    "        n = len(matrix)\n",
    "        m = len(matrix[0])\n",
    "        def func(a):\n",
    "            l = 0\n",
    "            h = m-1\n",
    "            while(l<=h):\n",
    "                mid = (l+h)//2\n",
    "                if(a[mid]==target):\n",
    "                    return True\n",
    "                elif(a[mid]>target):\n",
    "                    h = mid-1\n",
    "                else:\n",
    "                    l = mid+1\n",
    "            else:\n",
    "                return False\n",
    "        for i in range(n):\n",
    "            if(target == matrix[i][m-1]):\n",
    "                return True\n",
    "            if(target < matrix[i][m-1]):\n",
    "                return func(matrix[i])\n",
    "        else:\n",
    "            return False\n",
    "        \n",
    "obj = Solution()\n",
    "print(obj.searchMatrix([[1,3,5,7],[10,11,16,20],[23,30,34,60]],13))"
   ]
  },
  {
   "cell_type": "code",
   "execution_count": null,
   "metadata": {},
   "outputs": [
    {
     "name": "stdout",
     "output_type": "stream",
     "text": [
      "2 2\n"
     ]
    }
   ],
   "source": [
    "# Optimized approach \n",
    "\n",
    "# Flatten a 2 D array to 1 D array \n",
    "\n",
    "arr = [[3,4,7,9],\n",
    "       [12,13,16,18],\n",
    "       [20,21,23,29]]\n",
    "\n",
    "n = 3\n",
    "m = 4\n",
    "target = 23\n",
    "\n",
    "l = 0\n",
    "h = m*n-1\n",
    "while(l<=h):\n",
    "    mid = (l+h)//2\n",
    "    if(arr[mid//m][mid%m]==target): # Dividing the no of columns gives the row, and reminder gives the colmn\n",
    "        print(mid//m,mid%m) # where m is the no of columns\n",
    "        break  \n",
    "    elif(arr[mid//m][mid%m]>target):\n",
    "        h = mid-1\n",
    "    else:\n",
    "        l = mid+1\n"
   ]
  },
  {
   "cell_type": "markdown",
   "metadata": {},
   "source": [
    "Search in a 2 D array - 2\n",
    "\n",
    "Here the matrix is sorted from left to right and top to bottom, not a continuation "
   ]
  },
  {
   "cell_type": "code",
   "execution_count": 193,
   "metadata": {},
   "outputs": [
    {
     "name": "stdout",
     "output_type": "stream",
     "text": [
      "4 4\n"
     ]
    }
   ],
   "source": [
    "arr = [[1,4,7,11,15],\n",
    "       [2,5,8,12,19],\n",
    "       [3,6,9,16,22],\n",
    "       [10,13,14,17,24],\n",
    "       [18,21,23,26,30]]\n",
    "\n",
    "m = 5\n",
    "n = 5\n",
    "target = 30\n",
    "i = 0\n",
    "j = n-1\n",
    "\n",
    "while(i<m and j>=0):\n",
    "    if(arr[i][j]==target):\n",
    "        print(i,j)\n",
    "        break\n",
    "    if(arr[i][j]>target):\n",
    "        j = j-1\n",
    "    else:\n",
    "        i = i+1\n",
    "else:\n",
    "    print(-1)"
   ]
  },
  {
   "cell_type": "code",
   "execution_count": 46,
   "metadata": {},
   "outputs": [
    {
     "name": "stdout",
     "output_type": "stream",
     "text": [
      "True\n"
     ]
    }
   ],
   "source": [
    "class Solution:\n",
    "    def searchMatrix(self, matrix: list[list[int]], target: int) -> bool:\n",
    "        m = len(matrix)\n",
    "        n = len(matrix[0])\n",
    "        i = 0\n",
    "        j = n-1\n",
    "        while(i<m and j>=0):\n",
    "            if(matrix[i][j]==target):\n",
    "                return True\n",
    "            if(matrix[i][j]>target):\n",
    "                j = j-1\n",
    "            else:\n",
    "                i = i+1\n",
    "        else:\n",
    "            return False\n",
    "        \n",
    "obj = Solution()\n",
    "print(obj.searchMatrix([[1,4,7,11,15],[2,5,8,12,19],[3,6,9,16,22],[10,13,14,17,24],[18,21,23,26,30]],5))"
   ]
  },
  {
   "cell_type": "markdown",
   "metadata": {},
   "source": [
    "Find a peak element - 2\n",
    "\n"
   ]
  },
  {
   "cell_type": "code",
   "execution_count": null,
   "metadata": {},
   "outputs": [
    {
     "name": "stdout",
     "output_type": "stream",
     "text": [
      "[0, 1]\n"
     ]
    }
   ],
   "source": [
    "class Solution:\n",
    "    def findPeakGrid(self, mat: list[list[int]]) -> list[int]:\n",
    "        n = len(mat)\n",
    "        m = len(mat[0])\n",
    "        i = 0\n",
    "        j = 0\n",
    "        while(i<n and j<m):\n",
    "            up = mat[i-1][j] if i-1>=0 else -1\n",
    "            down = mat[i+1][j] if i+1<n else -1\n",
    "            left = mat[i][j-1] if j-1>=0 else -1\n",
    "            right = mat[i][j+1] if j+1<m else -1\n",
    "            if(up > down):\n",
    "                max1 = up\n",
    "                ii = i-1\n",
    "                jj = j\n",
    "            else:\n",
    "                max1= down\n",
    "                ii = i+1\n",
    "                jj = j\n",
    "            if(left > right):\n",
    "                max2 = left\n",
    "                iii = i\n",
    "                jjj = j-1\n",
    "            else:\n",
    "                max2 = right\n",
    "                iii = i\n",
    "                jjj = j+1\n",
    "            if(max1>max2):\n",
    "                maximum = max1\n",
    "                a = ii\n",
    "                b = jj\n",
    "            else:\n",
    "                maximum = max2\n",
    "                a = iii\n",
    "                b = jjj\n",
    "            if(mat[i][j]>maximum):\n",
    "                return [i,j]\n",
    "            else:\n",
    "                i = a\n",
    "                j = b\n",
    "\n",
    "obj = Solution()\n",
    "print(obj.findPeakGrid([[1,4],[3,2]]))"
   ]
  },
  {
   "cell_type": "markdown",
   "metadata": {},
   "source": [
    "Median in a row wise sorted matrix"
   ]
  },
  {
   "cell_type": "code",
   "execution_count": null,
   "metadata": {},
   "outputs": [],
   "source": [
    "class Solution:\n",
    "    def median(self, matrix, R, C):\n",
    "        l = float('+inf')\n",
    "        h = float('-inf')\n",
    "        for i in range(R):\n",
    "                if(matrix[i][0] < l):\n",
    "                    l = matrix[i][0]\n",
    "                if(matrix[i][C-1] > h):\n",
    "                    h = matrix[i][C-1]\n",
    "        req = (R*C)//2\n",
    "        def upperbound(a,ele):\n",
    "                ans = 0\n",
    "                l = 0\n",
    "                h = C-1\n",
    "                while(l<=h):\n",
    "                    mid = (l+h)//2\n",
    "                    if(a[mid]<=ele):\n",
    "                        ans = mid\n",
    "                        l = mid+1\n",
    "                    else:\n",
    "                        h = mid-1\n",
    "                return ans+1\n",
    "    \t       \n",
    "        def func(ele):\n",
    "                cnt = 0\n",
    "                for i in range(R):\n",
    "                    cnt += upperbound(matrix[i],ele)\n",
    "                return cnt\n",
    "    \t        \n",
    "        while(l<=h):\n",
    "                mid = (l+h)//2\n",
    "                small = func(mid)\n",
    "                if(small <= req):\n",
    "                    l = mid+1\n",
    "                else:\n",
    "                    h = mid-1\n",
    "        return l\n",
    "    \n",
    "obj = Solution()\n",
    "print(obj.median())"
   ]
  }
 ],
 "metadata": {
  "kernelspec": {
   "display_name": "Python 3",
   "language": "python",
   "name": "python3"
  },
  "language_info": {
   "codemirror_mode": {
    "name": "ipython",
    "version": 3
   },
   "file_extension": ".py",
   "mimetype": "text/x-python",
   "name": "python",
   "nbconvert_exporter": "python",
   "pygments_lexer": "ipython3",
   "version": "3.10.5"
  }
 },
 "nbformat": 4,
 "nbformat_minor": 2
}
