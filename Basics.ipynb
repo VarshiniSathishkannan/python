{
 "cells": [
  {
   "cell_type": "code",
   "execution_count": 4,
   "metadata": {},
   "outputs": [
    {
     "name": "stdout",
     "output_type": "stream",
     "text": [
      "<class 'str'>\n",
      "True\n",
      "True\n"
     ]
    }
   ],
   "source": [
    "#Every variable is a object in python\n",
    "\n",
    "a = 'hello'\n",
    "print(type(a))\n",
    "print(isinstance(a,str)) #checks if a is an instance of class str\n",
    "print(issubclass(type(a),str)) #checks if the class is either same class or subclass "
   ]
  },
  {
   "cell_type": "code",
   "execution_count": 5,
   "metadata": {},
   "outputs": [
    {
     "name": "stdout",
     "output_type": "stream",
     "text": [
      "1.0\n",
      "1\n",
      "0\n",
      "3125\n"
     ]
    }
   ],
   "source": [
    "# floor division, reminder and power\n",
    "a = 5\n",
    "b = 5\n",
    "print(a/b)\n",
    "print(a//b)\n",
    "print(a%b)\n",
    "print(a**b)"
   ]
  },
  {
   "cell_type": "code",
   "execution_count": 15,
   "metadata": {},
   "outputs": [
    {
     "name": "stdout",
     "output_type": "stream",
     "text": [
      "Integer is 5\n",
      "String is hello\n",
      "this is not a string object [1, 2, 3]\n",
      "[1, 2, 3]\n",
      "<class 'list'>\n",
      "[1, 2, 3]\n",
      "<class 'str'>\n"
     ]
    }
   ],
   "source": [
    "# Formatting print\n",
    "s = 'hello'\n",
    "print('Integer is %d' %a)\n",
    "print('String is %s' %s)\n",
    "\n",
    "l = [1,2,3]\n",
    "\n",
    "print('this is not a string object %s'%l)\n",
    "\n",
    "#Any object which is not a string can be formatted using the %s operator as well. \n",
    "\n",
    "print(l)\n",
    "print(type(l))\n",
    "printable = repr(l)\n",
    "print(printable)\n",
    "print(type(printable))\n",
    "\n",
    "#the repr function retuns a printable representation of the given object"
   ]
  },
  {
   "cell_type": "code",
   "execution_count": 27,
   "metadata": {},
   "outputs": [
    {
     "name": "stdout",
     "output_type": "stream",
     "text": [
      "integer is 5\n",
      "floating is 5.200000\n",
      "hex representation is d\n",
      "hex representation is 11\n",
      "5 6 16.2\n"
     ]
    }
   ],
   "source": [
    "x = 5.2\n",
    "print('integer is %d'%x)\n",
    "print('floating is %f'%x)\n",
    "print('hex representation is %x'%int(x+8)) #lowecase\n",
    "print('hex representation is %X'%int(x+12)) #uppercase\n",
    "print('%d %d %s'%(x,6,x+11)) #to pass more than 1 argument use a tuple"
   ]
  },
  {
   "cell_type": "code",
   "execution_count": 24,
   "metadata": {},
   "outputs": [
    {
     "name": "stdout",
     "output_type": "stream",
     "text": [
      "Hey User, I am 12 yrs old\n",
      "Hey 12, I am User yrs old\n",
      "Hey sara, I am 10 yrs old\n"
     ]
    }
   ],
   "source": [
    "#format method\n",
    "\n",
    "print('Hey {}, I am {} yrs old'.format('User',12))\n",
    "print('Hey {1}, I am {0} yrs old'.format('User',12))\n",
    "\n",
    "name = 'sara'\n",
    "age = 10\n",
    "\n",
    "print('Hey {}, I am {} yrs old'.format(name,age))\n"
   ]
  },
  {
   "cell_type": "code",
   "execution_count": 25,
   "metadata": {},
   "outputs": [
    {
     "name": "stdout",
     "output_type": "stream",
     "text": [
      "hello sara, I am 10 yrs old\n"
     ]
    }
   ],
   "source": [
    "#f-strings\n",
    "\n",
    "print(f\"hello {name}, I am {age} yrs old\")\n",
    "\n",
    "#they are faster than format method and % formatting"
   ]
  },
  {
   "cell_type": "code",
   "execution_count": 38,
   "metadata": {},
   "outputs": [
    {
     "name": "stdout",
     "output_type": "stream",
     "text": [
      "0\n",
      "1\n",
      "2\n",
      "012\n",
      "a|b|c\n"
     ]
    }
   ],
   "source": [
    "#print by default prints in new line\n",
    "\n",
    "for i in range(3):\n",
    "    print(i)\n",
    "\n",
    "for i in range(3):\n",
    "    print(i,end=\"\")\n",
    "\n",
    "#range returns a list and xrange returns an iterator which is more efficient \n",
    "#range is zero based\n",
    "\n",
    "#the separator between the arguments is space by default. this can be modified\n",
    "print()\n",
    "print('a','b','c',sep=\"|\")\n",
    "\n"
   ]
  },
  {
   "cell_type": "code",
   "execution_count": 39,
   "metadata": {},
   "outputs": [
    {
     "name": "stdout",
     "output_type": "stream",
     "text": [
      "17\n",
      "7\n",
      "3\n",
      "HELLO HI HOW R U \n",
      "hello hi how r u \n",
      "False\n",
      "False\n",
      "False\n",
      "True\n",
      "False\n",
      " u r woh ih olleh\n",
      "lo \n",
      "hloh o   \n"
     ]
    }
   ],
   "source": [
    "#string operations\n",
    "\n",
    "s = 'hello hi how r u '\n",
    "print(len(s))\n",
    "print(s.index('i'))\n",
    "print(s.count('h'))\n",
    "print(s.upper())\n",
    "print(s.lower())\n",
    "print(s.isalnum())\n",
    "print(s.isalpha())\n",
    "print(s.isdigit())\n",
    "print(s.islower())\n",
    "print(s.isupper())\n",
    "\n",
    "print(s[::-1])\n",
    "print(s[3:6])\n",
    "print(s[::2])"
   ]
  },
  {
   "cell_type": "code",
   "execution_count": 40,
   "metadata": {},
   "outputs": [
    {
     "name": "stdout",
     "output_type": "stream",
     "text": [
      "hello hi how r u hello hi how r u hello hi how r u \n",
      "hello hi how r u Thanks\n"
     ]
    }
   ],
   "source": [
    "print(s*3)\n",
    "print(s + 'Thanks')"
   ]
  },
  {
   "cell_type": "code",
   "execution_count": 43,
   "metadata": {},
   "outputs": [
    {
     "name": "stdout",
     "output_type": "stream",
     "text": [
      "0\n",
      "1\n",
      "loop ended\n",
      "0\n",
      "1\n",
      "2\n"
     ]
    }
   ],
   "source": [
    "# we can use else for loops\n",
    "\n",
    "for i in range(2):\n",
    "    print(i)\n",
    "else:\n",
    "    print('loop ended')\n",
    "\n",
    "#else will not get executed when there is a break statement\n",
    "\n",
    "for i in range(3):\n",
    "    print(i)\n",
    "    if(i == 2):\n",
    "        break\n",
    "else:\n",
    "    print('loop is ended - not shown')\n"
   ]
  }
 ],
 "metadata": {
  "kernelspec": {
   "display_name": "Python 3",
   "language": "python",
   "name": "python3"
  },
  "language_info": {
   "codemirror_mode": {
    "name": "ipython",
    "version": 3
   },
   "file_extension": ".py",
   "mimetype": "text/x-python",
   "name": "python",
   "nbconvert_exporter": "python",
   "pygments_lexer": "ipython3",
   "version": "3.10.5"
  },
  "orig_nbformat": 4
 },
 "nbformat": 4,
 "nbformat_minor": 2
}
