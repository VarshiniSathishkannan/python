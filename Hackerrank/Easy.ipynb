{
 "cells": [
  {
   "cell_type": "markdown",
   "metadata": {},
   "source": [
    "List comprehension"
   ]
  },
  {
   "cell_type": "code",
   "execution_count": 3,
   "metadata": {},
   "outputs": [
    {
     "name": "stdout",
     "output_type": "stream",
     "text": [
      "[(1, 2, 3), (1, 2, 3), (1, 2, 3), (1, 2, 3), (1, 2, 3), (1, 2, 3), (1, 2, 3), (1, 2, 3), (1, 2, 3), (1, 2, 3), (1, 2, 3), (1, 2, 3), (1, 2, 3), (1, 2, 3), (1, 2, 3), (1, 2, 3), (1, 2, 3), (1, 2, 3), (1, 2, 3), (1, 2, 3), (1, 2, 3), (1, 2, 3), (1, 2, 3), (1, 2, 3)]\n"
     ]
    }
   ],
   "source": [
    "x = int(input())\n",
    "y = int(input())\n",
    "z = int(input())\n",
    "n = int(input())\n",
    "\n",
    "l = [(x,y,z) for i in range(x+1) for j in range(y+1) for k in range(z+1) if (x+y+z) !=n]\n",
    "print(l)"
   ]
  },
  {
   "cell_type": "markdown",
   "metadata": {},
   "source": [
    "Plus Minus\n",
    "\n"
   ]
  },
  {
   "cell_type": "code",
   "execution_count": 4,
   "metadata": {},
   "outputs": [
    {
     "name": "stdout",
     "output_type": "stream",
     "text": [
      "0.200000\n",
      "0.600000\n",
      "0.200000\n"
     ]
    }
   ],
   "source": [
    "def plusMinus(arr):\n",
    "    p = n = z = 0\n",
    "    for i in arr:\n",
    "        if i>0:\n",
    "            p = p+1\n",
    "        elif i<0:\n",
    "            n = n+1\n",
    "        else:\n",
    "            z = z+1\n",
    "    print(\"%.6f\" %(p/len(arr)))\n",
    "    print(\"%.6f\" %(n/len(arr)))\n",
    "    print(\"%.6f\" %(z/len(arr)))\n",
    "\n",
    "if __name__ == '__main__':\n",
    "    n = int(input().strip())\n",
    "\n",
    "    arr = list(map(int, input().split()))\n",
    "\n",
    "    plusMinus(arr)\n"
   ]
  },
  {
   "cell_type": "markdown",
   "metadata": {},
   "source": [
    "Lonely Integer"
   ]
  },
  {
   "cell_type": "code",
   "execution_count": 6,
   "metadata": {},
   "outputs": [
    {
     "name": "stdout",
     "output_type": "stream",
     "text": [
      "2\n"
     ]
    }
   ],
   "source": [
    "def lonelyinteger(a):\n",
    "    for i in a:\n",
    "        e = a.count(i)\n",
    "        if (e < 2):\n",
    "            return i\n",
    "\n",
    "def lonelyinteger2(a):\n",
    "    xor = 0\n",
    "    for i in range(n):\n",
    "        xor = xor ^ a[i]\n",
    "    return xor\n",
    "    \n",
    "if __name__ == '__main__':\n",
    "    n = int(input().strip())\n",
    "    a = list(map(int, input().rstrip().split()))\n",
    "    result = lonelyinteger(a)\n",
    "    result2 = lonelyinteger2(a)\n",
    "    print(result)\n"
   ]
  },
  {
   "cell_type": "markdown",
   "metadata": {},
   "source": [
    "Mini Max sum"
   ]
  },
  {
   "cell_type": "code",
   "execution_count": 8,
   "metadata": {},
   "outputs": [
    {
     "name": "stdout",
     "output_type": "stream",
     "text": [
      "6 9\n",
      "6 9\n"
     ]
    }
   ],
   "source": [
    "def miniMaxSum(arr):\n",
    "    arr.sort()\n",
    "    print(sum(arr[0:len(arr)-1]), end=' ')\n",
    "    print(sum(arr[1:len(arr)+1]))\n",
    "\n",
    "    # or \n",
    "\n",
    "    minimum=sum(arr)-max(arr) \n",
    "    maximum = sum(arr)-min(arr) \n",
    "    print(minimum, maximum)\n",
    "\n",
    "if __name__ == '__main__':\n",
    "    arr = list(map(int, input().rstrip().split()))\n",
    "    miniMaxSum(arr)\n"
   ]
  },
  {
   "cell_type": "markdown",
   "metadata": {},
   "source": [
    "Time conversion"
   ]
  },
  {
   "cell_type": "code",
   "execution_count": null,
   "metadata": {},
   "outputs": [
    {
     "name": "stdout",
     "output_type": "stream",
     "text": [
      "['12', '45', '54PM']\n",
      "12:45:54\n"
     ]
    }
   ],
   "source": [
    "def timeConversion(s):\n",
    "    a = s[-2]\n",
    "    l = s.split(':')\n",
    "    print(l)\n",
    "    if a == 'A' and l[0] == '12':\n",
    "        l[0] = '00'\n",
    "        print(l[0]+s[2:len(s)-2])\n",
    "    elif a == 'A':\n",
    "        print(s[:len(s)-2])\n",
    "    elif a == 'P' and l[0] == '12':\n",
    "        print(l[0]+s[2:len(s)-2])\n",
    "    else:\n",
    "        l[0] = str(12 + int(l[0]))\n",
    "        print(l[0]+s[2:len(s)-2])\n",
    "    \n",
    "    # abb = s[-2]\n",
    "    # result = ''\n",
    "    # if(s[-2]=='A'):\n",
    "    #     if(s[:2]=='12'):\n",
    "    #         result = '00'+ s[2:8]\n",
    "    #     else:\n",
    "    #         result = s[:8]\n",
    "    # else:\n",
    "    #     if(s[:2]=='12'):\n",
    "    #         result = s[:8]\n",
    "    #     else:\n",
    "    #         prefix = int(s[:2]) + 12\n",
    "    #         result = str(prefix) + s[2:8]\n",
    "    # return result\n",
    "\n",
    "\n",
    "if __name__ == '__main__':\n",
    "    s = input()\n",
    "    timeConversion(s)\n",
    "\n"
   ]
  },
  {
   "cell_type": "markdown",
   "metadata": {},
   "source": [
    "Second lowest score"
   ]
  },
  {
   "cell_type": "code",
   "execution_count": 16,
   "metadata": {},
   "outputs": [
    {
     "name": "stdout",
     "output_type": "stream",
     "text": [
      "ramesh\n",
      "suresh\n"
     ]
    }
   ],
   "source": [
    "if __name__ == '__main__':\n",
    "    records=[]\n",
    "    scores=[]\n",
    "    for _ in range(int(input())):\n",
    "        name=input()\n",
    "        score=float(input())\n",
    "        records.append([name,score])\n",
    "        scores.append(score)\n",
    "    second_lowest_score = sorted(set(scores))[1]\n",
    "    names=[i[0] for i in records if second_lowest_score in i]\n",
    "    names.sort()\n",
    "    print(*names,sep='\\n')\n",
    "    \n",
    "        "
   ]
  },
  {
   "cell_type": "markdown",
   "metadata": {},
   "source": [
    "Students Marks"
   ]
  },
  {
   "cell_type": "code",
   "execution_count": null,
   "metadata": {},
   "outputs": [],
   "source": [
    "if __name__=='__main__':\n",
    "    n=int(input())\n",
    "    student_marks={}\n",
    "    for _ in range(n):\n",
    "        name, *line=input().split()\n",
    "        scores=list(map(float,line))\n",
    "        student_marks[name]=scores\n",
    "    query_name=input()\n",
    "    m=student_marks[query_name]\n",
    "    l=len(m)\n",
    "    s=0\n",
    "    for i in m:\n",
    "        s=s+i\n",
    "    print('%.2f' %(s/l))\n",
    "    "
   ]
  },
  {
   "cell_type": "code",
   "execution_count": 3,
   "metadata": {},
   "outputs": [
    {
     "name": "stdout",
     "output_type": "stream",
     "text": [
      "5.20000\n"
     ]
    }
   ],
   "source": [
    "a = 5.2\n",
    "print(f\"{a:.5f}\")"
   ]
  }
 ],
 "metadata": {
  "kernelspec": {
   "display_name": "Python 3",
   "language": "python",
   "name": "python3"
  },
  "language_info": {
   "codemirror_mode": {
    "name": "ipython",
    "version": 3
   },
   "file_extension": ".py",
   "mimetype": "text/x-python",
   "name": "python",
   "nbconvert_exporter": "python",
   "pygments_lexer": "ipython3",
   "version": "3.10.5"
  }
 },
 "nbformat": 4,
 "nbformat_minor": 2
}
