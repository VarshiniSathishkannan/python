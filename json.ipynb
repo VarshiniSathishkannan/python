{
 "cells": [
  {
   "cell_type": "code",
   "execution_count": null,
   "metadata": {},
   "outputs": [
    {
     "name": "stdout",
     "output_type": "stream",
     "text": [
      "{'name': 'Bob', 'languages': ['English', 'French']}\n",
      "['English', 'French']\n",
      "{'name': 'Bob', 'languages': ['English', 'French']}\n"
     ]
    }
   ],
   "source": [
    "import json\n",
    "\n",
    "person = '{\"name\": \"Bob\", \"languages\": [\"English\", \"French\"]}' # string\n",
    "person_dict = json.loads(person)\n",
    "\n",
    "# Output: {'name': 'Bob', 'languages': ['English', 'French']}\n",
    "print( person_dict)\n",
    "\n",
    "# Output: ['English', 'French']\n",
    "print(person_dict['languages'])\n",
    "\n",
    "person = {\"name\": \"Bob\", \"languages\": [\"English\", \"French\"]}\n",
    "\n",
    "d = dict(person)\n",
    "print(d)"
   ]
  },
  {
   "cell_type": "code",
   "execution_count": 8,
   "metadata": {},
   "outputs": [
    {
     "name": "stdout",
     "output_type": "stream",
     "text": [
      "{'name': 'Bob', 'languages': ['English', 'French'], 'married': True, 'age': 32}\n"
     ]
    }
   ],
   "source": [
    "with open('person.txt', 'r') as f:\n",
    "  data = json.load(f)\n",
    "\n",
    "# Output: {'name': 'Bob', 'languages': ['English', 'French']}\n",
    "print(data)\n"
   ]
  },
  {
   "cell_type": "code",
   "execution_count": 6,
   "metadata": {},
   "outputs": [
    {
     "name": "stdout",
     "output_type": "stream",
     "text": [
      "{\"name\": \"Bob\", \"age\": 12, \"children\": null}\n",
      "<class 'str'>\n"
     ]
    }
   ],
   "source": [
    "person_dict = {'name': 'Bob',\n",
    "'age': 12,\n",
    "'children': None\n",
    "}\n",
    "person_json = json.dumps(person_dict)\n",
    "\n",
    "# Output: {\"name\": \"Bob\", \"age\": 12, \"children\": null}\n",
    "print(person_json)\n",
    "print(type(person_json))\n"
   ]
  },
  {
   "cell_type": "code",
   "execution_count": 7,
   "metadata": {},
   "outputs": [],
   "source": [
    "person_dict = {\"name\": \"Bob\",\n",
    "\"languages\": [\"English\", \"French\"],\n",
    "\"married\": True,\n",
    "\"age\": 32\n",
    "}\n",
    "\n",
    "with open('person.txt', 'w') as json_file:\n",
    "  json.dump(person_dict, json_file)"
   ]
  },
  {
   "cell_type": "code",
   "execution_count": 9,
   "metadata": {},
   "outputs": [
    {
     "name": "stdout",
     "output_type": "stream",
     "text": [
      "{\n",
      "    \"languages\": \"English\",\n",
      "    \"name\": \"Bob\",\n",
      "    \"numbers\": [\n",
      "        2,\n",
      "        1.6,\n",
      "        null\n",
      "    ]\n",
      "}\n"
     ]
    }
   ],
   "source": [
    "person_string = '{\"name\": \"Bob\", \"languages\": \"English\", \"numbers\": [2, 1.6, null]}'\n",
    "\n",
    "# Getting dictionary\n",
    "person_dict = json.loads(person_string)\n",
    "\n",
    "# Pretty Printing JSON string back\n",
    "print(json.dumps(person_dict, indent = 4, sort_keys=True))"
   ]
  }
 ],
 "metadata": {
  "kernelspec": {
   "display_name": "Python 3",
   "language": "python",
   "name": "python3"
  },
  "language_info": {
   "codemirror_mode": {
    "name": "ipython",
    "version": 3
   },
   "file_extension": ".py",
   "mimetype": "text/x-python",
   "name": "python",
   "nbconvert_exporter": "python",
   "pygments_lexer": "ipython3",
   "version": "3.10.5"
  }
 },
 "nbformat": 4,
 "nbformat_minor": 2
}
