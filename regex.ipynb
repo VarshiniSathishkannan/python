{
 "cells": [
  {
   "cell_type": "markdown",
   "metadata": {},
   "source": [
    "https://www.programiz.com/python-programming/regex\n"
   ]
  },
  {
   "cell_type": "code",
   "execution_count": 14,
   "metadata": {},
   "outputs": [
    {
     "name": "stdout",
     "output_type": "stream",
     "text": [
      "<re.Match object; span=(6, 7), match='i'>\n",
      "True\n",
      "6\n",
      "['i', 'i', 'i']\n",
      "['today', 'it', 'will', 'rain']\n",
      "['today', 'it will rain']\n",
      "today9it9will9rain\n",
      "today9it9will rain\n"
     ]
    }
   ],
   "source": [
    "import re\n",
    "\n",
    "text = 'today it will rain'\n",
    "\n",
    "result = re.search('i',text)\n",
    "print(result)\n",
    "print(bool(result))\n",
    "print(result.start())\n",
    "\n",
    "\n",
    "x = re.findall(\"i\", text)\n",
    "print(x)\n",
    "\n",
    "x = re.split(\"\\s\", text)\n",
    "print(x)\n",
    "\n",
    "# Split the string only at the first occurrence\n",
    "\n",
    "x = re.split(\"\\s\", text, 1)\n",
    "print(x)\n",
    "\n",
    "x = re.sub(\"\\s\", \"9\", text)\n",
    "print(x)\n",
    "\n",
    "x = re.sub(\"\\s\", \"9\", text, 2)\n",
    "print(x)"
   ]
  },
  {
   "cell_type": "code",
   "execution_count": null,
   "metadata": {},
   "outputs": [],
   "source": []
  },
  {
   "cell_type": "markdown",
   "metadata": {},
   "source": []
  }
 ],
 "metadata": {
  "kernelspec": {
   "display_name": "Python 3",
   "language": "python",
   "name": "python3"
  },
  "language_info": {
   "codemirror_mode": {
    "name": "ipython",
    "version": 3
   },
   "file_extension": ".py",
   "mimetype": "text/x-python",
   "name": "python",
   "nbconvert_exporter": "python",
   "pygments_lexer": "ipython3",
   "version": "3.10.5"
  },
  "orig_nbformat": 4
 },
 "nbformat": 4,
 "nbformat_minor": 2
}
