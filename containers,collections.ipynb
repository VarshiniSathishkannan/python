{
 "cells": [
  {
   "cell_type": "code",
   "execution_count": 33,
   "metadata": {},
   "outputs": [
    {
     "name": "stdout",
     "output_type": "stream",
     "text": [
      "[1, 2, 1, 2, 2, 3, 1]\n",
      "[1, 2, 1, 2, 2, 3]\n",
      "[2, 1, 2, 2]\n",
      "1\n",
      "2\n",
      "1\n",
      "[2, 2, 1, 2]\n",
      "[1, 2, 2, 2]\n"
     ]
    }
   ],
   "source": [
    "# list - ordered,changeable,allow duplicates\n",
    "# tuple - ordered, unchangeable, allow dupliates\n",
    "# set - unordered and unindexed, no duplicates\n",
    "# dict - unordered, changeable, indexed, no duplicates\n",
    "\n",
    "#list\n",
    "\n",
    "l = []\n",
    "l.append(1) #adds last\n",
    "l.insert(1,2) #position,value\n",
    "l.extend([1,2,2,3,1]) \n",
    "print(repr(l))\n",
    "l.pop() #removes last element\n",
    "print(repr(l))\n",
    "l.pop(0) #removes element at index\n",
    "l.remove(3) #removes element\n",
    "print(repr(l))\n",
    "print(l.count(1))\n",
    "print(l[-1])\n",
    "print(l[1])\n",
    "\n",
    "l.reverse()\n",
    "print(l)\n",
    "l.sort()\n",
    "print(l)\n"
   ]
  },
  {
   "cell_type": "code",
   "execution_count": 4,
   "metadata": {},
   "outputs": [
    {
     "name": "stdout",
     "output_type": "stream",
     "text": [
      "[2, 4]\n",
      "[-1, 2, -1, 4]\n"
     ]
    }
   ],
   "source": [
    "#list comprehension\n",
    "\n",
    "number = [1,2,3,4]\n",
    "even = [a for a in number if a%2 == 0]\n",
    "print(even)\n",
    "n = [a if a%2==0 else -1 for a in number]\n",
    "print(n)"
   ]
  },
  {
   "cell_type": "code",
   "execution_count": 43,
   "metadata": {},
   "outputs": [
    {
     "name": "stdout",
     "output_type": "stream",
     "text": [
      "<class 'tuple'>\n",
      "<class 'int'>\n",
      "<class 'tuple'>\n",
      "(1, 2, 3, 2, 2, 4, 5, 6)\n",
      "2\n",
      "3\n",
      "1\n"
     ]
    }
   ],
   "source": [
    "# tuple\n",
    "\n",
    "#to create tuple with 1 element, we have to add a comma\n",
    "t = (1,)\n",
    "print(type(t))\n",
    "t = (1)\n",
    "print(type(t))\n",
    "t = 1,\n",
    "print(type(t))\n",
    "\n",
    "t = (1,2,3,2,2)\n",
    "h = (4,5,6)\n",
    "print(t+h) #to combine 2 tuples \n",
    "\n",
    "#we have only count and index method for tuple\n",
    "\n",
    "print(t[1])\n",
    "print(t.count(2))\n",
    "print(t.index(2))\n"
   ]
  },
  {
   "cell_type": "code",
   "execution_count": 97,
   "metadata": {},
   "outputs": [
    {
     "name": "stdout",
     "output_type": "stream",
     "text": [
      "<class 'set'>\n",
      "{1, 2, 3, 4, 10}\n",
      "{2, 3, 4, 10}\n",
      "{2, 3, 10}\n",
      "{3, 10}\n",
      "{2, 3, 1, 4, 5, 10}\n"
     ]
    }
   ],
   "source": [
    "# set \n",
    "\n",
    "s = {1,2,3}\n",
    "print(type(s))\n",
    "\n",
    "#to create an empty set we have to use set() fucntion. Empty braces will denote a dict\n",
    "\n",
    "s.add(10)\n",
    "s.add(4)\n",
    "print(s)\n",
    "s.pop() #index cannot be given as it is not indexed, removes random element\n",
    "print(s)\n",
    "s.remove(4) # will raise an error if no element is present \n",
    "s.discard(100) # will not raise error\n",
    "print(s)\n",
    "s.pop()\n",
    "print(s)\n",
    "s.update({1,2,3,4,5}) #updates or adds another set\n",
    "print(s)\n",
    "\n"
   ]
  },
  {
   "cell_type": "code",
   "execution_count": 71,
   "metadata": {},
   "outputs": [
    {
     "name": "stdout",
     "output_type": "stream",
     "text": [
      "{1, 2, 3, 4, 5, 6}\n",
      "{3, 4}\n",
      "{1, 2}\n",
      "{1, 2}\n",
      "{3, 4}\n",
      "{1, 2, 5, 6}\n",
      "{1, 2, 5, 6}\n",
      "True\n",
      "True\n"
     ]
    }
   ],
   "source": [
    "#set operations\n",
    "\n",
    "u = {1,2,3,4}\n",
    "v = {3,4,5,6}\n",
    "print(u.union(v))\n",
    "print(u.intersection(v))\n",
    "print(u.difference(v))\n",
    "u.difference_update(v)\n",
    "print(u)\n",
    "u = {1,2,3,4}\n",
    "v = {3,4,5,6}\n",
    "u.intersection_update(v)\n",
    "print(u)\n",
    "u = {1,2,3,4}\n",
    "v = {3,4,5,6}\n",
    "print(u.symmetric_difference(v)) #opposite of intersection\n",
    "u.symmetric_difference_update(v)\n",
    "print(u)\n",
    "u = {1,2,3,4}\n",
    "v = {3,4,5,6}\n",
    "w = {3,4}\n",
    "print(w.issubset(v))\n",
    "print(v.issuperset(w))"
   ]
  },
  {
   "cell_type": "code",
   "execution_count": 96,
   "metadata": {},
   "outputs": [
    {
     "name": "stdout",
     "output_type": "stream",
     "text": [
      "<class 'dict'>\n",
      "{0: 'apple'}\n",
      "{'a': 'Rahul', 'b': 'Ramesh'}\n",
      "ball\n",
      "{'a': 'apple', 'b': 'ball', 'c': 'cat', 'd': 'dog'}\n",
      "{'a': 'apple', 'b': 'ball', 'c': 'cat', 'd': 'dog', 0: 'mixed value'}\n",
      "keys are a\n",
      "keys are b\n",
      "keys are c\n",
      "keys are d\n",
      "keys are 0\n",
      "values are apple\n",
      "values are ball\n",
      "values are cat\n",
      "values are dog\n",
      "values are mixed value\n",
      "key-value pair ('a', 'apple')\n",
      "key-value pair ('b', 'ball')\n",
      "key-value pair ('c', 'cat')\n",
      "key-value pair ('d', 'dog')\n",
      "key-value pair (0, 'mixed value')\n",
      "None\n",
      "{'b': 'ball', 'c': 'cat', 'd': 'dog', 0: 'mixed value'}\n",
      "{'b': 'ball', 'c': 'cat', 0: 'mixed value'}\n"
     ]
    }
   ],
   "source": [
    "# dictionary\n",
    "\n",
    "d = {}\n",
    "print(type(d))\n",
    "\n",
    "d[0] = 'apple'\n",
    "print(d)\n",
    "\n",
    "d = dict(a='Rahul',b='Ramesh') # note the difference in declaration, key in not in quotes and using equal sign\n",
    "print(d)\n",
    "\n",
    "d = {'a':'apple','b':'ball','c':'cat'}\n",
    "print(d['b'])\n",
    "\n",
    "d['d'] = 'dog'\n",
    "\n",
    "print(d)\n",
    "\n",
    "d[0] = 'mixed value'\n",
    "\n",
    "print(d)\n",
    "\n",
    "for i in d:\n",
    "    print(f\"keys are {i}\")\n",
    "\n",
    "for i in d.values():\n",
    "    print(f\"values are {i}\")\n",
    "\n",
    "for i in d.items():\n",
    "    print(f\"key-value pair {i}\")\n",
    "\n",
    "print(d.get(1)) # returns none if no value is found for the key\n",
    "# print(d[1]) causes error\n",
    "\n",
    "d.pop('a') #key name - removes key and value\n",
    "\n",
    "print(d)\n",
    "\n",
    "del d['d'] #removes key and value \n",
    "\n",
    "print(d)\n"
   ]
  },
  {
   "cell_type": "code",
   "execution_count": 101,
   "metadata": {},
   "outputs": [
    {
     "name": "stdout",
     "output_type": "stream",
     "text": [
      "Counter({1: 3, 2: 2, 3: 2, 4: 1})\n",
      "dict_items([(1, 3), (2, 2), (3, 2), (4, 1)])\n",
      "dict_values([3, 2, 2, 1])\n"
     ]
    }
   ],
   "source": [
    "#Above all are inbuilt collections\n",
    "\n",
    "#There are other containers as well which we can import from collections module\n",
    "\n",
    "import collections\n",
    "\n",
    "a = [1,2,3,1,4,3,2,1]\n",
    "b = collections.Counter(a)\n",
    "print(b) #b is a dictionary\n",
    "print(b.items())\n",
    "print(b.values())\n"
   ]
  },
  {
   "cell_type": "code",
   "execution_count": 110,
   "metadata": {},
   "outputs": [
    {
     "name": "stdout",
     "output_type": "stream",
     "text": [
      "defaultdict(<class 'int'>, {})\n",
      "0\n",
      "0\n"
     ]
    }
   ],
   "source": [
    "#DefaultDict will have a default value if that key has not been set yet depending on the datatype\n",
    "\n",
    "#for int, 0 is the default value\n",
    "\n",
    "d = collections.defaultdict(int)\n",
    "print(d)\n",
    "print(d['a']) \n",
    "print(d[1])"
   ]
  },
  {
   "cell_type": "code",
   "execution_count": 118,
   "metadata": {},
   "outputs": [
    {
     "name": "stdout",
     "output_type": "stream",
     "text": [
      "OrderedDict([(1, 'A'), (2, 'B')])\n",
      "OrderedDict([(1, 'C'), (2, 'B')])\n",
      "{1: 'A', 2: 'B'}\n",
      "{1: 'C', 2: 'B'}\n"
     ]
    }
   ],
   "source": [
    "#An OrderedDict is a dictionary that remembers the order of the keys that were inserted first\n",
    "#If a new entry overwrites an existing entry, the original insertion position is left unchanged\n",
    "\n",
    "d = collections.OrderedDict()\n",
    "d[1] = 'A'\n",
    "d[2] = 'B'\n",
    "print(d)\n",
    "d[1] = 'C'\n",
    "print(d)\n",
    "n = dict()\n",
    "n[1] = 'A'\n",
    "n[2] = 'B'\n",
    "print(n)\n",
    "n[1] = 'C'\n",
    "print(n)\n",
    "n[1] = 'A'\n",
    "\n",
    "#Dictionaries are insertion ordered as of Python 3.6"
   ]
  },
  {
   "cell_type": "code",
   "execution_count": 121,
   "metadata": {},
   "outputs": [
    {
     "name": "stdout",
     "output_type": "stream",
     "text": [
      "ChainMap(OrderedDict([(1, 'C'), (2, 'B')]), {1: 'A', 2: 'B'})\n"
     ]
    }
   ],
   "source": [
    "#A ChainMap encapsulates many dictionaries into a single unit and returns a list of dictionaries.\n",
    "\n",
    "c = collections.ChainMap(d,n)\n",
    "print(c)\n",
    "\n",
    "#A ChainMap technically only points to different dictionaries\n",
    "#allow you to perform a key lookup without needing to know which dictionary to reference\n",
    "#the chained dictionaries can contain duplicate keys (which are treated with different priorities\n",
    "# ChainMaps prioritize based on when the items were inserted\n",
    "# So for key 1 it will return only C because it is inserted first so it has high priority"
   ]
  },
  {
   "cell_type": "code",
   "execution_count": 123,
   "metadata": {},
   "outputs": [
    {
     "name": "stdout",
     "output_type": "stream",
     "text": [
      "Person(Name='Varshini', Age='23')\n"
     ]
    }
   ],
   "source": [
    "# namedtuples are easy to create, lightweight object types\n",
    "# They turn tuples into convenient containers for simple tasks.\n",
    "# With namedtuples, you don’t have to use integer indices for accessing members of a tuple\n",
    "\n",
    "t = collections.namedtuple('Person',['Name','Age'])\n",
    "p1 = t('Varshini','23')\n",
    "p2 = t('Siva',23)\n",
    "print(p1)"
   ]
  },
  {
   "cell_type": "code",
   "execution_count": 130,
   "metadata": {},
   "outputs": [
    {
     "name": "stdout",
     "output_type": "stream",
     "text": [
      "deque([1, 3])\n",
      "deque([3])\n",
      "deque([3, 1, 2, 3])\n",
      "deque([3, 3, 1, 2])\n"
     ]
    }
   ],
   "source": [
    "# deque - (Doubly Ended Queue)\n",
    "# optimized list for quicker append and pop operations from both sides of the container. \n",
    "# It provides O(1) time complexity for append and pop operations as compared to list with O(n) time complexity.\n",
    "\n",
    "q = collections.deque()\n",
    "q.append(3)\n",
    "q.appendleft(1)\n",
    "print(q)\n",
    "q.popleft()\n",
    "print(q)\n",
    "q.extend([1,2,3])\n",
    "print(q)\n",
    "q.rotate()\n",
    "print(q)"
   ]
  }
 ],
 "metadata": {
  "kernelspec": {
   "display_name": "Python 3",
   "language": "python",
   "name": "python3"
  },
  "language_info": {
   "codemirror_mode": {
    "name": "ipython",
    "version": 3
   },
   "file_extension": ".py",
   "mimetype": "text/x-python",
   "name": "python",
   "nbconvert_exporter": "python",
   "pygments_lexer": "ipython3",
   "version": "3.10.5"
  },
  "orig_nbformat": 4
 },
 "nbformat": 4,
 "nbformat_minor": 2
}
