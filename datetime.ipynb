{
 "cells": [
  {
   "cell_type": "code",
   "execution_count": 1,
   "metadata": {},
   "outputs": [
    {
     "name": "stdout",
     "output_type": "stream",
     "text": [
      "2025-04-02 23:12:06.585897\n"
     ]
    }
   ],
   "source": [
    "import datetime\n",
    "\n",
    "now = datetime.datetime.now()\n",
    "\n",
    "print(now)"
   ]
  },
  {
   "cell_type": "code",
   "execution_count": 6,
   "metadata": {},
   "outputs": [
    {
     "name": "stdout",
     "output_type": "stream",
     "text": [
      "2025-04-02\n",
      "4\n",
      "2\n",
      "2025\n"
     ]
    }
   ],
   "source": [
    "current_date = datetime.date.today()\n",
    "\n",
    "print(current_date)\n",
    "\n",
    "print(current_date.month)\n",
    "print(current_date.day)\n",
    "print(current_date.year)\n"
   ]
  },
  {
   "cell_type": "code",
   "execution_count": 3,
   "metadata": {},
   "outputs": [
    {
     "name": "stdout",
     "output_type": "stream",
     "text": [
      "2022-12-25\n"
     ]
    }
   ],
   "source": [
    "d = datetime.date(2022, 12, 25)\n",
    "print(d)"
   ]
  },
  {
   "cell_type": "code",
   "execution_count": 4,
   "metadata": {},
   "outputs": [
    {
     "name": "stdout",
     "output_type": "stream",
     "text": [
      "Date = 2012-01-11\n"
     ]
    }
   ],
   "source": [
    "timestamp = datetime.date.fromtimestamp(1326244364)\n",
    "print(\"Date =\", timestamp)"
   ]
  },
  {
   "cell_type": "code",
   "execution_count": 8,
   "metadata": {},
   "outputs": [
    {
     "name": "stdout",
     "output_type": "stream",
     "text": [
      "00:00:00\n",
      "11:34:56\n",
      "11:34:56\n",
      "11:34:56.234566\n",
      "11\n",
      "56\n",
      "34\n",
      "234566\n"
     ]
    }
   ],
   "source": [
    "a = datetime.time()\n",
    "print(a)\n",
    "\n",
    "# time(hour, minute and second)\n",
    "b = datetime.time(11, 34, 56)\n",
    "print(b)\n",
    "\n",
    "# time(hour, minute and second)\n",
    "c = datetime.time(hour = 11, minute = 34, second = 56)\n",
    "print(c)\n",
    "\n",
    "# time(hour, minute, second, microsecond)\n",
    "d = datetime.time(11, 34, 56, 234566)\n",
    "print(d)\n",
    "\n",
    "print(d.hour)\n",
    "print(d.second)\n",
    "print(d.minute)\n",
    "print(d.microsecond)"
   ]
  },
  {
   "cell_type": "code",
   "execution_count": 10,
   "metadata": {},
   "outputs": [
    {
     "name": "stdout",
     "output_type": "stream",
     "text": [
      "2022-12-28 00:00:00\n",
      "2022-12-28 23:55:59.342380\n",
      "Year = 2022\n",
      "Month = 12\n",
      "Hour = 0\n",
      "Minute = 0\n",
      "Timestamp = 1672165800.0\n"
     ]
    }
   ],
   "source": [
    "a = datetime.datetime(2022, 12, 28)\n",
    "print(a)\n",
    "\n",
    "# datetime(year, month, day, hour, minute, second, microsecond)\n",
    "b = datetime.datetime(2022, 12, 28, 23, 55, 59, 342380)\n",
    "print(b)\n",
    "\n",
    "print(\"Year =\", a.year)\n",
    "print(\"Month =\", a.month)\n",
    "print(\"Hour =\", a.hour)\n",
    "print(\"Minute =\", a.minute)\n",
    "print(\"Timestamp =\", a.timestamp())\n"
   ]
  },
  {
   "cell_type": "code",
   "execution_count": 11,
   "metadata": {},
   "outputs": [
    {
     "name": "stdout",
     "output_type": "stream",
     "text": [
      "t3 = 201 days, 0:00:00\n",
      "t6 = -333 days, 1:14:20\n",
      "Type of t3 = <class 'datetime.timedelta'>\n",
      "Type of t6 = <class 'datetime.timedelta'>\n"
     ]
    }
   ],
   "source": [
    "# using date()\n",
    "t1 = datetime.date(year = 2018, month = 7, day = 12)\n",
    "t2 = datetime.date(year = 2017, month = 12, day = 23)\n",
    "\n",
    "t3 = t1 - t2\n",
    "\n",
    "print(\"t3 =\", t3)\n",
    "\n",
    "# using datetime()\n",
    "t4 = datetime.datetime(year = 2018, month = 7, day = 12, hour = 7, minute = 9, second = 33)\n",
    "t5 = datetime.datetime(year = 2019, month = 6, day = 10, hour = 5, minute = 55, second = 13)\n",
    "t6 = t4 - t5\n",
    "print(\"t6 =\", t6)\n",
    "\n",
    "print(\"Type of t3 =\", type(t3)) \n",
    "print(\"Type of t6 =\", type(t6)) "
   ]
  },
  {
   "cell_type": "code",
   "execution_count": 12,
   "metadata": {},
   "outputs": [
    {
     "name": "stdout",
     "output_type": "stream",
     "text": [
      "t3 = 14 days, 13:55:39\n"
     ]
    }
   ],
   "source": [
    "t1 = datetime.timedelta(weeks = 2, days = 5, hours = 1, seconds = 33)\n",
    "t2 = datetime.timedelta(days = 4, hours = 11, minutes = 4, seconds = 54)\n",
    "\n",
    "t3 = t1 - t2\n",
    "\n",
    "print(\"t3 =\", t3)"
   ]
  },
  {
   "cell_type": "code",
   "execution_count": 13,
   "metadata": {},
   "outputs": [
    {
     "name": "stdout",
     "output_type": "stream",
     "text": [
      "Total seconds = 435633.233423\n"
     ]
    }
   ],
   "source": [
    "t = datetime.timedelta(days = 5, hours = 1, seconds = 33, microseconds = 233423)\n",
    "print(\"Total seconds =\", t.total_seconds())"
   ]
  },
  {
   "cell_type": "code",
   "execution_count": 14,
   "metadata": {},
   "outputs": [
    {
     "name": "stdout",
     "output_type": "stream",
     "text": [
      "Time: 23:23:25\n",
      "s1: 04/02/2025, 23:23:25\n",
      "s2: 02/04/2025, 23:23:25\n"
     ]
    }
   ],
   "source": [
    "# current date and time\n",
    "now = datetime.datetime.now()\n",
    "\n",
    "t = now.strftime(\"%H:%M:%S\")\n",
    "print(\"Time:\", t)\n",
    "\n",
    "s1 = now.strftime(\"%m/%d/%Y, %H:%M:%S\")\n",
    "# mm/dd/YY H:M:S format\n",
    "print(\"s1:\", s1)\n",
    "\n",
    "s2 = now.strftime(\"%d/%m/%Y, %H:%M:%S\")\n",
    "# dd/mm/YY H:M:S format\n",
    "print(\"s2:\", s2)"
   ]
  },
  {
   "cell_type": "code",
   "execution_count": 16,
   "metadata": {},
   "outputs": [
    {
     "name": "stdout",
     "output_type": "stream",
     "text": [
      "date_string = 25 December, 2022\n",
      "date_object = 2022-12-25 00:00:00\n"
     ]
    }
   ],
   "source": [
    "date_string = \"25 December, 2022\"\n",
    "print(\"date_string =\", date_string)\n",
    "\n",
    "# use strptime() to create date object\n",
    "date_object = datetime.datetime.strptime(date_string, \"%d %B, %Y\")\n",
    "\n",
    "print(\"date_object =\", date_object)\n"
   ]
  },
  {
   "cell_type": "code",
   "execution_count": 17,
   "metadata": {},
   "outputs": [
    {
     "name": "stdout",
     "output_type": "stream",
     "text": [
      "Local: 04/02/2025, 23:25:34\n",
      "NY: 04/02/2025, 13:55:40\n",
      "London: 04/02/2025, 18:55:40\n"
     ]
    }
   ],
   "source": [
    "from datetime import datetime\n",
    "import pytz\n",
    "\n",
    "local = datetime.now()\n",
    "print(\"Local:\", local.strftime(\"%m/%d/%Y, %H:%M:%S\"))\n",
    "\n",
    "\n",
    "tz_NY = pytz.timezone('America/New_York') \n",
    "datetime_NY = datetime.now(tz_NY)\n",
    "print(\"NY:\", datetime_NY.strftime(\"%m/%d/%Y, %H:%M:%S\"))\n",
    "\n",
    "tz_London = pytz.timezone('Europe/London')\n",
    "datetime_London = datetime.now(tz_London)\n",
    "print(\"London:\", datetime_London.strftime(\"%m/%d/%Y, %H:%M:%S\"))"
   ]
  },
  {
   "cell_type": "code",
   "execution_count": 18,
   "metadata": {},
   "outputs": [
    {
     "name": "stdout",
     "output_type": "stream",
     "text": [
      "before sleep\n",
      "After sleep\n"
     ]
    }
   ],
   "source": [
    "import time\n",
    "\n",
    "print('before sleep')\n",
    "time.sleep(5)\n",
    "print('After sleep')"
   ]
  }
 ],
 "metadata": {
  "kernelspec": {
   "display_name": "Python 3",
   "language": "python",
   "name": "python3"
  },
  "language_info": {
   "codemirror_mode": {
    "name": "ipython",
    "version": 3
   },
   "file_extension": ".py",
   "mimetype": "text/x-python",
   "name": "python",
   "nbconvert_exporter": "python",
   "pygments_lexer": "ipython3",
   "version": "3.10.5"
  }
 },
 "nbformat": 4,
 "nbformat_minor": 2
}
