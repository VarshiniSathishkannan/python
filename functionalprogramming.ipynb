{
 "cells": [
  {
   "cell_type": "markdown",
   "metadata": {},
   "source": [
    "Lambda\n",
    "\n",
    "Higher order functions, passing a function as a parameter"
   ]
  },
  {
   "cell_type": "code",
   "execution_count": 1,
   "metadata": {},
   "outputs": [
    {
     "name": "stdout",
     "output_type": "stream",
     "text": [
      "3\n"
     ]
    }
   ],
   "source": [
    "s = lambda a,b: a+b\n",
    "print(s(1,2)) "
   ]
  },
  {
   "cell_type": "code",
   "execution_count": 1,
   "metadata": {},
   "outputs": [
    {
     "name": "stdout",
     "output_type": "stream",
     "text": [
      "[2, 4]\n",
      "10\n"
     ]
    }
   ],
   "source": [
    "l = [1,2,3,4]\n",
    "s = lambda l: [i for i in l if i%2==0]\n",
    "print(s(l))\n",
    "c = lambda l: sum(l)\n",
    "print(c(l))"
   ]
  },
  {
   "cell_type": "code",
   "execution_count": 6,
   "metadata": {},
   "outputs": [
    {
     "name": "stdout",
     "output_type": "stream",
     "text": [
      "apple\n"
     ]
    }
   ],
   "source": [
    "a = 'apple'\n",
    "s = lambda i: i if i=='apple' else 'not an apple'\n",
    "print(s(a))"
   ]
  },
  {
   "cell_type": "markdown",
   "metadata": {},
   "source": [
    "Map\n",
    "\n",
    "map(func, iterator)\n",
    "\n",
    "Each element of the iterable will be passed to the func and the result is an iterator\n",
    "\n",
    "input and output len would be same"
   ]
  },
  {
   "cell_type": "code",
   "execution_count": 2,
   "metadata": {},
   "outputs": [
    {
     "name": "stdout",
     "output_type": "stream",
     "text": [
      "[3, 4, 8]\n"
     ]
    }
   ],
   "source": [
    "print(list(map(len,['abc','abce','varshini'])))"
   ]
  },
  {
   "cell_type": "markdown",
   "metadata": {},
   "source": [
    "Filter\n",
    "\n",
    "filter(func, iter)\n",
    "\n",
    "Only returns those elements for which the func returns true"
   ]
  },
  {
   "cell_type": "code",
   "execution_count": 3,
   "metadata": {},
   "outputs": [
    {
     "name": "stdout",
     "output_type": "stream",
     "text": [
      "[6, 9, 7, 6]\n"
     ]
    }
   ],
   "source": [
    "print(list(filter(lambda a: a>5,[4,1,3,6,9,3,7,6])))"
   ]
  },
  {
   "cell_type": "markdown",
   "metadata": {},
   "source": [
    "Reduce\n",
    "\n",
    "it is not in __builtins__ module, so it needs to be imported as it resides in functools module\n",
    "\n",
    "reduce(func,iterable,[initial])\n",
    "\n",
    "It will work on 2 arguments cumulatively from the elements of an iterable, optionally starting from initial \n",
    "\n"
   ]
  },
  {
   "cell_type": "code",
   "execution_count": 7,
   "metadata": {},
   "outputs": [
    {
     "name": "stdout",
     "output_type": "stream",
     "text": [
      "15\n"
     ]
    }
   ],
   "source": [
    "import functools\n",
    "\n",
    "print(functools.reduce(lambda x,y:x+y,[1,2,3,4,5]))"
   ]
  }
 ],
 "metadata": {
  "kernelspec": {
   "display_name": "Python 3",
   "language": "python",
   "name": "python3"
  },
  "language_info": {
   "codemirror_mode": {
    "name": "ipython",
    "version": 3
   },
   "file_extension": ".py",
   "mimetype": "text/x-python",
   "name": "python",
   "nbconvert_exporter": "python",
   "pygments_lexer": "ipython3",
   "version": "3.10.5"
  },
  "orig_nbformat": 4
 },
 "nbformat": 4,
 "nbformat_minor": 2
}
