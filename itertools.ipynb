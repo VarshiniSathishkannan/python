{
 "cells": [
  {
   "cell_type": "markdown",
   "metadata": {},
   "source": [
    "Itertool\n",
    "\n",
    "Python’s Itertool is a module that provides various functions that work on iterators to produce complex iterators\n",
    "\n",
    "Different types of iterators - \n",
    "1. Infinite Iterators\n",
    "2. Combinatoric iterators\n",
    "3. Terminating iterators.\n"
   ]
  },
  {
   "cell_type": "markdown",
   "metadata": {},
   "source": [
    "Infinite Iterators\n",
    "\n",
    "Iterator in Python is any Python type that can be used with a ‘for in loop’\n"
   ]
  },
  {
   "cell_type": "markdown",
   "metadata": {},
   "source": [
    "count(start, step)\n",
    "\n",
    "This iterator starts printing from the “start” number and prints infinitely. \n",
    "If steps are mentioned, the numbers are skipped else step is 1 by default."
   ]
  },
  {
   "cell_type": "code",
   "execution_count": 6,
   "metadata": {},
   "outputs": [
    {
     "name": "stdout",
     "output_type": "stream",
     "text": [
      "100\n",
      "105\n",
      "110\n",
      "115\n",
      "120\n"
     ]
    }
   ],
   "source": [
    "\n",
    "import itertools\n",
    "\n",
    "for i in itertools.count(100,5): \n",
    "    print(i) \n",
    "    if(i==120):\n",
    "        break"
   ]
  },
  {
   "cell_type": "markdown",
   "metadata": {},
   "source": [
    "cycle(iterable)\n",
    "\n",
    "This iterator prints all values in order from the passed container. It restarts printing from the beginning again when all elements are printed in a cyclic manner"
   ]
  },
  {
   "cell_type": "code",
   "execution_count": 8,
   "metadata": {},
   "outputs": [
    {
     "name": "stdout",
     "output_type": "stream",
     "text": [
      "a\n",
      "b\n",
      "c\n",
      "a\n",
      "b\n",
      "c\n",
      "a\n",
      "b\n"
     ]
    }
   ],
   "source": [
    "count = 0\n",
    "for i in itertools.cycle('abc'):\n",
    "    print(i)\n",
    "    count = count + 1\n",
    "    if(count == 8):\n",
    "        break"
   ]
  },
  {
   "cell_type": "markdown",
   "metadata": {},
   "source": [
    "repeat(val, num)\n",
    "\n",
    "This iterator repeatedly prints the passed value infinite number of times.\n"
   ]
  },
  {
   "cell_type": "code",
   "execution_count": 9,
   "metadata": {},
   "outputs": [
    {
     "name": "stdout",
     "output_type": "stream",
     "text": [
      "abc\n",
      "abc\n",
      "abc\n"
     ]
    }
   ],
   "source": [
    "count = 0\n",
    "for i in itertools.repeat('abc',3):\n",
    "    print(i)\n"
   ]
  },
  {
   "cell_type": "markdown",
   "metadata": {},
   "source": [
    "Combinatoric Iterators\n",
    "\n",
    "permutations, combinations, and Cartesian products "
   ]
  },
  {
   "cell_type": "markdown",
   "metadata": {},
   "source": [
    "Product\n",
    "\n",
    "This tool computes the cartesian product of input iterables. "
   ]
  },
  {
   "cell_type": "code",
   "execution_count": 21,
   "metadata": {},
   "outputs": [
    {
     "name": "stdout",
     "output_type": "stream",
     "text": [
      "('a', 'c')\n",
      "('a', 'd')\n",
      "('b', 'c')\n",
      "('b', 'd')\n",
      "('a', 'a', 'a')\n",
      "('a', 'a', 'b')\n",
      "('a', 'b', 'a')\n",
      "('a', 'b', 'b')\n",
      "('b', 'a', 'a')\n",
      "('b', 'a', 'b')\n",
      "('b', 'b', 'a')\n",
      "('b', 'b', 'b')\n",
      "('a', 'c', 'a', 'c')\n",
      "('a', 'c', 'a', 'd')\n",
      "('a', 'c', 'b', 'c')\n",
      "('a', 'c', 'b', 'd')\n",
      "('a', 'd', 'a', 'c')\n",
      "('a', 'd', 'a', 'd')\n",
      "('a', 'd', 'b', 'c')\n",
      "('a', 'd', 'b', 'd')\n",
      "('b', 'c', 'a', 'c')\n",
      "('b', 'c', 'a', 'd')\n",
      "('b', 'c', 'b', 'c')\n",
      "('b', 'c', 'b', 'd')\n",
      "('b', 'd', 'a', 'c')\n",
      "('b', 'd', 'a', 'd')\n",
      "('b', 'd', 'b', 'c')\n",
      "('b', 'd', 'b', 'd')\n"
     ]
    }
   ],
   "source": [
    "for i in itertools.product('ab','cd',repeat=1):\n",
    "    print(i)\n",
    "for i in itertools.product('ab',repeat=3): # repeat is the input will be taken 3 times - ab ,ab ,ab and do cartesian product \n",
    "    print(i)\n",
    "for i in itertools.product('ab','cd',repeat=2):\n",
    "    print(i)\n"
   ]
  },
  {
   "cell_type": "markdown",
   "metadata": {},
   "source": [
    "permutations\n",
    "\n",
    "This function takes an iterable and group_size\n",
    "\n",
    "if the value of group_size is not specified or is equal to None then the value of group_size becomes length of the iterable.\n"
   ]
  },
  {
   "cell_type": "code",
   "execution_count": 27,
   "metadata": {},
   "outputs": [
    {
     "name": "stdout",
     "output_type": "stream",
     "text": [
      "('a', 'b', 'c')\n",
      "('a', 'c', 'b')\n",
      "('b', 'a', 'c')\n",
      "('b', 'c', 'a')\n",
      "('c', 'a', 'b')\n",
      "('c', 'b', 'a')\n",
      "('a', 'b')\n",
      "('a', 'c')\n",
      "('b', 'a')\n",
      "('b', 'c')\n",
      "('c', 'a')\n",
      "('c', 'b')\n"
     ]
    }
   ],
   "source": [
    "for i in itertools.permutations('abc'):\n",
    "    print(i)\n",
    "for i in itertools.permutations('abc',2):\n",
    "    print(i)"
   ]
  },
  {
   "cell_type": "markdown",
   "metadata": {},
   "source": [
    "Combinations\n",
    "\n",
    "This iterator prints all the possible combinations(without replacement) of the container passed in arguments in the specified group size in sorted order\n"
   ]
  },
  {
   "cell_type": "code",
   "execution_count": 28,
   "metadata": {},
   "outputs": [
    {
     "name": "stdout",
     "output_type": "stream",
     "text": [
      "('a', 'b')\n",
      "('a', 'c')\n",
      "('b', 'c')\n"
     ]
    }
   ],
   "source": [
    "for i in itertools.combinations('abc',2):\n",
    "    print(i)"
   ]
  },
  {
   "cell_type": "markdown",
   "metadata": {},
   "source": [
    "Combinations_with_replacement()\n",
    "\n",
    "Individual elements may repeat itself in combinations_with_replacement function\n"
   ]
  },
  {
   "cell_type": "code",
   "execution_count": 29,
   "metadata": {},
   "outputs": [
    {
     "name": "stdout",
     "output_type": "stream",
     "text": [
      "('a', 'a')\n",
      "('a', 'b')\n",
      "('a', 'c')\n",
      "('b', 'b')\n",
      "('b', 'c')\n",
      "('c', 'c')\n"
     ]
    }
   ],
   "source": [
    "for i in itertools.combinations_with_replacement('abc',2):\n",
    "    print(i)\n"
   ]
  },
  {
   "cell_type": "markdown",
   "metadata": {},
   "source": [
    "Terminating iterators\n",
    "\n",
    "Work on the short input sequences and produce the output based on the functionality of the method used.\n"
   ]
  },
  {
   "cell_type": "markdown",
   "metadata": {},
   "source": [
    "accumulate(iter, func)\n",
    "\n",
    "iterable target and the function which would be followed at each iteration of value in target. \n",
    "\n",
    "If no function is passed, addition takes place by default."
   ]
  },
  {
   "cell_type": "code",
   "execution_count": 32,
   "metadata": {},
   "outputs": [
    {
     "name": "stdout",
     "output_type": "stream",
     "text": [
      "1\n",
      "3\n",
      "6\n",
      "a\n",
      "ab\n",
      "abc\n"
     ]
    }
   ],
   "source": [
    "for i in itertools.accumulate([1,2,3]):\n",
    "    print(i)\n",
    "for i in itertools.accumulate('abc'):\n",
    "    print(i)\n"
   ]
  },
  {
   "cell_type": "markdown",
   "metadata": {},
   "source": [
    "chain(iter1, iter2..)\n",
    "\n",
    "print all the values in iterable targets one after another mentioned in its arguments\n"
   ]
  },
  {
   "cell_type": "code",
   "execution_count": 33,
   "metadata": {},
   "outputs": [
    {
     "name": "stdout",
     "output_type": "stream",
     "text": [
      "a\n",
      "b\n",
      "c\n",
      "a\n",
      "b\n",
      "c\n"
     ]
    }
   ],
   "source": [
    "for i in itertools.chain('abc','abc'):\n",
    "    print(i)"
   ]
  },
  {
   "cell_type": "markdown",
   "metadata": {},
   "source": [
    "tee(iterator, count)\n",
    "\n",
    "This iterator splits the container into a number of iterators mentioned in the argument.\n"
   ]
  },
  {
   "cell_type": "code",
   "execution_count": 38,
   "metadata": {},
   "outputs": [
    {
     "name": "stdout",
     "output_type": "stream",
     "text": [
      "<itertools._tee object at 0x000001C1D86733C0>\n",
      "<itertools._tee object at 0x000001C1D8673040>\n",
      "['a', 'b', 'c']\n",
      "['a', 'b', 'c']\n",
      "['a', 'b', 'c']\n",
      "['a', 'b', 'c']\n"
     ]
    }
   ],
   "source": [
    "for i in itertools.tee('abc',2):\n",
    "    print(i)\n",
    "\n",
    "for i in itertools.tee('abc',4):\n",
    "    print(list(i))"
   ]
  }
 ],
 "metadata": {
  "kernelspec": {
   "display_name": "Python 3",
   "language": "python",
   "name": "python3"
  },
  "language_info": {
   "codemirror_mode": {
    "name": "ipython",
    "version": 3
   },
   "file_extension": ".py",
   "mimetype": "text/x-python",
   "name": "python",
   "nbconvert_exporter": "python",
   "pygments_lexer": "ipython3",
   "version": "3.10.5"
  },
  "orig_nbformat": 4
 },
 "nbformat": 4,
 "nbformat_minor": 2
}
