{
 "cells": [
  {
   "cell_type": "code",
   "execution_count": 4,
   "metadata": {},
   "outputs": [
    {
     "name": "stdout",
     "output_type": "stream",
     "text": [
      "[0, 1]\n"
     ]
    }
   ],
   "source": [
    "# 1. Two Sum\n",
    "# Given an array of integers nums and an integer target, return indices of the two numbers such that they add up to target.\n",
    "# You may assume that each input would have exactly one solution, and you may not use the same element twice.\n",
    "# Can you come up with an algorithm that is less than O(n2) time complexity?\n",
    "\n",
    "class Solution:\n",
    "    def twoSum(self, nums: list[int], target: int) -> list[int]:\n",
    "        for i in nums:\n",
    "            a = target - i\n",
    "            x = nums.index(i)\n",
    "            nums[x] = None\n",
    "            if(a in nums):\n",
    "                y = nums.index(a)\n",
    "                return [x,y]\n",
    "            \n",
    "obj = Solution()\n",
    "print(obj.twoSum([2,7,11,15],9))\n"
   ]
  },
  {
   "cell_type": "code",
   "execution_count": 5,
   "metadata": {},
   "outputs": [
    {
     "name": "stdout",
     "output_type": "stream",
     "text": [
      "7\n"
     ]
    }
   ],
   "source": [
    "# 2. Longest Substring Without Repeating Characters\n",
    "\n",
    "# Given a string s, find the length of the longest \n",
    "# substring\n",
    "# without repeating characters.\n",
    "# O(n2)\n",
    "# my solution\n",
    "\n",
    "class Solution:\n",
    "    def lengthOfLongestSubstring(self, s: str) -> int:\n",
    "        max =0\n",
    "        for i in range(0,len(s)):\n",
    "            x = i\n",
    "            y = i\n",
    "            d = []\n",
    "            for j in range(i,len(s)):\n",
    "              if(s[j] not in d):\n",
    "                d.append(s[j])\n",
    "                y = j\n",
    "                if max < (y-x+1):\n",
    "                  max = y-x+1\n",
    "              else:\n",
    "                if max < (y-x+1):\n",
    "                  max = y-x+1\n",
    "                break\n",
    "        if len(s) == 1:\n",
    "            return 1\n",
    "        return max\n",
    "\n",
    "obj = Solution()\n",
    "print(obj.lengthOfLongestSubstring('abdcfghh'))"
   ]
  },
  {
   "cell_type": "code",
   "execution_count": 9,
   "metadata": {},
   "outputs": [
    {
     "name": "stdout",
     "output_type": "stream",
     "text": [
      "7\n"
     ]
    }
   ],
   "source": [
    "#Using sliding window solution O(n)\n",
    "\n",
    "class Solution:\n",
    "    def lengthOfLongestSubstring(self, s: str) -> int:\n",
    "        l = 0\n",
    "        d = {}\n",
    "        length = 0\n",
    "        for r in range(len(s)):\n",
    "            char = s[r]\n",
    "            if char in d and d[char] >= l:\n",
    "                l = d[char]+1\n",
    "                print(l,r)\n",
    "            else:\n",
    "                length = max(length, r-l+1)\n",
    "            d[char] = r\n",
    "        return length\n",
    "    \n",
    "obj = Solution()\n",
    "print(obj.lengthOfLongestSubstring('abdcfghh'))"
   ]
  },
  {
   "cell_type": "code",
   "execution_count": 10,
   "metadata": {},
   "outputs": [
    {
     "name": "stdout",
     "output_type": "stream",
     "text": [
      "True\n"
     ]
    }
   ],
   "source": [
    "# 3. Valid Parentheses\n",
    "\n",
    "# Given a string s containing just the characters '(', ')', '{', '}', '[' and ']', determine if the input string is valid.\n",
    "\n",
    "# An input string is valid if:\n",
    "\n",
    "# Open brackets must be closed by the same type of brackets.\n",
    "# Open brackets must be closed in the correct order.\n",
    "# Every close bracket has a corresponding open bracket of the same type.\n",
    "\n",
    "class Solution:\n",
    "    def isValid(self, s: str) -> bool:\n",
    "        d = {\n",
    "            '(':')',\n",
    "            '{':'}',\n",
    "            '[':']'\n",
    "        }\n",
    "        l = []\n",
    "        for i in s:\n",
    "            if i in d.keys():\n",
    "                l.append(i)\n",
    "            else:\n",
    "                if(len(l)):\n",
    "                  char = l.pop()\n",
    "                  if (i != d.get(char)):\n",
    "                    return False\n",
    "                else:\n",
    "                    return False\n",
    "        if(len(l)==0):\n",
    "          return True\n",
    "        else:\n",
    "            return False\n",
    "        \n",
    "\n",
    "obj = Solution()\n",
    "print(obj.isValid('[]()'))"
   ]
  },
  {
   "cell_type": "code",
   "execution_count": 11,
   "metadata": {},
   "outputs": [
    {
     "name": "stdout",
     "output_type": "stream",
     "text": [
      "False\n"
     ]
    }
   ],
   "source": [
    "# 4. Contains Duplicate\n",
    "\n",
    "# Given an integer array nums, return true if any value appears at least twice in the array, and return false if every element is distinct.\n",
    "\n",
    "class Solution:\n",
    "    def containsDuplicate(self, nums: list[int]) -> bool:\n",
    "        d = {}\n",
    "        for i in nums:\n",
    "            if(i in d.keys()):\n",
    "                return True\n",
    "            else:\n",
    "                d[i] = 1\n",
    "        return False\n",
    "\n",
    "obj = Solution()\n",
    "print(obj.containsDuplicate('[]()'))"
   ]
  },
  {
   "cell_type": "code",
   "execution_count": 13,
   "metadata": {},
   "outputs": [
    {
     "name": "stdout",
     "output_type": "stream",
     "text": [
      "[2, 3]\n"
     ]
    }
   ],
   "source": [
    "# 5. Top K Frequent Elements\n",
    "\n",
    "# Given an integer array nums and an integer k, return the k most frequent elements. You may return the answer in any order.\n",
    "\n",
    "class Solution:\n",
    "    def topKFrequent(self, nums: list[int], k: int) -> list[int]:\n",
    "        d = {}\n",
    "        output = []\n",
    "        for i in nums:\n",
    "            if(i in d.keys()):\n",
    "                d[i] = d[i] + 1\n",
    "            else:\n",
    "                d[i] = 1\n",
    "        result = dict(sorted(d.items(),key = lambda x:x[1],reverse=True))\n",
    "        output = list(result.keys())[:k]\n",
    "        return output\n",
    "    \n",
    "obj = Solution()\n",
    "print(obj.topKFrequent([1,1,2,2,2,2,3,3,3],2))"
   ]
  },
  {
   "cell_type": "code",
   "execution_count": null,
   "metadata": {},
   "outputs": [],
   "source": [
    "# 6. Best Time to Buy and Sell Stock\n",
    "\n",
    "# You are given an array prices where prices[i] is the price of a given stock on the ith day.\n",
    "\n",
    "# You want to maximize your profit by choosing a single day to buy one stock and choosing a different day in the future to sell that stock.\n",
    "\n",
    "# Return the maximum profit you can achieve from this transaction. If you cannot achieve any profit, return 0.\n",
    "\n"
   ]
  }
 ],
 "metadata": {
  "kernelspec": {
   "display_name": "Python 3",
   "language": "python",
   "name": "python3"
  },
  "language_info": {
   "codemirror_mode": {
    "name": "ipython",
    "version": 3
   },
   "file_extension": ".py",
   "mimetype": "text/x-python",
   "name": "python",
   "nbconvert_exporter": "python",
   "pygments_lexer": "ipython3",
   "version": "3.10.5"
  },
  "orig_nbformat": 4
 },
 "nbformat": 4,
 "nbformat_minor": 2
}
