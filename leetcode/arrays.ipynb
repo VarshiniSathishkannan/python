{
 "cells": [
  {
   "cell_type": "code",
   "execution_count": 2,
   "metadata": {},
   "outputs": [
    {
     "name": "stdout",
     "output_type": "stream",
     "text": [
      "[0, 1]\n"
     ]
    }
   ],
   "source": [
    "# 1. Two Sum\n",
    "# Given an array of integers nums and an integer target, return indices of the two numbers such that they add up to target.\n",
    "# You may assume that each input would have exactly one solution, and you may not use the same element twice.\n",
    "# Can you come up with an algorithm that is less than O(n2) time complexity?\n",
    "\n",
    "class Solution:\n",
    "    def twoSum(self, nums: list[int], target: int) -> list[int]:\n",
    "        for i in nums:\n",
    "            a = target - i\n",
    "            x = nums.index(i)\n",
    "            nums[x] = None\n",
    "            if(a in nums):\n",
    "                y = nums.index(a)\n",
    "                return [x,y]\n",
    "            \n",
    "obj = Solution()\n",
    "print(obj.twoSum([2,7,7,2,11,15],9))\n"
   ]
  },
  {
   "cell_type": "code",
   "execution_count": 6,
   "metadata": {},
   "outputs": [
    {
     "name": "stdout",
     "output_type": "stream",
     "text": [
      "[None, 7, 6, 3, 11, 15]\n",
      "[None, None, 6, 3, 11, 15]\n",
      "[None, None, None, 3, 11, 15]\n",
      "[None, None, None, None, 11, 15]\n",
      "[None, None, None, None, None, 15]\n",
      "[None, None, None, None, None, None]\n",
      "[[0, 1], [2, 3]]\n"
     ]
    }
   ],
   "source": [
    "# 1. Two Sum\n",
    "# Given an array of integers nums and an integer target, return indices of the two numbers such that they add up to target.\n",
    "# Can you come up with an algorithm that is less than O(n2) time complexity?\n",
    "\n",
    "class Solution:\n",
    "    def twoSum(self, nums: list[int], target: int) -> list[int]:\n",
    "        result = list()\n",
    "        for i in nums:\n",
    "            a = target - i\n",
    "            x = nums.index(i)\n",
    "            nums[x] = None\n",
    "            print(nums)\n",
    "            if(a in nums):\n",
    "                y = nums.index(a)\n",
    "                result.append([x,y])\n",
    "        return(result)\n",
    "            \n",
    "obj = Solution()\n",
    "print(obj.twoSum([2,7,6,3,11,15],9))"
   ]
  },
  {
   "cell_type": "code",
   "execution_count": 5,
   "metadata": {},
   "outputs": [
    {
     "name": "stdout",
     "output_type": "stream",
     "text": [
      "7\n"
     ]
    }
   ],
   "source": [
    "# 2. Longest Substring Without Repeating Characters\n",
    "\n",
    "# Given a string s, find the length of the longest \n",
    "# substring\n",
    "# without repeating characters.\n",
    "# O(n2)\n",
    "# my solution\n",
    "\n",
    "class Solution:\n",
    "    def lengthOfLongestSubstring(self, s: str) -> int:\n",
    "        max =0\n",
    "        for i in range(0,len(s)):\n",
    "            x = i\n",
    "            y = i\n",
    "            d = []\n",
    "            for j in range(i,len(s)):\n",
    "              if(s[j] not in d):\n",
    "                d.append(s[j])\n",
    "                y = j\n",
    "                if max < (y-x+1):\n",
    "                  max = y-x+1\n",
    "              else:\n",
    "                if max < (y-x+1):\n",
    "                  max = y-x+1\n",
    "                break\n",
    "        if len(s) == 1:\n",
    "            return 1\n",
    "        return max\n",
    "\n",
    "obj = Solution()\n",
    "print(obj.lengthOfLongestSubstring('abdcfghh'))"
   ]
  },
  {
   "cell_type": "code",
   "execution_count": 1,
   "metadata": {},
   "outputs": [
    {
     "name": "stdout",
     "output_type": "stream",
     "text": [
      "7 7\n",
      "7\n"
     ]
    }
   ],
   "source": [
    "#Using sliding window solution O(n)\n",
    "\n",
    "class Solution:\n",
    "    def lengthOfLongestSubstring(self, s: str) -> int:\n",
    "        l = 0\n",
    "        d = {}\n",
    "        length = 0\n",
    "        for r in range(len(s)):\n",
    "            char = s[r]\n",
    "            if char in d and d[char] >= l:\n",
    "                l = d[char]+1\n",
    "                print(l,r)\n",
    "            else:\n",
    "                length = max(length, r-l+1)\n",
    "            d[char] = r\n",
    "        return length\n",
    "    \n",
    "obj = Solution()\n",
    "print(obj.lengthOfLongestSubstring('abdcfghh'))"
   ]
  },
  {
   "cell_type": "code",
   "execution_count": 3,
   "metadata": {},
   "outputs": [
    {
     "name": "stdout",
     "output_type": "stream",
     "text": [
      "False\n"
     ]
    }
   ],
   "source": [
    "# 3. Valid Parentheses\n",
    "\n",
    "# Given a string s containing just the characters '(', ')', '{', '}', '[' and ']', determine if the input string is valid.\n",
    "\n",
    "# An input string is valid if:\n",
    "\n",
    "# Open brackets must be closed by the same type of brackets.\n",
    "# Open brackets must be closed in the correct order.\n",
    "# Every close bracket has a corresponding open bracket of the same type.\n",
    "\n",
    "class Solution:\n",
    "    def isValid(self, s: str) -> bool:\n",
    "        d = {\n",
    "            '(':')',\n",
    "            '{':'}',\n",
    "            '[':']'\n",
    "        }\n",
    "        l = []\n",
    "        for i in s:\n",
    "            if i in d.keys():\n",
    "                l.append(i)\n",
    "            else:\n",
    "                if(len(l)):\n",
    "                  char = l.pop()\n",
    "                  if (i != d.get(char)):\n",
    "                    return False\n",
    "                else:\n",
    "                    return False\n",
    "        if(len(l)==0):\n",
    "          return True\n",
    "        else:\n",
    "            return False\n",
    "        \n",
    "\n",
    "obj = Solution()\n",
    "print(obj.isValid('[]]()'))"
   ]
  },
  {
   "cell_type": "code",
   "execution_count": 11,
   "metadata": {},
   "outputs": [
    {
     "name": "stdout",
     "output_type": "stream",
     "text": [
      "False\n"
     ]
    }
   ],
   "source": [
    "# 4. Contains Duplicate\n",
    "\n",
    "# Given an integer array nums, return true if any value appears at least twice in the array, and return false if every element is distinct.\n",
    "\n",
    "class Solution:\n",
    "    def containsDuplicate(self, nums: list[int]) -> bool:\n",
    "        d = {}\n",
    "        for i in nums:\n",
    "            if(i in d.keys()):\n",
    "                return True\n",
    "            else:\n",
    "                d[i] = 1\n",
    "        return False\n",
    "\n",
    "obj = Solution()\n",
    "print(obj.containsDuplicate('[]()'))"
   ]
  },
  {
   "cell_type": "code",
   "execution_count": 13,
   "metadata": {},
   "outputs": [
    {
     "name": "stdout",
     "output_type": "stream",
     "text": [
      "[2, 3]\n"
     ]
    }
   ],
   "source": [
    "# 5. Top K Frequent Elements\n",
    "\n",
    "# Given an integer array nums and an integer k, return the k most frequent elements. You may return the answer in any order.\n",
    "\n",
    "class Solution:\n",
    "    def topKFrequent(self, nums: list[int], k: int) -> list[int]:\n",
    "        d = {}\n",
    "        output = []\n",
    "        for i in nums:\n",
    "            if(i in d.keys()):\n",
    "                d[i] = d[i] + 1\n",
    "            else:\n",
    "                d[i] = 1\n",
    "        result = dict(sorted(d.items(),key = lambda x:x[1],reverse=True))\n",
    "        output = list(result.keys())[:k]\n",
    "        return output\n",
    "    \n",
    "obj = Solution()\n",
    "print(obj.topKFrequent([1,1,2,2,2,2,3,3,3],2))"
   ]
  },
  {
   "cell_type": "code",
   "execution_count": 15,
   "metadata": {},
   "outputs": [
    {
     "name": "stdout",
     "output_type": "stream",
     "text": [
      "6\n"
     ]
    }
   ],
   "source": [
    "# 6. Best Time to Buy and Sell Stock\n",
    "\n",
    "# You are given an array prices where prices[i] is the price of a given stock on the ith day.\n",
    "\n",
    "# You want to maximize your profit by choosing a single day to buy one stock and choosing a different day in the future to sell that stock.\n",
    "\n",
    "# Return the maximum profit you can achieve from this transaction. If you cannot achieve any profit, return 0.\n",
    "\n",
    "class Solution:\n",
    "    def maxProfit(self, prices: list[int]) -> int:\n",
    "        buy = max(prices)+1\n",
    "        sell = min(prices)-1\n",
    "        profit = 0\n",
    "        for i in range(len(prices)):\n",
    "            if(prices[i]<buy):\n",
    "                buy = prices[i]\n",
    "                sell = min(prices)-1\n",
    "            if(prices[i]>sell and prices.index(buy) < i):\n",
    "                sell = prices[i]\n",
    "            profit = max(profit, sell-buy)\n",
    "        return profit\n",
    "\n",
    "\n",
    "obj = Solution()\n",
    "print(obj.maxProfit([1,2,3,4,7]))"
   ]
  },
  {
   "cell_type": "code",
   "execution_count": null,
   "metadata": {},
   "outputs": [],
   "source": []
  },
  {
   "cell_type": "code",
   "execution_count": null,
   "metadata": {},
   "outputs": [],
   "source": []
  }
 ],
 "metadata": {
  "kernelspec": {
   "display_name": "Python 3",
   "language": "python",
   "name": "python3"
  },
  "language_info": {
   "codemirror_mode": {
    "name": "ipython",
    "version": 3
   },
   "file_extension": ".py",
   "mimetype": "text/x-python",
   "name": "python",
   "nbconvert_exporter": "python",
   "pygments_lexer": "ipython3",
   "version": "3.10.5"
  },
  "orig_nbformat": 4
 },
 "nbformat": 4,
 "nbformat_minor": 2
}
