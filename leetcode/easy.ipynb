{
 "cells": [
  {
   "cell_type": "markdown",
   "metadata": {},
   "source": [
    "1- Palindrome"
   ]
  },
  {
   "cell_type": "code",
   "execution_count": 3,
   "metadata": {},
   "outputs": [
    {
     "name": "stdout",
     "output_type": "stream",
     "text": [
      "It is not a Palindrome\n"
     ]
    }
   ],
   "source": [
    "# Palindrome using string\n",
    "\n",
    "def palindrome(n):\n",
    "\tn = str(n)\n",
    "\tif(n==n[::-1]):\n",
    "\t\tprint(\"It is a Palindrome\")\n",
    "\telse:\n",
    "\t\tprint(\"It is not a Palindrome\")\n",
    "\n",
    "\n",
    "input = 10\n",
    "palindrome(input)"
   ]
  },
  {
   "cell_type": "code",
   "execution_count": 14,
   "metadata": {},
   "outputs": [
    {
     "name": "stdout",
     "output_type": "stream",
     "text": [
      "121\n",
      "False\n"
     ]
    }
   ],
   "source": [
    "# Palindrome using Number\n",
    "\n",
    "def palindrome(x: int) -> bool:\n",
    "        rev = 0\n",
    "        if(x<0):\n",
    "            return False\n",
    "        while(x):\n",
    "            rev = rev*10 + (x%10)\n",
    "            x = x//10\n",
    "        print(rev)\n",
    "        if(rev == x):\n",
    "            return True\n",
    "        else:\n",
    "            return False\n",
    "\n",
    "\n",
    "input = 121\n",
    "print(palindrome(input))\n",
    "\t\t"
   ]
  },
  {
   "cell_type": "markdown",
   "metadata": {},
   "source": [
    "2- Roman to Integer"
   ]
  },
  {
   "cell_type": "code",
   "execution_count": 27,
   "metadata": {},
   "outputs": [
    {
     "name": "stdout",
     "output_type": "stream",
     "text": [
      "1994\n"
     ]
    }
   ],
   "source": [
    "def solution(inp):\n",
    "    sum = 0\n",
    "    d = {'I':1,'V':5,'X':10,'L':50,'C':100,'D':500,'M':1000}\n",
    "    l = len(inp)\n",
    "    for i in range(l):\n",
    "        if(i == l-1):\n",
    "            sum = sum + d[inp[i]]\n",
    "            return sum\n",
    "        if(inp[i] == 'I' and inp[i+1] in 'VX'):\n",
    "            sum = sum - d[inp[i]]\n",
    "        elif(inp[i] == 'X' and inp[i+1] in 'LC'):\n",
    "            sum = sum - d[inp[i]]\n",
    "        elif(inp[i] == 'C' and inp[i+1] in 'DM'):\n",
    "            sum = sum - d[inp[i]]\n",
    "        else:\n",
    "            sum = sum + d[inp[i]]\n",
    "\n",
    "\n",
    "print(solution('MCMXCIV'))"
   ]
  },
  {
   "cell_type": "markdown",
   "metadata": {},
   "source": [
    "3- Longest common prefix"
   ]
  },
  {
   "cell_type": "code",
   "execution_count": 35,
   "metadata": {},
   "outputs": [
    {
     "name": "stdout",
     "output_type": "stream",
     "text": [
      "['daag', 'dacecar', 'dar']\n",
      "daag dar\n",
      "da"
     ]
    }
   ],
   "source": [
    "def solution(s):\n",
    "\ts=sorted(s)\n",
    "\tprint(s)\n",
    "\tfirst, last = s[0],s[-1]\n",
    "\tfor i in range(len(first)):\n",
    "\t\tif(i<len(last)) and last[i]==first[i]:\n",
    "\t\t\tprint(first[i],end='')\n",
    "\t\telse:\n",
    "\t\t\tbreak\n",
    "\t\n",
    "\n",
    "solution([\"daag\",\"dacecar\",\"dar\"])"
   ]
  },
  {
   "cell_type": "code",
   "execution_count": 37,
   "metadata": {},
   "outputs": [
    {
     "name": "stdout",
     "output_type": "stream",
     "text": [
      "\n"
     ]
    }
   ],
   "source": [
    "def sol(strs) -> str:\n",
    "        mini,maxi=min(strs),max(strs)\n",
    "\n",
    "        for i in range(len(mini)):\n",
    "            if mini[i]!=maxi[i]:\n",
    "                return mini[:i]\n",
    "        return mini\n",
    "\n",
    "print(sol([\"ag\",\"dacecar\",\"dar\"]))"
   ]
  },
  {
   "cell_type": "markdown",
   "metadata": {},
   "source": [
    "4- Merge two sorted list\n",
    "\n",
    "No extra space"
   ]
  },
  {
   "cell_type": "code",
   "execution_count": 55,
   "metadata": {},
   "outputs": [
    {
     "name": "stdout",
     "output_type": "stream",
     "text": [
      "[1, 2, 2, 3, 3, 4]\n"
     ]
    }
   ],
   "source": [
    "def solution(l1,l2):\n",
    "    i=0\n",
    "    j=0\n",
    "    k=0\n",
    "    a = len(l1)\n",
    "    b = len(l2)\n",
    "    result = []\n",
    "    while(i<a and j<b):\n",
    "        if l1[i]<l2[j]:\n",
    "            result.append(l1[i])\n",
    "            i = i+1\n",
    "        else:\n",
    "            result.append(l2[j])\n",
    "            j = j+1\n",
    "    while(i<a):\n",
    "        result.append(l1[i])\n",
    "        i=i+1\n",
    "    while(j<a):\n",
    "        result.append(l2[j])\n",
    "        j=j+1\n",
    "    print(result)\n",
    "\n",
    "\n",
    "\n",
    "\n",
    "solution([1,2,3],[2,3,4])\n"
   ]
  },
  {
   "cell_type": "markdown",
   "metadata": {},
   "source": [
    "5- Merge two sorted linked list"
   ]
  },
  {
   "cell_type": "code",
   "execution_count": 72,
   "metadata": {},
   "outputs": [
    {
     "name": "stdout",
     "output_type": "stream",
     "text": [
      "5->4->3->2->None\n",
      "2->3->4->5->None\n",
      "1->2->3->4->None\n",
      "1->2->2->3->3->4->4->5->None\n",
      "1->2->2->3->3->4->4->5->None\n"
     ]
    }
   ],
   "source": [
    "class Node:\n",
    "    def __init__(self,data):\n",
    "        self.data = data\n",
    "        self.next = None\n",
    "\n",
    "class LinkedList:\n",
    "    def __init__(self):\n",
    "        self.head = None\n",
    "    def insert(self,data):\n",
    "        new = Node(data)\n",
    "        if(self.head==None):\n",
    "            self.head=new\n",
    "        else:\n",
    "            temp = self.head\n",
    "            while(temp.next):\n",
    "                temp = temp.next\n",
    "            temp.next = new\n",
    "    def printL(self, root=None):\n",
    "        if(root):\n",
    "            temp = root\n",
    "        else:\n",
    "            temp = self.head\n",
    "        while(temp):\n",
    "            print(f\"{temp.data}->\",end='')\n",
    "            temp = temp.next\n",
    "        print('None')\n",
    "    def sortL(self):\n",
    "        swapped = True\n",
    "        while(swapped):\n",
    "            swapped = False\n",
    "            temp = self.head\n",
    "            while(temp.next):\n",
    "                if(temp.data>temp.next.data):\n",
    "                    temp.data, temp.next.data = temp.next.data,temp.data\n",
    "                    swapped=True\n",
    "                temp = temp.next\n",
    "\n",
    "def merge(l:Node,m:Node):\n",
    "    result = LinkedList()\n",
    "    while(l and m):\n",
    "        if(l.data<m.data):\n",
    "            result.insert(l.data)\n",
    "            l = l.next\n",
    "        else:\n",
    "            result.insert(m.data)\n",
    "            m = m.next\n",
    "    while(l):\n",
    "        result.insert(l.data)\n",
    "        l=l.next\n",
    "    while(m):\n",
    "        result.insert(m.data)\n",
    "        m=m.next\n",
    "    result.printL()\n",
    "\n",
    "def mergeR(l:Node,m:Node):\n",
    "    if(l is None):\n",
    "        return m\n",
    "    if(m is None):\n",
    "        return l\n",
    "    if(l is None and m is None):\n",
    "        return None\n",
    "    if(l.data <= m.data):\n",
    "        l.next = mergeR(l.next, m)\n",
    "        return l\n",
    "    else:\n",
    "        m.next = mergeR(l,m.next)\n",
    "        return m\n",
    "\n",
    "        \n",
    "L = LinkedList()\n",
    "L.insert(5)\n",
    "L.insert(4)\n",
    "L.insert(3)\n",
    "L.insert(2)\n",
    "L.printL()\n",
    "L.sortL()\n",
    "L.printL()\n",
    "\n",
    "M = LinkedList()\n",
    "M.insert(1)\n",
    "M.insert(2)\n",
    "M.insert(3)\n",
    "M.insert(4)\n",
    "M.printL()\n",
    "\n",
    "merge(L.head,M.head)\n",
    "r = mergeR(L.head,M.head)\n",
    "\n",
    "result = LinkedList()\n",
    "result.printL(r)\n",
    "\n"
   ]
  },
  {
   "cell_type": "code",
   "execution_count": null,
   "metadata": {},
   "outputs": [],
   "source": [
    "# Definition for singly-linked list.\n",
    "# class ListNode:\n",
    "#     def __init__(self, val=0, next=None):\n",
    "#         self.val = val\n",
    "#         self.next = next\n",
    "class Solution:\n",
    "    def mergeTwoLists(\n",
    "        self, list1: Optional[ListNode], list2: Optional[ListNode]\n",
    "    ) -> Optional[ListNode]:\n",
    "        l = list1\n",
    "        m = list2\n",
    "        if(l is None):\n",
    "            result = m\n",
    "            return result\n",
    "        if(m is None):\n",
    "            result = l\n",
    "            return result\n",
    "        if l.val < m.val:\n",
    "            result = ListNode(l.val)\n",
    "            head = result\n",
    "            l = l.next\n",
    "        else:\n",
    "            result = ListNode(m.val)\n",
    "            head = result\n",
    "            m = m.next\n",
    "        temp = head\n",
    "        while l and m:\n",
    "            if l.val < m.val:\n",
    "                result = ListNode(l.val)\n",
    "                temp.next = result\n",
    "                temp = temp.next\n",
    "                l = l.next\n",
    "            else:\n",
    "                result = ListNode(m.val)\n",
    "                temp.next = result\n",
    "                temp = temp.next\n",
    "                m = m.next\n",
    "        while(l):\n",
    "            result = ListNode(l.val)\n",
    "            temp.next = result\n",
    "            temp = temp.next\n",
    "            l = l.next\n",
    "        while(m):\n",
    "            result = ListNode(m.val)\n",
    "            temp.next = result\n",
    "            temp = temp.next\n",
    "            m = m.next\n",
    "        return head"
   ]
  },
  {
   "cell_type": "markdown",
   "metadata": {},
   "source": [
    "6- Remove Duplicates from Sorted Array"
   ]
  },
  {
   "cell_type": "code",
   "execution_count": 81,
   "metadata": {},
   "outputs": [
    {
     "name": "stdout",
     "output_type": "stream",
     "text": [
      "(1, [1, None, None])\n"
     ]
    }
   ],
   "source": [
    "def removeDuplicates(l):\n",
    "    i=0\n",
    "    index=0\n",
    "    while(i<len(l)-1):\n",
    "        j=i+1\n",
    "        index = index+1\n",
    "        while(l[i]==l[j]):\n",
    "            l[j]=None\n",
    "            if(j==len(l)-1):\n",
    "                return(index,l)\n",
    "            else:\n",
    "                j = j+1\n",
    "        l[index]=l[j]\n",
    "        i = j\n",
    "    return(index+1,l)\n",
    "\n",
    "\n",
    "\n",
    "print(removeDuplicates([1,1,1]))"
   ]
  },
  {
   "cell_type": "code",
   "execution_count": null,
   "metadata": {},
   "outputs": [],
   "source": [
    "def main(nums: list[int]) -> int:\n",
    "    cur = 0\n",
    "    last = None\n",
    "    for n in nums:\n",
    "        if n == last: \n",
    "            continue\n",
    "        last = n\n",
    "        nums[cur] = n\n",
    "        cur += 1\n",
    "    return cur\n"
   ]
  },
  {
   "cell_type": "markdown",
   "metadata": {},
   "source": [
    "7- Remove element"
   ]
  },
  {
   "cell_type": "code",
   "execution_count": 83,
   "metadata": {},
   "outputs": [
    {
     "name": "stdout",
     "output_type": "stream",
     "text": [
      "(2, [1, 3, 2, 3])\n"
     ]
    }
   ],
   "source": [
    "def removeElement(l,v):\n",
    "    index=0\n",
    "    for i in l:\n",
    "        if(i==v):\n",
    "            continue\n",
    "        l[index]=i\n",
    "        index=index+1\n",
    "    return index,l\n",
    "\n",
    "print(removeElement([1,2,2,3],2))\n",
    "\n"
   ]
  },
  {
   "cell_type": "code",
   "execution_count": null,
   "metadata": {},
   "outputs": [],
   "source": [
    "def removeElement(self, nums: List[int], val: int) -> int:\n",
    "    while val in nums:\n",
    "        nums.remove(val)\n",
    "    return len(nums)"
   ]
  },
  {
   "cell_type": "markdown",
   "metadata": {},
   "source": [
    "8- Find the index of the first occurrance of a string"
   ]
  },
  {
   "cell_type": "code",
   "execution_count": 1,
   "metadata": {},
   "outputs": [
    {
     "name": "stdout",
     "output_type": "stream",
     "text": [
      "3\n"
     ]
    }
   ],
   "source": [
    "def occurrance(s:str,a:str):\n",
    "    for i in range(len(s)-len(a)+1):\n",
    "        if a in s[i:i+len(a)]:\n",
    "            return i\n",
    "    return -1\n",
    "    \n",
    "print(occurrance('apple','le'))"
   ]
  },
  {
   "cell_type": "code",
   "execution_count": null,
   "metadata": {},
   "outputs": [],
   "source": [
    "class Solution:\n",
    "    def strStr(self, haystack: str, needle: str) -> int:\n",
    "\n",
    "        try:\n",
    "            return haystack.index(needle)\n",
    "        except: return -1\n",
    "\n",
    "class Solution:\n",
    "    def strStr(self, haystack: str, needle: str) -> int:\n",
    "        return haystack.find(needle)"
   ]
  },
  {
   "cell_type": "markdown",
   "metadata": {},
   "source": [
    "9- Search insert position"
   ]
  },
  {
   "cell_type": "code",
   "execution_count": 11,
   "metadata": {},
   "outputs": [
    {
     "name": "stdout",
     "output_type": "stream",
     "text": [
      "2\n"
     ]
    }
   ],
   "source": [
    "def search(l,ele):\n",
    "    if(ele<l[0]):\n",
    "        return 0\n",
    "    if(ele > l[len(l)-1]):\n",
    "        return len(l)\n",
    "    def binary(start,end,ele,l):\n",
    "        mid = (start+end)//2\n",
    "        if(l[mid]==ele or (l[mid]>ele and ele>l[mid-1])):\n",
    "            return mid\n",
    "        elif(ele<l[mid]):\n",
    "            return binary(start,mid,ele,l)\n",
    "        else:\n",
    "            return binary(mid,end,ele,l)\n",
    "    result = binary(0,len(l),ele,l)\n",
    "    print(result)\n",
    "\n",
    "search([1,3,5,6],5)"
   ]
  },
  {
   "cell_type": "code",
   "execution_count": null,
   "metadata": {},
   "outputs": [],
   "source": [
    "def searchInsert(self, nums: List[int], target: int) -> int:\n",
    "        l = 0\n",
    "        r = len(nums)-1\n",
    "        while l <= r:\n",
    "            mid = l + (r - l) // 2\n",
    "            if target > nums[mid]:\n",
    "                l = mid + 1\n",
    "            else:\n",
    "                r = mid - 1 \n",
    "        return l"
   ]
  },
  {
   "cell_type": "markdown",
   "metadata": {},
   "source": [
    "10- Lenght of last word"
   ]
  },
  {
   "cell_type": "code",
   "execution_count": null,
   "metadata": {},
   "outputs": [],
   "source": [
    "class Solution:\n",
    "    def lengthOfLastWord(self, s: str) -> int:\n",
    "        s = s.lstrip()\n",
    "        s = s.rstrip()\n",
    "        result = s.split(' ')\n",
    "        return len(result[-1])"
   ]
  },
  {
   "cell_type": "code",
   "execution_count": 2,
   "metadata": {},
   "outputs": [
    {
     "name": "stdout",
     "output_type": "stream",
     "text": [
      "2\n"
     ]
    }
   ],
   "source": [
    "def lengthOfLastWord(s: str) -> int:\n",
    "    index=0\n",
    "    for i in s[::-1]:\n",
    "        if i==' ':\n",
    "            if index==0:\n",
    "                continue\n",
    "            else:\n",
    "                return index\n",
    "        else:\n",
    "            index = index+1\n",
    "\n",
    "print(lengthOfLastWord('  fly  my'))\n",
    "        \n",
    "\n"
   ]
  },
  {
   "cell_type": "markdown",
   "metadata": {},
   "source": [
    "11- Plus one"
   ]
  },
  {
   "cell_type": "code",
   "execution_count": 14,
   "metadata": {},
   "outputs": [
    {
     "name": "stdout",
     "output_type": "stream",
     "text": [
      "[1, 0, 0, 0]\n"
     ]
    }
   ],
   "source": [
    "def solution(l:list):\n",
    "    if l[-1]<9:\n",
    "        l[-1]=l[-1]+1\n",
    "    else:\n",
    "        i = len(l)-1\n",
    "        while(l[i]==9):\n",
    "            l[i]=0\n",
    "            i = i-1\n",
    "        if(i<0):\n",
    "            l[0]=1\n",
    "            l.append(0)\n",
    "        else:\n",
    "            l[i]=l[i]+1\n",
    "        \n",
    "    print(l)\n",
    "\n",
    "solution([9,9,9])"
   ]
  },
  {
   "cell_type": "code",
   "execution_count": null,
   "metadata": {},
   "outputs": [],
   "source": [
    "def plusOne(self, digits: List[int]) -> List[int]:\n",
    "        for i in reversed(range(len(digits))):\n",
    "            if digits[i] == 9:\n",
    "                digits[i] = 0\n",
    "            else:\n",
    "                digits[i] += 1\n",
    "                return digits\n",
    "        return [1] + digits"
   ]
  },
  {
   "cell_type": "code",
   "execution_count": null,
   "metadata": {},
   "outputs": [],
   "source": [
    "def plusOne(self, digits: List[int]) -> List[int]:\n",
    "        l=0\n",
    "        for i in digits:\n",
    "            l=l*10+i\n",
    "        l+=1\n",
    "        return [int(i) for i in str(l)]\n",
    "        "
   ]
  },
  {
   "cell_type": "markdown",
   "metadata": {},
   "source": [
    "12- Binary sum"
   ]
  },
  {
   "cell_type": "code",
   "execution_count": 16,
   "metadata": {},
   "outputs": [
    {
     "name": "stdout",
     "output_type": "stream",
     "text": [
      "10001\n"
     ]
    }
   ],
   "source": [
    "a = \"1101\"\n",
    "b = \"100\"\n",
    " \n",
    "# Calculating binary value using function\n",
    "sum = bin(int(a, 2) + int(b, 2))\n",
    " \n",
    "# Printing result\n",
    "print(sum[2:])"
   ]
  },
  {
   "cell_type": "code",
   "execution_count": null,
   "metadata": {},
   "outputs": [],
   "source": [
    "class Solution:\n",
    "    def addBinary(self, a: str, b: str) -> str:\n",
    "        \"\"\"\n",
    "        11\n",
    "         1\n",
    "        --\n",
    "        100\n",
    "\n",
    "        1010\n",
    "        1011\n",
    "        ----\n",
    "        10101 \n",
    "        \"\"\"\n",
    "\n",
    "        l1 = list(a)\n",
    "        l2 = list(b)\n",
    "        \n",
    "        s = 0\n",
    "        carry = 0\n",
    "        tmp = []\n",
    "\n",
    "        while l1 or l2:\n",
    "            v1 = int(l1.pop()) if l1 else 0\n",
    "            v2 = int(l2.pop()) if l2 else 0\n",
    "\n",
    "            carry, r = divmod(v1 + v2 + carry, 2)\n",
    "            tmp.append(str(r))\n",
    "        \n",
    "        if carry > 0:\n",
    "            tmp.append(str(carry))\n",
    "\n",
    "        return \"\".join(tmp[::-1])"
   ]
  },
  {
   "cell_type": "markdown",
   "metadata": {},
   "source": [
    "13- Decimal to binary"
   ]
  },
  {
   "cell_type": "code",
   "execution_count": 18,
   "metadata": {},
   "outputs": [
    {
     "name": "stdout",
     "output_type": "stream",
     "text": [
      "[1, 0, 1, 0]\n"
     ]
    }
   ],
   "source": [
    "n = 10\n",
    "arr = []\n",
    "while(n>=1):\n",
    "    r = n%2\n",
    "    n = n//2\n",
    "    arr.append(r)\n",
    "print(arr[::-1])\n"
   ]
  },
  {
   "cell_type": "markdown",
   "metadata": {},
   "source": [
    "14- Find sqrt(x) to nearest integer"
   ]
  },
  {
   "cell_type": "code",
   "execution_count": 41,
   "metadata": {},
   "outputs": [
    {
     "name": "stdout",
     "output_type": "stream",
     "text": [
      "None\n"
     ]
    }
   ],
   "source": [
    "def sqrt(n):\n",
    "    if(n<2):\n",
    "        return n\n",
    "    if(n<4):\n",
    "        return 1\n",
    "    for i in range(1,n//2+1):\n",
    "        if(n//i==i):\n",
    "            return i\n",
    "        elif(n//i<i):\n",
    "            return i-1\n",
    "\n",
    "print(sqrt(3))"
   ]
  },
  {
   "cell_type": "code",
   "execution_count": null,
   "metadata": {},
   "outputs": [],
   "source": [
    "\n",
    "def mySqrt(x: int) -> int:\n",
    "        l,r=1,x\n",
    "        if (x==0 or x==1):\n",
    "            return x\n",
    "        while(l<r):\n",
    "            mid=(l+r)//2\n",
    "            if mid*mid>x:\n",
    "                r=mid\n",
    "            else:\n",
    "                l=mid+1\n",
    "        return l-1"
   ]
  },
  {
   "cell_type": "code",
   "execution_count": 48,
   "metadata": {},
   "outputs": [
    {
     "name": "stdout",
     "output_type": "stream",
     "text": [
      "x is 13.0\n",
      "y is 1.9230769230769231\n",
      "x is 7.461538461538462\n",
      "y is 3.350515463917526\n",
      "x is 5.406026962727994\n",
      "y is 4.624468241161801\n",
      "x is 5.015247601944898\n",
      "y is 4.984798754563\n",
      "x is 5.000023178253949\n",
      "y is 4.999976821853497\n",
      "x is 5.000000000053722\n",
      "y is 4.999999999946278\n",
      "x is 5.0\n",
      "y is 5.0\n",
      "5.0\n"
     ]
    }
   ],
   "source": [
    "def squareRoot(n):\n",
    "    x=n\n",
    "    y=1.000000 #iteration initialisation.\n",
    "    #accuracy after decimal place.\n",
    "    while x-y > 0:\n",
    "        x=(x+y)/2\n",
    "        print(f\"x is {x}\")\n",
    "        y=n/x\n",
    "        print(f\"y is {y}\")\n",
    "    print(x)\n",
    "\n",
    "squareRoot(25)"
   ]
  },
  {
   "cell_type": "markdown",
   "metadata": {},
   "source": [
    "15- Climbing stairs \n",
    "Either 1 step or 2 step in how many ways"
   ]
  },
  {
   "cell_type": "code",
   "execution_count": 2,
   "metadata": {},
   "outputs": [
    {
     "name": "stdout",
     "output_type": "stream",
     "text": [
      "5\n"
     ]
    }
   ],
   "source": [
    "def climb(n):\n",
    "    if(n==0):\n",
    "        return 1\n",
    "    if(n<0):\n",
    "        return 0\n",
    "    ways = climb(n-1) + climb(n-2)\n",
    "    return ways\n",
    "    \n",
    "print(climb(4))\n",
    "\n"
   ]
  },
  {
   "cell_type": "code",
   "execution_count": 5,
   "metadata": {},
   "outputs": [
    {
     "name": "stdout",
     "output_type": "stream",
     "text": [
      "5\n"
     ]
    }
   ],
   "source": [
    "def climb(n):\n",
    "    a = 1\n",
    "    b = 1\n",
    "    for i in range(n-1):\n",
    "        t = a\n",
    "        a = a+b\n",
    "        b = t\n",
    "    return a\n",
    "\n",
    "print(climb(4))"
   ]
  },
  {
   "cell_type": "markdown",
   "metadata": {},
   "source": [
    "16- Remove duplicates from sorted list"
   ]
  },
  {
   "cell_type": "code",
   "execution_count": null,
   "metadata": {},
   "outputs": [],
   "source": [
    "# Definition for singly-linked list.\n",
    "# class ListNode:\n",
    "#     def __init__(self, val=0, next=None):\n",
    "#         self.val = val\n",
    "#         self.next = next\n",
    "class Solution:\n",
    "    def deleteDuplicates(self, head: Optional[ListNode]) -> Optional[ListNode]:\n",
    "        if(head == None or head.next == None):\n",
    "            return head\n",
    "        i = head\n",
    "        while(i.next!=None):\n",
    "            j=i.next\n",
    "            while(i.val == j.val):\n",
    "                if(j.next == None):\n",
    "                    i.next = j.next\n",
    "                    return head\n",
    "                j = j.next\n",
    "            i.next = j\n",
    "            i=j\n",
    "        return head\n"
   ]
  },
  {
   "cell_type": "code",
   "execution_count": null,
   "metadata": {},
   "outputs": [],
   "source": [
    "# Definition for singly-linked list.\n",
    "# class ListNode:\n",
    "#     def __init__(self, val=0, next=None):\n",
    "#         self.val = val\n",
    "#         self.next = next\n",
    "class Solution:\n",
    "    def deleteDuplicates(self, head: Optional[ListNode]) -> Optional[ListNode]:\n",
    "        if not head:\n",
    "            return None\n",
    "\n",
    "        curr = head\n",
    "\n",
    "        while curr.next:\n",
    "            if curr.val == curr.next.val:\n",
    "                curr.next = curr.next.next\n",
    "            else:\n",
    "                curr = curr.next\n",
    "\n",
    "        return head"
   ]
  },
  {
   "cell_type": "markdown",
   "metadata": {},
   "source": [
    "17- Merge two sorted arrays in place"
   ]
  },
  {
   "cell_type": "code",
   "execution_count": 2,
   "metadata": {},
   "outputs": [
    {
     "name": "stdout",
     "output_type": "stream",
     "text": [
      "[1, 2]\n"
     ]
    }
   ],
   "source": [
    "\n",
    "def merge(nums1: list[int], m: int, nums2: list[int], n: int) -> None:\n",
    "        \"\"\"\n",
    "        Do not return anything, modify nums1 in-place instead.\n",
    "        \"\"\"\n",
    "        i = m+n\n",
    "        if(n==0):\n",
    "            return None\n",
    "        if(m!=0):\n",
    "            for i in range(m+n-1,-1,-1):\n",
    "                if(nums1[m-1]>nums2[n-1]):\n",
    "                    nums1[i]=nums1[m-1]\n",
    "                    print(nums1)\n",
    "                    m=m-1\n",
    "                    if(m<=0):\n",
    "                        break\n",
    "                else:\n",
    "                    nums1[i]=nums2[n-1]\n",
    "                    n=n-1\n",
    "                    if(n<=0):\n",
    "                        break\n",
    "        m=m-1\n",
    "        n=n-1\n",
    "        i=i-1\n",
    "        while(n>=0):\n",
    "            nums1[i]=nums2[n]\n",
    "            i=i-1\n",
    "            n=n-1\n",
    "        return nums1\n",
    "print(merge([0,0],0,[1,2],2))\n"
   ]
  },
  {
   "cell_type": "code",
   "execution_count": null,
   "metadata": {},
   "outputs": [],
   "source": [
    "class Solution:\n",
    "    def merge(self, nums1: List[int], m: int, nums2: List[int], n: int) -> None:\n",
    "        \"\"\"\n",
    "        Do not return anything, modify nums1 in-place instead.\n",
    "        \"\"\"\n",
    "        p1 = m - 1\n",
    "        p2 = n - 1\n",
    "        p = m + n - 1\n",
    "\n",
    "        while p2 >= 0:\n",
    "            if p1 >= 0 and nums1[p1] > nums2[p2]:\n",
    "                nums1[p] = nums1[p1]\n",
    "                p1 -= 1\n",
    "            else:\n",
    "                nums1[p] = nums2[p2]\n",
    "                p2 -= 1\n",
    "            p -= 1"
   ]
  },
  {
   "cell_type": "markdown",
   "metadata": {},
   "source": [
    "18- Binary tree inorder traversal"
   ]
  },
  {
   "cell_type": "code",
   "execution_count": null,
   "metadata": {},
   "outputs": [],
   "source": [
    "# Definition for a binary tree node.\n",
    "# class TreeNode:\n",
    "#     def __init__(self, val=0, left=None, right=None):\n",
    "#         self.val = val\n",
    "#         self.left = left\n",
    "#         self.right = right\n",
    "class Solution:\n",
    "    def inorderTraversal(self, root: Optional[TreeNode]) -> List[int]:\n",
    "        result = []\n",
    "        def inorder(root):\n",
    "            if root==None:\n",
    "                return\n",
    "            inorder(root.left)\n",
    "            result.append(root.val)\n",
    "            inorder(root.right)\n",
    "        inorder(root)\n",
    "        return result\n",
    "            \n",
    "        "
   ]
  },
  {
   "cell_type": "markdown",
   "metadata": {},
   "source": [
    "19- Same tree"
   ]
  },
  {
   "cell_type": "code",
   "execution_count": null,
   "metadata": {},
   "outputs": [],
   "source": [
    "# Definition for a binary tree node.\n",
    "# class TreeNode:\n",
    "#     def __init__(self, val=0, left=None, right=None):\n",
    "#         self.val = val\n",
    "#         self.left = left\n",
    "#         self.right = right\n",
    "class Solution:\n",
    "    def isSameTree(self, p: Optional[TreeNode], q: Optional[TreeNode]) -> bool:\n",
    "        def check(p,q):\n",
    "            if(p==None):\n",
    "                if(q!=None):\n",
    "                    return False\n",
    "            if(q==None):\n",
    "                if(p!=None):\n",
    "                    return False\n",
    "            if(p==None and q==None):\n",
    "                return True\n",
    "            if(p.val!=q.val):\n",
    "                return False\n",
    "            if(check(p.left,q.left)==False):\n",
    "                return False\n",
    "            else:\n",
    "                return(check(p.right,q.right))\n",
    "        return check(p,q)\n",
    "            "
   ]
  },
  {
   "cell_type": "code",
   "execution_count": null,
   "metadata": {},
   "outputs": [],
   "source": [
    "# Definition for a binary tree node.\n",
    "# class TreeNode:\n",
    "#     def __init__(self, val=0, left=None, right=None):\n",
    "#         self.val = val\n",
    "#         self.left = left\n",
    "#         self.right = right\n",
    "class Solution:\n",
    "    def isSameTree(self, p: Optional[TreeNode], q: Optional[TreeNode]) -> bool:\n",
    "        if not p and not q: return True\n",
    "        if not p or not q: return False\n",
    "        if p.val != q.val: return False\n",
    "        return self.isSameTree(p.left, q.left) and self.isSameTree(p.right, q.right)"
   ]
  },
  {
   "cell_type": "markdown",
   "metadata": {},
   "source": [
    "20- Mirror tree"
   ]
  },
  {
   "cell_type": "code",
   "execution_count": null,
   "metadata": {},
   "outputs": [],
   "source": [
    "# Definition for a binary tree node.\n",
    "# class TreeNode:\n",
    "#     def __init__(self, val=0, left=None, right=None):\n",
    "#         self.val = val\n",
    "#         self.left = left\n",
    "#         self.right = right\n",
    "class Solution:\n",
    "    def isSymmetric(self, root: Optional[TreeNode]) -> bool:\n",
    "        def check(p,q):\n",
    "            if(not p and not q):\n",
    "                return True\n",
    "            if(not p or not q):\n",
    "                return False\n",
    "            if(p.val!=q.val):\n",
    "                return False\n",
    "            return check(p.left,q.right) and check(p.right,q.left)\n",
    "        return check(root.left,root.right)\n",
    "        "
   ]
  },
  {
   "cell_type": "markdown",
   "metadata": {},
   "source": [
    "21- Max depth of a tree"
   ]
  },
  {
   "cell_type": "code",
   "execution_count": null,
   "metadata": {},
   "outputs": [],
   "source": [
    "# Definition for a binary tree node.\n",
    "# class TreeNode:\n",
    "#     def __init__(self, val=0, left=None, right=None):\n",
    "#         self.val = val\n",
    "#         self.left = left\n",
    "#         self.right = right\n",
    "class Solution:\n",
    "    def maxDepth(self, root: Optional[TreeNode]) -> int:\n",
    "        def dep(root,l):\n",
    "            if(not root):\n",
    "                return l\n",
    "            result = max(dep(root.left,l+1),dep(root.right,l+1))\n",
    "            return result\n",
    "        return dep(root,0)\n",
    "        "
   ]
  },
  {
   "cell_type": "code",
   "execution_count": null,
   "metadata": {},
   "outputs": [],
   "source": [
    "# Definition for a binary tree node.\n",
    "# class TreeNode:\n",
    "#     def __init__(self, val=0, left=None, right=None):\n",
    "#         self.val = val\n",
    "#         self.left = left\n",
    "#         self.right = right\n",
    "class Solution:\n",
    "    def maxDepth(self, root: Optional[TreeNode]) -> int:\n",
    "        # if not root: return 0\n",
    "        # return 1 + max(self.maxDepth(root.left), self.maxDepth(root.right))\n",
    "\n",
    "        # return 0 if not root else 1 + max(self.maxDepth(root.left), self.maxDepth(root.right))\n",
    "\n",
    "        stack, res = [], 0\n",
    "        if root: stack.append((root, 1))\n",
    "        while stack:\n",
    "            node, depth = stack.pop()\n",
    "            res = max(res, depth)\n",
    "            if node.left: stack.append((node.left, depth + 1))\n",
    "            if node.right: stack.append((node.right, depth + 1))\n",
    "        return res"
   ]
  },
  {
   "cell_type": "markdown",
   "metadata": {},
   "source": [
    "22- Sorted Array to BST"
   ]
  },
  {
   "cell_type": "code",
   "execution_count": null,
   "metadata": {},
   "outputs": [],
   "source": [
    "# Definition for a binary tree node.\n",
    "# class TreeNode:\n",
    "#     def __init__(self, val=0, left=None, right=None):\n",
    "#         self.val = val\n",
    "#         self.left = left\n",
    "#         self.right = right\n",
    "class Solution:\n",
    "    def sortedArrayToBST(self, nums: List[int]) -> Optional[TreeNode]:\n",
    "        def solution(nums):\n",
    "            if not nums:\n",
    "                return None\n",
    "            mid = len(nums)//2\n",
    "            root = TreeNode(nums[mid])\n",
    "            root.left = solution(nums[:mid])\n",
    "            root.right = solution(nums[mid+1:])\n",
    "            return root\n",
    "        return solution(nums)"
   ]
  },
  {
   "cell_type": "markdown",
   "metadata": {},
   "source": [
    "23- check if BST is Balanced"
   ]
  },
  {
   "cell_type": "code",
   "execution_count": null,
   "metadata": {},
   "outputs": [],
   "source": [
    "# Definition for a binary tree node.\n",
    "# class TreeNode:\n",
    "#     def __init__(self, val=0, left=None, right=None):\n",
    "#         self.val = val\n",
    "#         self.left = left\n",
    "#         self.right = right\n",
    "class Solution:\n",
    "    def isBalanced(self, root: Optional[TreeNode]) -> bool:\n",
    "        def solution(root):\n",
    "            if(not root):\n",
    "                return [True,0]   \n",
    "            l = solution(root.left)\n",
    "            r = solution(root.right)\n",
    "            balanced = (l[0] and r[0]) and (abs(l[1]-r[1])<=1)\n",
    "            return [balanced,max(l[1],r[1])+1]\n",
    "        result = solution(root)\n",
    "        return result[0]\n",
    "\n",
    "            \n",
    "        return solution(root,0)"
   ]
  },
  {
   "cell_type": "code",
   "execution_count": null,
   "metadata": {},
   "outputs": [],
   "source": [
    "# Definition for a binary tree node.\n",
    "# class TreeNode:\n",
    "#     def __init__(self, val=0, left=None, right=None):\n",
    "#         self.val = val\n",
    "#         self.left = left\n",
    "#         self.right = right\n",
    "class Solution:\n",
    "    def isBalanced(self, root: Optional[TreeNode]) -> bool:    \n",
    "        return self.height(root) >= 0\n",
    "    def height(self, root):\n",
    "        if root is None:\n",
    "            return 0\n",
    "        l, r = self.height(root.left), self.height(root.right)\n",
    "        if l == -1 or r== -1 or abs(l-r) > 1:\n",
    "            return -1\n",
    "        return 1 + max(l, r)"
   ]
  },
  {
   "cell_type": "markdown",
   "metadata": {},
   "source": [
    "24- Min depth of a tree"
   ]
  },
  {
   "cell_type": "code",
   "execution_count": null,
   "metadata": {},
   "outputs": [],
   "source": [
    "# Definition for a binary tree node.\n",
    "# class TreeNode:\n",
    "#     def __init__(self, val=0, left=None, right=None):\n",
    "#         self.val = val\n",
    "#         self.left = left\n",
    "#         self.right = right\n",
    "class Solution:\n",
    "    def minDepth(self, root: Optional[TreeNode]) -> int:\n",
    "        def solution(root,h):\n",
    "            if not root.left and not root.right:\n",
    "                return h\n",
    "            if(not root.left):\n",
    "                return solution(root.right,h+1)\n",
    "            if(not root.right):\n",
    "                return solution(root.left,h+1)\n",
    "            return min(solution(root.right,h+1),solution(root.left,h+1))\n",
    "\n",
    "        if not root:\n",
    "            return 0\n",
    "        if not root.left and not root.right:\n",
    "            return 1\n",
    "        return solution(root,1)\n",
    "\n",
    "        "
   ]
  },
  {
   "cell_type": "code",
   "execution_count": null,
   "metadata": {},
   "outputs": [],
   "source": [
    "# Definition for a binary tree node.\n",
    "# class TreeNode:\n",
    "#     def __init__(self, val=0, left=None, right=None):\n",
    "#         self.val = val\n",
    "#         self.left = left\n",
    "#         self.right = right\n",
    "class Solution:\n",
    "    def minDepth(self, root: Optional[TreeNode]) -> int:\n",
    "        if not root:\n",
    "            return 0\n",
    "        queue = deque([root])\n",
    "        min_d = 0\n",
    "        while queue:\n",
    "            size = len(queue)\n",
    "            min_d += 1\n",
    "            for _ in range(size):\n",
    "                node = queue.popleft()\n",
    "                if node.left:\n",
    "                    queue.append(node.left)\n",
    "                if node.right:\n",
    "                    queue.append(node.right)\n",
    "                if not node.left and not node.right:\n",
    "                    return min_d\n",
    "        return min_d"
   ]
  },
  {
   "cell_type": "markdown",
   "metadata": {},
   "source": [
    "25- Path sum"
   ]
  },
  {
   "cell_type": "code",
   "execution_count": null,
   "metadata": {},
   "outputs": [],
   "source": [
    "# Definition for a binary tree node.\n",
    "# class TreeNode:\n",
    "#     def __init__(self, val=0, left=None, right=None):\n",
    "#         self.val = val\n",
    "#         self.left = left\n",
    "#         self.right = right\n",
    "class Solution:\n",
    "    def hasPathSum(self, root: Optional[TreeNode], targetSum: int) -> bool:\n",
    "        def s(root,total):\n",
    "            if not root:\n",
    "                return\n",
    "            total = total + root.val\n",
    "            if not root.left and not root.right:\n",
    "                if(total ==  targetSum):\n",
    "                    return True\n",
    "            return s(root.left, total) or s(root.right, total)"
   ]
  },
  {
   "cell_type": "markdown",
   "metadata": {},
   "source": [
    "26- Is palindrom ?"
   ]
  },
  {
   "cell_type": "code",
   "execution_count": 31,
   "metadata": {},
   "outputs": [
    {
     "name": "stdout",
     "output_type": "stream",
     "text": [
      "False\n"
     ]
    }
   ],
   "source": [
    "def func(s:str):\n",
    "    s = s.lower()\n",
    "    new = ''.join(a for a in s if a.isalnum())\n",
    "    if(new == new[::-1]):\n",
    "        return True\n",
    "    else:\n",
    "        return False\n",
    "\n",
    "print(func('0P'))"
   ]
  },
  {
   "cell_type": "markdown",
   "metadata": {},
   "source": [
    "27- Single Number"
   ]
  },
  {
   "cell_type": "code",
   "execution_count": null,
   "metadata": {},
   "outputs": [],
   "source": [
    "class Solution:\n",
    "    def singleNumber(self, nums: List[int]) -> int:\n",
    "        ele = 0\n",
    "        for i in nums:\n",
    "            ele = i ^ ele\n",
    "        return ele\n",
    "        "
   ]
  },
  {
   "cell_type": "markdown",
   "metadata": {},
   "source": [
    "28- Is subsequence "
   ]
  },
  {
   "cell_type": "code",
   "execution_count": null,
   "metadata": {},
   "outputs": [],
   "source": [
    "class Solution:\n",
    "    def isSubsequence(self, s: str, t: str) -> bool:\n",
    "        j = 0\n",
    "        if(not s):\n",
    "            return True\n",
    "        if(not t):\n",
    "            return False\n",
    "        for i in range(len(t)):\n",
    "            if s[j] == t[i]:\n",
    "                j = j+1\n",
    "                if(j==len(s)):\n",
    "                    return True\n",
    "        return False\n",
    "        "
   ]
  }
 ],
 "metadata": {
  "kernelspec": {
   "display_name": "Python 3",
   "language": "python",
   "name": "python3"
  },
  "language_info": {
   "codemirror_mode": {
    "name": "ipython",
    "version": 3
   },
   "file_extension": ".py",
   "mimetype": "text/x-python",
   "name": "python",
   "nbconvert_exporter": "python",
   "pygments_lexer": "ipython3",
   "version": "3.10.5"
  }
 },
 "nbformat": 4,
 "nbformat_minor": 2
}
