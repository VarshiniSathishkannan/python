{
 "cells": [
  {
   "cell_type": "markdown",
   "metadata": {},
   "source": [
    "1- Add 2 numbers"
   ]
  },
  {
   "cell_type": "code",
   "execution_count": null,
   "metadata": {},
   "outputs": [],
   "source": [
    "# Definition for singly-linked list.\n",
    "# class ListNode:\n",
    "#     def __init__(self, val=0, next=None):\n",
    "#         self.val = val\n",
    "#         self.next = next\n",
    "class Solution:\n",
    "    def addTwoNumbers(self, l1: Optional[ListNode], l2: Optional[ListNode]) -> Optional[ListNode]:\n",
    "        head = ListNode()\n",
    "        temp = head\n",
    "        carry = 0\n",
    "        while l1 or l2 or carry:\n",
    "            v1 = l1.val if l1 else 0\n",
    "            v2 = l2.val if l2 else 0\n",
    "            s = v1 + v2 + carry\n",
    "            carry = s//10\n",
    "            s = s % 10\n",
    "            temp.next = ListNode(s)\n",
    "            temp = temp.next\n",
    "            l1 = l1.next if l1 else None\n",
    "            l2 = l2.next if l2 else None\n",
    "        return head.next"
   ]
  },
  {
   "cell_type": "markdown",
   "metadata": {},
   "source": [
    "2- Longest palindrome substring"
   ]
  },
  {
   "cell_type": "code",
   "execution_count": 6,
   "metadata": {},
   "outputs": [
    {
     "name": "stdout",
     "output_type": "stream",
     "text": [
      "bbbbbb\n"
     ]
    }
   ],
   "source": [
    "def solution(s:str):\n",
    "    result = 0\n",
    "    # to check for odd length\n",
    "    for k in range(len(s)):\n",
    "        i = k\n",
    "        j = k\n",
    "        while(i>=0 and j<len(s) and s[i]==s[j]):\n",
    "            # print(j)\n",
    "            if(j-i+1 > result):\n",
    "                  output = s[i:j+1]\n",
    "                  result = j-i+1\n",
    "                #   print(output)\n",
    "            i = i-1\n",
    "            j = j+1\n",
    "    # to check for even length\n",
    "    for k in range(len(s)):\n",
    "        i = k\n",
    "        j = k+1\n",
    "        while(i>=0 and j<len(s) and s[i]==s[j]):\n",
    "            if(j-i+1 > result):\n",
    "                  output = s[i:j+1]\n",
    "                  result = j-i+1\n",
    "            i = i-1\n",
    "            j = j+1\n",
    "    return output\n",
    "\n",
    "print(solution('abababbbbbb'))"
   ]
  },
  {
   "cell_type": "markdown",
   "metadata": {},
   "source": [
    "3- Zigzag conversion"
   ]
  },
  {
   "cell_type": "code",
   "execution_count": 7,
   "metadata": {},
   "outputs": [
    {
     "name": "stdout",
     "output_type": "stream",
     "text": [
      "PAHNAPLSIIGYIR\n"
     ]
    }
   ],
   "source": [
    "def convert(s: str, numRows: int) -> str:\n",
    "        gap = numRows*2-3\n",
    "        result = ''\n",
    "        for i in range(numRows):\n",
    "            index = i\n",
    "            if(i == numRows-1):\n",
    "               gap = numRows*2-3\n",
    "            while(index<len(s)):\n",
    "                # print(s[index])\n",
    "                result = result+s[index]\n",
    "                index = index+gap+1\n",
    "            gap = gap-2\n",
    "        return result\n",
    "\n",
    "print(convert('PAYPALISHIRING',3))"
   ]
  },
  {
   "cell_type": "markdown",
   "metadata": {},
   "source": [
    "4- Remove duplicates from sorted array - 2"
   ]
  },
  {
   "cell_type": "code",
   "execution_count": 23,
   "metadata": {},
   "outputs": [
    {
     "name": "stdout",
     "output_type": "stream",
     "text": [
      "5\n"
     ]
    }
   ],
   "source": [
    "def removeDuplicates(nums):\n",
    "        l = 0\n",
    "        r = 0\n",
    "        while(r<len(nums)):\n",
    "            count = 1\n",
    "            while(r+1<len(nums) and nums[r]==nums[r+1]):\n",
    "                r = r+1\n",
    "                count = count+1\n",
    "            for i in range(min(2,count)):\n",
    "                nums[l] = nums[r]\n",
    "                l = l+1\n",
    "            r = r+1\n",
    "        return l\n",
    "        \n",
    "\n",
    "print(removeDuplicates([1,2,2,2,2,2,2,3,3,3]))"
   ]
  },
  {
   "cell_type": "markdown",
   "metadata": {},
   "source": [
    "5- Majority element"
   ]
  },
  {
   "cell_type": "code",
   "execution_count": null,
   "metadata": {},
   "outputs": [],
   "source": [
    "class Solution:\n",
    "    def majorityElement(self, nums: list[int]) -> int:\n",
    "        count = 0\n",
    "        for i in range(len(nums)):\n",
    "            if(not count):\n",
    "                majority = nums[i]\n",
    "            if(majority == nums[i]):\n",
    "                count = count+1\n",
    "            else:\n",
    "                count = count -1\n",
    "        return majority\n",
    "        "
   ]
  },
  {
   "cell_type": "markdown",
   "metadata": {},
   "source": [
    "6- Rotate Array"
   ]
  },
  {
   "cell_type": "code",
   "execution_count": null,
   "metadata": {},
   "outputs": [
    {
     "name": "stdout",
     "output_type": "stream",
     "text": [
      "None\n"
     ]
    }
   ],
   "source": [
    "def rotate(arr: list[int], d: int) -> None:\n",
    "        \"\"\"\n",
    "        Do not return anything, modify nums in-place instead.\n",
    "        \"\"\"\n",
    "        n = len(arr)\n",
    "    \n",
    "        # Repeat the rotation d times\n",
    "        d = d%n # if d > length of the array\n",
    "        for i in range(d):\n",
    "        \n",
    "            # Left rotate the array by one position\n",
    "            first = arr[0]\n",
    "            for j in range(n - 1):\n",
    "                arr[j] = arr[j + 1]\n",
    "            arr[n - 1] = first\n",
    "        \n",
    "\n",
    "print(rotate([1,2,3,4,5,6,7],3))\n"
   ]
  },
  {
   "cell_type": "code",
   "execution_count": null,
   "metadata": {},
   "outputs": [],
   "source": [
    "def rotateArr(arr, d):\n",
    "    n = len(arr)\n",
    "\n",
    "    # Handle case when d > n\n",
    "    d %= n\n",
    "    \n",
    "    # Storing rotated version of array\n",
    "    temp = [0] * n\n",
    "\n",
    "    # Copy last n - d elements to the front of temp\n",
    "    for i in range(n - d):\n",
    "        temp[i] = arr[d + i]\n",
    "\n",
    "    # Copy the first d elements to the back of temp\n",
    "    for i in range(d):\n",
    "        temp[n - d + i] = arr[i]\n",
    "\n",
    "    # Copying the elements of temp in arr\n",
    "    # to get the final rotated array\n",
    "    for i in range(n):\n",
    "        arr[i] = temp[i]\n",
    "\n",
    "if __name__ == \"__main__\":\n",
    "    arr = [1, 2, 3, 4, 5, 6]\n",
    "    d = 2\n",
    "\n",
    "    rotateArr(arr, d)\n",
    "\n",
    "    # Print the rotated array\n",
    "    for i in range(len(arr)):\n",
    "        print(arr[i], end=\" \")"
   ]
  },
  {
   "cell_type": "code",
   "execution_count": null,
   "metadata": {},
   "outputs": [],
   "source": [
    "class Solution:\n",
    "    def rotate(self, nums: List[int], k: int) -> None:\n",
    "        k = k%len(nums)\n",
    "        def reverse(l,r):\n",
    "            while(l<r):\n",
    "                nums[l],nums[r]=nums[r],nums[l]\n",
    "                l = l+1\n",
    "                r =r-1\n",
    "        reverse(0,len(nums)-1)\n",
    "        reverse(0,k-1)\n",
    "        reverse(k,len(nums)-1)\n",
    "        "
   ]
  },
  {
   "cell_type": "markdown",
   "metadata": {},
   "source": [
    "7- Best time to buy and sell stock - Multiple transactions allowed"
   ]
  },
  {
   "cell_type": "code",
   "execution_count": null,
   "metadata": {},
   "outputs": [],
   "source": [
    "def stockBuySell(self, arr):\n",
    "    maxProfit = 0\n",
    "    for i in range(1, len(arr)):\n",
    "        if arr[i] > arr[i - 1]:\n",
    "            maxProfit += arr[i] - arr[i - 1]\n",
    "    return maxProfit"
   ]
  },
  {
   "cell_type": "code",
   "execution_count": null,
   "metadata": {},
   "outputs": [],
   "source": [
    "class Solution:\n",
    "    def maxProfit(self, prices: List[int]) -> int:\n",
    "        buy = prices[0]\n",
    "        sell = prices[0]\n",
    "        profit = 0\n",
    "        prev = 0\n",
    "        for i in range(1,len(prices)):\n",
    "            if(prices[i]>buy):\n",
    "                if(prices[i]>sell):\n",
    "                    sell = prices[i]\n",
    "                    profit = sell-buy + prev\n",
    "                else:\n",
    "                    buy = prices[i]\n",
    "                    sell = prices[i]\n",
    "                    prev = profit\n",
    "            else:\n",
    "                buy = prices[i]\n",
    "                sell = prices[i]\n",
    "                prev = profit\n",
    "        return profit"
   ]
  },
  {
   "cell_type": "markdown",
   "metadata": {},
   "source": [
    "8- Two sum - II (Input array is sorted)"
   ]
  },
  {
   "cell_type": "code",
   "execution_count": 44,
   "metadata": {},
   "outputs": [
    {
     "name": "stdout",
     "output_type": "stream",
     "text": [
      "2 15\n",
      "2 11\n",
      "2 7\n",
      "None\n",
      "[1, 2]\n"
     ]
    }
   ],
   "source": [
    "arr = []\n",
    "def result(numbers,l,r,target):\n",
    "    print(numbers[l],numbers[r])\n",
    "    if(numbers[l]+numbers[r]==target):\n",
    "        arr.append(l+1)\n",
    "        arr.append(r+1)\n",
    "        return\n",
    "    if(numbers[l]+numbers[r]>target):\n",
    "        result(numbers,l,r-1,target)\n",
    "    if(numbers[l]+numbers[r]<target):\n",
    "        result(numbers,l+1,r,target)\n",
    "        \n",
    "        \n",
    "# print(result([2,3,4],0,2,6))\n",
    "print(result([2,7,11,15],0,3,9))\n",
    "print(arr)"
   ]
  },
  {
   "cell_type": "markdown",
   "metadata": {},
   "source": [
    "9- Spiral Matrix"
   ]
  },
  {
   "cell_type": "code",
   "execution_count": 51,
   "metadata": {},
   "outputs": [
    {
     "name": "stdout",
     "output_type": "stream",
     "text": [
      "first 1 2 2\n",
      "second 2 1 2\n",
      "third 1 0 1\n",
      "fourth 1 1 2\n",
      "[1, 2, 3, 6, 9, 8, 7, 4, 5]\n"
     ]
    }
   ],
   "source": [
    "\n",
    "def spiralOrder(matrix: list[list[int]]) -> list[int]:\n",
    "        count = 0\n",
    "        r = len(matrix)\n",
    "        c = len(matrix[0])\n",
    "        total = r*c\n",
    "        i=0\n",
    "        j=0\n",
    "        rr = 1\n",
    "        cc = 0\n",
    "        result = []\n",
    "        while(count<total):\n",
    "            while(j<c):\n",
    "                result.append(matrix[i][j])\n",
    "                count = count+1\n",
    "                if(count == total):\n",
    "                    return result\n",
    "                j = j+1\n",
    "                if(j == c):\n",
    "                    j = j-1\n",
    "                    c = c -1\n",
    "                    i = i+1\n",
    "                    print(f\"first {i} {j} {c}\")\n",
    "            while(i<r):\n",
    "                result.append(matrix[i][j])\n",
    "                count = count+1\n",
    "                if(count == total):\n",
    "                    return result\n",
    "                i = i+1\n",
    "                if(i == r):\n",
    "                    i = i-1\n",
    "                    r = r-1\n",
    "                    j = j-1\n",
    "                    print(f\"second {i} {j} {r}\")\n",
    "            while(j>=cc):\n",
    "                result.append(matrix[i][j])\n",
    "                count = count+1\n",
    "                if(count == total):\n",
    "                    return result\n",
    "                j = j-1\n",
    "                if(j<cc):\n",
    "                    j = j+1\n",
    "                    cc = cc+1\n",
    "                    i = i - 1\n",
    "                    print(f\"third {i} {j} {cc}\")\n",
    "            while(i>=rr):\n",
    "                result.append(matrix[i][j])\n",
    "                count = count+1\n",
    "                if(count == total):\n",
    "                    return result\n",
    "                i = i-1\n",
    "                if(i < rr):\n",
    "                    i = i+1\n",
    "                    rr = rr+1\n",
    "                    j = j+1\n",
    "                    print(f\"fourth {i} {j} {rr}\")\n",
    "                    \n",
    "print(spiralOrder([[1,2,3],[4,5,6],[7,8,9]]))\n",
    "\n",
    "# Output: [1,2,3,6,9,8,7,4,5]\n",
    "\n"
   ]
  },
  {
   "cell_type": "markdown",
   "metadata": {},
   "source": [
    "10- Rotate image\n",
    "\n",
    "Transpose - rows to columns and columns to rows\n",
    "\n",
    "Reverse - left to right"
   ]
  },
  {
   "cell_type": "code",
   "execution_count": 4,
   "metadata": {},
   "outputs": [
    {
     "name": "stdout",
     "output_type": "stream",
     "text": [
      "[[7, 4, 1], [8, 5, 2], [9, 6, 3]]\n"
     ]
    }
   ],
   "source": [
    "class Solution:\n",
    "    def rotate(self, matrix: list[list[int]]) -> None:\n",
    "        \"\"\"\n",
    "        Do not return anything, modify matrix in-place instead.\n",
    "        \"\"\"\n",
    "        r = len(matrix)\n",
    "        c = len(matrix[0])\n",
    "        for i in range(r):\n",
    "            for j in range(i,c):\n",
    "                t = matrix[i][j]\n",
    "                matrix[i][j] = matrix[j][i]\n",
    "                matrix[j][i] = t\n",
    "        for i in range(r):\n",
    "            for j in range(c//2):\n",
    "                t = matrix[i][j]\n",
    "                matrix[i][j] = matrix[i][c-1-j]\n",
    "                matrix[i][c-1-j] = t\n",
    "        return matrix\n",
    "obj = Solution()\n",
    "print(obj.rotate([[1,2,3],[4,5,6],[7,8,9]]))"
   ]
  },
  {
   "cell_type": "markdown",
   "metadata": {},
   "source": [
    "13- Word break"
   ]
  },
  {
   "cell_type": "code",
   "execution_count": 10,
   "metadata": {},
   "outputs": [
    {
     "name": "stdout",
     "output_type": "stream",
     "text": [
      "True\n"
     ]
    }
   ],
   "source": [
    "s = 'catsanddog'\n",
    "wordDict = [\"cats\",\"dog\",\"sand\",\"and\",\"cat\"]\n",
    "def function(s,d,i,index):\n",
    "            # print(f\"i = {i}, index = {index}\")\n",
    "            if(i == len(s)):\n",
    "                return True\n",
    "            if(index >= len(d)):\n",
    "                return False\n",
    "            if(s[i] == wordDict[index][0]):\n",
    "                l = len(wordDict[index])\n",
    "                if(i+l <= len(s) and s[i:i+l] == wordDict[index]):\n",
    "                    return function(s,d,i+l,0)\n",
    "                else:\n",
    "                    return function(s,d,i,index+1)\n",
    "            else:\n",
    "                return function(s,d,i,index+1)\n",
    "print(function(s,wordDict,0,0))\n",
    "\n"
   ]
  }
 ],
 "metadata": {
  "kernelspec": {
   "display_name": "Python 3",
   "language": "python",
   "name": "python3"
  },
  "language_info": {
   "codemirror_mode": {
    "name": "ipython",
    "version": 3
   },
   "file_extension": ".py",
   "mimetype": "text/x-python",
   "name": "python",
   "nbconvert_exporter": "python",
   "pygments_lexer": "ipython3",
   "version": "3.10.5"
  }
 },
 "nbformat": 4,
 "nbformat_minor": 2
}
