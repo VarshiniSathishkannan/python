{
 "cells": [
  {
   "cell_type": "markdown",
   "metadata": {},
   "source": [
    "1- Median of 2 sorted arrays"
   ]
  },
  {
   "cell_type": "code",
   "execution_count": null,
   "metadata": {},
   "outputs": [],
   "source": [
    "class Solution:\n",
    "    def findMedianSortedArrays(self, nums1: List[int], nums2: List[int]) -> float:\n",
    "        len1 = len(nums1)\n",
    "        len2 = len(nums2)\n",
    "        if(not len1 and not len2):\n",
    "            return 0\n",
    "        even = 0 if (len1+len2)%2 else 1\n",
    "        median = ((len1+len2)//2)\n",
    "        i,j,index,s = 0,0,-1,0\n",
    "        while(i<len1 and j<len2):\n",
    "            if(nums1[i]<nums2[j]):\n",
    "                temp = nums1[i]\n",
    "                i = i+1\n",
    "            else:\n",
    "                temp = nums2[j]\n",
    "                j = j+1\n",
    "            index = index+1\n",
    "            if(index==median-1 and even):\n",
    "                    s = s+temp\n",
    "            if(index == median):\n",
    "                if even:\n",
    "                    s = s+temp\n",
    "                    return s/2\n",
    "                else:\n",
    "                    return temp/1\n",
    "        while(i<len1):\n",
    "            temp = nums1[i]\n",
    "            i = i+1\n",
    "            index = index+1\n",
    "            if(index==median-1 and even):\n",
    "                    s = s+temp\n",
    "            if(index == median):\n",
    "                if even:\n",
    "                    s = s+temp\n",
    "                    return s/2\n",
    "                else:\n",
    "                    return temp/1\n",
    "        while(j<len2):\n",
    "            temp = nums2[j]\n",
    "            j = j+1\n",
    "            index = index+1\n",
    "            if(index==median-1 and even):\n",
    "                    s = s+temp\n",
    "            if(index == median):\n",
    "                if even:\n",
    "                    s = s+temp\n",
    "                    return s/2\n",
    "                else:\n",
    "                    return temp/1"
   ]
  },
  {
   "cell_type": "code",
   "execution_count": null,
   "metadata": {},
   "outputs": [],
   "source": [
    "def findMedianSortedArrays(nums1: List[int], nums2: List[int]) -> float:\n",
    "    lst = nums1 + nums2\n",
    "    lst.sort()\n",
    "    if len(lst)%2 != 0:\n",
    "        return lst[len(lst)//2]\n",
    "    else:\n",
    "        return (lst[len(lst)//2-1] + lst[len(lst)//2])/2\n"
   ]
  }
 ],
 "metadata": {
  "language_info": {
   "name": "python"
  }
 },
 "nbformat": 4,
 "nbformat_minor": 2
}
