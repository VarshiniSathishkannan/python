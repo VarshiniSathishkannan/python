{
 "cells": [
  {
   "cell_type": "code",
   "execution_count": 2,
   "metadata": {},
   "outputs": [
    {
     "name": "stdout",
     "output_type": "stream",
     "text": [
      "hello\n",
      "2\n"
     ]
    }
   ],
   "source": [
    "def function():\n",
    "    print('hello')\n",
    "    return 2\n",
    "\n",
    "a = function()\n",
    "print(a)\n"
   ]
  },
  {
   "cell_type": "code",
   "execution_count": 10,
   "metadata": {},
   "outputs": [
    {
     "name": "stdout",
     "output_type": "stream",
     "text": [
      "9\n",
      "5\n",
      "6\n",
      "5\n"
     ]
    }
   ],
   "source": [
    "#arguments - default or keyword arguments and positional arguments or required ones\n",
    "\n",
    "#SyntaxError: non-default argument follows default argument -- default arguments should be followed by non default ones\n",
    "\n",
    "def func2(num0,num1 = 1, num2 = 2):\n",
    "    print(num1+num2+num0)\n",
    "\n",
    "b = func2(3,4)\n",
    "b = func2(2)\n",
    "b = func2(1,2,3)\n",
    "\n",
    "# SyntaxError: positional argument follows keyword argument\n",
    "\n",
    "b = func2(2,num1=2,num2=1) \n"
   ]
  },
  {
   "cell_type": "code",
   "execution_count": 16,
   "metadata": {},
   "outputs": [
    {
     "name": "stdout",
     "output_type": "stream",
     "text": [
      "welcome\n",
      "hello sara\n"
     ]
    }
   ],
   "source": [
    "#class and objects\n",
    "\n",
    "class myclass:\n",
    "    name = 'sara'\n",
    "    def __init__(self) -> None: #init fuction will always gets executed when an object is created \n",
    "        pass\n",
    "    def greetings(self):\n",
    "        print('welcome')\n",
    "    def private(self):\n",
    "        print(f\"hello {self.name}\")\n",
    "\n",
    "obj1 = myclass()\n",
    "\n",
    "obj1.greetings()\n",
    "\n",
    "obj1.private()\n",
    "\n",
    "#self parameter is a reference to the current instance of the class and is used to access variables that belong to the class"
   ]
  },
  {
   "cell_type": "code",
   "execution_count": 20,
   "metadata": {},
   "outputs": [
    {
     "name": "stdout",
     "output_type": "stream",
     "text": [
      "Name is sara and branch is ECE\n",
      "sara\n",
      "ECE\n"
     ]
    }
   ],
   "source": [
    "# init is used if we want to pass some values to the class and assign variables to the object\n",
    "\n",
    "class Student:\n",
    "    def __init__(self,name,branch):\n",
    "        self.name = name\n",
    "        self.branch = branch\n",
    "    def show(self):\n",
    "        print(f\"Name is {self.name} and branch is {self.branch}\")\n",
    "\n",
    "obj1 = Student('sara','ECE')\n",
    "obj1.show()\n",
    "print(obj1.name)\n",
    "print(obj1.branch)"
   ]
  },
  {
   "cell_type": "code",
   "execution_count": null,
   "metadata": {},
   "outputs": [],
   "source": []
  }
 ],
 "metadata": {
  "kernelspec": {
   "display_name": "Python 3",
   "language": "python",
   "name": "python3"
  },
  "language_info": {
   "codemirror_mode": {
    "name": "ipython",
    "version": 3
   },
   "file_extension": ".py",
   "mimetype": "text/x-python",
   "name": "python",
   "nbconvert_exporter": "python",
   "pygments_lexer": "ipython3",
   "version": "3.10.5"
  },
  "orig_nbformat": 4
 },
 "nbformat": 4,
 "nbformat_minor": 2
}
