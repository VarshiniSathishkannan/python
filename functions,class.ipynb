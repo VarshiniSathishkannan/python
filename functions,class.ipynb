{
 "cells": [
  {
   "cell_type": "markdown",
   "metadata": {},
   "source": [
    "Function "
   ]
  },
  {
   "cell_type": "code",
   "execution_count": 2,
   "metadata": {},
   "outputs": [
    {
     "name": "stdout",
     "output_type": "stream",
     "text": [
      "hello\n",
      "2\n"
     ]
    }
   ],
   "source": [
    "def function():\n",
    "    print('hello')\n",
    "    return 2\n",
    "\n",
    "a = function()\n",
    "print(a)\n"
   ]
  },
  {
   "cell_type": "code",
   "execution_count": 10,
   "metadata": {},
   "outputs": [
    {
     "name": "stdout",
     "output_type": "stream",
     "text": [
      "9\n",
      "5\n",
      "6\n",
      "5\n"
     ]
    }
   ],
   "source": [
    "#arguments - default or keyword arguments and positional arguments or required ones\n",
    "\n",
    "#SyntaxError: non-default argument follows default argument -- default arguments should be followed by non default ones\n",
    "\n",
    "def func2(num0,num1 = 1, num2 = 2):\n",
    "    print(num1+num2+num0)\n",
    "\n",
    "b = func2(3,4)\n",
    "b = func2(2)\n",
    "b = func2(1,2,3)\n",
    "\n",
    "# SyntaxError: positional argument follows keyword argument\n",
    "\n",
    "b = func2(2,num1=2,num2=1) \n"
   ]
  },
  {
   "cell_type": "markdown",
   "metadata": {},
   "source": [
    "https://www.programiz.com/python-programming/args-and-kwargs\n",
    "\n",
    "https://www.programiz.com/python-programming/decorator\n"
   ]
  },
  {
   "cell_type": "code",
   "execution_count": null,
   "metadata": {},
   "outputs": [
    {
     "name": "stdout",
     "output_type": "stream",
     "text": [
      "10\n",
      "30\n",
      "30\n"
     ]
    }
   ],
   "source": [
    "# define global variable \n",
    "global_var = 10\n",
    "\n",
    "def my_function():\n",
    "    # define local variable\n",
    "    local_var = 20\n",
    "\n",
    "    # modify global variable value \n",
    "    global global_var\n",
    "    global_var = 30\n",
    "\n",
    "def my_function_2():\n",
    "    global_var = 20 # local scope \n",
    "\n",
    "# print global variable value\n",
    "print(global_var)\n",
    "\n",
    "# call the function and modify the global variable\n",
    "my_function()\n",
    "\n",
    "# print the modified value of the global variable\n",
    "print(global_var)\n",
    "\n",
    "my_function_2()\n",
    "\n",
    "print(global_var)"
   ]
  },
  {
   "cell_type": "code",
   "execution_count": 3,
   "metadata": {},
   "outputs": [
    {
     "name": "stdout",
     "output_type": "stream",
     "text": [
      "__main__\n"
     ]
    }
   ],
   "source": [
    "print(__name__)"
   ]
  },
  {
   "cell_type": "markdown",
   "metadata": {},
   "source": [
    "However, when we run it as a module by importing it in the main.py file, no output is displayed since the main() function is not called.\n",
    "\n",
    "Here, we have created a custom main() function in the helloworld.py file. It is executed only when the program is run as a standalone script and not as an imported module.\n",
    "\n",
    "This is the standard way to explicitly define the main() function in Python. It is one of the most popular use cases of __name__ variable of a Python file."
   ]
  },
  {
   "cell_type": "markdown",
   "metadata": {},
   "source": [
    "Class and objects"
   ]
  },
  {
   "cell_type": "code",
   "execution_count": 16,
   "metadata": {},
   "outputs": [
    {
     "name": "stdout",
     "output_type": "stream",
     "text": [
      "welcome\n",
      "hello sara\n"
     ]
    }
   ],
   "source": [
    "class myclass:\n",
    "    name = 'sara'\n",
    "    def __init__(self) -> None: #init fuction will always gets executed when an object is created \n",
    "        pass\n",
    "    def greetings(self):\n",
    "        print('welcome')\n",
    "    def private(self):\n",
    "        print(f\"hello {self.name}\")\n",
    "\n",
    "obj1 = myclass()\n",
    "\n",
    "obj1.greetings()\n",
    "\n",
    "obj1.private()\n",
    "\n",
    "#self parameter is a reference to the current instance of the class and is used to access variables that belong to the class"
   ]
  },
  {
   "cell_type": "code",
   "execution_count": 20,
   "metadata": {},
   "outputs": [
    {
     "name": "stdout",
     "output_type": "stream",
     "text": [
      "Name is sara and branch is ECE\n",
      "sara\n",
      "ECE\n"
     ]
    }
   ],
   "source": [
    "# init is used if we want to pass some values to the class and assign variables to the object\n",
    "\n",
    "class Student:\n",
    "    def __init__(self,name,branch):\n",
    "        self.name = name\n",
    "        self.branch = branch\n",
    "    def show(self):\n",
    "        print(f\"Name is {self.name} and branch is {self.branch}\")\n",
    "\n",
    "obj1 = Student('sara','ECE')\n",
    "obj1.show()\n",
    "print(obj1.name)\n",
    "print(obj1.branch)"
   ]
  },
  {
   "cell_type": "markdown",
   "metadata": {},
   "source": [
    "Object Oriented Programming"
   ]
  },
  {
   "cell_type": "markdown",
   "metadata": {},
   "source": [
    "Inheritance"
   ]
  },
  {
   "cell_type": "code",
   "execution_count": 1,
   "metadata": {},
   "outputs": [
    {
     "name": "stdout",
     "output_type": "stream",
     "text": [
      "Rahul\n",
      "886012\n",
      "My name is Rahul\n",
      "IdNumber: 886012\n",
      "Post: Intern\n"
     ]
    }
   ],
   "source": [
    "class Person(object):\n",
    "\n",
    "    # __init__ is known as the constructor\n",
    "    def __init__(self, name, idnumber):\n",
    "        self.name = name\n",
    "        self.idnumber = idnumber\n",
    "\n",
    "    def display(self):\n",
    "        print(self.name)\n",
    "        print(self.idnumber)\n",
    "        \n",
    "    def details(self):\n",
    "        print(\"My name is {}\".format(self.name))\n",
    "        print(\"IdNumber: {}\".format(self.idnumber))\n",
    "    \n",
    "# child class\n",
    "class Employee(Person):\n",
    "    def __init__(self, name, idnumber, salary, post):\n",
    "        self.salary = salary\n",
    "        self.post = post\n",
    "\n",
    "        # invoking the __init__ of the parent class\n",
    "        Person.__init__(self, name, idnumber)\n",
    "        \n",
    "    def details(self):\n",
    "        print(\"My name is {}\".format(self.name))\n",
    "        print(\"IdNumber: {}\".format(self.idnumber))\n",
    "        print(\"Post: {}\".format(self.post))\n",
    "\n",
    "\n",
    "# creation of an object variable or an instance\n",
    "a = Employee('Rahul', 886012, 200000, \"Intern\")\n",
    "\n",
    "# calling a function of the class Person using\n",
    "# its instance\n",
    "a.display()\n",
    "a.details()"
   ]
  },
  {
   "cell_type": "markdown",
   "metadata": {},
   "source": [
    "Polymorphism"
   ]
  },
  {
   "cell_type": "code",
   "execution_count": 2,
   "metadata": {},
   "outputs": [
    {
     "name": "stdout",
     "output_type": "stream",
     "text": [
      "There are many types of birds.\n",
      "Most of the birds can fly but some cannot.\n",
      "There are many types of birds.\n",
      "Sparrows can fly.\n",
      "There are many types of birds.\n",
      "Ostriches cannot fly.\n"
     ]
    }
   ],
   "source": [
    "class Bird:\n",
    "  \n",
    "    def intro(self):\n",
    "        print(\"There are many types of birds.\")\n",
    "\n",
    "    def flight(self):\n",
    "        print(\"Most of the birds can fly but some cannot.\")\n",
    "\n",
    "class sparrow(Bird):\n",
    "  \n",
    "    def flight(self):\n",
    "        print(\"Sparrows can fly.\")\n",
    "\n",
    "class ostrich(Bird):\n",
    "\n",
    "    def flight(self):\n",
    "        print(\"Ostriches cannot fly.\")\n",
    "\n",
    "obj_bird = Bird()\n",
    "obj_spr = sparrow()\n",
    "obj_ost = ostrich()\n",
    "\n",
    "obj_bird.intro()\n",
    "obj_bird.flight()\n",
    "\n",
    "obj_spr.intro()\n",
    "obj_spr.flight()\n",
    "\n",
    "obj_ost.intro()\n",
    "obj_ost.flight()"
   ]
  },
  {
   "cell_type": "markdown",
   "metadata": {},
   "source": [
    "Encapsulation"
   ]
  },
  {
   "cell_type": "code",
   "execution_count": 3,
   "metadata": {},
   "outputs": [
    {
     "name": "stdout",
     "output_type": "stream",
     "text": [
      "GeeksforGeeks\n"
     ]
    }
   ],
   "source": [
    "# Python program to\n",
    "# demonstrate private members\n",
    "# \"__\" double underscore represents private attribute. \n",
    "# Private attributes start with \"__\".\n",
    "\n",
    "# Creating a Base class\n",
    "class Base:\n",
    "    def __init__(self):\n",
    "        self.a = \"GeeksforGeeks\"\n",
    "        self.__c = \"GeeksforGeeks\" \n",
    "\n",
    "# Creating a derived class\n",
    "class Derived(Base):\n",
    "    def __init__(self):\n",
    "\n",
    "        # Calling constructor of\n",
    "        # Base class\n",
    "        Base.__init__(self)\n",
    "        print(\"Calling private member of base class: \")\n",
    "        print(self.__c)\n",
    "\n",
    "\n",
    "# Driver code\n",
    "obj1 = Base()\n",
    "print(obj1.a)\n",
    "\n",
    "# Uncommenting print(obj1.c) will\n",
    "# raise an AttributeError\n",
    "\n",
    "# Uncommenting obj2 = Derived() will\n",
    "# also raise an AtrributeError as\n",
    "# private member of base class\n",
    "# is called inside derived class\n"
   ]
  },
  {
   "cell_type": "code",
   "execution_count": null,
   "metadata": {},
   "outputs": [],
   "source": [
    "class MyClass:\n",
    "    def __init__(self, data):\n",
    "        self.__data = data  # Private attribute (name mangled)\n",
    "\n",
    "    def get_data(self):\n",
    "        return self.__data\n",
    "\n",
    "    def set_data(self, new_data):\n",
    "        self.__data = new_data\n",
    "        \n",
    "        "
   ]
  },
  {
   "cell_type": "markdown",
   "metadata": {},
   "source": [
    "In this example:\n",
    "__data is a private attribute (indicated by the double underscore), accessible only within the class. \n",
    "\n",
    "get_data() and set_data() are methods that provide controlled access to the private attribute. \n",
    "External code can only access the data through these methods, preventing direct modification or access to the private attribute"
   ]
  },
  {
   "cell_type": "markdown",
   "metadata": {},
   "source": [
    "Abstraction "
   ]
  },
  {
   "cell_type": "markdown",
   "metadata": {},
   "source": [
    "Abstract Class:\n",
    "A class that cannot be instantiated directly but serves as a blueprint for other classes, defining common attributes and methods. \n",
    "Abstract Method:\n",
    "A method declared in an abstract class that has no implementation, requiring subclasses to provide their own implementations. \n",
    "abc Module:\n",
    "Python's built-in module for creating abstract base classes and enforcing abstract method implementations. \n",
    "How to Implement Abstraction in Python:\n",
    "Import the abc module: from abc import ABC, abstractmethod. \n",
    "Create an abstract class: Inherit from ABC to mark a class as abstract. \n",
    "Define abstract methods: Use the @abstractmethod decorator to mark methods that must be implemented by subclasses. \n",
    "Example:"
   ]
  },
  {
   "cell_type": "code",
   "execution_count": null,
   "metadata": {},
   "outputs": [],
   "source": [
    "from abc import ABC, abstractmethod\n",
    "\n",
    "class Animal(ABC):  # Abstract class\n",
    "    @abstractmethod\n",
    "    def make_sound(self):  # Abstract method\n",
    "        pass\n",
    "\n",
    "class Dog(Animal):  # Concrete class\n",
    "    def make_sound(self):\n",
    "        print(\"Woof!\")\n",
    "\n",
    "class Cat(Animal):  # Concrete class\n",
    "    def make_sound(self):\n",
    "        print(\"Meow!\")\n",
    "\n",
    "# You cannot create an instance of Animal\n",
    "# animal = Animal() # This will raise an error\n",
    "\n",
    "dog = Dog()\n",
    "dog.make_sound()  # Output: Woof!\n",
    "\n",
    "cat = Cat()\n",
    "cat.make_sound()  # Output: Meow!\n"
   ]
  },
  {
   "cell_type": "markdown",
   "metadata": {},
   "source": [
    "Benefits of Abstraction:\n",
    "Simplified User Interface:\n",
    "Abstraction hides complex implementation details, providing a cleaner and easier-to-use interface. \n",
    "Improved Code Organization:\n",
    "Abstraction promotes modularity and makes code easier to understand, maintain, and reuse. \n",
    "Enhanced Scalability:\n",
    "By separating interfaces from implementations, abstraction facilitates easier modification and extension of code. \n",
    "Reduced Complexity:\n",
    "Abstraction helps manage complexity by focusing on essential functionalities and hiding irrelevant details. "
   ]
  }
 ],
 "metadata": {
  "kernelspec": {
   "display_name": "Python 3",
   "language": "python",
   "name": "python3"
  },
  "language_info": {
   "codemirror_mode": {
    "name": "ipython",
    "version": 3
   },
   "file_extension": ".py",
   "mimetype": "text/x-python",
   "name": "python",
   "nbconvert_exporter": "python",
   "pygments_lexer": "ipython3",
   "version": "3.10.5"
  },
  "orig_nbformat": 4
 },
 "nbformat": 4,
 "nbformat_minor": 2
}
